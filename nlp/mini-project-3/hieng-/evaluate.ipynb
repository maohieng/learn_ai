{
 "cells": [
  {
   "cell_type": "markdown",
   "metadata": {},
   "source": [
    "## Models Evaluations"
   ]
  },
  {
   "cell_type": "code",
   "execution_count": 1,
   "metadata": {},
   "outputs": [
    {
     "name": "stderr",
     "output_type": "stream",
     "text": [
      "2025-02-06 22:27:57.549136: I tensorflow/core/platform/cpu_feature_guard.cc:182] This TensorFlow binary is optimized to use available CPU instructions in performance-critical operations.\n",
      "To enable the following instructions: AVX2 FMA, in other operations, rebuild TensorFlow with the appropriate compiler flags.\n"
     ]
    }
   ],
   "source": [
    "import numpy as np\n",
    "import tensorflow as tf"
   ]
  },
  {
   "cell_type": "code",
   "execution_count": 5,
   "metadata": {},
   "outputs": [],
   "source": [
    "import utils"
   ]
  },
  {
   "cell_type": "code",
   "execution_count": 2,
   "metadata": {},
   "outputs": [],
   "source": [
    "def load_model(model_path):\n",
    "    model = tf.keras.models.load_model(model_path)\n",
    "    return model"
   ]
  },
  {
   "cell_type": "markdown",
   "metadata": {},
   "source": [
    "### Preparing data"
   ]
  },
  {
   "cell_type": "code",
   "execution_count": 7,
   "metadata": {},
   "outputs": [],
   "source": [
    "UNKNOWN_TOKEN = \"<UNK>\""
   ]
  },
  {
   "cell_type": "code",
   "execution_count": 6,
   "metadata": {},
   "outputs": [],
   "source": [
    "word_to_index, index_to_word, vocabs = utils.word_indexing(\"word_to_index.npy\")"
   ]
  },
  {
   "cell_type": "code",
   "execution_count": 8,
   "metadata": {},
   "outputs": [
    {
     "data": {
      "text/plain": [
       "131"
      ]
     },
     "execution_count": 8,
     "metadata": {},
     "output_type": "execute_result"
    }
   ],
   "source": [
    "word_to_index[UNKNOWN_TOKEN]"
   ]
  },
  {
   "cell_type": "code",
   "execution_count": 4,
   "metadata": {},
   "outputs": [],
   "source": [
    "# Read limited tokens\n",
    "with open(\"cleaned_tokens.txt\", \"r\") as f:\n",
    "    cleaned_tokens = f.read().split()"
   ]
  },
  {
   "cell_type": "code",
   "execution_count": 10,
   "metadata": {},
   "outputs": [],
   "source": [
    "tokenized = []\n",
    "for w in cleaned_tokens:\n",
    "    if w not in word_to_index:\n",
    "        tokenized.append(word_to_index[UNKNOWN_TOKEN])\n",
    "    else:\n",
    "        tokenized.append(word_to_index[w])"
   ]
  },
  {
   "cell_type": "code",
   "execution_count": 11,
   "metadata": {},
   "outputs": [],
   "source": [
    "def generate_ngram_data(tokenized, n):\n",
    "    \"\"\"Generate N-gram data for the language model.\"\"\"\n",
    "    inputs, targets = [], []\n",
    "    for i in range(len(tokenized) - n):\n",
    "        inputs.append(tokenized[i:i + n])\n",
    "        targets.append(tokenized[i + n])\n",
    "    return np.array(inputs), np.array(targets)"
   ]
  },
  {
   "cell_type": "code",
   "execution_count": 12,
   "metadata": {},
   "outputs": [],
   "source": [
    "inputs, targets = generate_ngram_data(tokenized, utils.N)"
   ]
  },
  {
   "cell_type": "code",
   "execution_count": 14,
   "metadata": {},
   "outputs": [],
   "source": [
    "from tensorflow.keras.utils import to_categorical\n",
    "\n",
    "# Convert targets to one-hot encoding\n",
    "targets_one_hot = to_categorical(targets, num_classes=len(vocabs))"
   ]
  },
  {
   "cell_type": "code",
   "execution_count": 15,
   "metadata": {},
   "outputs": [],
   "source": [
    "# Split data into training and validation sets\n",
    "from sklearn.model_selection import train_test_split\n",
    "trained_inputs, val_inputs, trained_targets, val_targets, trained_targets_one_hot, val_targets_one_hot = train_test_split(inputs, targets, targets_one_hot, test_size=0.2)"
   ]
  },
  {
   "cell_type": "markdown",
   "metadata": {},
   "source": [
    "### Loading the models"
   ]
  },
  {
   "cell_type": "code",
   "execution_count": 21,
   "metadata": {},
   "outputs": [],
   "source": [
    "skip_model1 = load_model(\"model_word_prediction1.keras\")\n",
    "skip_model2 = load_model(\"model_word_prediction2.keras\")\n",
    "scratch_model1 = load_model(\"model_scratch_word_prediction1.keras\")\n",
    "scratch_model2 = load_model(\"model_scratch_word_prediction2.keras\")\n",
    "extended_model1 = load_model(\"pre_model_word_prediction1.keras\")"
   ]
  },
  {
   "cell_type": "code",
   "execution_count": 22,
   "metadata": {},
   "outputs": [
    {
     "name": "stdout",
     "output_type": "stream",
     "text": [
      "Model: \"sequential_1\"\n",
      "_________________________________________________________________\n",
      " Layer (type)                Output Shape              Param #   \n",
      "=================================================================\n",
      " embedding_1 (Embedding)     (None, 5, 50)             8750      \n",
      "                                                                 \n",
      " flatten (Flatten)           (None, 250)               0         \n",
      "                                                                 \n",
      " dense_1 (Dense)             (None, 512)               128512    \n",
      "                                                                 \n",
      " dense_2 (Dense)             (None, 175)               89775     \n",
      "                                                                 \n",
      "=================================================================\n",
      "Total params: 227037 (886.86 KB)\n",
      "Trainable params: 218287 (852.68 KB)\n",
      "Non-trainable params: 8750 (34.18 KB)\n",
      "_________________________________________________________________\n"
     ]
    }
   ],
   "source": [
    "skip_model1.summary()"
   ]
  },
  {
   "cell_type": "code",
   "execution_count": 25,
   "metadata": {},
   "outputs": [
    {
     "name": "stdout",
     "output_type": "stream",
     "text": [
      "57/57 [==============================] - 0s 3ms/step - loss: 1.1386 - accuracy: 0.7138\n",
      "Skip model 1 loss:  1.1386157274246216\n",
      "Perplexity:  3.1224430598801085\n"
     ]
    }
   ],
   "source": [
    "loss, _ = skip_model1.evaluate(val_inputs, val_targets)\n",
    "print(\"Skip model 1 loss: \", loss)\n",
    "pp = np.exp(loss)\n",
    "print(\"Perplexity: \", pp)"
   ]
  },
  {
   "cell_type": "code",
   "execution_count": 26,
   "metadata": {},
   "outputs": [
    {
     "name": "stdout",
     "output_type": "stream",
     "text": [
      "57/57 [==============================] - 1s 8ms/step - loss: 0.2038 - accuracy: 0.9285\n",
      "Skip model 2 loss:  0.20379571616649628\n",
      "Perplexity:  1.2260476661545283\n"
     ]
    }
   ],
   "source": [
    "loss, _ = skip_model2.evaluate(val_inputs, val_targets)\n",
    "print(\"Skip model 2 loss: \", loss)\n",
    "pp = np.exp(loss)\n",
    "print(\"Perplexity: \", pp)"
   ]
  }
 ],
 "metadata": {
  "kernelspec": {
   "display_name": ".venv",
   "language": "python",
   "name": "python3"
  },
  "language_info": {
   "codemirror_mode": {
    "name": "ipython",
    "version": 3
   },
   "file_extension": ".py",
   "mimetype": "text/x-python",
   "name": "python",
   "nbconvert_exporter": "python",
   "pygments_lexer": "ipython3",
   "version": "3.8.0"
  }
 },
 "nbformat": 4,
 "nbformat_minor": 2
}

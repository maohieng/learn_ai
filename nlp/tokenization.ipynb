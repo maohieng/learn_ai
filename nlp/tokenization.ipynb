{
 "cells": [
  {
   "cell_type": "markdown",
   "metadata": {},
   "source": [
    "# Tokenization"
   ]
  },
  {
   "cell_type": "code",
   "execution_count": 2,
   "metadata": {},
   "outputs": [
    {
     "name": "stdout",
     "output_type": "stream",
     "text": [
      "[\"I'm\", 'going', 'to', 'school', 'today.']\n"
     ]
    }
   ],
   "source": [
    "text = \"I'm going to school today.\"\n",
    "\n",
    "tokens = text.split()\n",
    "\n",
    "print(tokens)"
   ]
  },
  {
   "cell_type": "code",
   "execution_count": 4,
   "metadata": {},
   "outputs": [
    {
     "name": "stderr",
     "output_type": "stream",
     "text": [
      "[nltk_data] Downloading package punkt to /Users/maohieng/nltk_data...\n",
      "[nltk_data]   Package punkt is already up-to-date!\n",
      "[nltk_data] Downloading package punkt_tab to\n",
      "[nltk_data]     /Users/maohieng/nltk_data...\n",
      "[nltk_data]   Package punkt_tab is already up-to-date!\n"
     ]
    },
    {
     "data": {
      "text/plain": [
       "True"
      ]
     },
     "execution_count": 4,
     "metadata": {},
     "output_type": "execute_result"
    }
   ],
   "source": [
    "import nltk\n",
    "nltk.download('punkt')\n",
    "nltk.download('punkt_tab')\n",
    "# To solve certificate issue: pip install --upgrade certifi"
   ]
  },
  {
   "cell_type": "code",
   "execution_count": 5,
   "metadata": {},
   "outputs": [
    {
     "name": "stdout",
     "output_type": "stream",
     "text": [
      "['I', \"'m\", 'going', 'to', 'school', 'today', '.']\n"
     ]
    }
   ],
   "source": [
    "from nltk.tokenize import word_tokenize\n",
    "tokens = word_tokenize(text)\n",
    "\n",
    "print(tokens)"
   ]
  },
  {
   "cell_type": "markdown",
   "metadata": {},
   "source": [
    "## Bye Pair Encoding (BPE)"
   ]
  },
  {
   "cell_type": "code",
   "execution_count": 17,
   "metadata": {},
   "outputs": [],
   "source": [
    "corpus = 'banana_bandana_'"
   ]
  },
  {
   "cell_type": "code",
   "execution_count": 18,
   "metadata": {},
   "outputs": [
    {
     "name": "stdout",
     "output_type": "stream",
     "text": [
      "Counter({'a': 6, 'n': 4, 'b': 2, '_': 2, 'd': 1})\n"
     ]
    }
   ],
   "source": [
    "from collections import Counter\n",
    "counter = Counter(corpus)\n",
    "\n",
    "print(counter)"
   ]
  },
  {
   "cell_type": "code",
   "execution_count": 19,
   "metadata": {},
   "outputs": [
    {
     "name": "stdout",
     "output_type": "stream",
     "text": [
      "[('a', 6), ('n', 4)]\n",
      "n\n",
      "4\n"
     ]
    }
   ],
   "source": [
    "most2common = counter.most_common(2)\n",
    "print(most2common)\n",
    "print(most2common[1][0])\n",
    "print(most2common[1][1])"
   ]
  },
  {
   "cell_type": "code",
   "execution_count": 20,
   "metadata": {},
   "outputs": [],
   "source": [
    "# Update the first most common character's count\n",
    "counter[most2common[0][0]] = counter[most2common[0][0]] - most2common[1][1]\n",
    "\n",
    "# Remove the second most common character from counter\n",
    "del counter[most2common[1][0]]\n",
    "\n",
    "# Add the combination\n",
    "counter[most2common[0][0] + most2common[1][0]] = most2common[1][1]"
   ]
  },
  {
   "cell_type": "code",
   "execution_count": 21,
   "metadata": {},
   "outputs": [
    {
     "name": "stdout",
     "output_type": "stream",
     "text": [
      "Counter({'an': 4, 'b': 2, 'a': 2, '_': 2, 'd': 1})\n"
     ]
    }
   ],
   "source": [
    "print(counter)"
   ]
  },
  {
   "cell_type": "code",
   "execution_count": 22,
   "metadata": {},
   "outputs": [
    {
     "name": "stdout",
     "output_type": "stream",
     "text": [
      "[('an', 4), ('b', 2)]\n"
     ]
    }
   ],
   "source": [
    "most2common = counter.most_common(2)\n",
    "print(most2common)"
   ]
  },
  {
   "cell_type": "code",
   "execution_count": 23,
   "metadata": {},
   "outputs": [],
   "source": [
    "# Update the first most common character's count\n",
    "counter[most2common[0][0]] = counter[most2common[0][0]] - most2common[1][1]\n",
    "\n",
    "# Remove the second most common character from counter\n",
    "del counter[most2common[1][0]]\n",
    "\n",
    "# Add the combination\n",
    "counter[most2common[0][0] + most2common[1][0]] = most2common[1][1]"
   ]
  },
  {
   "cell_type": "code",
   "execution_count": 24,
   "metadata": {},
   "outputs": [
    {
     "name": "stdout",
     "output_type": "stream",
     "text": [
      "Counter({'a': 2, '_': 2, 'an': 2, 'anb': 2, 'd': 1})\n"
     ]
    }
   ],
   "source": [
    "print(counter)"
   ]
  },
  {
   "cell_type": "markdown",
   "metadata": {},
   "source": [
    "### Khmer Encoding Using BPE"
   ]
  },
  {
   "cell_type": "code",
   "execution_count": 9,
   "metadata": {},
   "outputs": [],
   "source": [
    "corpus = 'សិស្សរៀនសិស្សអានសិស្សពូកែអានអាចសរសេរគ្រូសរសើរសិស្សពូកែសិក្សា'"
   ]
  },
  {
   "cell_type": "code",
   "execution_count": 15,
   "metadata": {},
   "outputs": [
    {
     "name": "stdout",
     "output_type": "stream",
     "text": [
      "\n",
      "Merge: 1\n",
      "Text: សិស្សរៀនសិស្សអានសិស្សពូកែអានអាចសរសេរគ្រូសរសើរសិស្សពូកែសិក្សា\n",
      "Vocab: Counter({'ស': 18, '្': 6, 'រ': 6, 'ិ': 5, 'ា': 4, 'ន': 3, 'អ': 3, 'ូ': 3, 'ក': 3, 'ព': 2, 'ែ': 2, 'ៀ': 1, 'ច': 1, 'េ': 1, 'គ': 1, 'ើ': 1})\n",
      "Pair: Counter({'សិ': 5, '្ស': 5, 'ិស': 4, 'ស្': 4, 'សរ': 3, 'អា': 3, 'រស': 3, 'នស': 2, 'ាន': 2, 'សព': 2, 'ពូ': 2, 'ូក': 2, 'កែ': 2, 'រៀ': 1, 'ៀន': 1, 'សអ': 1, 'ែអ': 1, 'នអ': 1, 'ាច': 1, 'ចស': 1, 'សេ': 1, 'េរ': 1, 'រគ': 1, 'គ្': 1, '្រ': 1, 'រូ': 1, 'ូស': 1, 'សើ': 1, 'ើរ': 1, 'ែស': 1, 'ិក': 1, 'ក្': 1, 'សា': 1})\n",
      "First most common pair: សិ 5\n",
      "Aស្សរៀនAស្សអានAស្សពូកែអានអាចសរសេរគ្រូសរសើរAស្សពូកែAក្សា\n",
      "\n",
      "Merge: 2\n",
      "Text: Aស្សរៀនAស្សអានAស្សពូកែអានអាចសរសេរគ្រូសរសើរAស្សពូកែAក្សា\n",
      "Vocab: Counter({'ស': 13, '្': 6, 'រ': 6, 'A': 5, 'ា': 4, 'ន': 3, 'អ': 3, 'ូ': 3, 'ក': 3, 'ព': 2, 'ែ': 2, 'ៀ': 1, 'ច': 1, 'េ': 1, 'គ': 1, 'ើ': 1})\n",
      "Pair: Counter({'្ស': 5, 'Aស': 4, 'ស្': 4, 'សរ': 3, 'អា': 3, 'នA': 2, 'ាន': 2, 'សព': 2, 'ពូ': 2, 'ូក': 2, 'កែ': 2, 'រស': 2, 'រៀ': 1, 'ៀន': 1, 'សអ': 1, 'ែអ': 1, 'នអ': 1, 'ាច': 1, 'ចស': 1, 'សេ': 1, 'េរ': 1, 'រគ': 1, 'គ្': 1, '្រ': 1, 'រូ': 1, 'ូស': 1, 'សើ': 1, 'ើរ': 1, 'រA': 1, 'ែA': 1, 'Aក': 1, 'ក្': 1, 'សា': 1})\n",
      "First most common pair: ្ស 5\n",
      "AសBរៀនAសBអានAសBពូកែអានអាចសរសេរគ្រូសរសើរAសBពូកែAកBា\n",
      "\n",
      "Merge: 3\n",
      "Text: AសBរៀនAសBអានAសBពូកែអានអាចសរសេរគ្រូសរសើរAសBពូកែAកBា\n",
      "Vocab: Counter({'ស': 8, 'រ': 6, 'A': 5, 'B': 5, 'ា': 4, 'ន': 3, 'អ': 3, 'ូ': 3, 'ក': 3, 'ព': 2, 'ែ': 2, 'ៀ': 1, 'ច': 1, 'េ': 1, 'គ': 1, '្': 1, 'ើ': 1})\n",
      "Pair: Counter({'Aស': 4, 'សB': 4, 'អា': 3, 'នA': 2, 'ាន': 2, 'Bព': 2, 'ពូ': 2, 'ូក': 2, 'កែ': 2, 'សរ': 2, 'រស': 2, 'Bរ': 1, 'រៀ': 1, 'ៀន': 1, 'Bអ': 1, 'ែអ': 1, 'នអ': 1, 'ាច': 1, 'ចស': 1, 'សេ': 1, 'េរ': 1, 'រគ': 1, 'គ្': 1, '្រ': 1, 'រូ': 1, 'ូស': 1, 'សើ': 1, 'ើរ': 1, 'រA': 1, 'ែA': 1, 'Aក': 1, 'កB': 1, 'Bា': 1})\n",
      "First most common pair: Aស 4\n",
      "CBរៀនCBអានCBពូកែអានអាចសរសេរគ្រូសរសើរCBពូកែAកBា\n",
      "\n",
      "Merge: 4\n",
      "Text: CBរៀនCBអានCBពូកែអានអាចសរសេរគ្រូសរសើរCBពូកែAកBា\n",
      "Vocab: Counter({'រ': 6, 'B': 5, 'C': 4, 'ា': 4, 'ស': 4, 'ន': 3, 'អ': 3, 'ូ': 3, 'ក': 3, 'ព': 2, 'ែ': 2, 'ៀ': 1, 'ច': 1, 'េ': 1, 'គ': 1, '្': 1, 'ើ': 1, 'A': 1})\n",
      "Pair: Counter({'CB': 4, 'អា': 3, 'នC': 2, 'ាន': 2, 'Bព': 2, 'ពូ': 2, 'ូក': 2, 'កែ': 2, 'សរ': 2, 'រស': 2, 'Bរ': 1, 'រៀ': 1, 'ៀន': 1, 'Bអ': 1, 'ែអ': 1, 'នអ': 1, 'ាច': 1, 'ចស': 1, 'សេ': 1, 'េរ': 1, 'រគ': 1, 'គ្': 1, '្រ': 1, 'រូ': 1, 'ូស': 1, 'សើ': 1, 'ើរ': 1, 'រC': 1, 'ែA': 1, 'Aក': 1, 'កB': 1, 'Bា': 1})\n",
      "First most common pair: CB 4\n",
      "DរៀនDអានDពូកែអានអាចសរសេរគ្រូសរសើរDពូកែAកBា\n",
      "\n",
      "Merge: 5\n",
      "Text: DរៀនDអានDពូកែអានអាចសរសេរគ្រូសរសើរDពូកែAកBា\n",
      "Vocab: Counter({'រ': 6, 'D': 4, 'ា': 4, 'ស': 4, 'ន': 3, 'អ': 3, 'ូ': 3, 'ក': 3, 'ព': 2, 'ែ': 2, 'ៀ': 1, 'ច': 1, 'េ': 1, 'គ': 1, '្': 1, 'ើ': 1, 'A': 1, 'B': 1})\n",
      "Pair: Counter({'អា': 3, 'នD': 2, 'ាន': 2, 'Dព': 2, 'ពូ': 2, 'ូក': 2, 'កែ': 2, 'សរ': 2, 'រស': 2, 'Dរ': 1, 'រៀ': 1, 'ៀន': 1, 'Dអ': 1, 'ែអ': 1, 'នអ': 1, 'ាច': 1, 'ចស': 1, 'សេ': 1, 'េរ': 1, 'រគ': 1, 'គ្': 1, '្រ': 1, 'រូ': 1, 'ូស': 1, 'សើ': 1, 'ើរ': 1, 'រD': 1, 'ែA': 1, 'Aក': 1, 'កB': 1, 'Bា': 1})\n",
      "First most common pair: អា 3\n",
      "DរៀនDEនDពូកែEនEចសរសេរគ្រូសរសើរDពូកែAកBា\n",
      "\n",
      "Merge: 6\n",
      "Text: DរៀនDEនDពូកែEនEចសរសេរគ្រូសរសើរDពូកែAកBា\n",
      "Vocab: Counter({'រ': 6, 'D': 4, 'ស': 4, 'ន': 3, 'E': 3, 'ូ': 3, 'ក': 3, 'ព': 2, 'ែ': 2, 'ៀ': 1, 'ច': 1, 'េ': 1, 'គ': 1, '្': 1, 'ើ': 1, 'A': 1, 'B': 1, 'ា': 1})\n",
      "Pair: Counter({'នD': 2, 'Eន': 2, 'Dព': 2, 'ពូ': 2, 'ូក': 2, 'កែ': 2, 'សរ': 2, 'រស': 2, 'Dរ': 1, 'រៀ': 1, 'ៀន': 1, 'DE': 1, 'ែE': 1, 'នE': 1, 'Eច': 1, 'ចស': 1, 'សេ': 1, 'េរ': 1, 'រគ': 1, 'គ្': 1, '្រ': 1, 'រូ': 1, 'ូស': 1, 'សើ': 1, 'ើរ': 1, 'រD': 1, 'ែA': 1, 'Aក': 1, 'កB': 1, 'Bា': 1})\n",
      "First most common pair: នD 2\n",
      "DរៀFEFពូកែEនEចសរសេរគ្រូសរសើរDពូកែAកBា\n",
      "\n",
      "Merge: 7\n",
      "Text: DរៀFEFពូកែEនEចសរសេរគ្រូសរសើរDពូកែAកBា\n",
      "Vocab: Counter({'រ': 6, 'ស': 4, 'E': 3, 'ូ': 3, 'ក': 3, 'D': 2, 'F': 2, 'ព': 2, 'ែ': 2, 'ៀ': 1, 'ន': 1, 'ច': 1, 'េ': 1, 'គ': 1, '្': 1, 'ើ': 1, 'A': 1, 'B': 1, 'ា': 1})\n",
      "Pair: Counter({'ពូ': 2, 'ូក': 2, 'កែ': 2, 'សរ': 2, 'រស': 2, 'Dរ': 1, 'រៀ': 1, 'ៀF': 1, 'FE': 1, 'EF': 1, 'Fព': 1, 'ែE': 1, 'Eន': 1, 'នE': 1, 'Eច': 1, 'ចស': 1, 'សេ': 1, 'េរ': 1, 'រគ': 1, 'គ្': 1, '្រ': 1, 'រូ': 1, 'ូស': 1, 'សើ': 1, 'ើរ': 1, 'រD': 1, 'Dព': 1, 'ែA': 1, 'Aក': 1, 'កB': 1, 'Bា': 1})\n",
      "First most common pair: ពូ 2\n",
      "DរៀFEFGកែEនEចសរសេរគ្រូសរសើរDGកែAកBា\n",
      "\n",
      "Merge: 8\n",
      "Text: DរៀFEFGកែEនEចសរសេរគ្រូសរសើរDGកែAកBា\n",
      "Vocab: Counter({'រ': 6, 'ស': 4, 'E': 3, 'ក': 3, 'D': 2, 'F': 2, 'G': 2, 'ែ': 2, 'ៀ': 1, 'ន': 1, 'ច': 1, 'េ': 1, 'គ': 1, '្': 1, 'ូ': 1, 'ើ': 1, 'A': 1, 'B': 1, 'ា': 1})\n",
      "Pair: Counter({'Gក': 2, 'កែ': 2, 'សរ': 2, 'រស': 2, 'Dរ': 1, 'រៀ': 1, 'ៀF': 1, 'FE': 1, 'EF': 1, 'FG': 1, 'ែE': 1, 'Eន': 1, 'នE': 1, 'Eច': 1, 'ចស': 1, 'សេ': 1, 'េរ': 1, 'រគ': 1, 'គ្': 1, '្រ': 1, 'រូ': 1, 'ូស': 1, 'សើ': 1, 'ើរ': 1, 'រD': 1, 'DG': 1, 'ែA': 1, 'Aក': 1, 'កB': 1, 'Bា': 1})\n",
      "First most common pair: Gក 2\n",
      "DរៀFEFHែEនEចសរសេរគ្រូសរសើរDHែAកBា\n",
      "\n",
      "Merge: 9\n",
      "Text: DរៀFEFHែEនEចសរសេរគ្រូសរសើរDHែAកBា\n",
      "Vocab: Counter({'រ': 6, 'ស': 4, 'E': 3, 'D': 2, 'F': 2, 'H': 2, 'ែ': 2, 'ៀ': 1, 'ន': 1, 'ច': 1, 'េ': 1, 'គ': 1, '្': 1, 'ូ': 1, 'ើ': 1, 'A': 1, 'ក': 1, 'B': 1, 'ា': 1})\n",
      "Pair: Counter({'Hែ': 2, 'សរ': 2, 'រស': 2, 'Dរ': 1, 'រៀ': 1, 'ៀF': 1, 'FE': 1, 'EF': 1, 'FH': 1, 'ែE': 1, 'Eន': 1, 'នE': 1, 'Eច': 1, 'ចស': 1, 'សេ': 1, 'េរ': 1, 'រគ': 1, 'គ្': 1, '្រ': 1, 'រូ': 1, 'ូស': 1, 'សើ': 1, 'ើរ': 1, 'រD': 1, 'DH': 1, 'ែA': 1, 'Aក': 1, 'កB': 1, 'Bា': 1})\n",
      "First most common pair: Hែ 2\n",
      "DរៀFEFIEនEចសរសេរគ្រូសរសើរDIAកBា\n",
      "\n",
      "Merge: 10\n",
      "Text: DរៀFEFIEនEចសរសេរគ្រូសរសើរDIAកBា\n",
      "Vocab: Counter({'រ': 6, 'ស': 4, 'E': 3, 'D': 2, 'F': 2, 'I': 2, 'ៀ': 1, 'ន': 1, 'ច': 1, 'េ': 1, 'គ': 1, '្': 1, 'ូ': 1, 'ើ': 1, 'A': 1, 'ក': 1, 'B': 1, 'ា': 1})\n",
      "Pair: Counter({'សរ': 2, 'រស': 2, 'Dរ': 1, 'រៀ': 1, 'ៀF': 1, 'FE': 1, 'EF': 1, 'FI': 1, 'IE': 1, 'Eន': 1, 'នE': 1, 'Eច': 1, 'ចស': 1, 'សេ': 1, 'េរ': 1, 'រគ': 1, 'គ្': 1, '្រ': 1, 'រូ': 1, 'ូស': 1, 'សើ': 1, 'ើរ': 1, 'រD': 1, 'DI': 1, 'IA': 1, 'Aក': 1, 'កB': 1, 'Bា': 1})\n",
      "First most common pair: សរ 2\n",
      "DរៀFEFIEនEចJសេរគ្រូJសើរDIAកBា\n",
      "\n",
      "\n",
      "Final text replacement: DរៀFEFIEនEចJសេរគ្រូJសើរDIAកBា\n"
     ]
    }
   ],
   "source": [
    "from collections import Counter\n",
    "\n",
    "text = 'សិស្សរៀនសិស្សអានសិស្សពូកែអានអាចសរសេរគ្រូសរសើរសិស្សពូកែសិក្សា'\n",
    "\n",
    "for merge in range(10):\n",
    "    print('\\nMerge:', (merge + 1))\n",
    "    print(\"Text:\", text)    \n",
    "    \n",
    "    tokens = list(text)\n",
    "\n",
    "    vocab = Counter(tokens)\n",
    "\n",
    "    print('Vocab:', vocab)\n",
    "\n",
    "    pair = [t1 + t2 for t1, t2 in zip(tokens[:-1], tokens[1:])]\n",
    "    counter_pair = Counter(pair)\n",
    "\n",
    "    print('Pair:', counter_pair)\n",
    "\n",
    "    v = counter_pair.most_common(1)[0]\n",
    "    print('First most common pair:', v[0], v[1])\n",
    "\n",
    "    k = chr(ord('A') + merge)\n",
    "    mapping = {}\n",
    "    mapping[k] = v[0]\n",
    "\n",
    "    text = text.replace(v[0], k)\n",
    "    print(text)\n",
    "\n",
    "print('\\n\\nFinal text replacement:', text)"
   ]
  }
 ],
 "metadata": {
  "kernelspec": {
   "display_name": ".venv",
   "language": "python",
   "name": "python3"
  },
  "language_info": {
   "codemirror_mode": {
    "name": "ipython",
    "version": 3
   },
   "file_extension": ".py",
   "mimetype": "text/x-python",
   "name": "python",
   "nbconvert_exporter": "python",
   "pygments_lexer": "ipython3",
   "version": "3.8.0"
  }
 },
 "nbformat": 4,
 "nbformat_minor": 2
}

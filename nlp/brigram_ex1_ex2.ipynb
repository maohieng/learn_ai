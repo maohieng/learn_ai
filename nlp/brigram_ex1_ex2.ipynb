{
 "cells": [
  {
   "cell_type": "markdown",
   "metadata": {},
   "source": [
    "# Tri-gram counter + Exercises"
   ]
  },
  {
   "cell_type": "code",
   "execution_count": 1,
   "metadata": {},
   "outputs": [
    {
     "name": "stdout",
     "output_type": "stream",
     "text": [
      "['<s>', 'I', 'am', 'Sam', '</s>', '<s>', 'Sam', 'I', 'am', '</s>', '<s>', 'Sam', 'I', 'like', '</s>', '<s>', 'Sam', 'I', 'do', 'like', '</s>', '<s>', 'do', 'I', 'like', 'Sam', '</s>']\n",
      "27\n"
     ]
    }
   ],
   "source": [
    "# Corpus\n",
    "text = \"<s> I am Sam </s> <s> Sam I am </s> <s> Sam I like </s> <s> Sam I do like </s> <s> do I like Sam </s>\"\n",
    "\n",
    "# Tokenize\n",
    "tokens = text.split()\n",
    "print(tokens)\n",
    "print(len(tokens))"
   ]
  },
  {
   "cell_type": "code",
   "execution_count": 2,
   "metadata": {},
   "outputs": [
    {
     "name": "stdout",
     "output_type": "stream",
     "text": [
      "Counter({'</s> <s>': 4, '<s> Sam': 3, 'Sam I': 3, 'I am': 2, 'Sam </s>': 2, 'I like': 2, 'like </s>': 2, '<s> I': 1, 'am Sam': 1, 'am </s>': 1, 'I do': 1, 'do like': 1, '<s> do': 1, 'do I': 1, 'like Sam': 1})\n",
      "Counter({'</s> <s> Sam': 3, '<s> Sam I': 3, 'like </s> <s>': 2, '<s> I am': 1, 'I am Sam': 1, 'am Sam </s>': 1, 'Sam </s> <s>': 1, 'Sam I am': 1, 'I am </s>': 1, 'am </s> <s>': 1, 'Sam I like': 1, 'I like </s>': 1, 'Sam I do': 1, 'I do like': 1, 'do like </s>': 1, '</s> <s> do': 1, '<s> do I': 1, 'do I like': 1, 'I like Sam': 1, 'like Sam </s>': 1})\n"
     ]
    }
   ],
   "source": [
    "from collections import Counter\n",
    "\n",
    "# Calculate bi-grams\n",
    "bi_grams = [' '.join([t1, t2]) for t1, t2 in zip(tokens[:-1], tokens[1:])]\n",
    "bi_counter = Counter(bi_grams)\n",
    "\n",
    "print(bi_counter)\n",
    "\n",
    "# Calculate tri-grams\n",
    "tri_grams = [' '.join([t1, t2, t3]) for t1, t2, t3 in zip(tokens[:-2], tokens[1:-1], tokens[2:])]\n",
    "tri_counter = Counter(tri_grams)\n",
    "\n",
    "print(tri_counter)"
   ]
  },
  {
   "cell_type": "code",
   "execution_count": 4,
   "metadata": {},
   "outputs": [
    {
     "name": "stdout",
     "output_type": "stream",
     "text": [
      "['<s>', 'I', 'am', 'Sam', '</s>', 'like', 'do']\n",
      "{'<s>', '</s>', 'like', 'I', 'am', 'do', 'Sam'}\n"
     ]
    }
   ],
   "source": [
    "vocab = list(Counter(tokens).keys())\n",
    "print(vocab)\n",
    "\n",
    "new_vocab = set(tokens)\n",
    "print(new_vocab)"
   ]
  },
  {
   "cell_type": "code",
   "execution_count": 4,
   "metadata": {},
   "outputs": [
    {
     "name": "stdout",
     "output_type": "stream",
     "text": [
      "P(<s> | <s> Sam) = 0.0\n",
      "P(I | <s> Sam) = 1.0\n",
      "P(am | <s> Sam) = 0.0\n",
      "P(Sam | <s> Sam) = 0.0\n",
      "P(</s> | <s> Sam) = 0.0\n",
      "P(like | <s> Sam) = 0.0\n",
      "P(do | <s> Sam) = 0.0\n"
     ]
    }
   ],
   "source": [
    "prev = '<s> Sam'\n",
    "\n",
    "for w in vocab:\n",
    "    tmp_tri = prev + ' ' + w\n",
    "    if tmp_tri in tri_counter:\n",
    "        c_tri = tri_counter[tmp_tri]\n",
    "    else:\n",
    "        c_tri = 0\n",
    "\n",
    "    if prev in bi_counter:\n",
    "        c_bi = bi_counter[prev]\n",
    "    else:\n",
    "        c_bi = 0\n",
    "    \n",
    "    print('P({} | {}) = {}'.format(w, prev, 1.0*c_tri/c_bi))"
   ]
  },
  {
   "cell_type": "markdown",
   "metadata": {},
   "source": [
    "#### Define as functions"
   ]
  },
  {
   "cell_type": "code",
   "execution_count": 10,
   "metadata": {},
   "outputs": [
    {
     "name": "stdout",
     "output_type": "stream",
     "text": [
      "Counter({'<s>': 5, 'I': 5, 'Sam': 5, '</s>': 5, 'like': 3, 'am': 2, 'do': 2})\n",
      "Counter({'</s> <s>': 4, '<s> Sam': 3, 'Sam I': 3, 'I am': 2, 'Sam </s>': 2, 'I like': 2, 'like </s>': 2, '<s> I': 1, 'am Sam': 1, 'am </s>': 1, 'I do': 1, 'do like': 1, '<s> do': 1, 'do I': 1, 'like Sam': 1})\n",
      "Counter({'</s> <s> Sam': 3, '<s> Sam I': 3, 'like </s> <s>': 2, '<s> I am': 1, 'I am Sam': 1, 'am Sam </s>': 1, 'Sam </s> <s>': 1, 'Sam I am': 1, 'I am </s>': 1, 'am </s> <s>': 1, 'Sam I like': 1, 'I like </s>': 1, 'Sam I do': 1, 'I do like': 1, 'do like </s>': 1, '</s> <s> do': 1, '<s> do I': 1, 'do I like': 1, 'I like Sam': 1, 'like Sam </s>': 1})\n"
     ]
    }
   ],
   "source": [
    "from collections import Counter\n",
    "\n",
    "# Define a function to calculate the n-gram\n",
    "def n_gram(tokens, n: int):\n",
    "    n_grams = [' '.join(tokens[i:i+n]) for i in range(len(tokens)-n+1)]\n",
    "    n_counter = Counter(n_grams)\n",
    "    return n_counter\n",
    "\n",
    "new_uni_grams = n_gram(tokens, 1)\n",
    "print(new_uni_grams)\n",
    "new_bi_grams = n_gram(tokens, 2)\n",
    "print(new_bi_grams)\n",
    "new_tri_grams = n_gram(tokens, 3)\n",
    "print(new_tri_grams)"
   ]
  },
  {
   "cell_type": "markdown",
   "metadata": {},
   "source": [
    "## Add-one Smoothing"
   ]
  },
  {
   "cell_type": "code",
   "execution_count": 5,
   "metadata": {},
   "outputs": [
    {
     "name": "stdout",
     "output_type": "stream",
     "text": [
      "P(<s> | <s> Sam) = 0.1\n",
      "P(I | <s> Sam) = 0.4\n",
      "P(am | <s> Sam) = 0.1\n",
      "P(Sam | <s> Sam) = 0.1\n",
      "P(</s> | <s> Sam) = 0.1\n",
      "P(like | <s> Sam) = 0.1\n",
      "P(do | <s> Sam) = 0.1\n"
     ]
    }
   ],
   "source": [
    "prev = '<s> Sam'\n",
    "\n",
    "for w in vocab:\n",
    "    tmp_tri = prev + ' ' + w\n",
    "    if tmp_tri in tri_counter:\n",
    "        c_tri = tri_counter[tmp_tri]\n",
    "    else:\n",
    "        c_tri = 0\n",
    "\n",
    "    if prev in bi_counter:\n",
    "        c_bi = bi_counter[prev]\n",
    "    else:\n",
    "        c_bi = 0\n",
    "    \n",
    "    print('P({} | {}) = {}'.format(w, prev, 1.0*(c_tri+1)/(c_bi+len(vocab)))) # Add-one smoothing or Laplace smoothing"
   ]
  },
  {
   "cell_type": "markdown",
   "metadata": {},
   "source": [
    "## Add-k Smoothing"
   ]
  },
  {
   "cell_type": "code",
   "execution_count": 6,
   "metadata": {},
   "outputs": [
    {
     "name": "stdout",
     "output_type": "stream",
     "text": [
      "P(<s> | <s> Sam) = 0.07692307692307693\n",
      "P(I | <s> Sam) = 0.5384615384615384\n",
      "P(am | <s> Sam) = 0.07692307692307693\n",
      "P(Sam | <s> Sam) = 0.07692307692307693\n",
      "P(</s> | <s> Sam) = 0.07692307692307693\n",
      "P(like | <s> Sam) = 0.07692307692307693\n",
      "P(do | <s> Sam) = 0.07692307692307693\n"
     ]
    }
   ],
   "source": [
    "prev = '<s> Sam'\n",
    "k=0.5\n",
    "\n",
    "for w in vocab:\n",
    "    tmp_tri = prev + ' ' + w\n",
    "    if tmp_tri in tri_counter:\n",
    "        c_tri = tri_counter[tmp_tri]\n",
    "    else:\n",
    "        c_tri = 0\n",
    "\n",
    "    if prev in bi_counter:\n",
    "        c_bi = bi_counter[prev]\n",
    "    else:\n",
    "        c_bi = 0\n",
    "    \n",
    "    print('P({} | {}) = {}'.format(w, prev, 1.0*(c_tri+k)/(c_bi+k*len(vocab))))"
   ]
  },
  {
   "cell_type": "markdown",
   "metadata": {},
   "source": [
    "## Exercise 1"
   ]
  },
  {
   "cell_type": "code",
   "execution_count": 7,
   "metadata": {},
   "outputs": [
    {
     "name": "stdout",
     "output_type": "stream",
     "text": [
      "Counter({'<s>': 5, 'I': 5, 'Sam': 5, '</s>': 5, 'like': 3, 'am': 2, 'do': 2})\n"
     ]
    }
   ],
   "source": [
    "uni_counter = Counter(tokens)\n",
    "print(uni_counter)"
   ]
  },
  {
   "cell_type": "code",
   "execution_count": 14,
   "metadata": {},
   "outputs": [],
   "source": [
    "words = ['<s> do', 'Sam do', '<s> Sam', 'do Sam', 'Sam I', 'do I', 'I like', 'like Same']"
   ]
  },
  {
   "cell_type": "markdown",
   "metadata": {},
   "source": [
    "#### 1. Bigram probabilities estimation"
   ]
  },
  {
   "cell_type": "code",
   "execution_count": 15,
   "metadata": {},
   "outputs": [
    {
     "name": "stdout",
     "output_type": "stream",
     "text": [
      "P(do | <s>) = 0.16666666666666666\n",
      "P(do | Sam) = 0.08333333333333333\n",
      "P(Sam | <s>) = 0.3333333333333333\n",
      "P(Sam | do) = 0.1111111111111111\n",
      "P(I | Sam) = 0.3333333333333333\n",
      "P(I | do) = 0.2222222222222222\n",
      "P(like | I) = 0.25\n",
      "P(Same | like) = 0.1\n"
     ]
    }
   ],
   "source": [
    "# Calculate bigram probabilities with Laplace smoothing (add-one estimation) for the given words\n",
    "for w in words:\n",
    "    if w in bi_counter:\n",
    "        c_bi = bi_counter[w]\n",
    "    else:\n",
    "        c_bi = 0\n",
    "\n",
    "    prev = w.split()[0]\n",
    "    if prev in uni_counter:\n",
    "        c_uni = uni_counter[prev]\n",
    "    else:\n",
    "        c_uni = 0\n",
    "\n",
    "    print('P({} | {}) = {}'.format(w.split()[1], prev, 1.0*(c_bi+1)/(c_uni+len(vocab)))) # Add-one smoothing or Laplace smoothing"
   ]
  },
  {
   "cell_type": "markdown",
   "metadata": {},
   "source": [
    "#### 2. Bigram Probabilities and Perplexity"
   ]
  },
  {
   "cell_type": "code",
   "execution_count": 19,
   "metadata": {},
   "outputs": [],
   "source": [
    "a = '<s> do Sam I like'\n",
    "b = '<s> Sam do I like'\n",
    "c = 'I do like Sam </s>'"
   ]
  },
  {
   "cell_type": "code",
   "execution_count": 25,
   "metadata": {},
   "outputs": [
    {
     "name": "stdout",
     "output_type": "stream",
     "text": [
      "Sentence: <s> do Sam I like\n",
      "['<s> do', 'do Sam', 'Sam I', 'I like']\n",
      "* P(do | <s>) = 0.16666666666666666\n",
      "* P(Sam | do) = 0.1111111111111111\n",
      "* P(I | Sam) = 0.3333333333333333\n",
      "* P(like | I) = 0.25\n",
      "P(<s> do Sam I like) = 0.0015432098765432098\n",
      "\n",
      "Perplexity(<s> do Sam I like) = 5.045378491522287\n",
      "\n",
      "Sentence: <s> Sam do I like\n",
      "['<s> Sam', 'Sam do', 'do I', 'I like']\n",
      "* P(Sam | <s>) = 0.3333333333333333\n",
      "* P(do | Sam) = 0.08333333333333333\n",
      "* P(I | do) = 0.2222222222222222\n",
      "* P(like | I) = 0.25\n",
      "P(<s> Sam do I like) = 0.0015432098765432098\n",
      "\n",
      "Perplexity(<s> Sam do I like) = 5.045378491522287\n",
      "\n",
      "Sentence: I do like Sam </s>\n",
      "['I do', 'do like', 'like Sam', 'Sam </s>']\n",
      "* P(do | I) = 0.16666666666666666\n",
      "* P(like | do) = 0.2222222222222222\n",
      "* P(Sam | like) = 0.2\n",
      "* P(</s> | Sam) = 0.25\n",
      "P(I do like Sam </s>) = 0.001851851851851852\n",
      "\n",
      "Perplexity(I do like Sam </s>) = 4.82057051366791\n",
      "\n"
     ]
    }
   ],
   "source": [
    "# Calculate bigram probabilities and perplexity for the given sentences\n",
    "for w in [a, b, c]:\n",
    "    print('Sentence: {}'.format(w))\n",
    "    bi_probs = []\n",
    "\n",
    "    tokens = w.split()\n",
    "    bi_grams = [' '.join([t1, t2]) for t1, t2 in zip(tokens[:-1], tokens[1:])]\n",
    "    print(bi_grams)\n",
    "    for bg in bi_grams:\n",
    "        if bg in bi_counter:\n",
    "            c_bi = bi_counter[bg]\n",
    "        else:\n",
    "            c_bi = 0\n",
    "\n",
    "        prev = bg.split()[0]\n",
    "        if prev in uni_counter:\n",
    "            c_uni = uni_counter[prev]\n",
    "        else:\n",
    "            c_uni = 0\n",
    "\n",
    "        prob = 1.0*(c_bi+1)/(c_uni+len(vocab))\n",
    "        bi_probs.append(prob)\n",
    "        print('* P({} | {}) = {}'.format(bg.split()[1], prev, prob, end=' '))\n",
    "    \n",
    "    p_sentence = 1.0\n",
    "    for prob in bi_probs:\n",
    "        p_sentence *= prob\n",
    "\n",
    "    print('P({}) = {}'.format(w, p_sentence, end=' '))\n",
    "    print('')\n",
    "    \n",
    "    pp = pow((1.0/p_sentence), (1.0/len(bi_grams)))\n",
    "\n",
    "    print('Perplexity({}) = {}'.format(w, pp, end=' '))\n",
    "    print ('')\n"
   ]
  },
  {
   "cell_type": "markdown",
   "metadata": {},
   "source": [
    "## Exercise 2\n",
    "From exercise 1, add-k smoothing ($ k=0.1 $), plus use linear interpolation to compute the probability of each bigram: \n",
    "\n",
    "$$\n",
    "\\hat{P}(w_i | w_{i-1}) = \\lambda_1P(w_i) + \\lambda_2P(w_i|w_{i-1})\n",
    "$$\n",
    "where $ \\lambda_1 = 0.25 $ and $ \\lambda_2 = 0.75 $"
   ]
  },
  {
   "cell_type": "code",
   "execution_count": 21,
   "metadata": {},
   "outputs": [],
   "source": [
    "k = 0.1\n",
    "lambda1 = 0.25\n",
    "lambda2 = 0.75"
   ]
  },
  {
   "cell_type": "markdown",
   "metadata": {},
   "source": [
    "#### 1. Bigram probabilities estimation"
   ]
  },
  {
   "cell_type": "code",
   "execution_count": 22,
   "metadata": {},
   "outputs": [
    {
     "name": "stdout",
     "output_type": "stream",
     "text": [
      "P(do | <s>) = 0.7192982456140351\n",
      "P(do | Sam) = 0.6754385964912281\n",
      "P(Sam | <s>) = 0.8070175438596491\n",
      "P(Sam | do) = 0.2855750487329434\n",
      "P(I | Sam) = 0.8070175438596491\n",
      "P(I | do) = 0.37816764132553604\n",
      "P(like | I) = 0.763157894736842\n",
      "P(Same | like) = 0.41465149359886205\n"
     ]
    }
   ],
   "source": [
    "# Calculate bigram probabilities with add-k smoothing, plus linear interpolation for the given words\n",
    "for w in words:\n",
    "    if w in bi_counter:\n",
    "        c_bi = bi_counter[w]\n",
    "    else:\n",
    "        c_bi = 0\n",
    "\n",
    "    prev = w.split()[0]\n",
    "    if prev in uni_counter:\n",
    "        c_uni = uni_counter[prev]\n",
    "    else:\n",
    "        c_uni = 0\n",
    "\n",
    "    # Bigram probability with add-k smoothing\n",
    "    p_bi_add_k = 1.0*(c_bi+k)/(c_uni+len(vocab)*k)\n",
    "    \n",
    "    # Uniform probability with add-k smoothing\n",
    "    p_uni_add_k = 1.0*(c_uni+k)/(len(tokens)+k*len(vocab))\n",
    "    \n",
    "    # Linear interpolation\n",
    "    p_interp = lambda1*p_bi_add_k + lambda2*p_uni_add_k\n",
    "\n",
    "    print('P({} | {}) = {}'.format(w.split()[1], prev, p_interp))"
   ]
  },
  {
   "cell_type": "markdown",
   "metadata": {},
   "source": [
    "#### 2. Bigram Probabilities and Perplexity"
   ]
  },
  {
   "cell_type": "code",
   "execution_count": null,
   "metadata": {},
   "outputs": [
    {
     "name": "stdout",
     "output_type": "stream",
     "text": [
      "Sentence: <s> do Sam I like\n",
      "['<s> do', 'do Sam', 'Sam I', 'I like']\n",
      "* P(do | <s>) = 0.7192982456140351\n",
      "* P(Sam | do) = 0.2855750487329434\n",
      "* P(I | Sam) = 0.8070175438596491\n",
      "* P(like | I) = 0.763157894736842\n",
      "P(<s> do Sam I like) = 0.12651051915082864\n",
      "\n",
      "Perplexity(<s> do Sam I like) = 1.6767500984832513\n",
      "\n",
      "Sentence: <s> Sam do I like\n",
      "['<s> Sam', 'Sam do', 'do I', 'I like']\n",
      "* P(Sam | <s>) = 0.8070175438596491\n",
      "* P(do | Sam) = 0.6754385964912281\n",
      "* P(I | do) = 0.37816764132553604\n",
      "* P(like | I) = 0.763157894736842\n",
      "P(<s> Sam do I like) = 0.15731408766129015\n",
      "\n",
      "Perplexity(<s> Sam do I like) = 1.5878449641547745\n",
      "\n",
      "Sentence: I do like Sam </s>\n",
      "['I do', 'do like', 'like Sam', 'Sam </s>']\n",
      "* P(do | I) = 0.7192982456140351\n",
      "* P(like | do) = 0.37816764132553604\n",
      "* P(Sam | like) = 0.48221906116642965\n",
      "* P(</s> | Sam) = 0.763157894736842\n",
      "P(I do like Sam </s>) = 0.10010416337101982\n",
      "\n",
      "Perplexity(I do like Sam </s>) = 1.7778166323328404\n",
      "\n"
     ]
    }
   ],
   "source": [
    "# Calculate bigram probabilities and perplexity for the given sentences\n",
    "for w in [a, b, c]:\n",
    "    print('Sentence: {}'.format(w))\n",
    "    bi_probs = []\n",
    "\n",
    "    tokens = w.split()\n",
    "    bi_grams = [' '.join([t1, t2]) for t1, t2 in zip(tokens[:-1], tokens[1:])]\n",
    "    print(bi_grams)\n",
    "    for bg in bi_grams:\n",
    "        if bg in bi_counter:\n",
    "            c_bi = bi_counter[bg]\n",
    "        else:\n",
    "            c_bi = 0\n",
    "\n",
    "        prev = bg.split()[0]\n",
    "        if prev in uni_counter:\n",
    "            c_uni = uni_counter[prev]\n",
    "        else:\n",
    "            c_uni = 0\n",
    "\n",
    "        # Bigram probability with add-k smoothing\n",
    "        p_bi_add_k = 1.0*(c_bi+k)/(c_uni+len(vocab)*k)\n",
    "        \n",
    "        # Uniform probability with add-k smoothing\n",
    "        p_uni_add_k = 1.0*(c_uni+k)/(len(tokens)+k*len(vocab))\n",
    "        \n",
    "        # Linear interpolation\n",
    "        p_interp = lambda1*p_bi_add_k + lambda2*p_uni_add_k\n",
    "        \n",
    "        bi_probs.append(p_interp)\n",
    "        print('* P({} | {}) = {}'.format(bg.split()[1], prev, p_interp, end=' '))\n",
    "\n",
    "    p_sentence = 1.0\n",
    "    for prob in bi_probs:\n",
    "        p_sentence *= prob\n",
    "    \n",
    "    print('P({}) = {}'.format(w, p_sentence, end=' '))\n",
    "    print('')\n",
    "\n",
    "    pp = pow((1.0/p_sentence), (1.0/len(bi_grams)))\n",
    "\n",
    "    print('Perplexity({}) = {}'.format(w, pp, end=' '))\n",
    "    print ('')"
   ]
  }
 ],
 "metadata": {
  "kernelspec": {
   "display_name": "venv",
   "language": "python",
   "name": "python3"
  },
  "language_info": {
   "codemirror_mode": {
    "name": "ipython",
    "version": 3
   },
   "file_extension": ".py",
   "mimetype": "text/x-python",
   "name": "python",
   "nbconvert_exporter": "python",
   "pygments_lexer": "ipython3",
   "version": "3.11.9"
  }
 },
 "nbformat": 4,
 "nbformat_minor": 2
}

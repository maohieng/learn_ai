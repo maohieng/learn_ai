{
 "cells": [
  {
   "cell_type": "markdown",
   "metadata": {},
   "source": [
    "# Text Classification (Mini Project 2)\n",
    "author: Mao Hieng"
   ]
  },
  {
   "cell_type": "code",
   "execution_count": 1,
   "metadata": {},
   "outputs": [],
   "source": [
    "import numpy as np\n",
    "import re\n",
    "from sklearn.model_selection import train_test_split\n",
    "from sklearn.linear_model import LogisticRegression\n",
    "from sklearn.ensemble import RandomForestClassifier\n",
    "from sklearn.svm import SVC\n",
    "from sklearn.metrics import accuracy_score"
   ]
  },
  {
   "cell_type": "markdown",
   "metadata": {},
   "source": [
    "## Load data"
   ]
  },
  {
   "cell_type": "code",
   "execution_count": 2,
   "metadata": {},
   "outputs": [],
   "source": [
    "# Load files\n",
    "def load_file(file_path):\n",
    "    with open(file_path, 'r', encoding='utf-8') as f:\n",
    "        return f.readlines()"
   ]
  },
  {
   "cell_type": "code",
   "execution_count": 3,
   "metadata": {},
   "outputs": [
    {
     "data": {
      "text/plain": [
       "(['Size, Size, ans Size.\\n',\n",
       "  'Excellent quality, speedy printing, low cost\\n',\n",
       "  'Cheap, good quality, small size\\n',\n",
       "  'Attractive design, satisfying features, the backlight!\\n',\n",
       "  'Pretty much has every feature you could possibly need, great look\\n'],\n",
       " ['Image quality not as good as some other brands, cheap feel to body.\\n',\n",
       "  'nothing\\n',\n",
       "  'Black text could be better, ink runs out kind of fast\\n',\n",
       "  \"The thing won't work\\n\",\n",
       "  'Display grainy, small keypad for text messaging, poor vibrate function\\n'])"
      ]
     },
     "execution_count": 3,
     "metadata": {},
     "output_type": "execute_result"
    }
   ],
   "source": [
    "positive_reviews = load_file('positive-reviews.txt')\n",
    "negative_reviews = load_file('negative-reviews.txt')\n",
    "\n",
    "positive_reviews[:5], negative_reviews[:5]"
   ]
  },
  {
   "cell_type": "markdown",
   "metadata": {},
   "source": [
    "## Creating Features"
   ]
  },
  {
   "cell_type": "code",
   "execution_count": 4,
   "metadata": {},
   "outputs": [],
   "source": [
    "positive_words = set(load_file('positive-words.txt'))\n",
    "negative_words = set(load_file('negative-words.txt'))"
   ]
  },
  {
   "cell_type": "code",
   "execution_count": 5,
   "metadata": {},
   "outputs": [],
   "source": [
    "def extract_features(reviews, more_features=None):\n",
    "    features = []\n",
    "    for i, review in enumerate(reviews):\n",
    "        review = review.lower()\n",
    "        tokens = re.findall(r'\\b\\w+\\b', review)\n",
    "\n",
    "        pos_count = sum(1 for word in tokens if word in positive_words)\n",
    "        neg_count  = sum(1 for word in tokens if word in negative_words)\n",
    "        contains_no = int('no' in tokens)\n",
    "        pronoun_count = sum(1 for word in tokens if word in ['i', 'me', 'my', 'you', 'your'])\n",
    "        contains_exclamation = int('!' in review)\n",
    "        log_length = np.log(len(tokens) + 1)\n",
    "\n",
    "        if more_features is not None:\n",
    "            ff = more_features[i]\n",
    "            features.append([pos_count, neg_count, contains_no, pronoun_count, contains_exclamation, log_length, *ff])\n",
    "        else:\n",
    "            features.append([pos_count, neg_count, contains_no, pronoun_count, contains_exclamation, log_length])\n",
    "    \n",
    "    return features"
   ]
  },
  {
   "cell_type": "markdown",
   "metadata": {},
   "source": [
    "## Preparing Data"
   ]
  },
  {
   "cell_type": "code",
   "execution_count": 6,
   "metadata": {},
   "outputs": [],
   "source": [
    "positive_labels = [1] * len(positive_reviews)\n",
    "negative_labels = [0] * len(negative_reviews)\n",
    "\n",
    "reviews = positive_reviews + negative_reviews\n",
    "labels = positive_labels + negative_labels"
   ]
  },
  {
   "cell_type": "markdown",
   "metadata": {},
   "source": [
    "## Normal Features"
   ]
  },
  {
   "cell_type": "code",
   "execution_count": 7,
   "metadata": {},
   "outputs": [
    {
     "data": {
      "text/plain": [
       "[[0, 0, 0, 0, 0, 1.6094379124341003],\n",
       " [0, 0, 0, 0, 0, 1.9459101490553132],\n",
       " [0, 0, 0, 0, 0, 1.791759469228055],\n",
       " [0, 0, 0, 0, 1, 1.9459101490553132],\n",
       " [0, 0, 0, 1, 0, 2.4849066497880004]]"
      ]
     },
     "execution_count": 7,
     "metadata": {},
     "output_type": "execute_result"
    }
   ],
   "source": [
    "features = extract_features(reviews)\n",
    "features[:5]"
   ]
  },
  {
   "cell_type": "code",
   "execution_count": 13,
   "metadata": {},
   "outputs": [
    {
     "name": "stdout",
     "output_type": "stream",
     "text": [
      "(40000, 6)\n"
     ]
    }
   ],
   "source": [
    "X = np.array(features)\n",
    "print(X.shape)\n",
    "X_train, X_test, y_train, y_test = train_test_split(X, labels, test_size=0.2, random_state=42)"
   ]
  },
  {
   "cell_type": "markdown",
   "metadata": {},
   "source": [
    "## Train and evaluate models"
   ]
  },
  {
   "cell_type": "code",
   "execution_count": 9,
   "metadata": {},
   "outputs": [],
   "source": [
    "def train_and_evaluate_model(model, model_name, trainset, testset):\n",
    "    model.fit(trainset, y_train)\n",
    "    y_pred = model.predict(testset)\n",
    "    accuracy = accuracy_score(y_test, y_pred)\n",
    "    print(f\"Accuracy of {model_name}: {accuracy:.4f}\")"
   ]
  },
  {
   "cell_type": "code",
   "execution_count": 10,
   "metadata": {},
   "outputs": [],
   "source": [
    "models = [\n",
    "    (LogisticRegression(), \"Logistic Regression\"),\n",
    "    (RandomForestClassifier(), \"Random Forest\"),\n",
    "    (SVC(), \"Support Vector Machine\")\n",
    "]"
   ]
  },
  {
   "cell_type": "code",
   "execution_count": 14,
   "metadata": {},
   "outputs": [
    {
     "name": "stdout",
     "output_type": "stream",
     "text": [
      "Accuracy of Logistic Regression: 0.5919\n",
      "Accuracy of Random Forest: 0.5946\n",
      "Accuracy of Support Vector Machine: 0.5904\n"
     ]
    }
   ],
   "source": [
    "for model, model_name in models:\n",
    "    train_and_evaluate_model(model, model_name, X_train, X_test)"
   ]
  },
  {
   "cell_type": "markdown",
   "metadata": {},
   "source": [
    "#### Naive Bayes "
   ]
  },
  {
   "cell_type": "code",
   "execution_count": 16,
   "metadata": {},
   "outputs": [
    {
     "name": "stdout",
     "output_type": "stream",
     "text": [
      "Accuracy of Naive Bayes classifier: 0.5715\n"
     ]
    }
   ],
   "source": [
    "from sklearn.naive_bayes import MultinomialNB\n",
    "train_and_evaluate_model(MultinomialNB(), \"Naive Bayes classifier\", X_train, X_test)"
   ]
  },
  {
   "cell_type": "markdown",
   "metadata": {},
   "source": [
    "## More Features"
   ]
  },
  {
   "cell_type": "markdown",
   "metadata": {},
   "source": [
    "### Apply TF-IDF"
   ]
  },
  {
   "cell_type": "code",
   "execution_count": 17,
   "metadata": {},
   "outputs": [],
   "source": [
    "from sklearn.feature_extraction.text import TfidfVectorizer\n",
    "\n",
    "tfidf_vectorizer = TfidfVectorizer()\n",
    "tfidf_matrix = tfidf_vectorizer.fit_transform(reviews)"
   ]
  },
  {
   "cell_type": "code",
   "execution_count": 18,
   "metadata": {},
   "outputs": [
    {
     "name": "stdout",
     "output_type": "stream",
     "text": [
      "(40000, 9182)\n"
     ]
    }
   ],
   "source": [
    "print(tfidf_matrix.shape)"
   ]
  },
  {
   "cell_type": "code",
   "execution_count": null,
   "metadata": {},
   "outputs": [],
   "source": [
    "new_features = extract_features(reviews, tfidf_matrix.toarray())"
   ]
  },
  {
   "cell_type": "code",
   "execution_count": 20,
   "metadata": {},
   "outputs": [
    {
     "name": "stdout",
     "output_type": "stream",
     "text": [
      "(40000, 9188)\n"
     ]
    }
   ],
   "source": [
    "X2 = np.array(new_features)\n",
    "print(X2.shape)\n",
    "X2_train, X2_test, y_train, y_test = train_test_split(X2, labels, test_size=0.2, random_state=42)"
   ]
  },
  {
   "cell_type": "code",
   "execution_count": 22,
   "metadata": {},
   "outputs": [
    {
     "name": "stderr",
     "output_type": "stream",
     "text": [
      "/Users/maohieng/master-degree/learn_ai/.venv/lib/python3.8/site-packages/sklearn/linear_model/_logistic.py:460: ConvergenceWarning: lbfgs failed to converge (status=1):\n",
      "STOP: TOTAL NO. of ITERATIONS REACHED LIMIT.\n",
      "\n",
      "Increase the number of iterations (max_iter) or scale the data as shown in:\n",
      "    https://scikit-learn.org/stable/modules/preprocessing.html\n",
      "Please also refer to the documentation for alternative solver options:\n",
      "    https://scikit-learn.org/stable/modules/linear_model.html#logistic-regression\n",
      "  n_iter_i = _check_optimize_result(\n"
     ]
    },
    {
     "name": "stdout",
     "output_type": "stream",
     "text": [
      "Accuracy of Logistic Regression: 0.9296\n"
     ]
    }
   ],
   "source": [
    "train_and_evaluate_model(LogisticRegression(), \"Logistic Regression\", X2_train, X2_test)"
   ]
  }
 ],
 "metadata": {
  "kernelspec": {
   "display_name": ".venv",
   "language": "python",
   "name": "python3"
  },
  "language_info": {
   "codemirror_mode": {
    "name": "ipython",
    "version": 3
   },
   "file_extension": ".py",
   "mimetype": "text/x-python",
   "name": "python",
   "nbconvert_exporter": "python",
   "pygments_lexer": "ipython3",
   "version": "3.8.0"
  }
 },
 "nbformat": 4,
 "nbformat_minor": 2
}

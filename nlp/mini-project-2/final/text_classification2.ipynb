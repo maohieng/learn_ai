{
 "cells": [
  {
   "cell_type": "markdown",
   "metadata": {},
   "source": [
    "# Text Classification (Mini Project 2)\n",
    "Team Members:\n",
    "- 1. Mao Hieng\n",
    "- 2. Vin Samdy\n",
    "- 3. Som Sokleap"
   ]
  },
  {
   "cell_type": "code",
   "execution_count": 2,
   "metadata": {},
   "outputs": [],
   "source": [
    "import numpy as np\n",
    "import re\n",
    "from sklearn.model_selection import train_test_split\n",
    "from sklearn.linear_model import LogisticRegression\n",
    "from sklearn.ensemble import RandomForestClassifier\n",
    "from sklearn.svm import SVC\n",
    "from sklearn.metrics import accuracy_score\n",
    "from sklearn.naive_bayes import MultinomialNB"
   ]
  },
  {
   "cell_type": "markdown",
   "metadata": {},
   "source": [
    "## Load data"
   ]
  },
  {
   "cell_type": "code",
   "execution_count": 3,
   "metadata": {},
   "outputs": [],
   "source": [
    "# Load files\n",
    "def load_file(file_path):\n",
    "    with open(file_path, 'r', encoding='utf-8') as f:\n",
    "        return f.readlines()"
   ]
  },
  {
   "cell_type": "code",
   "execution_count": 60,
   "metadata": {},
   "outputs": [
    {
     "name": "stdout",
     "output_type": "stream",
     "text": [
      "20000 20000\n"
     ]
    },
    {
     "data": {
      "text/plain": [
       "(['Size, Size, ans Size.\\n',\n",
       "  'Excellent quality, speedy printing, low cost\\n',\n",
       "  'Cheap, good quality, small size\\n',\n",
       "  'Attractive design, satisfying features, the backlight!\\n',\n",
       "  'Pretty much has every feature you could possibly need, great look\\n'],\n",
       " ['Image quality not as good as some other brands, cheap feel to body.\\n',\n",
       "  'nothing\\n',\n",
       "  'Black text could be better, ink runs out kind of fast\\n',\n",
       "  \"The thing won't work\\n\",\n",
       "  'Display grainy, small keypad for text messaging, poor vibrate function\\n'])"
      ]
     },
     "execution_count": 60,
     "metadata": {},
     "output_type": "execute_result"
    }
   ],
   "source": [
    "positive_reviews = load_file('positive-reviews.txt')\n",
    "negative_reviews = load_file('negative-reviews.txt')\n",
    "\n",
    "print(len(positive_reviews), len(negative_reviews))\n",
    "positive_reviews[:5], negative_reviews[:5]"
   ]
  },
  {
   "cell_type": "markdown",
   "metadata": {},
   "source": [
    "## Creating Features"
   ]
  },
  {
   "cell_type": "code",
   "execution_count": 61,
   "metadata": {},
   "outputs": [
    {
     "name": "stdout",
     "output_type": "stream",
     "text": [
      "2006 4780\n"
     ]
    }
   ],
   "source": [
    "positive_words = set(load_file('positive-words.txt'))\n",
    "negative_words = set(load_file('negative-words.txt'))\n",
    "\n",
    "print(len(positive_words), len(negative_words))"
   ]
  },
  {
   "cell_type": "code",
   "execution_count": 6,
   "metadata": {},
   "outputs": [],
   "source": [
    "def extract_features(reviews):\n",
    "    features = []\n",
    "    for i, review in enumerate(reviews):\n",
    "        review = review.lower()\n",
    "        tokens = re.findall(r'\\b\\w+\\b', review)\n",
    "\n",
    "        pos_count = sum(1 for word in tokens if word in positive_words)\n",
    "        neg_count  = sum(1 for word in tokens if word in negative_words)\n",
    "        contains_no = int('no' in tokens)\n",
    "        pronoun_count = sum(1 for word in tokens if word in ['i', 'me', 'my', 'you', 'your'])\n",
    "        contains_exclamation = int('!' in review)\n",
    "        log_length = np.log(len(tokens) + 1)\n",
    "\n",
    "        features.append([pos_count, neg_count, contains_no, pronoun_count, contains_exclamation, log_length])\n",
    "    \n",
    "    return np.array(features)"
   ]
  },
  {
   "cell_type": "markdown",
   "metadata": {},
   "source": [
    "## Preparing Data"
   ]
  },
  {
   "cell_type": "code",
   "execution_count": 7,
   "metadata": {},
   "outputs": [],
   "source": [
    "positive_labels = [1] * len(positive_reviews)\n",
    "negative_labels = [0] * len(negative_reviews)\n",
    "\n",
    "reviews = positive_reviews + negative_reviews\n",
    "labels = positive_labels + negative_labels"
   ]
  },
  {
   "cell_type": "markdown",
   "metadata": {},
   "source": [
    "## Normal Features"
   ]
  },
  {
   "cell_type": "code",
   "execution_count": 8,
   "metadata": {},
   "outputs": [
    {
     "name": "stdout",
     "output_type": "stream",
     "text": [
      "(40000, 6)\n",
      "[[0.         0.         0.         0.         0.         1.60943791]\n",
      " [0.         0.         0.         0.         0.         1.94591015]\n",
      " [0.         0.         0.         0.         0.         1.79175947]\n",
      " [0.         0.         0.         0.         1.         1.94591015]\n",
      " [0.         0.         0.         1.         0.         2.48490665]]\n"
     ]
    }
   ],
   "source": [
    "X = extract_features(reviews)\n",
    "print(X.shape)\n",
    "print(X[:5])\n",
    "X_train, X_test, y_train, y_test = train_test_split(X, labels, test_size=0.2, random_state=42)"
   ]
  },
  {
   "cell_type": "markdown",
   "metadata": {},
   "source": [
    "## Train and evaluate models"
   ]
  },
  {
   "cell_type": "code",
   "execution_count": 9,
   "metadata": {},
   "outputs": [],
   "source": [
    "import joblib\n",
    "import os\n",
    "\n",
    "def train_and_evaluate_model(model, model_name, trainset, testset):\n",
    "    model_exists = os.path.exists(f\"{model_name}.pkl\")\n",
    "    if model_exists:\n",
    "        model = joblib.load(f\"{model_name}.pkl\")\n",
    "    else:\n",
    "        model.fit(trainset, y_train)\n",
    "    \n",
    "    y_pred = model.predict(testset)\n",
    "    accuracy = accuracy_score(y_test, y_pred)\n",
    "    \n",
    "    if not model_exists:\n",
    "        joblib.dump(model, f\"{model_name}.pkl\")\n",
    "    print(f\"Accuracy of {model_name}: {accuracy:.4f}\")"
   ]
  },
  {
   "cell_type": "code",
   "execution_count": 37,
   "metadata": {},
   "outputs": [],
   "source": [
    "models = [\n",
    "    (LogisticRegression(), \"Logistic Regression Default Features\"),\n",
    "    (RandomForestClassifier(), \"Random Forest Default Features\"),\n",
    "    (MultinomialNB(), \"Naive Bayes classifier Default Features\"),\n",
    "    (SVC(), \"Support Vector Machine Default Features\")\n",
    "]"
   ]
  },
  {
   "cell_type": "code",
   "execution_count": 38,
   "metadata": {},
   "outputs": [
    {
     "name": "stdout",
     "output_type": "stream",
     "text": [
      "Accuracy of Logistic Regression Default Features: 0.5919\n",
      "Accuracy of Random Forest Default Features: 0.5952\n",
      "Accuracy of Naive Bayes classifier Default Features: 0.5715\n",
      "Accuracy of Support Vector Machine Default Features: 0.5904\n"
     ]
    }
   ],
   "source": [
    "for model, model_name in models:\n",
    "    train_and_evaluate_model(model, model_name, X_train, X_test)"
   ]
  },
  {
   "cell_type": "markdown",
   "metadata": {},
   "source": [
    "## More Features"
   ]
  },
  {
   "cell_type": "markdown",
   "metadata": {},
   "source": [
    "### Apply TF-IDF"
   ]
  },
  {
   "cell_type": "code",
   "execution_count": null,
   "metadata": {},
   "outputs": [],
   "source": [
    "tfidf_max_features = 5000"
   ]
  },
  {
   "cell_type": "code",
   "execution_count": 12,
   "metadata": {},
   "outputs": [],
   "source": [
    "from sklearn.feature_extraction.text import TfidfVectorizer\n",
    "\n",
    "tfidf_vectorizer = TfidfVectorizer(max_features=tfidf_max_features)\n",
    "tfidf_features = tfidf_vectorizer.fit_transform(reviews).toarray()"
   ]
  },
  {
   "cell_type": "code",
   "execution_count": 13,
   "metadata": {},
   "outputs": [
    {
     "name": "stdout",
     "output_type": "stream",
     "text": [
      "(40000, 5000)\n"
     ]
    }
   ],
   "source": [
    "print(tfidf_features.shape)"
   ]
  },
  {
   "cell_type": "code",
   "execution_count": 14,
   "metadata": {},
   "outputs": [
    {
     "name": "stdout",
     "output_type": "stream",
     "text": [
      "(40000, 5006)\n"
     ]
    }
   ],
   "source": [
    "X2 = np.hstack([X, tfidf_features])\n",
    "print(X2.shape)\n",
    "X2_train, X2_test, y_train, y_test = train_test_split(X2, labels, test_size=0.2, random_state=42)"
   ]
  },
  {
   "cell_type": "code",
   "execution_count": 15,
   "metadata": {},
   "outputs": [],
   "source": [
    "tfidf_models = [\n",
    "    (LogisticRegression(), \"Logistic Regression TF-IDF Features\"),\n",
    "    (RandomForestClassifier(), \"Random Forest TF-IDF Features\"),\n",
    "    (MultinomialNB(), \"Naive Bayes classifier TF-IDF Features\"),\n",
    "    # (SVC(), \"Support Vector Machine TF-IDF Features\")\n",
    "]"
   ]
  },
  {
   "cell_type": "code",
   "execution_count": 39,
   "metadata": {},
   "outputs": [
    {
     "name": "stderr",
     "output_type": "stream",
     "text": [
      "/Users/maohieng/master-degree/learn_ai/.venv/lib/python3.8/site-packages/sklearn/linear_model/_logistic.py:460: ConvergenceWarning: lbfgs failed to converge (status=1):\n",
      "STOP: TOTAL NO. of ITERATIONS REACHED LIMIT.\n",
      "\n",
      "Increase the number of iterations (max_iter) or scale the data as shown in:\n",
      "    https://scikit-learn.org/stable/modules/preprocessing.html\n",
      "Please also refer to the documentation for alternative solver options:\n",
      "    https://scikit-learn.org/stable/modules/linear_model.html#logistic-regression\n",
      "  n_iter_i = _check_optimize_result(\n"
     ]
    },
    {
     "name": "stdout",
     "output_type": "stream",
     "text": [
      "Accuracy of Logistic Regression TF-IDF Features: 0.9300\n",
      "Accuracy of Random Forest TF-IDF Features: 0.9233\n",
      "Accuracy of Naive Bayes classifier TF-IDF Features: 0.9134\n"
     ]
    }
   ],
   "source": [
    "for model, model_name in tfidf_models:\n",
    "    train_and_evaluate_model(model, model_name, X2_train, X2_test)"
   ]
  },
  {
   "cell_type": "markdown",
   "metadata": {},
   "source": [
    "### Apply PMI"
   ]
  },
  {
   "cell_type": "markdown",
   "metadata": {},
   "source": [
    "#### Compute PMI Scores"
   ]
  },
  {
   "cell_type": "code",
   "execution_count": 17,
   "metadata": {},
   "outputs": [],
   "source": [
    "from collections import Counter\n",
    "\n",
    "word_counts = Counter()\n",
    "positive_counts = Counter()\n",
    "negative_counts = Counter()\n",
    "\n",
    "for review, label in zip(reviews, labels):\n",
    "    tokens = set(re.findall(r'\\b\\w+\\b', review.lower()))\n",
    "    word_counts.update(tokens)\n",
    "    if label == 1:\n",
    "        positive_counts.update(tokens)\n",
    "    else:\n",
    "        negative_counts.update(tokens)"
   ]
  },
  {
   "cell_type": "code",
   "execution_count": 18,
   "metadata": {},
   "outputs": [],
   "source": [
    "total_words = sum(word_counts.values())\n",
    "positive_total = sum(positive_counts.values())\n",
    "negative_total = sum(negative_counts.values())"
   ]
  },
  {
   "cell_type": "code",
   "execution_count": 19,
   "metadata": {},
   "outputs": [],
   "source": [
    "vocab = tfidf_vectorizer.get_feature_names_out()"
   ]
  },
  {
   "cell_type": "code",
   "execution_count": 63,
   "metadata": {},
   "outputs": [
    {
     "name": "stdout",
     "output_type": "stream",
     "text": [
      "5000\n",
      "['00' '000' '007' '01' '02']\n"
     ]
    }
   ],
   "source": [
    "print(len(vocab))\n",
    "print(vocab[:5])"
   ]
  },
  {
   "cell_type": "code",
   "execution_count": 20,
   "metadata": {},
   "outputs": [],
   "source": [
    "pmi_scores = {}\n",
    "for word in vocab:\n",
    "    p_word = word_counts[word] / total_words\n",
    "    p_word_positive = (positive_counts[word] / positive_total) if word in positive_counts else 0\n",
    "    p_word_negative = (negative_counts[word] / negative_total) if word in negative_counts else 0\n",
    "\n",
    "    if p_word_positive > 0:\n",
    "        pmi_scores[word] = np.log2(p_word_positive / p_word)\n",
    "    elif p_word_negative > 0:\n",
    "        pmi_scores[word] = -np.log2(p_word_negative / p_word)\n",
    "    else:\n",
    "        pmi_scores[word] = 0"
   ]
  },
  {
   "cell_type": "code",
   "execution_count": 21,
   "metadata": {},
   "outputs": [
    {
     "name": "stdout",
     "output_type": "stream",
     "text": [
      "{'00': -0.357681835299667, '000': 0.9902414681206397, '007': 0.9902414681206398, '01': 0.9902414681206398, '02': 0.9902414681206398, '096': 0.9902414681206398, '10': 0.19115416204663593, '100': -0.06038460494932838, '1000': 0.575203968841796, '10ppm': 0.9902414681206398, '10x': 0.9357936840982634, '11': 0.07270362831261258, '1100': -0.009758531879360155, '11x17': 0.767849046784192, '12': -0.23215095321580803, '120': 0.5048146409503982, '1200': 0.25327587395443346, '1200x1200': 0.9902414681206397, '1200x1200dpi': 0.9902414681206398, '123': -0.009758531879360155, '128': -0.5947210326005163, '1280': -0.009758531879360155, '128m': -0.009758531879360155, '128mb': -0.009758531879360155, '12ppm': 0.9902414681206398, '12x': -0.009758531879360155, '13': 0.19669234558806606, '133': -0.009758531879360155, '13x19': 0.9902414681206398, '14': -0.17968353332167264, '1440': 0.40527896739948366, '1440x720': 0.9902414681206398, '146': -0.8171134539369643, '147': 0.6683133732332772, '148': 0.7272070622868461, '149': -0.009758531879360155, '14x': 0.9902414681206397, '15': -1.5540790481031703, '150': -0.5947210326005163, '16': -0.4836897202117726, '160': -0.009758531879360155, '1600': -0.009758531879360155, '1600x1200': 0.31216956300800214, '16m': -1.009824989333608, '16mb': -1.4545433745522562, '16x': 0.9902414681206397, '17': 0.25327587395443346, '179': -0.5947210326005163, '18': -1.009824989333608, '180': 0.40527896739948366, '1800': 0.40527896739948366, '19': 0.9902414681206398, '1900': 0.40527896739948366, '199': 0.40527896739948366, '1gb': -0.009758531879360155, '1mega': 0.9902414681206398, '1mp': -0.5947210326005163, '1st': 0.31216956300800214, '1xrtt': 0.25327587395443346, '20': -0.6377897544924025, '200': 0.21972331424340705, '2000': -1.38827015513309, '2001': -0.5947210326005163, '2003': -0.009758531879360155, '2006': -1.009824989333608, '200hrs': 0.9902414681206397, '20mb': 0.40527896739948366, '20x': 0.9902414681206398, '21': 0.99024146812064, '22': 0.9902414681206398, '2200': -0.5947210326005163, '24': 0.40527896739948366, '2400': 0.6683133732332772, '2400x1200': 0.575203968841796, '25': -0.8171134539369643, '250': 0.25327587395443346, '256': -0.5947210326005163, '26': -1.009824989333608, '27': -1.009824989333608, '270': 0.99024146812064, '29': -1.009824989333608, '299': 0.40527896739948366, '2cr5': -1.009824989333608, '2mb': -0.7467241260455665, '2mp': 0.5752039688417958, '2nd': 0.1828865460630357, '2way': 0.9902414681206397, '2x': -1.4991433726182855, '30': -0.4572175088505817, '300': 0.45972675142185987, '3000': -0.5947210326005163, '3030': -0.5947210326005163, '31': -0.5947210326005163, '3120': -1.009824989333608, '32': 0.09715667203715163, '320': -1.009824989333608, '32mb': -0.23215095321580803, '3390': -0.5947210326005163, '34': 0.9027786268703003, '340': 0.25327587395443346, '35': -1.257686045322946, '35mm': -0.042180009571737766, '39': 0.40527896739948366, '399': -1.009824989333608, '3d': -0.009758531879360155, '3g': 0.6117298448669098, '3m': -0.5947210326005163, '3megapixel': 0.9902414681206398, '3mp': 0.7975963901782439, '3rd': 0.14224456156568993, '3x': 0.7022607051566151, '40': -0.14726205562929517, '400': 0.1828865460630357, '4000': -0.009758531879360155, '400iso': -1.009824989333608, '4050': -0.009758531879360155, '40gb': -1.009824989333608, '44mb': 0.40527896739948366, '45': -1.009824989333608, '450': 0.9902414681206398, '4700': -0.009758531879360155, '480': -1.0097585318793603, '4800': 0.40527896739948366, '4mb': -3.2951607507416085, '4mp': 0.8527379443707048, '4th': -1.009824989333608, '4x': 0.9162408866768628, '4x6': 0.046824996487007324, '50': -0.009758531879359995, '500': 0.16016646956295197, '5100': 0.40527896739948366, '5160': 0.9902414681206398, '549': -1.009824989333608, '5mb': -1.0097585318793603, '5min': -1.009824989333608, '5mm': -1.009824989333608, '5mp': 0.7272070622868461, '5oz': 0.9902414681206398, '5x': 0.31216956300800214, '5x11': 0.9902414681206398, '5x7': 0.40527896739948366, '60': -0.9357579504355835, '600': 0.40527896739948366, '600x600': 0.9902414681206398, '610': -0.009758531879360155, '6100': -0.009758531879360155, '6162': -0.009758531879360155, '6190': -0.3316866267667228, '64': -0.009758531879360155, '640': 0.31216956300800214, '640x480': -1.1252357492992962, '64mb': -0.3316866267667228, '65': 0.99024146812064, '65k': 0.9902414681206397, '6610': -0.5947210326005163, '6x': 0.8038283438897585, '70': 0.40527896739948366, '700': -1.009824989333608, '7110': -0.009758531879360155, '720': 0.40527896739948366, '7210': -0.5947210326005163, '75': -1.0097585318793603, '7x': 0.9902414681206398, '80': -0.009758531879360316, '800': -0.4247960311582039, '8000': -0.009758531879360155, '800x600': -1.009824989333608, '81': -1.009824989333608, '8260': -1.1796835333216726, '8290': -1.009824989333608, '8310': -0.009758531879360155, '8390': -1.009824989333608, '850': -0.009758531879360155, '8500': -0.009758531879360155, '88': -1.009824989333608, '8900': 0.9902414681206398, '8f': 0.9902414681206398, '8m': -1.331686626766723, '8mb': -2.2449749935733916, '8meg': -0.009758531879360155, '8mg': -0.009758531879360155, '8ppm': 0.9902414681206398, '8x': 0.8971320637291584, '8x10': -0.5947210326005163, '8x10s': 0.9902414681206398, '90': -1.1796835333216726, '900': -0.009758531879359995, '911': 0.40527896739948366, '932c': -1.009824989333608, '95': -1.5947210326005163, '950': -0.3316866267667228, '96': -0.009758531879360155, '98': -1.5947210326005163, '99': 0.5752039688417958, '990': 0.40527896739948366, '995': -1.009824989333608, '999': -1.009824989333608, '9ppm': 0.9902414681206398, 'a3': -0.009758531879360155, 'a4': -0.009758531879360155, 'aa': 0.5017418069007747, 'aaa': 0.40527896739948366, 'aas': -0.3316866267667228, 'aberration': -1.009824989333608, 'abilities': 0.5048146409503982, 'ability': 0.6063264863375766, 'able': 0.42087582245050187, 'about': -0.31977986008254844, 'above': -0.19196186310010932, 'absence': -1.009824989333608, 'absolute': -0.009758531879359995, 'absolutely': -0.09222069207133325, 'abundant': 0.9902414681206397, 'abuse': 0.8382383746755896, 'abysmal': -1.009824989333608, 'ac': -2.2481632712044393, 'accept': -1.8171134539369642, 'acceptable': 0.767849046784192, 'acceptably': -0.3316866267667228, 'accepts': 0.6182726907336819, 'accesories': -0.009758531879360316, 'accesory': -1.009824989333608, 'access': 0.11223199249925013, 'accessable': -0.009758531879360155, 'accessed': -1.009824989333608, 'accessibility': 0.575203968841796, 'accessible': 0.33816477154094654, 'accessing': -1.009824989333608, 'accessories': -0.48780582868400446, 'accessorize': -1.009824989333608, 'accessory': -1.5947210326005163, 'accident': -1.009824989333608, 'accidental': -1.009824989333608, 'accidentally': -3.257686045322946, 'accidently': -1.009824989333608, 'accommodate': -0.009758531879360155, 'accomodate': -0.009758531879360155, 'according': -1.009824989333608, 'account': -0.009758531879360155, 'accu': 0.9902414681206398, 'accufeed': 0.9902414681206398, 'accuracy': 0.8907057945697253, 'accurate': 0.636604513505939, 'acess': 0.9902414681206398, 'acessories': -1.009824989333608, 'achieve': -0.5947210326005163, 'ackward': -1.009824989333608, 'acquire': -1.009824989333608, 'acquisition': -0.009758531879360155, 'acrobat': -0.009758531879360155, 'across': -1.009824989333608, 'acting': -1.009824989333608, 'action': -1.85775543843431, 'actions': -1.009824989333608, 'activate': -1.009824989333608, 'activated': 0.6634311518535313, 'activation': 0.5262943683608493, 'active': 0.45972675142185987, 'acts': -0.009758531879360155, 'actual': -1.1252357492992962, 'actually': -0.7646460340428289, 'ad': 0.40527896739948366, 'adapt': -1.009824989333608, 'adaptable': 0.9902414681206398, 'adapter': -2.4379955289130635, 'adapters': -1.009824989333608, 'adaptor': -2.5122588724085433, 'add': -0.4810642508049494, 'added': -0.5947210326005163, 'addictive': -1.009824989333608, 'adding': -1.009824989333608, 'addition': 0.40527896739948366, 'additional': -0.7322245563504512, 'addons': -0.5947210326005163, 'address': -0.042180009571737766, 'addressbook': -1.009824989333608, 'addresses': -1.8171134539369642, 'adds': -0.009758531879360155, 'adequate': 0.2797480853156245, 'adequately': 0.25327587395443346, 'adf': 0.575203968841796, 'adjust': -0.9357579504355835, 'adjustability': 0.9902414681206398, 'adjustable': 0.6276713887359315, 'adjusting': -0.5947210326005163, 'adjustment': -0.46919015051665763, 'adjustments': 0.14224456156568993, 'admit': -0.009758531879360155, 'adobe': -1.331686626766723, 'adult': -0.23215095321580803, 'advance': -0.5947210326005163, 'advanced': 0.1783138162732114, 'advantage': -0.009758531879360155, 'advertised': -0.9572911119852248, 'advertising': -1.009824989333608, 'advice': -0.009758531879360155, 'ae': 0.40527896739948366, 'aesthetic': 0.99024146812064, 'aesthetically': 0.9902414681206398, 'aesthetics': 0.767849046784192, 'af': -0.8842276497955013, 'afford': -0.3316866267667228, 'affordability': 0.9902414681206397, 'affordable': 0.9849471684511266, 'afraid': -1.009824989333608, 'after': -1.7948606470898367, 'aftermarket': -2.331686626766723, 'afterthought': -1.009824989333608, 'again': -0.9357579504355835, 'against': -1.5947210326005163, 'age': -0.17968353332167264, 'ages': -0.009758531879360155, 'agfa': -0.009758531879360155, 'aging': -0.009758531879360155, 'ago': 0.40527896739948366, 'agree': -1.009824989333608, 'agreement': -1.009824989333608, 'ahead': -0.009758531879360155, 'aim': 0.9902414681206397, 'ain': -1.009824989333608, 'air': -0.23215095321580803, 'airplane': 0.40527896739948366, 'airtime': -0.5947210326005163, 'aisles': -0.009758531879360155, 'akward': -1.009824989333608, 'alarm': -0.19196186310010932, 'alarms': 0.40527896739948366, 'albums': -1.009824989333608, 'alert': 0.2017455733143515, 'alerting': -1.009824989333608, 'alerts': -1.009824989333608, 'aligning': -0.009758531879360155, 'alignment': -1.424796031158204, 'alike': 0.40527896739948366, 'alittle': -1.009824989333608, 'alive': -1.009824989333608, 'alkaline': -3.257686045322946, 'alkalines': -2.0097585318793603, 'all': 0.16396004272139802, 'allot': -0.009758531879360155, 'allow': -1.00975853187936, 'allowed': -1.009824989333608, 'allowing': 0.9902414681206398, 'allows': 0.5943127917895006, 'alltel': -0.5947210326005163, 'almost': 0.06740932864309986, 'alone': 0.2126338894570877, 'along': -0.4247960311582039, 'alot': -1.9732326558542463, 'alpha': -1.009824989333608, 'alphabetical': -1.009824989333608, 'alphabetize': -1.009824989333608, 'alphabetized': -1.009824989333608, 'alphanumeric': -0.009758531879360155, 'already': -1.7101982500204524, 'also': -0.3164198701134123, 'alternative': 0.575203968841796, 'alternatives': 0.40527896739948366, 'although': -2.0097585318793603, 'aluminium': 0.9902414681206398, 'aluminum': 0.9902414681206397, 'always': -1.307439080520045, 'am': -1.0097585318793603, 'amateur': 0.2898017499795475, 'amateurs': 0.6683133732332772, 'amazed': 0.9902414681206398, 'amazing': 0.9661959941539888, 'amazingly': 0.9902414681206397, 'amber': 0.40527896739948366, 'amenities': -1.009824989333608, 'america': 0.99024146812064, 'american': 0.99024146812064, 'among': 0.575203968841796, 'amount': -0.13904154882432662, 'amounts': -1.0097585318793603, 'amp': 0.36532958735177634, 'ample': 0.9902414681206397, 'an': -0.17831280158825819, 'analog': -1.202403609821756, 'and': 0.4249418888398986, 'anemic': -1.009824989333608, 'angle': -0.5947210326005163, 'angled': -0.009758531879360155, 'angles': -1.009824989333608, 'animated': 0.99024146812064, 'animation': 0.575203968841796, 'animations': -1.009824989333608, 'annoyances': -1.009824989333608, 'annoying': -3.4157508915551973, 'annoyingly': -1.009824989333608, 'another': -0.5402732485781401, 'answer': -1.232150953215808, 'answering': -0.5947210326005163, 'answers': -1.009824989333608, 'antana': -0.009758531879360155, 'antena': -1.009824989333608, 'antenae': -1.009824989333608, 'antenna': -1.0615974633989784, 'antennae': -1.4691901505166576, 'antennas': -1.331686626766723, 'anti': -0.009758531879360155, 'any': -1.3266156372193008, 'anymore': -2.5947210326005163, 'anyone': 0.767849046784192, 'anything': -1.0603846049493284, 'anytime': 0.9902414681206398, 'anyway': -1.009824989333608, 'anywhere': 0.8119042268621274, 'aol': 0.8382383746755896, 'apart': -1.009824989333608, 'aperature': -1.009824989333608, 'aperture': -1.424796031158204, 'appalling': -1.009824989333608, 'apparent': -1.0097585318793603, 'apparently': -0.8171134539369643, 'appeal': 0.6683133732332772, 'appealing': 0.7272070622868461, 'appear': -1.009824989333608, 'appearance': 0.7408819991839225, 'appears': -1.5947210326005163, 'apple': 0.25327587395443346, 'applets': -0.009758531879360155, 'application': -1.5947210326005163, 'applications': 0.40527896739948366, 'apply': -1.009824989333608, 'appointment': -0.5947210326005163, 'appropriate': -1.0097585318793603, 'approx': -1.009824989333608, 'approximately': -0.009758531879360155, 'apps': -0.17968353332167264, 'arcane': -1.009824989333608, 'archival': 0.575203968841796, 'are': -1.1146276497333154, 'area': -1.0801478597707581, 'areas': -0.49518535904960176, 'aren': -1.9732326558542463, 'arent': -1.009824989333608, 'arm': -1.0097585318793603, 'army': 0.9902414681206398, 'around': 0.19377486220577173, 'arrangement': -1.8171134539369642, 'array': 0.7272070622868461, 'arrow': 0.9902414681206398, 'art': 0.575203968841796, 'artificial': -1.009824989333608, 'artistic': -1.009824989333608, 'as': -0.9497512225150831, 'asa': 0.40527896739948366, 'asia': 0.9902414681206398, 'ask': 0.575203968841796, 'asking': -1.009824989333608, 'aspect': 0.6683133732332772, 'aspects': -0.5947210326005163, 'assemble': 0.40527896739948366, 'assembly': 0.45972675142185987, 'assign': -0.009758531879359995, 'assignable': 0.99024146812064, 'assist': -1.7101982500204524, 'assistance': -0.5947210326005163, 'associated': -1.009824989333608, 'astonishing': 0.99024146812064, 'astounding': 0.9902414681206397, 'at': -0.5996702485722498, 'ate': -1.009824989333608, 'atrocious': -1.009824989333608, 'att': -1.009824989333608, 'attach': -1.8171134539369642, 'attachable': 0.40527896739948366, 'attached': -0.09722137312969967, 'attaches': 0.6683133732332772, 'attaching': -0.5947210326005163, 'attachment': -0.4083079083696352, 'attachments': 0.14224456156568993, 'attenna': -0.009758531879360155, 'attention': -0.12523574929929612, 'attitude': -1.009824989333608, 'attractive': 0.8927249622063771, 'attracts': -0.009758531879360155, 'audible': -1.009824989333608, 'audio': 0.3218629592118461, 'audiovox': -0.009758531879360155, 'auto': -0.08776104388063335, 'autofocus': -0.7467241260455663, 'automatic': 0.15530071439113607, 'automatically': -0.009758531879359995, 'automation': 0.9902414681206398, 'autonomy': -1.009824989333608, 'avail': -0.5947210326005163, 'availability': -0.7873661105429123, 'available': -0.11667373579587216, 'avaliable': -1.009824989333608, 'average': -1.1493098842781537, 'avg': -1.009824989333608, 'avi': 0.25327587395443346, 'avoid': -0.5947210326005163, 'aware': -1.5947210326005163, 'away': -0.30931881373826803, 'awesome': 0.9713824408693239, 'awful': -1.009824989333608, 'awhile': -2.916649127487879, 'awkward': -1.009824989333608, 'awkwardly': -1.009824989333608, 'awsome': 0.6683133732332772, 'babies': -0.46919015051665763, 'baby': 0.46828876492528415, 'back': -0.33168662676672256, 'backed': 0.99024146812064, 'background': -0.846259799596481, 'backgrounds': -0.23215095321580803, 'backlight': 0.3153368420866851, 'backlighting': 0.3228168072075105, 'backlit': 0.797596390178244, 'backup': 0.25327587395443346, 'backwards': -1.009824989333608, 'bad': -3.396569478351577, 'badly': -1.009824989333608, 'bag': -1.9483579872152168, 'bags': -1.009824989333608, 'balance': -0.4247960311582039, 'balanced': 0.7975963901782439, 'balancing': -0.009758531879360155, 'balky': -1.009824989333608, 'band': 0.533383793147169, 'banding': -1.0097585318793603, 'bang': 0.8792101557318956, 'bank': 0.40527896739948366, 'banner': -0.5947210326005163, 'banners': -0.3316866267667228, 'bar': 0.2312495676244348, 'bare': -1.009824989333608, 'barely': -1.009824989333608, 'bargain': 0.8203164666783274, 'barrel': -1.1252357492992962, 'bars': -1.009824989333608, 'base': -0.5947210326005163, 'based': -0.009758531879359995, 'bases': 0.40527896739948366, 'basic': 0.41094771748617565, 'basically': -0.17968353332167264, 'basics': -0.009758531879360316, 'basket': -1.8081246707097098, 'baskets': -2.0097585318793603, 'bat': -1.331686626766723, 'bateries': -0.009758531879360155, 'batery': -0.5947210326005163, 'batt': -0.14726205562929517, 'batter': -0.23215095321580803, 'batteries': -1.7485725504379352, 'batterly': -0.5947210326005163, 'battery': -0.3707335308985367, 'batterylife': -0.009758531879360155, 'batterys': -1.009824989333608, 'battrey': -0.5947210326005163, 'batts': 0.25327587395443346, 'be': -2.3687759455019424, 'beam': -1.009824989333608, 'beaming': 0.9902414681206398, 'beat': 0.45972675142185987, 'beating': 0.8382383746755896, 'beats': 0.9902414681206398, 'beautiful': 0.9823793503476694, 'beautifully': 0.99024146812064, 'beauty': 0.9902414681206397, 'because': -1.9357579504355835, 'become': -0.5947210326005163, 'becomes': -1.009824989333608, 'becoming': -1.009824989333608, 'bed': -0.2727929377131539, 'bee': -0.009758531879360155, 'been': -2.0097585318793603, 'beep': -1.009824989333608, 'beeping': -1.009824989333608, 'beeps': -1.009824989333608, 'before': -1.6978145255646202, 'beg': -1.009824989333608, 'begin': -0.5947210326005163, 'beginner': 0.575203968841796, 'beginners': 0.7007348509256549, 'beginning': -1.009824989333608, 'begins': -1.009824989333608, 'behind': -2.179683533321673, 'beige': -0.009758531879360155, 'being': -0.24679772918020962, 'believe': -1.0097585318793603, 'bells': 0.19377486220577173, 'below': -1.1796835333216726, 'belt': -1.0097585318793603, 'beltclip': 0.40527896739948366, 'bend': -1.331686626766723, 'bends': -1.009824989333608, 'benefit': -0.009758531879360155, 'benefits': -0.009758531879360155, 'bent': -1.009824989333608, 'besides': -0.5947210326005163, 'best': -0.05968375721104244, 'beta': -0.009758531879360155, 'better': -0.9930797907327297, 'bettery': 0.40527896739948366, 'between': -1.9572911119852248, 'beware': -1.009824989333608, 'beyond': -0.5947210326005163, 'bezel': -1.009824989333608, 'bi': -0.5947210326005163, 'big': -0.4088896402488435, 'bigger': -2.3743309641752166, 'biggest': -0.009758531879360155, 'biggie': -1.009824989333608, 'bill': 0.9902414681206398, 'billing': -0.009758531879360155, 'bills': 0.40527896739948366, 'bin': -0.5947210326005163, 'bit': -5.514378924282913, 'bjc': -1.5947210326005163, 'black': 0.009183031774099851, 'blacks': -2.179683533321673, 'bland': -1.009824989333608, 'blank': -1.009824989333608, 'bleed': -0.5947210326005163, 'bleeds': -1.0097585318793603, 'block': -2.331686626766723, 'blocks': -0.009758531879360155, 'blow': 0.40527896739948366, 'blue': 0.7197895907243629, 'bluetooth': 0.328586210404999, 'blur': -1.009824989333608, 'blurred': -1.009824989333608, 'blurriness': -1.009824989333608, 'blurry': -4.842648546044102, 'blurs': -1.009824989333608, 'board': 0.11577235020449872, 'body': 0.3449063494200018, 'bond': 0.575203968841796, 'bones': -1.009824989333608, 'bonus': 0.9902414681206398, 'boo': -1.009824989333608, 'book': -0.018860738986612887, 'booklet': -1.009824989333608, 'books': -0.009758531879360155, 'boot': -0.49518535904960176, 'booting': -1.009824989333608, 'border': -0.5947210326005163, 'borderless': 0.7064485021200485, 'borders': -1.009824989333608, 'boring': -2.4691901505166576, 'borrow': -1.009824989333608, 'both': 0.5153325128643975, 'bother': -1.009824989333608, 'bothersome': -1.009824989333608, 'bottle': -0.009758531879360155, 'bottom': -0.7752932782423373, 'bought': -1.4020759546581205, 'box': 0.19669234558806606, 'boxy': -1.009824989333608, 'boy': -0.5947210326005163, 'bpi': -0.009758531879360155, 'bracketing': 0.40527896739948366, 'brain': -0.009758531879360155, 'brake': -1.331686626766723, 'brakes': -3.0097585318793603, 'brand': 0.5943127917895006, 'branded': -0.009758531879360155, 'brands': -2.8171134539369644, 'break': -0.7322245563504512, 'breakable': -1.009824989333608, 'breakfast': -1.009824989333608, 'breaking': -1.331686626766723, 'breaks': -2.431222300317637, 'breed': 0.9902414681206398, 'breeze': 0.8203164666783274, 'brew': 0.9902414681206398, 'brick': -0.4247960311582039, 'bright': 0.2509508210081898, 'brighter': -1.5947210326005163, 'brightest': -1.009824989333608, 'brightness': -2.5947210326005163, 'brilliant': 0.9484212924260127, 'bring': -0.009758531879360155, 'broadband': 0.9902414681206397, 'broadcast': 0.40527896739948366, 'broke': -1.0098249893336084, 'broken': -1.916649127487879, 'brother': -1.0097585318793603, 'browser': -0.009758531879360155, 'browsing': -0.4503311232653418, 'bt': 0.40527896739948366, 'buck': 0.8833262642041279, 'bucks': -0.009758531879359995, 'bud': -1.009824989333608, 'budget': -0.009758531879359995, 'budgets': -0.5947210326005163, 'buffer': -1.331686626766723, 'buffs': -1.009824989333608, 'bug': -1.0098249893336084, 'bugger': -0.009758531879360155, 'buggy': -4.867739527006933, 'bugs': -4.21921189750831, 'build': 0.5110736314220802, 'buildings': -1.8171134539369642, 'built': 0.538034176251255, 'bulk': -1.009824989333608, 'bulkier': -1.009824989333608, 'bulky': -4.9438705962229035, 'bump': -1.009824989333608, 'bumper': 0.575203968841796, 'bundle': 0.3381647715409468, 'bundled': -0.550326913242063, 'buried': -1.009824989333608, 'burn': -0.5947210326005163, 'burns': -1.009824989333608, 'burst': 0.575203968841796, 'business': -0.06038460494932838, 'but': -1.7389746264406314, 'butt': -0.009758531879360155, 'button': -1.8462597995964807, 'buttons': -1.3354290284525392, 'buy': -1.144059623590951, 'buyer': -0.5947210326005163, 'buying': -0.7873661105429123, 'buzzing': -1.009824989333608, 'bw': 0.575203968841796, 'by': -0.6821838738508558, 'bye': -1.009824989333608, 'c80': 0.40527896739948366, 'cable': -1.7705708679999341, 'cables': 0.020615117164158505, 'calculator': 0.17081371376246052, 'calendar': 0.1277449918705747, 'calender': 0.7007348509256547, 'call': 0.14674595380063063, 'called': -1.8171134539369642, 'caller': 0.481777104873527, 'callers': -0.23215095321580803, 'calling': -0.20240360982175612, 'calls': -0.829937494294548, 'cam': 0.40527896739948344, 'camara': -0.009758531879360155, 'camcorder': 0.9902414681206397, 'came': 0.10271619737905228, 'camedia': -0.009758531879360155, 'camera': 0.3054436998196887, 'cameraphone': 0.9902414681206398, 'cameras': -0.8229900202736335, 'cams': -1.009824989333608, 'can': -0.8055156737814607, 'cancel': 0.25327587395443346, 'candid': -1.009824989333608, 'candy': -0.8842276497955013, 'cannon': -1.331686626766723, 'cannot': -3.3171870570716075, 'canon': -0.16176162532441044, 'canons': -1.009824989333608, 'canopies': -0.5947210326005163, 'canopy': -0.07687272773789701, 'cant': -2.5947210326005163, 'cap': -3.6047051211731387, 'capabilites': -0.009758531879360155, 'capabilities': 0.39832620675771646, 'capability': 0.5129196905874531, 'capable': 0.8609584511756734, 'capacity': -0.1375140790777328, 'capture': -0.41185697545070593, 'capturing': -1.009824989333608, 'car': -0.028137061194214774, 'card': -0.9897406383024027, 'cards': 0.15251289701951692, 'care': -1.4020759546581205, 'careful': -3.4020759546581205, 'cares': -1.331686626766723, 'cargo': -0.5947210326005163, 'carl': 0.9902414681206398, 'carriage': 0.6683133732332772, 'carried': -0.5947210326005163, 'carrier': -0.49518535904960176, 'carriers': -0.009758531879360155, 'carry': 0.3148636721772654, 'carrying': -1.7940298408239235, 'cars': -0.009758531879360155, 'carseat': 0.5207561848194197, 'cart': -1.0097585318793603, 'cartidges': -1.331686626766723, 'cartoon': -0.009758531879360155, 'cartrage': 0.9902414681206398, 'cartrages': -0.009758531879360155, 'cartridge': -1.385125885728183, 'cartridges': -0.9225739614449844, 'cartrige': -1.009824989333608, 'cartriges': -1.8171134539369642, 'carts': -0.28986645107209563, 'case': -1.0631079564722938, 'cases': 0.575203968841796, 'cash': -1.009824989333608, 'casing': 0.1346313774558146, 'casings': -1.009824989333608, 'casio': -1.009824989333608, 'cast': -1.8171134539369642, 'casual': -0.7101982500204524, 'catch': -1.009824989333608, 'catcher': -1.0097585318793603, 'catching': 0.8527379443707048, 'category': -1.009824989333608, 'catridges': -1.009824989333608, 'cause': -3.0972213731297, 'caused': -1.009824989333608, 'causes': -3.5333204879363733, 'causing': -1.009824989333608, 'ccd': 0.690681186261732, 'cd': 0.2126338894570877, 'cdm': 0.9902414681206398, 'cdma': 0.25327587395443346, 'cdr': -0.009758531879360155, 'cdrw': 0.9902414681206398, 'cds': 0.9902414681206398, 'cell': 0.19669234558806606, 'cellphone': 0.9902414681206397, 'cellular': 0.3528115475053479, 'center': -2.5947210326005163, 'centered': -1.009824989333608, 'centric': 0.9902414681206398, 'certain': -2.916649127487879, 'certainly': -0.009758531879360155, 'cf': -0.6124230343339752, 'challenge': -1.009824989333608, 'challenged': -0.23215095321580803, 'challenging': -1.009824989333608, 'chance': 0.575203968841796, 'changable': 0.6276713887359315, 'change': -0.3316866267667228, 'changeable': 0.9902414681206397, 'changed': -1.009824989333608, 'changes': -1.8171134539369642, 'changing': -0.009758531879359995, 'characters': -1.8171134539369642, 'chargable': -0.5947210326005163, 'charge': -0.9456281944596446, 'charged': -0.8842276497955013, 'charger': -0.8451278301065609, 'charges': 0.153740200403519, 'charging': -1.7467241260455666, 'charm': 0.99024146812064, 'chassis': 0.40527896739948366, 'cheap': 0.6568454250134061, 'cheaper': 0.5858512130413043, 'cheapest': 0.7272070622868461, 'cheaply': -3.4691901505166576, 'check': -2.179683533321673, 'checks': -0.5947210326005163, 'cheep': 0.40527896739948366, 'cheesy': -2.916649127487879, 'cheezy': -1.009824989333608, 'chew': -1.009824989333608, 'chews': -1.009824989333608, 'chic': 0.9902414681206398, 'chick': 0.9902414681206398, 'chicks': 0.9902414681206398, 'child': 0.2017455733143515, 'children': 0.4927418086498231, 'chintzy': -1.009824989333608, 'chip': -0.3316866267667228, 'chipped': -1.009824989333608, 'chipping': -1.009824989333608, 'chips': -1.009824989333608, 'chock': 0.9902414681206398, 'choice': 0.23816898156422533, 'choices': -0.33168662676672256, 'chokes': -1.009824989333608, 'choose': 0.7272070622868461, 'choppy': -1.009824989333608, 'chore': -1.009824989333608, 'chromatic': -1.009824989333608, 'chrome': -0.5947210326005163, 'chronic': -1.009824989333608, 'chubby': -1.009824989333608, 'chunky': -1.5947210326005163, 'cid': 0.9902414681206398, 'cigarette': 0.9902414681206398, 'cingular': -0.7259655658787691, 'circuit': -1.009824989333608, 'circular': -1.009824989333608, 'city': -1.331686626766723, 'claim': -0.009758531879360155, 'claimed': -1.009824989333608, 'claims': -1.009824989333608, 'clairity': 0.99024146812064, 'clam': 0.7975963901782439, 'clamshell': 0.8527379443707048, 'clarity': 0.7981936557801873, 'class': 0.2898017499795475, 'classic': 0.25327587395443346, 'classy': 0.9902414681206397, 'clean': 0.6055776178853145, 'cleaned': -1.009824989333608, 'cleaning': -2.7101982500204524, 'cleanings': -1.009824989333608, 'cleans': 0.40527896739948366, 'clear': 0.9094294225325426, 'clearer': -1.8171134539369642, 'clearing': -1.009824989333608, 'clearity': 0.575203968841796, 'clearly': 0.5048146409503982, 'clever': 0.9902414681206398, 'click': 0.33816477154094654, 'clicker': -0.009758531879360155, 'clicks': -1.009824989333608, 'client': 0.9902414681206397, 'clik': 0.99024146812064, 'clip': -1.033605273833728, 'clips': 0.47566829529088156, 'clock': -0.7376789864425594, 'clog': -1.009824989333608, 'clogged': -1.009824989333608, 'clogging': -1.009824989333608, 'clogs': -3.0097585318793603, 'clone': -1.009824989333608, 'close': -0.46639693562497697, 'closed': -2.257686045322946, 'closes': 0.99024146812064, 'closeups': -1.331686626766723, 'closing': -1.0097585318793603, 'cloth': 0.9902414681206398, 'cloudy': -0.009758531879360155, 'clumsy': -1.0098249893336084, 'clunky': -1.009824989333608, 'cluttered': -2.179683533321673, 'cmos': 0.9902414681206398, 'cmyk': -1.009824989333608, 'coated': 0.9902414681206397, 'coating': 0.9902414681206398, 'coin': 0.9902414681206398, 'cold': -2.179683533321673, 'collapse': 0.11577235020449872, 'collapses': 0.9902414681206398, 'collection': -0.009758531879360155, 'college': 0.9902414681206398, 'color': 0.5728980281096978, 'colored': 0.5427824911494183, 'colorful': 0.99024146812064, 'coloring': 0.99024146812064, 'colors': 0.49428397345822833, 'colour': 0.24021972112898712, 'coloured': 0.40527896739948366, 'colours': 0.40527896739948366, 'com': -0.009758531879360316, 'com1': -1.009824989333608, 'combi': 0.9902414681206398, 'combination': 0.8907057945697253, 'combined': -0.4247960311582039, 'combines': 0.9902414681206398, 'combo': 0.5048146409503982, 'come': -2.035293623986498, 'comes': -0.08251487431467443, 'comfort': 0.8907057945697253, 'comfortable': 0.8382383746755897, 'comfortably': 0.33816477154094654, 'comfy': 0.8297767959273936, 'coming': 0.14224456156568993, 'command': -0.08776104388063354, 'commands': 0.5048146409503982, 'comment': 0.99024146812064, 'commercial': 0.575203968841796, 'common': -0.09722137312969967, 'commonly': 0.9902414681206398, 'communicate': -1.009824989333608, 'communicating': -1.009824989333608, 'communication': 0.16016646956295197, 'communications': -0.009758531879360155, 'communicator': 0.99024146812064, 'community': 0.9902414681206398, 'compact': 0.9138753275637347, 'compactflash': 0.19187532929029025, 'compactly': 0.9902414681206397, 'compactness': 0.9902414681206397, 'companies': 0.99024146812064, 'companion': 0.9902414681206398, 'company': 0.2126338894570877, 'compaq': -0.8171134539369643, 'comparable': 0.22470672175766276, 'comparatively': 0.25327587395443346, 'compare': -0.009758531879360155, 'compared': -0.9749931137186835, 'compares': -0.009758531879360155, 'comparison': -0.8171134539369643, 'comparisons': -0.009758531879360155, 'compartment': -2.0972213731297, 'compatability': 0.5048146409503982, 'compatable': 0.31216956300800214, 'compatibility': 0.3067151329158939, 'compatible': 0.2203612514816987, 'compdirect': 0.40527896739948366, 'compensation': -0.009758531879360155, 'competent': -0.009758531879360155, 'competing': -1.009824989333608, 'competition': -0.5947210326005163, 'competitive': 0.575203968841796, 'competitor': -0.009758531879360155, 'competitors': -0.8171134539369643, 'complain': -1.009824989333608, 'complaint': -1.009824989333608, 'complaints': -1.009824989333608, 'complete': 0.47566829529088156, 'completely': -0.37232861126406847, 'completes': 0.9902414681206398, 'completing': -1.009824989333608, 'complex': -2.1390415488243266, 'complexity': -1.009824989333608, 'compliant': 0.1828865460630357, 'complicated': -3.0758477223371328, 'component': -1.009824989333608, 'components': -0.17968353332167264, 'compose': 0.99024146812064, 'composer': 0.8527379443707048, 'comprehensive': 0.40527896739948366, 'compressed': -0.3316866267667228, 'compression': -0.09722137312969967, 'compromise': -1.009824989333608, 'compromises': -1.009824989333608, 'computer': 0.04732256332790709, 'computers': -0.23215095321580823, 'con': -1.0098249893336084, 'concept': 0.7975963901782439, 'concerned': -1.009824989333608, 'concerns': -1.009824989333608, 'conditions': -1.4836897202117727, 'conference': -0.3316866267667228, 'conferencing': -0.5947210326005163, 'configuration': 0.08335087251212113, 'configurations': -0.009758531879360155, 'configure': 0.5048146409503982, 'confirm': -1.009824989333608, 'conflict': -1.009824989333608, 'conflicts': -1.009824989333608, 'confuse': -1.009824989333608, 'confused': -1.009824989333608, 'confuses': -1.009824989333608, 'confusing': -4.724004049545483, 'connect': 0.2126338894570877, 'connected': -0.3316866267667228, 'connecting': -0.009758531879360155, 'connection': -0.37696750606758883, 'connections': -0.2727929377131539, 'connectivity': 0.5752039688417958, 'connector': -0.363395486494061, 'connectors': -0.5947210326005163, 'connects': 0.5752039688417958, 'cons': -2.4503311232653417, 'conservation': 0.9902414681206398, 'consider': -1.009824989333608, 'considerable': -0.009758531879360155, 'considered': -0.009758531879360155, 'considering': -0.17968353332167264, 'consistantly': -1.009824989333608, 'consistency': -1.009824989333608, 'consistent': 0.7272070622868461, 'consistently': -1.009824989333608, 'consruction': 0.9902414681206398, 'constant': -2.5333204879363733, 'constantly': -1.009824989333608, 'constraints': -1.009824989333608, 'constructed': 0.47566829529088134, 'construction': 0.4687043475411173, 'consumable': 0.40527896739948366, 'consumables': -0.19033077752118108, 'consume': -1.009824989333608, 'consumed': -1.009824989333608, 'consumer': -1.331686626766723, 'consumers': -1.009824989333608, 'consumes': -1.009824989333608, 'consuming': -1.009824989333608, 'consumption': -2.7376789864425595, 'contact': -0.357681835299667, 'contacts': 0.153740200403519, 'contains': 0.575203968841796, 'contemporary': -0.009758531879360155, 'content': 0.5048146409503982, 'continual': -1.009824989333608, 'continually': -1.009824989333608, 'continues': -0.009758531879360155, 'continuous': -0.009758531879360316, 'continuously': -1.009824989333608, 'contoured': 0.9902414681206398, 'contract': 0.33816477154094654, 'contracts': 0.767849046784192, 'contrast': 0.22470672175766276, 'control': -0.14858623657667686, 'controllable': 0.9902414681206398, 'controlled': -1.009824989333608, 'controller': -1.009824989333608, 'controls': 0.2740344341212309, 'convenience': 0.9688678173280728, 'convenient': 0.9246531264930631, 'conventional': -0.5947210326005163, 'converged': 0.9902414681206398, 'convergence': 0.7272070622868461, 'conversation': 0.47566829529088134, 'conversations': -1.331686626766723, 'conversion': 0.575203968841796, 'convert': -1.009824989333608, 'converter': -1.8171134539369642, 'converts': 0.9902414681206397, 'convienient': 0.99024146812064, 'convient': 0.99024146812064, 'convinent': 0.9902414681206398, 'cook': -0.5947210326005163, 'cool': 0.8895474685011668, 'coolest': 0.99024146812064, 'cooliest': -0.009758531879360155, 'coolness': 0.9902414681206397, 'coolpix': -1.331686626766723, 'copier': 0.661618720659269, 'copies': 0.6096374659056698, 'copy': 0.3528115475053479, 'copying': 0.47566829529088156, 'cord': -3.0541526512378137, 'cords': 0.9902414681206398, 'cornering': 0.9902414681206398, 'corners': 0.40527896739948366, 'corporate': -0.009758531879360155, 'correct': -0.009758531879360155, 'corrected': -1.009824989333608, 'correction': -1.5947210326005163, 'correctly': -1.8171134539369642, 'corruption': -1.009824989333608, 'cost': -0.028495094460946124, 'costco': -0.009758531879360155, 'costing': -1.009824989333608, 'costlier': -1.009824989333608, 'costly': -3.378992341545079, 'costs': -0.6727235446017894, 'could': -2.762921353573368, 'couldn': -0.46919015051665763, 'couldnt': -1.009824989333608, 'count': -1.8171134539369642, 'counter': -1.331686626766723, 'counterparts': -0.009758531879360155, 'countless': -1.0097585318793603, 'countries': 0.99024146812064, 'country': -1.009824989333608, 'couple': -0.8171134539369643, 'coupled': 0.9902414681206398, 'course': -0.8171134539369643, 'cover': -1.062014769010784, 'coverage': -0.16729980886584025, 'covered': -1.009824989333608, 'covering': -1.009824989333608, 'covers': 0.4283625805125249, 'cpu': -2.8171134539369644, 'cr': -1.009824989333608, 'crack': -0.5947210326005163, 'cracker': -1.009824989333608, 'cracking': -1.009824989333608, 'cracks': -1.009824989333608, 'cradle': -0.9357579504355835, 'craftsmanship': -0.009758531879359995, 'crap': -2.0972213731297, 'crappy': -1.009824989333608, 'crapy': -1.009824989333608, 'crash': -1.009824989333608, 'crashed': -1.009824989333608, 'crashes': -3.8171134539369644, 'crazy': -3.257686045322946, 'creaks': -1.009824989333608, 'create': -0.23215095321580803, 'creates': -0.5947210326005163, 'creating': -0.009758531879360155, 'creative': 0.8833262642041279, 'creativity': 0.6683133732332772, 'credit': 0.25327587395443346, 'crippled': -1.009824989333608, 'crisp': 0.9318247818953178, 'crispy': -0.009758531879360155, 'critical': -1.009824989333608, 'crooked': -1.009824989333608, 'crookedly': -1.009824989333608, 'cross': 0.40527896739948366, 'crowd': -0.009758531879360155, 'crowds': -1.009824989333608, 'crummy': -1.009824989333608, 'crystal': 0.99024146812064, 'cumbersome': -1.009824989333608, 'cup': -0.5458114321195701, 'cupholder': -0.5947210326005163, 'cupholders': 0.7975963901782439, 'curbs': -1.009824989333608, 'curling': -1.009824989333608, 'current': -0.38827015513309016, 'currently': 0.25327587395443346, 'cursor': -0.009758531879360155, 'curve': -2.0097585318793603, 'cushioning': -1.009824989333608, 'custom': 0.30435005854870284, 'customer': -0.7860865583163398, 'customers': 0.9902414681206398, 'customisable': 0.9902414681206398, 'customizability': 0.9902414681206397, 'customizable': 0.9223374036188361, 'customization': 0.48774112759145666, 'customizations': -0.009758531879360155, 'customize': 0.7101335489279044, 'customizeable': 0.9902414681206398, 'customized': 0.7975963901782439, 'customizing': 0.9902414681206398, 'cut': -1.8171134539369642, 'cute': 0.8986109926550716, 'cuteness': 0.9902414681206398, 'cutesy': -1.009824989333608, 'cuts': -1.009824989333608, 'cutting': 0.09715667203715163, 'cybershot': 0.9902414681206398, 'cycle': -0.5947210326005163, 'cycling': -0.5947210326005163, 'daily': -0.46919015051665763, 'damage': -1.009824989333608, 'damaged': -1.009824989333608, 'damages': -1.009824989333608, 'damn': -1.009824989333608, 'dark': -1.8901769161266877, 'darker': -1.009824989333608, 'darkness': -0.009758531879360155, 'darn': 0.40527896739948366, 'data': -0.4386018306832345, 'databases': 0.40527896739948366, 'date': -1.0801478597707581, 'datebook': 0.9902414681206398, 'dated': -2.331686626766723, 'daughter': -0.009758531879360155, 'daunting': -1.009824989333608, 'day': -0.9691165473820145, 'daylight': -0.06038460494932838, 'days': -0.6536147216540851, 'daytime': 0.5308098494833424, 'dazzling': 0.99024146812064, 'dc': -1.009824989333608, 'dead': -2.5333204879363733, 'deaf': -1.009824989333608, 'deal': -0.037239268301467246, 'dealing': -1.009824989333608, 'deals': -0.7467241260455665, 'death': -1.009824989333608, 'deceiving': -1.009824989333608, 'decent': 0.9245535650533983, 'decently': 0.40527896739948366, 'deceptive': -2.331686626766723, 'decline': -1.009824989333608, 'decreased': -0.009758531879360155, 'decreases': -1.009824989333608, 'dedicated': -2.4691901505166576, 'deep': -0.23215095321580803, 'default': -3.0972213731297, 'defaults': -1.009824989333608, 'defect': -1.009824989333608, 'defective': -3.764646034042829, 'defects': -1.009824989333608, 'defined': -0.009758531879360155, 'definitely': -0.4247960311582039, 'definition': -0.3316866267667228, 'degrades': -1.009824989333608, 'degree': 0.6683133732332772, 'delay': -5.276545072574262, 'delayed': -1.009824989333608, 'delays': -1.0098249893336084, 'delete': 0.3312783859557066, 'deleting': -1.009824989333608, 'delicate': -1.009824989333608, 'delicately': -0.009758531879360155, 'delivers': 0.9902414681206398, 'delivery': -0.009758531879360155, 'dell': 0.40527896739948366, 'demand': -0.009758531879360155, 'demanding': -1.009824989333608, 'demo': -1.0097585318793603, 'demon': -0.5947210326005163, 'density': -1.009824989333608, 'dent': -0.009758531879360155, 'dented': -1.009824989333608, 'dents': -1.009824989333608, 'department': -1.009824989333608, 'dependability': 0.642318164700333, 'dependable': 0.9444377785075149, 'dependant': -1.009824989333608, 'depending': -1.1252357492992962, 'depends': -2.0097585318793603, 'depth': -1.1796835333216726, 'descent': 0.9902414681206397, 'descrip': -0.009758531879360155, 'description': -0.009758531879360155, 'design': 0.587000396305643, 'designed': -0.009758531879360316, 'designer': -0.5947210326005163, 'desirable': -0.5947210326005163, 'desired': -1.009824989333608, 'desk': -0.5122588724085434, 'deskjet': -0.3316866267667228, 'deskjets': 0.40527896739948366, 'deskspace': -0.009758531879360155, 'desktop': -0.42479603115820413, 'despite': -1.009824989333608, 'destroyed': -1.009824989333608, 'destroys': -1.5947210326005163, 'detachable': -1.0097585318793603, 'detaches': 0.40527896739948366, 'detail': 0.5881430245492941, 'detailed': -0.10929420543027471, 'details': -0.12523574929929612, 'detection': -0.009758531879360155, 'deteriorates': -1.009824989333608, 'develop': 0.575203968841796, 'developed': 0.31216956300800214, 'developing': 0.9122389561193665, 'development': 0.5048146409503982, 'device': 0.6683133732332774, 'devices': 0.09715667203715163, 'devours': -1.009824989333608, 'dial': 0.02340833205583917, 'dialed': -1.009824989333608, 'dialer': 0.9902414681206398, 'dialing': 0.4283625805125249, 'dialog': -1.009824989333608, 'dials': -1.009824989333608, 'diaper': -1.0097585318793603, 'diapers': -0.009758531879360155, 'did': -0.2635151241251434, 'didn': -2.2727929377131537, 'die': -1.009824989333608, 'died': -1.009824989333608, 'dies': -1.0098249893336084, 'difference': -1.8171134539369642, 'different': 0.3353769541693273, 'difficult': -7.086574128930192, 'difficulties': -1.009824989333608, 'difficulty': -3.653614721654085, 'dig': 0.9902414681206398, 'digi': 0.575203968841796, 'digicam': 0.5048146409503982, 'digicams': -1.009824989333608, 'digit': 0.9902414681206398, 'digita': 0.40527896739948366, 'digital': 0.28606580907210305, 'digitals': -1.232150953215808, 'dim': -2.9639548422662356, 'dime': 0.575203968841796, 'dimensions': -1.0097585318793603, 'diminishes': -1.009824989333608, 'dimly': -1.009824989333608, 'dims': -1.009824989333608, 'dinner': -0.009758531879360155, 'diopter': -1.009824989333608, 'direct': 0.32727645539821026, 'direction': -0.3316866267667228, 'directional': -1.331686626766723, 'directions': -0.6878304369919979, 'directly': 0.31216956300800214, 'directory': -0.23215095321580803, 'dirt': 0.7492333686168448, 'dirty': -2.916649127487879, 'disable': -1.009824989333608, 'disabled': -1.0098249893336084, 'disables': -1.009824989333608, 'disappeared': -1.009824989333608, 'disappears': -1.009824989333608, 'disappointed': -0.009758531879360155, 'disappointing': -1.009824989333608, 'disappointment': -1.009824989333608, 'disaster': -1.009824989333608, 'disc': 0.4338481195962544, 'disco': -0.5947210326005163, 'discomfort': -1.009824989333608, 'disconnect': -0.5947210326005163, 'disconnected': -1.009824989333608, 'disconnects': -1.8171134539369642, 'discontinued': -1.009824989333608, 'discounted': 0.40527896739948366, 'discounts': -1.009824989333608, 'discovered': -1.009824989333608, 'discovery': 0.40527896739948366, 'discreet': 0.99024146812064, 'discrete': 0.99024146812064, 'discs': 0.7272070622868461, 'disfunctional': -1.009824989333608, 'dishes': -0.5947210326005163, 'disk': 0.5784278697160821, 'diskette': 0.6117298448669098, 'diskettes': 0.7975963901782439, 'disks': 0.380187986436653, 'dismal': -1.009824989333608, 'display': 0.36997883065021747, 'displayed': -0.5947210326005163, 'displays': 0.7007348509256547, 'disposable': -0.5947210326005163, 'distance': -1.7101982500204524, 'distances': -0.5947210326005163, 'distant': -1.009824989333608, 'distinctive': 0.9902414681206398, 'distorted': -1.0098249893336084, 'distortion': -3.0972213731297, 'distortions': -1.009824989333608, 'distorts': -1.009824989333608, 'distracting': -1.009824989333608, 'distribution': -0.5947210326005163, 'dithering': -1.009824989333608, 'diverse': 0.99024146812064, 'do': -0.9512063495242475, 'doa': -1.009824989333608, 'dock': -1.0097585318793603, 'docking': -0.4020759546581204, 'document': 0.08335087251212113, 'documentation': -1.1390415488243266, 'documented': -0.3316866267667228, 'documents': 0.16711923020471908, 'dodgy': -1.009824989333608, 'does': -0.7558758244150968, 'doesn': -2.1765975534479303, 'doesnt': -1.0098249893336084, 'dog': -0.5947210326005163, 'doing': -1.4691901505166576, 'dollar': 0.40527896739948366, 'dollars': 0.25327587395443346, 'don': -1.7791456037379438, 'done': 0.09715667203715163, 'dont': -1.4691901505166576, 'door': -3.5333204879363733, 'doors': -0.4247960311582039, 'dos': -1.5947210326005163, 'dosen': -1.009824989333608, 'dot': -1.0097585318793603, 'dots': 0.40527896739948366, 'double': 0.40527896739948366, 'doubles': 0.9902414681206397, 'doubt': 0.9902414681206398, 'down': -1.3460419197437925, 'download': -0.7439470413749927, 'downloadable': 0.2215670142270954, 'downloaded': -1.009824989333608, 'downloading': -0.3507954497144273, 'downloads': -0.009758531879359995, 'downs': -1.009824989333608, 'dpi': 0.5649356333879688, 'draft': 0.1828865460630357, 'drafts': 0.99024146812064, 'drag': 0.9902414681206398, 'drain': -2.8171134539369644, 'drainage': -1.009824989333608, 'drained': -1.009824989333608, 'drainer': -1.009824989333608, 'drains': -1.009824989333608, 'dramatic': -0.009758531879360155, 'drastically': -1.009824989333608, 'drawback': -1.009824989333608, 'drawbacks': -1.009824989333608, 'drawer': -1.009824989333608, 'dream': 0.7975963901782439, 'dries': -1.5947210326005163, 'drink': -1.331686626766723, 'drinker': -1.009824989333608, 'drinks': -1.0098249893336084, 'drive': 0.537729263423133, 'driven': -0.009758531879360155, 'driver': -1.2024036098217559, 'drivers': -1.1720299607782374, 'drives': -0.009758531879359995, 'driving': 0.25327587395443346, 'drop': -0.9357579504355835, 'dropouts': -0.5947210326005163, 'dropped': -1.54581143211957, 'dropping': -0.3316866267667228, 'drops': -2.8842276497955015, 'drum': -2.0097585318793603, 'dry': -0.9166491274878789, 'drying': -0.5947210326005163, 'dsc': -0.5947210326005163, 'dual': 0.7716011816452993, 'dud': -1.009824989333608, 'due': -1.009824989333608, 'duh': -0.5947210326005163, 'dull': -1.009824989333608, 'dumb': -1.009824989333608, 'duo': 0.25327587395443346, 'duplex': 0.47566829529088134, 'duplexer': -1.0097585318793603, 'duplexing': -0.009758531879360316, 'durability': 0.3567804497082937, 'durabilty': -0.5947210326005163, 'durable': 0.8422072768785354, 'durablity': 0.9902414681206398, 'duracell': -1.009824989333608, 'during': -1.424796031158204, 'dust': -3.4020759546581205, 'dusty': -1.009824989333608, 'duty': 0.6683133732332772, 'dye': -0.009758531879360155, 'dying': -1.009824989333608, 'dynamic': 0.25327587395443346, 'e911': 0.575203968841796, 'each': -0.4247960311582039, 'ear': -1.3316866267667227, 'earbud': -1.009824989333608, 'earlier': -0.3316866267667228, 'early': -1.009824989333608, 'earpeice': -1.009824989333608, 'earphone': -1.1796835333216726, 'earphones': 0.6276713887359315, 'earpiece': -1.1092942054302748, 'ease': 0.9465935832178086, 'easier': 0.32727645539821054, 'easiest': 0.8382383746755896, 'easily': -0.8828464193971407, 'east': 0.6276713887359315, 'easy': 0.9309418516456894, 'easyshare': -0.009758531879360155, 'eat': -2.331686626766723, 'eater': -1.009824989333608, 'eating': -1.009824989333608, 'eats': -6.7845455914805335, 'ebay': 0.6683133732332772, 'echo': -1.009824989333608, 'echoing': -1.009824989333608, 'echos': -1.009824989333608, 'economic': 0.7975963901782439, 'economical': 0.9507131039340022, 'economically': 0.9902414681206398, 'economy': 0.25327587395443346, 'ect': -0.009758531879359995, 'edge': -0.07388886929907602, 'edges': -1.331686626766723, 'edit': -1.331686626766723, 'editing': 0.19377486220577173, 'editor': -1.009824989333608, 'effect': -1.0097585318793603, 'effective': 0.6799013475084892, 'effects': 0.8096692224788189, 'efficiency': 0.7272070622868461, 'efficient': 0.9215287180366256, 'effort': -0.5947210326005163, 'effortlessly': 0.99024146812064, 'eh': -1.009824989333608, 'eight': -1.009824989333608, 'either': -1.257686045322946, 'eject': -1.009824989333608, 'elaborate': -1.009824989333608, 'electric': -0.009758531879360155, 'electrical': -1.009824989333608, 'electricity': -1.009824989333608, 'electronic': -1.272792937713154, 'electronically': 0.9902414681206398, 'electronics': -0.5947210326005163, 'elegant': 0.9288409234564965, 'eliminates': 0.9902414681206398, 'elph': 0.1828865460630357, 'else': -1.6727235446017896, 'elsewhere': -0.3316866267667228, 'email': 0.44134822210700553, 'emailing': 0.9902414681206398, 'embarassing': -1.009824989333608, 'embedded': -1.0097585318793603, 'emergency': 0.9902414681206397, 'emissions': 0.99024146812064, 'empty': -1.009824989333608, 'enabled': 0.7101335489279044, 'enables': -0.009758531879360155, 'enclosed': 0.575203968841796, 'encompasses': 0.9902414681206398, 'encountered': -1.009824989333608, 'encourages': -1.009824989333608, 'end': -1.3316866267667227, 'ending': -1.009824989333608, 'endless': 0.7272070622868461, 'ends': -1.009824989333608, 'energy': 0.11577235020449872, 'engage': -1.009824989333608, 'engine': 0.9902414681206398, 'engineered': 0.9902414681206398, 'engineering': -0.3316866267667228, 'enhancement': -0.009758531879360155, 'enhancements': -0.009758531879360155, 'enhancing': 0.9902414681206398, 'enjoy': -0.009758531879359995, 'enlarged': 0.9902414681206398, 'enlargements': 0.14224456156568993, 'enormous': -0.009758531879360155, 'enough': -0.6634337826845307, 'enter': -1.009824989333608, 'entering': -0.5947210326005163, 'entertainment': 0.9902414681206398, 'enthusiast': -0.009758531879360155, 'entire': -1.331686626766723, 'entirely': -1.009824989333608, 'entries': -1.4691901505166576, 'entry': 0.5959625290085934, 'envelope': -0.1352894139632191, 'envelopes': -1.8171134539369642, 'environment': -0.23215095321580803, 'environments': -0.5947210326005163, 'envy': -0.5947210326005163, 'eos': 0.575203968841796, 'epinion': -1.0097585318793603, 'epinions': 0.40527896739948366, 'eps': -1.009824989333608, 'epson': -0.15414844121453497, 'equipment': -0.5947210326005163, 'equipped': 0.99024146812064, 'equivalent': -0.009758531879360155, 'er': 0.9902414681206398, 'era': -0.009758531879360155, 'erase': 0.1828865460630357, 'erased': -1.009824989333608, 'ergo': -0.009758531879360155, 'ergonomic': 0.2644164315596341, 'ergonomically': 0.9902414681206397, 'ergonomics': 0.2594281009360288, 'ergonomy': 0.9902414681206398, 'ericsson': -1.0097585318793603, 'erratic': -1.009824989333608, 'error': -2.5333204879363733, 'errors': -1.009824989333608, 'esp': -0.009758531879360155, 'especially': -0.09722137312969949, 'essential': -1.009824989333608, 'essentially': -0.009758531879360155, 'established': 0.9902414681206398, 'estate': -1.009824989333608, 'etc': 0.25327587395443374, 'ethernet': -0.009758531879360155, 'eudora': -1.009824989333608, 'europe': 0.7975963901782439, 'ev': -0.009758531879360155, 'evdo': 0.9902414681206397, 'even': 0.07513036570715288, 'events': -0.009758531879360155, 'eventually': -1.009824989333608, 'ever': 0.236881435703765, 'every': -0.4066486844479446, 'everybody': -1.009824989333608, 'everyday': 0.575203968841796, 'everyone': -0.6727235446017894, 'everything': 0.21851045579375694, 'everywhere': 0.7678490467841917, 'evf': -0.7101982500204524, 'evident': -1.009824989333608, 'evil': -0.5947210326005163, 'evironment': 0.9902414681206398, 'ex': -1.009824989333608, 'exactly': -0.8171134539369643, 'exceed': -0.009758531879360155, 'exceeds': 0.40527896739948366, 'excelent': 0.767849046784192, 'excellant': 0.99024146812064, 'excellent': 0.9762910447630098, 'except': -0.9272963716873874, 'exception': -0.009758531879360155, 'exceptional': 0.7364848758748566, 'exceptionally': 0.7272070622868461, 'excessive': -2.916649127487879, 'excuses': -1.009824989333608, 'execellent': 0.9902414681206398, 'executed': -0.5947210326005163, 'exellent': 0.9902414681206398, 'exercise': -0.009758531879360155, 'exif': 0.575203968841796, 'existent': -1.009824989333608, 'existing': -0.009758531879360155, 'exists': -1.009824989333608, 'exit': -1.331686626766723, 'expandability': 0.40527896739948366, 'expandable': 0.5752039688417958, 'expanded': 0.40527896739948366, 'expansion': -0.8171134539369643, 'expansive': 0.40527896739948366, 'expect': -0.5947210326005163, 'expectations': -0.5947210326005163, 'expected': -0.9639548422662357, 'expense': -1.009824989333608, 'expensive': -2.9955191650961037, 'experience': -0.7101982500204524, 'experienced': -0.009758531879360316, 'expert': -1.009824989333608, 'expertise': -0.009758531879360155, 'experts': 0.9902414681206398, 'expired': -1.009824989333608, 'explained': -1.009824989333608, 'explanation': -1.009824989333608, 'explanatory': 0.9902414681206398, 'explorer': -0.009758531879360155, 'exposed': -1.8171134539369642, 'exposure': 0.35552593220238404, 'exposures': -1.331686626766723, 'exspensive': -1.009824989333608, 'ext': 0.6683133732332772, 'extend': -1.009824989333608, 'extendable': 0.9902414681206398, 'extended': -1.1565999202086314, 'extending': 0.47566829529088134, 'extension': -1.5947210326005163, 'extensions': -1.009824989333608, 'extensive': 0.6117298448669098, 'extent': -1.009824989333608, 'exterior': 0.16711923020471908, 'external': 0.15735145395589822, 'extra': -0.605137648545855, 'extras': -0.08014785977075803, 'extreme': -0.5947210326005163, 'extremely': 0.38521334434537774, 'eye': -1.1212668470963507, 'eyepiece': -0.009758531879360155, 'eyes': -0.7467241260455665, 'ez': 0.40527896739948366, 'f1': -0.009758531879360155, 'f2': 0.99024146812064, 'fa': -1.009824989333608, 'fabric': 0.31216956300800214, 'fabrics': 0.9902414681206398, 'fabulous': 0.9902414681206397, 'face': 0.2070528571937879, 'faceplate': -0.7467241260455665, 'faceplates': 0.5087085570548892, 'faces': 0.575203968841796, 'facility': -0.5947210326005163, 'facing': 0.40527896739948366, 'fact': -0.7467241260455665, 'factor': 0.7624355505978275, 'factors': -1.009824989333608, 'factory': -1.00975853187936, 'fade': -0.009758531879359995, 'faded': -1.009824989333608, 'fades': -1.009824989333608, 'fading': -0.5947210326005163, 'fail': -0.5947210326005163, 'failed': -1.009824989333608, 'fails': -2.916649127487879, 'failure': -1.009824989333608, 'failures': -1.0097585318793603, 'fair': 0.5231154576933417, 'fairly': 0.5353395079638564, 'fall': -2.8171134539369644, 'falling': -1.5947210326005163, 'falls': -1.8171134539369642, 'false': -1.009824989333608, 'familiar': 0.6276713887359315, 'family': 0.7101335489279044, 'fan': -0.009758531879360155, 'fancy': -0.2992651490743453, 'fantastic': 0.9716257899532927, 'far': -2.08216702740741, 'fashion': 0.25327587395443346, 'fashionable': 0.575203968841796, 'fast': 0.7220846296742583, 'faster': -0.009758531879360316, 'fastest': -2.0097585318793603, 'fasttalkers': -1.009824989333608, 'fat': -1.8171134539369642, 'fault': -1.8171134539369642, 'faulty': -1.009824989333608, 'favorite': 0.40527896739948366, 'fax': 0.22470672175766276, 'faxes': 0.11577235020449872, 'faxing': 0.642318164700333, 'fd': -0.5947210326005163, 'feature': 0.5647369697907272, 'featured': 0.9396153950506716, 'featureless': -1.009824989333608, 'features': 0.7385893307233842, 'feautures': 0.40527896739948366, 'fed': -1.8171134539369642, 'fee': -0.3316866267667228, 'feed': -1.8924015812412014, 'feedback': -0.46919015051665763, 'feeder': -0.8171134539369643, 'feeding': -1.6420267473788732, 'feeds': -1.272792937713154, 'feel': 0.44275367281814637, 'feeling': -0.5947210326005163, 'feels': -0.46919015051665763, 'fees': 0.47566829529088134, 'feet': -2.0097585318793603, 'fell': -1.0097585318793603, 'few': -2.0931745400669977, 'fewer': -0.23215095321580803, 'fiddly': -1.009824989333608, 'fidelity': 0.25327587395443346, 'field': -1.7101982500204524, 'figure': -0.8171134539369643, 'figured': -1.009824989333608, 'figuring': -0.009758531879360155, 'file': -0.17968353332167264, 'files': 0.036045157733764294, 'fill': -1.009824989333608, 'filled': 0.3528115475053479, 'film': 0.5705274816323227, 'filter': -2.4691901505166576, 'filters': -0.2992651490743453, 'final': -1.009824989333608, 'finally': 0.575203968841796, 'find': -2.3944223821146857, 'finder': -0.8842276497955013, 'finding': -2.8171134539369644, 'fine': 0.5752039688417958, 'finepix': 0.40527896739948366, 'finest': 0.9902414681206398, 'finger': -1.7101982500204524, 'fingerprint': -1.009824989333608, 'fingerprints': -1.009824989333608, 'fingers': -2.0972213731297, 'fingertips': 0.99024146812064, 'finicky': -1.009824989333608, 'finish': -0.009758531879360316, 'finished': -0.3316866267667228, 'fire': -0.5947210326005163, 'firewire': -1.009824989333608, 'firmware': -0.8842276497955013, 'first': -0.20567874185461707, 'fish': -1.009824989333608, 'fisher': -0.009758531879360155, 'fit': 0.1127254746456348, 'fits': 0.797596390178244, 'fitting': 0.40527896739948366, 'five': 0.14224456156568993, 'fix': -2.331686626766723, 'fixable': -1.009824989333608, 'fixed': -2.0097585318793603, 'fixes': -1.009824989333608, 'flaky': -1.009824989333608, 'flap': -0.23215095321580803, 'flash': -1.0881648773446806, 'flashcard': -0.5947210326005163, 'flashing': 0.40527896739948366, 'flashlight': 0.6683133732332772, 'flashy': 0.6032183450113925, 'flat': -0.28986645107209563, 'flatbed': 0.5207561848194197, 'flaw': -1.009824989333608, 'flawed': -1.009824989333608, 'flawless': 0.9902414681206397, 'flawlessly': 0.9902414681206398, 'flaws': -3.916649127487879, 'flexability': 0.9902414681206398, 'flexable': 0.9902414681206398, 'flexibility': 0.7734300790474916, 'flexible': 0.9517673203060039, 'flickers': -1.009824989333608, 'flies': -0.009758531879360155, 'flight': 0.9902414681206398, 'flimsy': -4.6126429405977785, 'flip': 0.3542047828052141, 'flips': -0.4247960311582039, 'floor': -1.5947210326005163, 'floppies': 0.5752039688417958, 'floppy': 0.6985863843470783, 'floppys': -0.4247960311582039, 'flow': -1.009824989333608, 'flowers': 0.40527896739948366, 'fluctuating': -1.009824989333608, 'fly': 0.9902414681206398, 'fm': 0.6683133732332774, 'focal': -0.5947210326005163, 'focus': -1.514550683916533, 'focuses': -0.009758531879360155, 'focusing': -1.7259655658787691, 'focussing': -1.009824989333608, 'fold': 0.49274180864982287, 'folded': -0.7646460340428289, 'folder': -1.0097585318793603, 'folding': 0.2797480853156245, 'folds': 0.9598678190771212, 'folks': -1.331686626766723, 'follow': 0.2126338894570877, 'font': -1.00975853187936, 'fonts': -1.5947210326005163, 'fool': 0.9902414681206398, 'foolish': -1.009824989333608, 'foot': -0.009758531879359995, 'footprint': 0.29690280635469163, 'footrest': -0.3316866267667228, 'for': 0.042748264491459236, 'force': -1.009824989333608, 'forces': -1.009824989333608, 'foreign': -0.009758531879360155, 'forever': 0.11577235020449872, 'forget': -0.16176162532441044, 'forgets': -1.009824989333608, 'form': 0.7514546085335231, 'format': 0.30841742814689466, 'formats': 0.7975963901782439, 'formatting': -0.5947210326005163, 'fortune': -0.5947210326005163, 'forward': 0.575203968841796, 'fotos': 0.9902414681206398, 'found': -2.419149468017062, 'four': 0.48328147940075655, 'fragile': -4.343659268432798, 'frame': -0.5947210326005163, 'frames': -1.009824989333608, 'framing': -1.009824989333608, 'free': 0.5752039688417958, 'freedom': 0.9902414681206398, 'freeze': -1.0098249893336084, 'freezes': -4.79111824540402, 'freezing': -1.009824989333608, 'frequency': -1.0097585318793603, 'frequent': -4.257686045322946, 'frequently': -2.9639548422662356, 'fresh': -0.009758531879360155, 'friend': -0.009758531879360155, 'friendliness': -0.5947210326005163, 'friendly': 0.6291916154739534, 'friends': 0.40527896739948366, 'frills': -0.7752932782423373, 'fringe': 0.6276713887359315, 'fringing': -1.009824989333608, 'from': -0.24241928866963527, 'front': 0.0067295909092086005, 'froze': -1.009824989333608, 'frustrating': -1.0098249893336084, 'frustratingly': -1.009824989333608, 'frustration': -1.009824989333608, 'frustrations': -1.009824989333608, 'ft': -0.009758531879360155, 'fuji': -0.38827015513309016, 'ful': 0.9902414681206398, 'full': 0.5159230310834759, 'fully': 0.3814322254451158, 'fun': 0.9581802588883415, 'func': 0.9902414681206398, 'function': 0.13226047299306756, 'functional': 0.8647105860367807, 'functionality': 0.5881430245492943, 'functionally': 0.9902414681206398, 'functioning': -1.009824989333608, 'functions': 0.5404385506811195, 'funky': -0.14726205562929517, 'funny': -0.8171134539369643, 'further': -0.3316866267667228, 'fussy': -1.009824989333608, 'future': 0.5048146409503982, 'futuristic': 0.99024146812064, 'fuzzy': -1.009824989333608, 'g2': 0.6683133732332772, 'g3': 0.1828865460630357, 'gadget': 0.47566829529088134, 'gadgets': 0.45972675142185987, 'galore': 0.682119172758308, 'game': -0.009758531879360316, 'games': 0.08255621810431919, 'garbage': -0.5947210326005163, 'garbled': -1.009824989333608, 'gauge': -1.331686626766723, 'gave': 0.25327587395443346, 'geared': -1.009824989333608, 'gee': -0.009758531879360155, 'geek': 0.40527896739948366, 'general': -0.08014785977075803, 'generally': 0.6117298448669098, 'generation': 0.9902414681206398, 'generic': -1.0097585318793603, 'generous': 0.9902414681206397, 'get': -1.031897509148609, 'gets': -1.7036554041536804, 'getting': -1.7982544266856484, 'gimmicky': -0.5947210326005163, 'give': -0.46919015051665763, 'given': -0.23215095321580803, 'gives': 0.31216956300800214, 'gizmos': 0.40527896739948366, 'glare': -2.179683533321673, 'glass': -0.7101982500204524, 'glasses': -1.009824989333608, 'glitch': -1.009824989333608, 'glitches': -3.436023286581458, 'glitchy': -1.009824989333608, 'global': 0.99024146812064, 'gloss': -0.3316866267667228, 'glossy': 0.31216956300800214, 'go': -0.6471884524946518, 'gobbles': -1.009824989333608, 'gobs': 0.575203968841796, 'goes': -1.5222085328161488, 'going': -0.7873661105429123, 'gone': -1.009824989333608, 'good': 0.8573579740970881, 'goodies': 0.8527379443707048, 'goodlooking': 0.99024146812064, 'goofy': -1.009824989333608, 'gorgeous': 0.9902414681206397, 'got': 0.036045157733764294, 'gotta': -1.009824989333608, 'gotten': -1.009824989333608, 'gprs': 0.7078417374199146, 'gps': 0.7146070255072122, 'grab': -0.5947210326005163, 'grabs': -1.009824989333608, 'grade': -0.009758531879360155, 'graffiti': -1.009824989333608, 'graininess': -1.009824989333608, 'grainy': -1.009824989333608, 'graphic': 0.25327587395443346, 'graphical': 0.25327587395443346, 'graphics': 0.4183351202249297, 'grass': -0.5947210326005163, 'gratification': 0.9902414681206397, 'gray': -1.8171134539369642, 'grayscale': -0.5947210326005163, 'great': 0.9277609834276367, 'greater': -0.5947210326005163, 'greatest': -1.6727235446017894, 'greatly': -0.5947210326005163, 'green': -2.7101982500204524, 'greenish': -1.009824989333608, 'grey': -1.5947210326005163, 'grip': -0.07388886929907602, 'grips': 0.575203968841796, 'ground': -1.009824989333608, 'group': -0.5947210326005163, 'groups': -2.179683533321673, 'gsm': 0.13110400396048918, 'gsp': -0.5947210326005163, 'gt': -0.2192118975083101, 'guard': 0.1828865460630357, 'guess': 0.1828865460630357, 'gui': -0.5947210326005163, 'guide': -0.5947210326005163, 'gulps': -1.009824989333608, 'guy': 0.40527896739948366, 'guzzler': -1.009824989333608, 'guzzles': -1.009824989333608, 'ha': -0.5947210326005163, 'had': -1.4451446765500064, 'hair': -1.009824989333608, 'half': -1.9483579872152168, 'halfway': -1.009824989333608, 'hand': 0.1828865460630357, 'handbag': 0.9902414681206398, 'handed': -0.17968353332167264, 'handheld': 0.575203968841796, 'handle': 0.2004591755109854, 'handlebar': 0.575203968841796, 'handles': 0.45972675142185987, 'handling': 0.16016646956295197, 'hands': -0.609671374066488, 'handset': 0.14224456156568993, 'handsets': 0.40527896739948366, 'handsfree': -0.10929420543027471, 'handsome': 0.9902414681206397, 'handy': 0.9261111307009241, 'hang': -1.0098249893336084, 'hangs': -2.5947210326005163, 'happen': -1.009824989333608, 'happy': -0.46919015051665763, 'hard': -3.9565878728580226, 'harder': -1.009824989333608, 'hardly': -0.17968353332167264, 'hardware': -0.009758531879360316, 'hardy': 0.99024146812064, 'harness': 0.1828865460630357, 'has': 0.17686275843526578, 'hasn': -1.009824989333608, 'hassle': -0.7467241260455665, 'hatch': -1.009824989333608, 'hate': -2.179683533321673, 'hates': -1.0097585318793603, 'have': -1.9047423608037046, 'haven': -3.7998354625051287, 'having': -0.4386018306832345, 'head': -0.8510607858603019, 'headache': -0.5947210326005163, 'headaches': 0.40527896739948366, 'headphone': -0.9166491274878789, 'headphones': -1.1796835333216726, 'heads': -2.634249396787154, 'headset': -0.5633568616911814, 'headsets': -2.179683533321673, 'hear': -2.302540281107206, 'heard': -1.5947210326005163, 'hearing': -0.009758531879360155, 'heat': -1.0097585318793603, 'heated': -1.009824989333608, 'heats': -1.0098249893336084, 'heavier': -3.5947210326005163, 'heavy': -2.9749931137186834, 'heck': -0.009758531879360155, 'heft': 0.40527896739948366, 'hefty': -1.009824989333608, 'height': 0.11577235020449872, 'held': -0.23215095321580803, 'hell': -0.009758531879360155, 'hello': -0.5947210326005163, 'help': -0.7873661105429123, 'helpful': 0.6683133732332774, 'helps': -0.5947210326005163, 'hence': -1.009824989333608, 'here': -0.6536147216540851, 'hewlett': -0.009758531879359995, 'hey': -0.33168662676672256, 'hi': 0.46417265645305206, 'hibernation': 0.9902414681206398, 'hiccups': -1.009824989333608, 'hidden': -1.5947210326005163, 'hideous': -1.009824989333608, 'high': 0.33145454995139406, 'higher': -2.436023286581458, 'highest': -1.1252357492992962, 'highly': 0.8382383746755897, 'hinge': -1.0098249893336084, 'hinges': -1.009824989333608, 'hip': 0.1828865460630357, 'his': 0.9902414681206398, 'hissing': -1.009824989333608, 'histogram': -0.009758531879360155, 'history': -0.8171134539369643, 'hit': -1.009824989333608, 'hitch': -0.009758531879360155, 'hits': -1.009824989333608, 'hitting': -1.0097585318793603, 'hmm': 0.9902414681206398, 'hmmm': -0.23215095321580803, 'hmmmm': 0.575203968841796, 'hog': -3.8171134539369644, 'hogs': -1.009824989333608, 'hold': -0.4519808604844344, 'holder': -2.0097585318793603, 'holders': 0.25327587395443346, 'holding': -1.5947210326005163, 'holds': 0.3814322254451158, 'hole': -0.3316866267667228, 'hologram': 0.9902414681206398, 'holographic': -0.5947210326005163, 'holster': -0.9426443360208234, 'home': 0.25327587395443374, 'honda': 0.9902414681206398, 'honest': -1.009824989333608, 'honestly': -0.4247960311582039, 'honor': 0.25327587395443346, 'hoo': -1.009824989333608, 'hood': 0.11577235020449872, 'hook': 0.16016646956295197, 'hooked': -1.009824989333608, 'hooks': 0.9902414681206398, 'hookup': 0.8647105860367809, 'hookups': -1.009824989333608, 'hope': -1.0097585318793603, 'hoped': -1.009824989333608, 'hopefully': -1.009824989333608, 'horizontal': -0.3316866267667228, 'horrable': -1.009824989333608, 'horrendous': -2.179683533321673, 'horrible': -6.367310536497444, 'horribly': -1.009824989333608, 'horrid': -1.009824989333608, 'horse': 0.9902414681206397, 'hot': -0.8279202088935473, 'hotshoe': 0.7272070622868461, 'hour': -0.17968353332167264, 'hours': -1.533320487936373, 'house': -0.5947210326005163, 'housing': 0.046824996487007324, 'how': -0.44039288620922257, 'however': -2.331686626766723, 'hp': 0.15170489081475586, 'hq': -0.3316866267667228, 'hrs': -0.5947210326005163, 'huge': 0.2667591033180555, 'hundreds': 0.9902414681206397, 'hungry': -1.009824989333608, 'husband': -0.5947210326005163, 'ibm': 0.3528115475053479, 'icon': -1.009824989333608, 'icons': -0.8171134539369643, 'id': 0.5801531848135294, 'idea': 0.7837905906532133, 'ideal': 0.40527896739948366, 'idiot': 0.40527896739948366, 'if': -1.0058328286655602, 'iffy': -1.009824989333608, 'ii': 0.6683133732332772, 'iii': 0.99024146812064, 'illiterate': -0.5947210326005163, 'illogical': -1.009824989333608, 'illumination': -0.009758531879359995, 'illuminator': -0.009758531879359995, 'im': 0.6276713887359315, 'imac': -1.0097585318793603, 'imacs': -1.009824989333608, 'image': 0.5691909412111985, 'images': 0.6057060572391398, 'imagine': 0.99024146812064, 'imaging': 0.45972675142185987, 'immediate': 0.9902414681206397, 'immediately': -0.3316866267667228, 'implementation': -0.7467241260455665, 'important': -0.49518535904960176, 'importantly': 0.40527896739948366, 'impossible': -1.009824989333608, 'impress': 0.40527896739948366, 'impressed': 0.40527896739948366, 'impressive': 0.524577895771828, 'improve': -1.009824989333608, 'improved': 0.3228168072075105, 'improvement': -0.9166491274878789, 'improvements': 0.5048146409503982, 'improving': 0.40527896739948366, 'in': -0.22541724185060474, 'inability': -1.009824989333608, 'inaccessible': -1.5947210326005163, 'inaccurate': -1.009824989333608, 'inadequate': -1.009824989333608, 'inch': 0.40527896739948366, 'inches': 0.7272070622868461, 'include': -3.653614721654085, 'included': -0.8650234388983497, 'includes': 0.7272070622868461, 'including': 0.7678490467841917, 'incoming': -0.7467241260455665, 'incompatibility': -1.009824989333608, 'incompatible': -1.009824989333608, 'incomplete': -1.009824989333608, 'inconsistent': -1.009824989333608, 'inconvenience': -1.009824989333608, 'inconvenient': -1.009824989333608, 'incorrect': -1.009824989333608, 'increase': -1.0097585318793603, 'increased': -0.009758531879360155, 'incredible': 0.9507131039340022, 'incredibly': 0.7532022708197904, 'independent': 0.40527896739948366, 'indestructible': 0.575203968841796, 'index': 0.9902414681206398, 'indication': -1.009824989333608, 'indicator': -1.8171134539369642, 'indicators': -0.009758531879360155, 'indiglo': 0.8096692224788189, 'indistinguishable': -1.009824989333608, 'individual': 0.8058168969832123, 'individually': 0.40527896739948366, 'individuals': -1.009824989333608, 'indoor': -2.2424192886696352, 'indoors': -1.331686626766723, 'industrial': -0.009758531879360155, 'industry': -0.009758531879360155, 'ineffective': -1.009824989333608, 'inefficient': -1.009824989333608, 'inexpensive': 0.9792703502996366, 'inexpensively': 0.9902414681206398, 'inexperienced': -1.009824989333608, 'inexspensive': 0.9902414681206398, 'infamous': -1.009824989333608, 'infant': 0.4972014568405227, 'infants': 0.6276713887359315, 'infared': 0.9902414681206398, 'inferior': -1.009824989333608, 'inflexible': -1.009824989333608, 'info': 0.11577235020449872, 'infolithium': 0.7007348509256547, 'information': -0.28986645107209563, 'infra': 0.33816477154094654, 'infrared': 0.6326894635025562, 'infrequently': -1.009824989333608, 'inherent': -1.009824989333608, 'initial': -0.2212626370730721, 'initialization': -1.009824989333608, 'initialize': -1.009824989333608, 'initializing': -1.009824989333608, 'initially': -0.17968353332167264, 'ink': -0.8526941526023266, 'inkjet': 0.026767344145753585, 'inkjets': -1.1252357492992962, 'inks': -0.13904154882432662, 'inkwells': 0.9902414681206398, 'inner': 0.5048146409503982, 'innovative': 0.9902414681206397, 'input': -0.33168662676672256, 'insane': 0.575203968841796, 'insert': -0.5947210326005163, 'inserts': -0.5947210326005163, 'inside': -0.4427179391554664, 'install': 0.561073640006908, 'installation': 0.25327587395443374, 'installed': -0.23215095321580803, 'installing': -1.331686626766723, 'installment': -0.009758531879360155, 'installs': -0.009758531879360155, 'instant': 0.9301204756830691, 'instantaneous': -0.009758531879360155, 'instantly': 0.6276713887359315, 'instead': -1.7101982500204524, 'instruction': -2.3316866267667224, 'instructions': -0.2992651490743453, 'insufficient': -1.0098249893336084, 'insulting': -1.009824989333608, 'integrate': 0.575203968841796, 'integrated': 0.5752039688417958, 'integration': 0.45972675142185987, 'integrity': -1.0097585318793603, 'intelligent': 0.99024146812064, 'intended': 0.9902414681206398, 'intense': -1.009824989333608, 'intensive': -1.009824989333608, 'inter': 0.9902414681206398, 'interaction': 0.40527896739948366, 'interchangable': 0.7272070622868461, 'interchangeability': 0.99024146812064, 'interchangeable': 0.5572820608445336, 'interesting': 0.9902414681206398, 'interface': 0.11068795713276648, 'interfaces': 0.99024146812064, 'interference': -1.009824989333608, 'interferes': -1.009824989333608, 'intergrated': 0.9902414681206398, 'interior': 0.99024146812064, 'intermittent': -1.009824989333608, 'internal': -0.1380826288548998, 'international': -1.5947210326005163, 'internet': 0.3579732526211268, 'interpolated': -0.009758531879360155, 'intimidating': -1.0097585318793603, 'into': -0.45851664900220546, 'intuitive': 0.4227663941283246, 'inverse': -1.009824989333608, 'invest': -1.009824989333608, 'investment': -0.5947210326005163, 'involved': -0.5947210326005163, 'ion': 0.5308098494833426, 'ipod': 0.9902414681206398, 'ir': 0.5752039688417958, 'irda': 0.6276713887359315, 'irritating': -1.009824989333608, 'is': -0.9356342784933802, 'ish': -1.0097585318793603, 'isn': -2.6853235813814234, 'isnt': -1.009824989333608, 'iso': -0.3537129330967216, 'isp': 0.9902414681206398, 'issue': -1.009824989333608, 'issues': -5.469190150516658, 'it': -0.2397441025380385, 'itap': -1.8171134539369642, 'item': -0.009758531879360316, 'items': -0.5333204879363732, 'its': 0.06740932864309986, 'itself': -1.1166737357958723, 'ive': 0.40527896739948366, 'jabra': -0.009758531879360155, 'jack': -1.3316866267667227, 'jacks': -0.009758531879360155, 'jam': -0.09722137312969967, 'james': 0.9902414681206398, 'jammed': -0.009758531879359995, 'jamming': -0.7467241260455665, 'jams': -1.04843900004342, 'java': 0.46417265645305206, 'jaw': -0.009758531879360155, 'jeans': -0.009758531879360155, 'jerky': -1.009824989333608, 'jet': -0.14726205562929517, 'jets': 0.40527896739948366, 'jewel': 0.9902414681206398, 'job': 0.6451059820719519, 'jobs': -0.2442237855163835, 'joe': -1.009824989333608, 'jog': 0.1828865460630357, 'jogging': 0.575203968841796, 'joke': -1.009824989333608, 'joking': -1.009824989333608, 'joy': 0.575203968841796, 'joystick': -0.41185697545070593, 'jpeg': 0.45972675142185987, 'jpg': 0.5048146409503982, 'juice': -1.009824989333608, 'junk': -1.8171134539369642, 'junky': -1.009824989333608, 'just': -0.3418345821428054, 'keep': -1.363395486494061, 'keeping': -1.009824989333608, 'keeps': -0.42479603115820413, 'kept': -0.5947210326005163, 'kewl': 0.9902414681206398, 'key': -0.5726947262705177, 'keyboard': 0.5874822986202327, 'keyguard': -0.8171134539369643, 'keylock': -1.8171134539369642, 'keypad': -0.7234543467227191, 'keypads': -1.009824989333608, 'keypresses': -1.009824989333608, 'keys': -0.948357987215217, 'kick': -1.009824989333608, 'kicked': -1.009824989333608, 'kid': 0.40527896739948366, 'kidding': -1.009824989333608, 'kids': 0.7909326598972332, 'kill': -1.0097585318793603, 'killer': -0.8171134539369643, 'kills': -1.0098249893336084, 'kind': -2.8171134539369644, 'kinda': -2.2951607507416085, 'kinds': 0.25327587395443346, 'kinkos': -0.009758531879360155, 'kinks': -1.009824989333608, 'kit': -0.7646460340428289, 'kits': -1.009824989333608, 'klunky': -1.009824989333608, 'knife': -0.009758531879360155, 'knob': -1.009824989333608, 'knocked': -0.009758531879360155, 'know': -1.1092942054302748, 'knowledge': 0.40527896739948366, 'knowledgeable': -1.009824989333608, 'known': -1.8171134539369642, 'kodak': -0.009758531879359995, 'kyocera': -1.009824989333608, 'la': -1.009824989333608, 'lab': 0.9902414681206398, 'label': -1.009824989333608, 'labeled': -0.5947210326005163, 'labels': -0.5947210326005163, 'labor': -0.009758531879360155, 'lack': -6.564347383556997, 'lacking': -3.0972213731297, 'lackluster': -1.0098249893336084, 'lacks': -1.009824989333608, 'laden': 0.6276713887359315, 'lag': -2.0453824416100814, 'laggy': -1.009824989333608, 'lags': -1.009824989333608, 'laid': -0.3316866267667228, 'lame': -1.009824989333608, 'lamp': -1.0097585318793603, 'land': 0.7272070622868461, 'landscape': -0.009758531879359995, 'languages': -0.009758531879360155, 'lap': -1.009824989333608, 'lapse': -1.009824989333608, 'laptop': 0.575203968841796, 'laptops': 0.40527896739948366, 'large': 0.1120299485186821, 'larger': -3.282777026285776, 'largest': -0.3316866267667228, 'laser': 0.4651504233768822, 'laserjet': -0.009758531879360155, 'last': -1.2660982851391458, 'lasted': -0.33168662676672256, 'lasting': 0.8527379443707048, 'lasts': 0.8203164666783274, 'latch': -1.331686626766723, 'latches': -1.009824989333608, 'late': -0.5947210326005163, 'later': 0.1828865460630357, 'latest': -0.4247960311582039, 'laugh': -0.5947210326005163, 'layering': 0.9902414681206398, 'layout': 0.153740200403519, 'lbs': -0.3316866267667228, 'lcd': 0.0337828948139006, 'lcds': 0.99024146812064, 'lead': -1.009824989333608, 'leading': -0.8171134539369643, 'leads': -1.009824989333608, 'leaks': -1.009824989333608, 'learn': 0.06909688883187969, 'learned': -0.23215095321580803, 'learning': -1.331686626766723, 'leash': 0.40527896739948366, 'least': -0.5947210326005163, 'leather': -3.0097585318793603, 'leave': -1.331686626766723, 'leaves': -2.331686626766723, 'leaving': -1.009824989333608, 'led': 0.12774499187057442, 'leds': -1.009824989333608, 'left': -1.5947210326005163, 'leg': -0.23215095321580803, 'legal': -1.424796031158204, 'legible': 0.99024146812064, 'lemon': -0.009758531879359995, 'lemonnnnnnn': -1.009824989333608, 'length': -0.7322245563504512, 'lengthy': -1.0098249893336084, 'lens': -0.24909684526979767, 'lenscap': -1.009824989333608, 'lense': -0.05706424665771697, 'lenses': 0.10389824991620678, 'less': -0.5458114321195701, 'let': -1.232150953215808, 'lets': 0.767849046784192, 'letter': -0.8171134539369643, 'letters': -0.7467241260455665, 'level': 0.23281177139471798, 'levels': 0.11577235020449872, 'lexmark': -0.09722137312969967, 'lg': -0.5947210326005163, 'li': 0.33816477154094654, 'lid': -1.009824989333608, 'lie': -0.009758531879360155, 'life': -0.2233883533612428, 'lifespan': -1.009824989333608, 'lifestyle': 0.99024146812064, 'lifetime': 0.1828865460630357, 'lift': -0.5947210326005163, 'light': 0.5512479897373125, 'lighted': 0.7272070622868461, 'lighter': -0.14726205562929517, 'lighting': -0.6835302995583722, 'lightness': 0.40527896739948366, 'lights': 0.3579732526211268, 'lightweight': 0.977202173049482, 'lightwieght': 0.99024146812064, 'lighweight': 0.99024146812064, 'like': -0.36025577896349337, 'liked': 0.40527896739948366, 'likely': -0.8171134539369643, 'likes': -1.8171134539369642, 'lil': -1.009824989333608, 'limit': -1.009824989333608, 'limitation': -1.009824989333608, 'limitations': -1.009824989333608, 'limited': -4.469190150516657, 'limiting': -1.009824989333608, 'limits': -1.0098249893336084, 'line': -0.05415265123781368, 'lines': -0.5947210326005163, 'link': 0.5308098494833424, 'linux': -0.9166491274878789, 'list': 0.05297722346860233, 'listed': -0.23215095321580803, 'listen': -1.009824989333608, 'listening': -1.331686626766723, 'lit': 0.05164201278478323, 'lite': 0.767849046784192, 'literally': -0.5947210326005163, 'lithium': 0.5613981693167656, 'little': -2.1049157649197, 'live': -0.4247960311582039, 'lived': -1.009824989333608, 'lives': -0.5947210326005163, 'living': -1.009824989333608, 'll': -1.9483579872152168, 'load': -0.49518535904960176, 'loaded': 0.8783485880497424, 'loader': -1.009824989333608, 'loading': -1.0372392683014673, 'loads': 0.6853868865922189, 'local': -0.17968353332167264, 'locally': -1.009824989333608, 'located': -0.5947210326005163, 'location': -2.634249396787154, 'lock': -1.9303240643849555, 'locked': -1.009824989333608, 'locking': -0.4247960311582039, 'locks': -2.4691901505166576, 'lockups': -1.331686626766723, 'log': -0.46919015051665763, 'logical': 0.575203968841796, 'logo': 0.40527896739948366, 'lol': -1.009824989333608, 'long': 0.1680580773360439, 'longer': -2.2061557446828637, 'longest': 0.575203968841796, 'longevity': 0.1828865460630357, 'look': 0.6528003738619528, 'looked': 0.767849046784192, 'looking': 0.7563534079463625, 'looks': 0.8064088933152321, 'lookup': -1.009824989333608, 'loose': -2.653614721654085, 'loosen': -1.009824989333608, 'looses': -1.009824989333608, 'lose': -3.1527164857214034, 'loses': -1.0098249893336084, 'losing': -1.009824989333608, 'loss': -2.5947210326005163, 'lost': -2.282777026285776, 'lot': -0.4048213313969378, 'lots': 0.7404794193798833, 'lotsa': 0.9902414681206398, 'lotta': 0.99024146812064, 'loud': -0.7053650962845089, 'louder': -1.009824989333608, 'loudest': -1.009824989333608, 'loudly': -1.009824989333608, 'loudness': -0.5947210326005163, 'loudspeaker': 0.6683133732332772, 'lousy': -4.764646034042829, 'love': 0.7223082628740065, 'loved': 0.6683133732332772, 'lovely': 0.9902414681206397, 'loves': -1.00975853187936, 'low': -0.22802306759313162, 'lower': -0.19033077752118108, 'lowest': 0.5048146409503982, 'lt': -0.05706424665771697, 'luck': -1.009824989333608, 'luxurious': 0.9902414681206398, 'mac': 0.040282150620235026, 'machine': 0.3021854744353801, 'machines': -0.3316866267667228, 'macintosh': -0.33168662676672256, 'macro': 0.25327587395443374, 'macros': -1.0097585318793603, 'macs': -0.17968353332167264, 'mad': -1.009824989333608, 'made': 0.07116146350420698, 'mag': -1.009824989333608, 'magenta': -0.009758531879360155, 'magic': 0.9902414681206398, 'magnesium': 0.99024146812064, 'magnet': -1.331686626766723, 'magnification': 0.40527896739948366, 'magnificent': 0.99024146812064, 'mah': -1.009824989333608, 'mail': 0.5541423533139661, 'mailing': 0.40527896739948366, 'main': -0.5947210326005163, 'mainly': -1.009824989333608, 'mains': -1.009824989333608, 'maintain': 0.2898017499795475, 'maintains': -0.009758531879360155, 'maintenance': 0.32727645539821054, 'major': -2.0541526512378137, 'majority': -0.009758531879360155, 'make': -0.24791826907412476, 'maker': 0.9902414681206398, 'makes': -0.1446881119654688, 'making': -0.4020759546581204, 'malfunction': -1.5947210326005163, 'malfunctioned': -1.009824989333608, 'malfunctions': -1.009824989333608, 'mall': -1.009824989333608, 'man': 0.1828865460630357, 'manage': -0.3316866267667228, 'manageable': 0.9902414681206398, 'management': -0.16176162532441044, 'manager': 0.99024146812064, 'maneuver': 0.45972675142185987, 'maneuverability': 0.575203968841796, 'maneuverable': 0.9902414681206397, 'maneuvering': -0.009758531879360155, 'maneuvers': 0.99024146812064, 'manipulate': -0.5947210326005163, 'manipulation': 0.25327587395443346, 'manner': 0.99024146812064, 'manual': -0.34160209563180527, 'manually': -1.1252357492992962, 'manuals': -0.009758531879360155, 'manuel': -0.009758531879360155, 'manuever': 0.6683133732332772, 'manufacture': -1.009824989333608, 'manufactured': -1.009824989333608, 'manufacturer': -0.8171134539369643, 'manufacturers': -1.009824989333608, 'manufactures': -0.009758531879360155, 'manufacturing': -1.009824989333608, 'manuver': 0.9902414681206398, 'many': 0.30528317742276223, 'maps': -1.009824989333608, 'marginal': -1.0098249893336084, 'margins': -1.5947210326005163, 'mark': -1.009824989333608, 'market': 0.09212108213985341, 'marketing': -1.0097585318793603, 'markings': -1.009824989333608, 'marks': -1.009824989333608, 'mart': 0.9902414681206398, 'marvel': 0.99024146812064, 'marvelous': 0.9902414681206398, 'mass': -0.009758531879360155, 'massive': 0.40527896739948366, 'master': -2.4691901505166576, 'match': -0.3316866267667228, 'matching': 0.5048146409503982, 'material': -0.4247960311582039, 'materials': 0.575203968841796, 'matrix': 0.25327587395443346, 'matte': -0.5947210326005163, 'matter': 0.11577235020449872, 'matters': -1.009824989333608, 'mavica': -0.009758531879360155, 'mavicas': 0.9902414681206398, 'max': -2.179683533321673, 'maximum': -0.5947210326005163, 'may': -4.1493098842781535, 'maybe': -2.624468375994568, 'mb': -1.00975853187936, 'me': -0.9877322255493612, 'meager': -1.009824989333608, 'mean': -0.8842276497955013, 'meaning': -0.009758531879360155, 'means': -0.5243317047091186, 'meant': -0.009758531879360155, 'measly': -1.009824989333608, 'mechanical': -2.7101982500204524, 'mechanics': -1.009824989333608, 'mechanism': -1.1796835333216726, 'mechanisms': -1.009824989333608, 'media': 0.25663488604434825, 'mediocre': -5.075847722337133, 'mediocrity': -1.009824989333608, 'medium': 0.06824398012191295, 'meet': -0.5947210326005163, 'meets': 0.9902414681206397, 'meg': -0.37232861126406847, 'mega': 0.6117298448669098, 'megabyte': -1.009824989333608, 'megapix': 0.40527896739948366, 'megapixel': 0.6614050038910999, 'megapixels': 0.7119403056335356, 'megs': -0.009758531879360155, 'melodic': -0.009758531879360155, 'melodies': -1.009824989333608, 'melody': -0.009758531879360155, 'mem': -1.8171134539369642, 'memo': 0.5752039688417958, 'memories': -0.009758531879360155, 'memory': -0.6555881630086836, 'memorystick': -0.17968353332167264, 'memos': 0.7272070622868461, 'men': 0.9902414681206398, 'mention': 0.07270362831261258, 'mentioned': -1.009824989333608, 'mentioning': -1.5947210326005163, 'menu': -0.31749274518396847, 'menues': -1.009824989333608, 'menuing': -1.009824989333608, 'menus': -0.22275225521355882, 'meny': -0.5947210326005163, 'mere': -0.009758531879360155, 'mesh': -1.009824989333608, 'mess': -1.009824989333608, 'message': -0.7940298408239234, 'messages': -1.135289413963219, 'messaging': 0.30511480547405173, 'messed': -1.009824989333608, 'messenger': 0.9902414681206398, 'messy': -1.009824989333608, 'metal': 0.7720612980711062, 'metallic': 0.9902414681206398, 'meter': -0.8842276497955013, 'metering': 0.6492045502855728, 'method': -0.009758531879360155, 'methods': -1.009824989333608, 'metro': -1.009824989333608, 'mfc': 0.9902414681206398, 'mfg': -0.009758531879360155, 'mg': -0.5947210326005163, 'mh': 0.40527896739948366, 'mic': -0.8842276497955013, 'michigan': -1.009824989333608, 'micro': 0.11577235020449872, 'microdrive': 0.46417265645305206, 'microphone': -1.1252357492992962, 'microsd': -0.009758531879359995, 'microsoft': -1.331686626766723, 'mid': -0.17968353332167264, 'middle': -1.009824989333608, 'midi': 0.8382383746755896, 'might': -4.963954842266236, 'mile': -0.009758531879360155, 'million': -0.009758531879360155, 'min': -1.0097585318793603, 'mind': -0.6727235446017894, 'mine': -1.7467241260455666, 'mini': 0.7557762144836165, 'minibrowser': -0.009758531879360155, 'minimal': -0.5947210326005163, 'minimum': -0.5947210326005163, 'miniscule': -1.009824989333608, 'minolta': 0.40527896739948366, 'minor': -4.313539280056463, 'mins': -0.5947210326005163, 'minute': 0.40527896739948366, 'minutes': -1.331686626766723, 'mirror': -0.5947210326005163, 'mis': -1.009824989333608, 'misaligned': -1.009824989333608, 'misfeed': -0.5947210326005163, 'misfeeds': -1.009824989333608, 'misleading': -1.009824989333608, 'misplace': -1.009824989333608, 'miss': -2.5947210326005163, 'missed': -1.009824989333608, 'misses': -1.009824989333608, 'missing': -1.009824989333608, 'mistake': -1.009824989333608, 'mistakes': -1.009824989333608, 'mix': -0.5947210326005163, 'mixed': -1.0097585318793603, 'mjpeg': -0.009758531879360155, 'mm': -0.3316866267667228, 'mmc': 0.6683133732332772, 'mms': 0.1828865460630357, 'mobile': 0.3005815887327903, 'mode': 0.05618677994449262, 'model': -0.9895806499417302, 'models': -0.8171134539369643, 'modem': 0.11577235020449872, 'moderate': -0.7752932782423373, 'moderately': -0.20240360982175612, 'modern': 0.6032183450113925, 'modes': 0.5752039688417958, 'modest': -0.3316866267667228, 'modification': 0.40527896739948366, 'modify': 0.99024146812064, 'modular': 0.9902414681206398, 'module': -0.3316866267667228, 'moisture': -1.009824989333608, 'moment': -0.8171134539369643, 'moments': -1.009824989333608, 'money': 0.5779183535388317, 'monitor': 0.40527896739948344, 'monitoring': -0.009758531879360155, 'monitors': -0.009758531879360155, 'mono': -0.009758531879360155, 'monochrome': -1.331686626766723, 'monophonic': -1.009824989333608, 'monster': -1.331686626766723, 'month': -0.9483579872152168, 'monthly': 0.8527379443707048, 'months': -2.3316866267667224, 'mood': 0.9902414681206398, 'moon': -1.0097585318793603, 'more': -0.5440949595305484, 'most': -0.08570738511265882, 'mostly': -0.3316866267667228, 'mother': -0.5947210326005163, 'motion': -0.37232861126406847, 'moto': -0.009758531879360155, 'motor': -1.0097585318793603, 'motorola': -0.21139239304901078, 'mount': -1.4691901505166576, 'mounted': -1.009824989333608, 'mouse': -1.009824989333608, 'mouth': -0.5947210326005163, 'move': -0.46919015051665763, 'moveable': 0.5048146409503982, 'moved': -1.009824989333608, 'movement': -1.009824989333608, 'moves': -1.8171134539369642, 'movie': 0.35976430814711496, 'movies': 0.39789943703388614, 'moving': -1.4691901505166576, 'mp': 0.4906704586301282, 'mp3': 0.4785279494301223, 'mp3s': 0.45972675142185987, 'mpeg': 0.5496688767346585, 'mpegs': 0.6683133732332772, 'mpg': -0.5947210326005163, 'mpix': 0.99024146812064, 'mpixel': -0.009758531879360155, 'mpixels': 0.99024146812064, 'ms': 0.1828865460630357, 'msging': 0.9902414681206398, 'msgs': -0.009758531879360155, 'msrp': -1.009824989333608, 'much': -0.9540490992930728, 'muddy': -1.009824989333608, 'muffled': -1.009824989333608, 'multi': 0.5821567294835628, 'multiband': 0.9902414681206398, 'multicolored': 0.9902414681206398, 'multifunction': 0.9902414681206397, 'multifunctional': 0.9902414681206397, 'multifunctionality': 0.9902414681206398, 'multimedia': -0.009758531879360316, 'multimediacard': 0.9902414681206398, 'multipage': -1.009824989333608, 'multiple': 0.6507550018489726, 'multitasking': -0.009758531879360155, 'multitude': 0.9902414681206398, 'mushy': -1.009824989333608, 'music': 0.46667951206362684, 'musical': -0.009758531879360155, 'must': -3.1973855350551315, 'mute': -1.009824989333608, 'muted': -0.009758531879360155, 'mvc': -0.009758531879360155, 'mx': -0.009758531879360155, 'my': -0.2569762322503793, 'na': -1.009824989333608, 'nail': -1.009824989333608, 'name': 0.5454566254477439, 'names': -0.8171134539369643, 'narrow': -0.17968353332167264, 'nasty': -1.009824989333608, 'national': 0.9902414681206398, 'nationwide': 0.9902414681206398, 'natural': 0.5048146409503982, 'navagation': 0.6683133732332772, 'navi': 0.1828865460630357, 'navigable': 0.575203968841796, 'navigate': 0.3463852783459152, 'navigating': -1.0097585318793603, 'navigation': -0.07750313851519451, 'navigational': -1.009824989333608, 'navigations': -0.009758531879360155, 'navigator': -0.009758531879360155, 'naviroller': 0.9902414681206398, 'near': 0.16711923020471908, 'nearly': -0.42479603115820413, 'neat': 0.9902414681206397, 'nec': -1.0097585318793603, 'necessarily': -0.5947210326005163, 'necessary': -0.6618352284590534, 'neck': -2.179683533321673, 'need': -0.9366950696896369, 'needed': -0.2727929377131541, 'needing': -0.009758531879360155, 'needs': -2.5947210326005163, 'negative': -2.179683533321673, 'negatives': -0.009758531879360155, 'neither': -1.009824989333608, 'neon': 0.99024146812064, 'net': 0.33816477154094654, 'network': -1.1252357492992962, 'networkable': -0.3316866267667228, 'networked': 0.40527896739948366, 'networking': 0.25327587395443346, 'networks': -0.009758531879360316, 'neutered': -1.009824989333608, 'never': -0.15785717086849418, 'new': -0.4042903757235627, 'newborn': 0.7975963901782439, 'newborns': 0.25327587395443346, 'newer': -2.5122588724085433, 'newest': -1.0097585318793603, 'next': -0.14726205562929517, 'nextel': -0.2727929377131539, 'nextels': -0.009758531879360155, 'ni': -0.009758531879360155, 'nice': 0.9482997050473313, 'nicely': 0.9396153950506716, 'nickel': -1.009824989333608, 'nickle': -0.009758531879360155, 'nifty': 0.6683133732332772, 'niggling': -1.009824989333608, 'night': -0.5726947262705177, 'nightmare': -1.009824989333608, 'nightshot': 0.9902414681206398, 'nighttime': -1.009824989333608, 'nikkor': 0.9902414681206398, 'nikon': 0.39077939770436854, 'nimh': -0.5333204879363732, 'nit': -1.009824989333608, 'no': -2.3011578289665158, 'noise': -0.9691165473820142, 'noises': -2.0097585318793603, 'noisey': -1.009824989333608, 'noisier': -1.009824989333608, 'noisy': -5.441604318844758, 'nokia': -0.0352936239864978, 'nokias': -1.0097585318793603, 'non': -1.533320487936373, 'none': -2.5709100713294477, 'nonexistent': -1.009824989333608, 'nonsense': 0.9902414681206398, 'nonstandard': -1.009824989333608, 'noone': -1.009824989333608, 'nope': -1.009824989333608, 'norm': -0.009758531879360155, 'normal': -0.17022320407260638, 'nose': -1.009824989333608, 'noseprints': -1.009824989333608, 'not': -2.570020591972192, 'notch': 0.6683133732332772, 'note': -0.3316866267667228, 'noted': -1.009824989333608, 'notes': 0.40527896739948366, 'nothing': -1.578042291453886, 'notice': -1.0097585318793603, 'noticeable': -1.009824989333608, 'noticeably': -0.009758531879360155, 'noticed': -2.0097585318793603, 'notification': -1.009824989333608, 'notify': -1.009824989333608, 'novelty': -0.8171134539369643, 'novice': 0.40527896739948366, 'novices': -0.009758531879360155, 'now': -0.14726205562929517, 'nowadays': -0.009758531879360155, 'nowhere': -1.009824989333608, 'nozzle': -0.3316866267667228, 'nozzles': -1.009824989333608, 'np': -0.5947210326005163, 'nt': -1.009824989333608, 'ntsc': 0.40527896739948366, 'nub': -1.009824989333608, 'num': -1.009824989333608, 'number': -0.4861965758223472, 'numbering': -1.009824989333608, 'numbers': -0.5122588724085434, 'numeric': -1.0097585318793603, 'numerous': 0.3312783859557066, 'obex': -1.009824989333608, 'obeymoto': -0.009758531879360155, 'objects': -1.009824989333608, 'obscure': -1.009824989333608, 'obsessed': -1.009824989333608, 'obsolescence': -1.009824989333608, 'obsolete': -1.009824989333608, 'obtain': -0.009758531879360155, 'obtained': 0.9902414681206398, 'obtrusive': -1.009824989333608, 'obvious': -0.009758531879360155, 'obviously': -0.3316866267667228, 'occasion': -1.009824989333608, 'occasional': -2.9793848828358414, 'occasionally': -1.009824989333608, 'occassionally': -1.009824989333608, 'occurs': -1.009824989333608, 'ocean': -1.009824989333608, 'ocr': -1.009824989333608, 'odd': -1.009824989333608, 'oddly': -1.009824989333608, 'oem': -0.5947210326005163, 'of': 0.21733949643082745, 'off': -2.3213446825452637, 'offer': -0.009758531879359995, 'offered': 0.1828865460630357, 'offers': 0.6492045502855728, 'office': 0.524577895771828, 'officejet': -0.009758531879360155, 'offices': -0.009758531879360155, 'official': -1.009824989333608, 'offline': -1.009824989333608, 'offs': -1.009824989333608, 'offset': -1.009824989333608, 'often': -3.1995830907593774, 'oh': -0.3316866267667228, 'ok': 0.1828865460630357, 'okay': 0.346385278345915, 'old': -1.1796835333216726, 'older': -0.12523574929929648, 'olympus': 0.25327587395443346, 'on': -0.634857158074764, 'onboard': -0.009758531879359995, 'once': -0.5291326909729395, 'one': 0.10166275078906263, 'ones': -0.8577554384343101, 'ong': 0.9902414681206398, 'online': -0.4836897202117726, 'only': -2.927065743433217, 'ons': -0.17968353332167264, 'onto': -0.4247960311582039, 'op': -0.009758531879360155, 'open': -0.6771831927924895, 'opened': -0.5947210326005163, 'opening': -0.46919015051665763, 'opens': 0.14224456156568993, 'openwave': 0.9902414681206398, 'operate': 0.6770835828610094, 'operated': 0.25327587395443346, 'operates': 0.575203968841796, 'operating': -0.38827015513309016, 'operation': 0.5675503962983609, 'operational': -0.009758531879360155, 'operations': -0.5947210326005163, 'opinion': -1.331686626766723, 'opposed': -1.009824989333608, 'optical': -0.04570522828575167, 'optics': 0.8990935800624444, 'optimal': -1.5947210326005163, 'optimized': 0.40527896739948366, 'option': -0.22607643880612377, 'optional': -0.7016362365170282, 'options': 0.5615290319447194, 'or': -0.7157364335618822, 'orange': -1.009824989333608, 'order': -2.179683533321673, 'ordered': -1.009824989333608, 'ordinary': -0.5947210326005163, 'organization': -1.009824989333608, 'organized': 0.99024146812064, 'organizer': 0.6032183450113925, 'oriented': -0.009758531879360155, 'original': -1.1472620556292952, 'os': -0.4083079083696352, 'osx': 0.1828865460630357, 'other': -1.0372392683014673, 'others': -0.7049039503509393, 'otherwise': -1.5947210326005163, 'ouch': -1.009824989333608, 'ounces': 0.9902414681206398, 'our': -0.4503311232653418, 'out': -1.0123509764958845, 'outcome': 0.9902414681206398, 'outdated': -1.0098249893336084, 'outdoor': 0.40527896739948344, 'outdoors': -0.4503311232653418, 'outer': 0.6117298448669098, 'outgoing': -0.009758531879360155, 'outgrown': -1.009824989333608, 'outlet': -1.009824989333608, 'outlook': 0.869947234402928, 'output': 0.6995153284177976, 'outputs': 0.99024146812064, 'outrageous': -1.009824989333608, 'outrageously': -1.009824989333608, 'outs': 0.40527896739948366, 'outside': -0.20477451428450322, 'outstanding': 0.9574515330029705, 'outweigh': -0.009758531879360155, 'outweighs': 0.9902414681206398, 'over': -0.42095396486380987, 'overall': 0.5427824911494183, 'overexposed': -1.009824989333608, 'overexposes': -1.009824989333608, 'overexposure': -1.009824989333608, 'overheating': -1.009824989333608, 'overheats': -1.009824989333608, 'overkill': -2.0097585318793603, 'overly': -1.009824989333608, 'overpriced': -1.009824989333608, 'overrated': -1.009824989333608, 'override': -0.009758531879360155, 'overrides': 0.99024146812064, 'oversize': 0.9902414681206398, 'oversized': -1.331686626766723, 'overwhelmed': -1.009824989333608, 'overwhelming': -1.009824989333608, 'own': -0.7467241260455665, 'owned': -0.4247960311582039, 'owner': -0.8171134539369643, 'owners': -0.17968353332167264, 'ownership': -0.009758531879359995, 'oz': -0.009758531879360155, 'p1000': -1.009824989333608, 'pack': -0.4503311232653418, 'package': 0.5933513155520553, 'packaged': -1.4691901505166576, 'packages': -0.5947210326005163, 'packaging': -0.009758531879360155, 'packard': -0.009758531879359995, 'packed': 0.930535221996372, 'pad': -0.4878058286840047, 'padded': 0.6276713887359315, 'padding': 0.40527896739948366, 'pads': 0.9902414681206398, 'page': -0.9102228583284456, 'pager': 0.7272070622868461, 'pages': -0.4878058286840047, 'paging': 0.7272070622868461, 'paid': -0.4247960311582039, 'pain': -1.009824989333608, 'painful': -1.009824989333608, 'painfully': -1.009824989333608, 'paint': -2.179683533321673, 'pal': -1.009824989333608, 'pale': -1.009824989333608, 'palm': 0.5385454982629477, 'palmos': 0.9902414681206398, 'palms': 0.40527896739948366, 'palmv': 0.9902414681206398, 'panel': -0.4792438151805804, 'panorama': 0.575203968841796, 'panoramic': 0.767849046784192, 'pants': -0.009758531879360155, 'paper': -0.7604272998666717, 'papers': -0.009758531879360316, 'paperweight': 0.6683133732332772, 'par': -2.764646034042829, 'parallel': 0.06424204956441645, 'parent': 0.33816477154094654, 'parents': 0.5048146409503982, 'parking': -1.009824989333608, 'parks': 0.9902414681206398, 'part': -0.5947210326005163, 'partially': -1.009824989333608, 'particular': -0.5947210326005163, 'particularly': -0.5947210326005163, 'parts': -0.7597802788710128, 'party': -0.08776104388063354, 'password': -0.5947210326005163, 'past': -1.5947210326005163, 'patchy': -1.009824989333608, 'path': 0.575203968841796, 'pathetic': -1.8171134539369642, 'paths': 0.9902414681206398, 'patience': -1.009824989333608, 'patient': -0.009758531879360155, 'patterns': -0.009758531879359995, 'pause': -1.009824989333608, 'pauses': -1.009824989333608, 'pay': -1.3052144154055316, 'paying': -0.5947210326005163, 'pc': 0.20174557331435178, 'pcs': -0.8171134539369643, 'pda': 0.8127032825684523, 'pdc': -0.009758531879360155, 'pdf': -1.009824989333608, 'peg': 0.40527896739948366, 'penny': -1.0097585318793603, 'pentax': 0.9902414681206398, 'people': -0.5098321350140033, 'per': -0.5207204511567395, 'perego': 0.7272070622868461, 'perfect': 0.6402989970636808, 'perfection': -0.009758531879360155, 'perfectly': 0.31216956300800214, 'perform': -0.4247960311582039, 'performance': 0.3459004203205519, 'performer': 0.9902414681206398, 'performing': 0.9902414681206398, 'performs': 0.8203164666783274, 'perfrect': 0.99024146812064, 'perhaps': -1.009824989333608, 'period': -0.009758531879359995, 'periodic': -1.009824989333608, 'periodically': -0.009758531879360155, 'periods': -0.5947210326005163, 'peripherals': -1.331686626766723, 'permanent': 0.40527896739948366, 'person': -1.0097585318793603, 'personal': 0.31216956300800214, 'personalization': 0.40527896739948366, 'personalize': 0.25327587395443346, 'personalized': 0.9902414681206397, 'personnel': -0.009758531879360155, 'petite': 0.9902414681206398, 'phases': -0.009758531879360155, 'phenominal': 0.9902414681206398, 'philosophy': -0.009758531879360155, 'phone': 0.23958713354268812, 'phonebook': 0.08100693204382227, 'phones': -1.7605299255705966, 'photo': 0.5007134247372088, 'photocopier': -0.009758531879360155, 'photocopy': -0.009758531879360155, 'photodeluxe': -0.5947210326005163, 'photograph': -0.3316866267667228, 'photographer': 0.40527896739948366, 'photographers': -0.3316866267667228, 'photographic': 0.8203164666783274, 'photographing': -1.009824989333608, 'photographs': 0.8382383746755897, 'photography': 0.3188642155820105, 'photomax': -1.009824989333608, 'photoprint': -0.009758531879360155, 'photos': 0.5758859329485095, 'photoshop': -1.5947210326005163, 'physical': -0.16176162532441044, 'physically': 0.575203968841796, 'pic': 0.3246605071911989, 'pick': -0.12523574929929612, 'picked': -0.009758531879360155, 'picking': -1.009824989333608, 'picks': 0.25327587395443346, 'pickup': -1.009824989333608, 'picky': -1.009824989333608, 'pics': 0.4255785290100143, 'pict': 0.9902414681206398, 'picts': -0.009758531879360155, 'picture': 0.4787683174272487, 'pictures': 0.6071836736555831, 'piece': -0.23215095321580803, 'pieces': 0.40527896739948366, 'pilot': 0.9902414681206398, 'pim': 0.727207062286846, 'pin': -0.009758531879360155, 'ping': -0.009758531879360155, 'pink': 0.99024146812064, 'pitiful': -1.009824989333608, 'pivoting': 0.9902414681206398, 'pix': 0.37357010767214544, 'pixals': -1.009824989333608, 'pixel': 0.5496688767346583, 'pixels': -0.14726205562929517, 'pixles': 0.40527896739948366, 'pkg': 0.9902414681206398, 'place': -1.9483579872152168, 'placed': -2.8171134539369644, 'placement': -2.4020759546581205, 'places': -0.12523574929929612, 'plain': -0.5947210326005166, 'plam': 0.9902414681206398, 'plan': 0.036045157733764294, 'planned': -1.009824989333608, 'planner': 0.9902414681206398, 'planning': -1.009824989333608, 'plans': 0.08335087251212113, 'plastic': -2.9325906713569, 'plasticky': -1.009824989333608, 'plastics': -1.009824989333608, 'plasticy': -1.009824989333608, 'plate': -0.009758531879360316, 'plates': 0.32727645539821054, 'platform': 0.575203968841796, 'play': 0.33312918164364824, 'playback': 0.25327587395443346, 'player': 0.6387690976192619, 'playing': -1.009824989333608, 'plays': 0.99024146812064, 'pleasant': 0.9902414681206398, 'please': -0.9166491274878789, 'pleasing': 0.9902414681206397, 'pleasure': 0.9902414681206398, 'plentiful': 0.9902414681206398, 'plenty': 0.8267427358377605, 'plethora': 0.9902414681206397, 'plug': -1.0877610438806335, 'plugged': -1.009824989333608, 'plus': 0.6083708327769952, 'plush': 0.6683133732332772, 'pneumatic': 0.9902414681206398, 'pocket': 0.40052543742884905, 'pocketability': -0.009758531879360155, 'pocketable': 0.8382383746755896, 'pockets': 0.25327587395443346, 'pod': -1.009824989333608, 'point': 0.4992551156084973, 'pointless': -1.009824989333608, 'pointnshoot': 0.9902414681206398, 'points': -0.5947210326005163, 'polaroid': -0.38827015513309016, 'policies': -1.009824989333608, 'policy': -1.0097585318793603, 'poly': 0.575203968841796, 'polyphonic': 0.5979240453418796, 'polyphonics': 0.9902414681206398, 'pong': -0.009758531879360155, 'poor': -6.234449336752565, 'poorer': -1.009824989333608, 'poorly': -1.009824989333608, 'pop': -0.4836897202117726, 'pop3': 0.9902414681206398, 'popcorn': -1.009824989333608, 'pops': -1.009824989333608, 'popular': 0.31216956300800214, 'popularity': -0.5947210326005163, 'port': -0.5297655907597465, 'portability': 0.9902414681206395, 'portable': 0.9488215407406589, 'portion': 0.575203968841796, 'portrait': -1.331686626766723, 'portraits': -1.0097585318793603, 'ports': 0.09715667203715163, 'position': -1.0686522209329288, 'positioned': -1.009824989333608, 'positioning': -1.0097585318793603, 'positions': -0.46919015051665763, 'positive': 0.9902414681206398, 'possibilities': 0.40527896739948366, 'possibility': -1.009824989333608, 'possible': -2.653614721654085, 'possibly': -2.0097585318793603, 'posters': 0.9902414681206398, 'postscript': -0.46919015051665763, 'potential': -0.8842276497955013, 'potentially': -1.009824989333608, 'pouch': -1.009824989333608, 'pounds': -0.009758531879360155, 'power': -1.5103288453101438, 'powered': -1.1252357492992962, 'powerful': 0.575203968841796, 'powerfull': 0.40527896739948366, 'powerhouse': 0.9902414681206398, 'powering': -1.0097585318793603, 'powers': -1.331686626766723, 'powershot': -0.009758531879360155, 'ppm': 0.5207561848194197, 'practical': 0.5163102797882274, 'practically': -1.5947210326005163, 'practice': -2.4691901505166576, 'practices': -1.009824989333608, 'pre': -0.12523574929929612, 'precise': 0.9902414681206397, 'precision': 0.99024146812064, 'predecessors': -0.009758531879360155, 'predictive': 0.7007348509256547, 'prefer': -0.8171134539369643, 'premium': 0.40527896739948366, 'prepaid': 0.575203968841796, 'prepared': -1.009824989333608, 'presence': -0.009758531879360155, 'present': -1.009824989333608, 'presentation': 0.40527896739948366, 'preset': 0.25327587395443346, 'presets': -0.009758531879360155, 'press': -2.5122588724085433, 'pressed': -1.009824989333608, 'presses': -1.009824989333608, 'pressing': -1.009824989333608, 'pretty': 0.45972675142185987, 'prevent': -1.009824989333608, 'preview': 0.06424204956441676, 'previewing': -0.009758531879360155, 'previews': 0.25327587395443346, 'previous': 0.7492333686168448, 'previously': -0.009758531879360155, 'price': 0.6148435975127992, 'priced': 0.5395800591110745, 'prices': -0.4792438151805804, 'pricetag': -0.5947210326005163, 'pricey': -7.154416774711243, 'pricier': -1.009824989333608, 'pricing': -0.23215095321580803, 'pricy': -1.009824989333608, 'primitive': -1.009824989333608, 'print': 0.4500172821647679, 'printable': 0.575203968841796, 'printed': -0.5572463271818536, 'printer': 0.2591083192565883, 'printers': -1.647188452494652, 'printhead': -1.009824989333608, 'printheads': -1.0097585318793603, 'printing': 0.39156068615170336, 'printings': 0.40527896739948366, 'printout': 0.1828865460630357, 'printouts': 0.6782974618058997, 'prints': 0.652913279939532, 'prior': -1.009824989333608, 'priority': 0.25327587395443346, 'privacy': 0.9902414681206398, 'private': 0.9902414681206398, 'pro': 0.6514395546688813, 'probable': -0.009758531879360155, 'probably': -1.2827770262857763, 'problem': -2.5677539850002473, 'problematic': -1.009824989333608, 'problems': -2.8748289517932517, 'procedure': -1.009824989333608, 'procedures': -1.009824989333608, 'process': -0.8842276497955013, 'processing': -0.9572911119852248, 'processor': -3.0097585318793603, 'produce': -0.17968353332167264, 'produced': -0.3316866267667228, 'produces': 0.7451289702841083, 'product': 0.06740932864309986, 'production': -0.8842276497955013, 'productive': 0.9902414681206398, 'products': -0.009758531879360316, 'professional': 0.48934323218795817, 'professionals': -0.8171134539369643, 'profile': 0.575203968841796, 'profiles': 0.5427824911494183, 'program': -0.23215095321580803, 'programing': -0.8171134539369643, 'programmability': -1.009824989333608, 'programmable': 0.1828865460630357, 'programming': -0.4247960311582039, 'programs': -0.21139239304901078, 'progress': -1.0097585318793603, 'prohibitive': -1.009824989333608, 'project': 0.40527896739948366, 'projects': 0.11577235020449872, 'prolonged': -1.009824989333608, 'promised': -2.7101982500204524, 'promising': 0.9902414681206398, 'prompts': -1.0097585318793603, 'prone': -1.0098249893336084, 'proof': 0.8203164666783274, 'proper': -1.331686626766723, 'properly': -1.3789923415450793, 'properties': -0.009758531879360155, 'proprietary': -3.4908852216159763, 'proprietry': -1.009824989333608, 'pros': 0.5881430245492941, 'protect': -1.009824989333608, 'protected': 0.45972675142185987, 'protection': -1.00975853187936, 'protective': -1.7101982500204524, 'protector': -1.009824989333608, 'protects': 0.99024146812064, 'proud': 0.9902414681206398, 'proven': -0.009758531879360155, 'provide': -2.0097585318793603, 'provided': -1.6727235446017894, 'provider': -0.009758531879360155, 'providers': -1.0097585318793603, 'provides': 0.40527896739948366, 'provision': -1.009824989333608, 'ps': -0.5947210326005163, 'ptt': 0.9902414681206397, 'public': -0.009758531879360155, 'publication': 0.9902414681206398, 'pull': 0.06424204956441645, 'pulling': -1.009824989333608, 'pulls': -1.0097585318793603, 'puny': -0.009758531879360155, 'purchase': -0.44039288620922257, 'purchased': -2.0097585318793603, 'purchases': -1.009824989333608, 'purchasing': -1.009824989333608, 'pure': -0.009758531879360155, 'purple': -1.8171134539369642, 'purpose': 0.7272070622868461, 'purposes': 0.575203968841796, 'purse': 0.575203968841796, 'push': -0.46347649932226376, 'pushed': -1.4691901505166576, 'pushes': 0.9902414681206398, 'pushing': -3.257686045322946, 'put': -0.4878058286840047, 'puts': 0.99024146812064, 'putting': -2.179683533321673, 'qaulity': -0.009758531879360155, 'quad': 0.99024146812064, 'quaility': 0.9902414681206398, 'quailty': 0.9902414681206398, 'qualcomm': 0.9902414681206398, 'qualities': 0.9902414681206397, 'quality': 0.6623264244259007, 'quantity': -0.3316866267667228, 'questionable': -1.009824989333608, 'questions': -0.5947210326005163, 'quick': 0.7219893530158267, 'quicker': -0.009758531879360155, 'quickly': -1.6962590590625786, 'quicktime': 0.40527896739948366, 'quiet': 0.8230670776943623, 'quieter': 0.40527896739948366, 'quietly': 0.9902414681206398, 'quietness': 0.575203968841796, 'quility': 0.40527896739948366, 'quirks': -1.009824989333608, 'quirky': -1.009824989333608, 'quit': -1.009824989333608, 'quite': -0.2992651490743453, 'quits': -1.009824989333608, 'quot': -0.12523574929929596, 'quoted': -1.009824989333608, 'qwerty': 0.9313477790670713, 'radiation': -0.9357579504355835, 'radio': 0.8203164666783274, 'radius': 0.99024146812064, 'rain': 0.642318164700333, 'ram': -1.0097585318793603, 'ran': -1.009824989333608, 'random': -1.0098249893336084, 'randomly': -1.0098249893336084, 'range': 0.09876592489880877, 'ranges': -0.009758531879360155, 'rapid': -0.009758531879359995, 'rapidly': -1.8171134539369642, 'rare': -1.1796835333216726, 'rarely': -0.14726205562929517, 'rate': -1.3316866267667227, 'rated': -0.3316866267667228, 'rates': -0.5947210326005163, 'rather': -2.2898664510720956, 'rating': -0.17968353332167264, 'ratio': 0.9122389561193665, 'rattle': -1.009824989333608, 'rattles': -1.009824989333608, 'raw': -0.16729980886584025, 'razor': 0.9902414681206397, 'razr': 0.5048146409503982, 'rca': 0.9902414681206397, 're': -1.1672998088658402, 'reach': -1.5947210326005163, 'reaction': -1.009824989333608, 'reactivity': -1.009824989333608, 'read': -0.24241928866963527, 'readable': 0.9902414681206397, 'reader': 0.09212108213985341, 'readers': 0.40527896739948366, 'readily': 0.25327587395443346, 'reading': -2.331686626766723, 'readout': -1.009824989333608, 'reads': -0.009758531879360155, 'ready': 0.5558386439748647, 'readylink': -1.009824989333608, 'real': -0.04146739160669844, 'realiability': -0.009758531879360155, 'realistic': 0.5048146409503982, 'reality': -1.0097585318793603, 'really': -0.6513045609668838, 'rear': -1.00975853187936, 'reason': -2.916649127487879, 'reasonable': 0.936302661009836, 'reasonably': 0.9902414681206398, 'rebate': 0.6032183450113925, 'rebates': 0.5048146409503982, 'reboot': -1.009824989333608, 'rebooting': -1.009824989333608, 'reboots': -1.009824989333608, 'recall': -1.009824989333608, 'receive': 0.40527896739948366, 'received': -2.0097585318793603, 'receiver': -1.0097585318793603, 'receives': 0.40527896739948366, 'receiving': -0.5947210326005163, 'recent': -1.009824989333608, 'receptacle': -1.009824989333608, 'reception': 0.2768044094506744, 'recessed': -0.009758531879360155, 'rechargable': -0.3146131134077811, 'rechargables': -1.009824989333608, 'recharge': -1.5122588724085433, 'rechargeable': -0.16866212723042062, 'rechargeables': -2.5947210326005163, 'recharger': -1.1252357492992962, 'recharges': -1.331686626766723, 'recharging': -1.4691901505166576, 'recieve': -1.009824989333608, 'recline': -0.7016362365170282, 'reclined': -1.009824989333608, 'reclines': 0.7886076069509892, 'reclining': 0.5496688767346583, 'recognition': 0.5048146409503982, 'recognize': -1.009824989333608, 'recognizing': -0.5947210326005163, 'recommend': -1.1252357492992962, 'recommended': -0.4247960311582039, 'record': -0.05706424665771697, 'recorded': -1.009824989333608, 'recorder': 0.7975963901782439, 'recording': 0.346385278345915, 'records': 0.9077793079286668, 'recovery': -1.5122588724085433, 'recurring': -0.009758531879360155, 'recycle': -0.2727929377131539, 'red': -1.6420267473788732, 'reddish': -1.009824989333608, 'redeeming': 0.99024146812064, 'redeye': -2.179683533321673, 'redial': -1.331686626766723, 'redialing': -1.009824989333608, 'reds': -1.009824989333608, 'reduce': 0.5048146409503982, 'reduced': -1.0097585318793603, 'reduction': -0.42479603115820413, 'refer': -0.3316866267667228, 'reference': -1.009824989333608, 'refill': -0.6536147216540851, 'refillable': 0.31216956300800214, 'refilled': -0.009758531879360155, 'refilling': -0.5947210326005163, 'refills': -1.6878304369919979, 'reflective': -0.009758531879360155, 'refresh': -0.009758531879360155, 'refund': -1.009824989333608, 'refurbished': -1.331686626766723, 'refuses': -1.009824989333608, 'regarding': -1.009824989333608, 'regardless': -0.009758531879360155, 'regular': -0.20240360982175593, 'regularly': -1.0098249893336084, 'related': -1.009824989333608, 'relative': -0.2727929377131539, 'relatively': 0.612767381798279, 'release': -1.6727235446017894, 'released': -1.009824989333608, 'reliability': 0.1258965674782059, 'reliabilty': -1.009824989333608, 'reliable': 0.8238383046212527, 'reliablity': 0.9902414681206398, 'reliably': 0.40527896739948366, 'reload': -1.0097585318793603, 'remaining': -0.3316866267667228, 'remains': -0.009758531879360155, 'remarkable': 0.9902414681206398, 'remarkably': 0.40527896739948366, 'remedied': -1.009824989333608, 'remember': -1.009824989333608, 'remind': -0.009758531879360155, 'reminder': -1.009824989333608, 'reminders': 0.1828865460630357, 'reminds': -0.009758531879360155, 'remote': 0.4283625805125249, 'remotely': 0.9902414681206398, 'removable': 0.03331019001252559, 'removal': -0.8171134539369643, 'remove': -1.0098249893336084, 'removeable': -0.009758531879360155, 'removed': -1.009824989333608, 'rendering': 0.575203968841796, 'rendition': 0.7007348509256547, 'rep': -0.5947210326005163, 'repair': -3.257686045322946, 'repaired': -1.009824989333608, 'repairs': -1.009824989333608, 'repeat': -1.009824989333608, 'repeated': -0.009758531879360155, 'repeatedly': -1.009824989333608, 'repeating': 0.9902414681206398, 'replacable': -1.009824989333608, 'replace': -1.424796031158204, 'replaceable': 0.8971320637291584, 'replaced': -1.533320487936373, 'replacement': -1.0296580893170653, 'replacements': -1.0098249893336084, 'replaces': 0.99024146812064, 'replacing': -1.5947210326005163, 'replication': 0.9902414681206398, 'report': -1.009824989333608, 'reported': -1.009824989333608, 'reports': -0.3316866267667228, 'representation': -0.5947210326005163, 'repro': -0.009758531879360155, 'reproduction': 0.6276713887359315, 'reputable': 0.9902414681206398, 'reputation': 0.845851558785465, 'require': -1.424796031158204, 'required': -0.8842276497955016, 'requirement': -1.009824989333608, 'requirements': -0.009758531879360155, 'requires': -4.179683533321673, 'requiring': -1.0097585318793603, 'res': -0.009758531879360155, 'resale': 0.99024146812064, 'research': -0.009758531879360155, 'resemble': -0.009758531879360155, 'reserves': -0.009758531879360155, 'reset': -1.009824989333608, 'resets': -1.009824989333608, 'resilient': -0.009758531879360155, 'resist': 0.9902414681206398, 'resistance': -0.009758531879360155, 'resistant': 0.5048146409503982, 'resolution': 0.4408423118590685, 'resolutions': 0.45972675142185987, 'resource': -1.009824989333608, 'resources': -1.009824989333608, 'respect': -0.009758531879360155, 'respectable': 0.99024146812064, 'respond': -0.009758531879360155, 'responding': -1.009824989333608, 'response': -1.2424192886696352, 'responsibility': -0.5947210326005163, 'responsive': 0.575203968841796, 'rest': -1.0098249893336084, 'restart': -1.009824989333608, 'restricted': -1.009824989333608, 'restrictions': -1.009824989333608, 'rests': -1.009824989333608, 'result': 0.575203968841796, 'results': 0.40527896739948344, 'ret': 0.40527896739948366, 'retail': -1.009824989333608, 'retainer': -1.009824989333608, 'retains': 0.40527896739948366, 'retention': 0.9902414681206398, 'retract': -1.009824989333608, 'retracted': -1.009824989333608, 'retracting': -1.009824989333608, 'retraction': -1.009824989333608, 'retrieve': -1.009824989333608, 'retro': 0.40527896739948366, 'return': -1.5947210326005163, 'returned': -0.5947210326005163, 'reverse': -0.009758531879360155, 'reversible': 0.8203164666783274, 'reverts': -1.009824989333608, 'review': -0.6829482156122517, 'reviewing': -0.5947210326005163, 'reviews': -0.009758531879360155, 'revisions': -1.009824989333608, 'revolutionary': 0.40527896739948366, 'rez': 0.9902414681206398, 'rf': 0.690681186261732, 'ribbon': -1.009824989333608, 'rich': 0.9371301316610774, 'rid': -0.009758531879360155, 'ride': 0.8715969716220208, 'rider': -1.009824989333608, 'rides': 0.6683133732332772, 'ridiculous': -1.0098249893336084, 'ridiculously': -1.009824989333608, 'right': 0.2759959504545173, 'rigid': 0.40527896739948366, 'ring': -0.35306027755928965, 'ringer': -0.8810252177571571, 'ringers': -0.20477451428450322, 'ringing': -0.4836897202117726, 'rings': 0.05164201278478323, 'ringtone': -0.08776104388063354, 'ringtones': 0.015116136759669023, 'rip': -1.009824989333608, 'rivals': 0.40527896739948366, 'road': -1.5947210326005163, 'roam': -1.009824989333608, 'roaming': -0.23215095321580803, 'roams': -1.009824989333608, 'robust': 0.7886076069509892, 'rock': 0.9902414681206397, 'rocker': -1.009824989333608, 'rocks': 0.9902414681206397, 'rogers': -1.009824989333608, 'roll': 0.1828865460630357, 'rolled': 0.99024146812064, 'roller': 0.767849046784192, 'rollers': -1.009824989333608, 'rolls': 0.99024146812064, 'rom': -1.331686626766723, 'room': -0.13174905625797073, 'rooms': -1.331686626766723, 'roomy': 0.8833262642041279, 'rotate': -0.009758531879360155, 'rotating': 0.5752039688417958, 'rotten': -1.009824989333608, 'rough': -0.6878304369919979, 'round': 0.9902414681206397, 'rounded': 0.575203968841796, 'rounds': -0.009758531879360155, 'routine': -1.0097585318793603, 'row': -0.009758531879360155, 'rubber': -0.550326913242063, 'rubberized': 0.7272070622868461, 'rude': -1.009824989333608, 'rugged': 0.8950842350802996, 'ruggedness': 0.9902414681206397, 'ruin': -1.009824989333608, 'ruins': -1.009824989333608, 'rule': -1.009824989333608, 'run': -1.0097585318793603, 'running': -1.3316866267667227, 'runs': -2.0247088733453316, 'rural': -0.23215095321580803, 'rushed': -1.009824989333608, 'rw': 0.99024146812064, 's100': -0.3316866267667228, 's110': -0.009758531879360155, 's200': -0.009758531879360155, 'sad': -1.009824989333608, 'safe': 0.8382383746755896, 'safety': 0.8527379443707048, 'said': -1.331686626766723, 'sale': 0.1828865460630357, 'sales': -1.5947210326005163, 'same': -0.8924015812412015, 'samll': 0.9902414681206398, 'sample': 0.9902414681206398, 'samsung': -0.9166491274878789, 'sandisk': -1.009824989333608, 'sanyo': -0.009758531879360155, 'sar': -0.009758531879360155, 'satisfaction': 0.40527896739948366, 'satisfactory': -0.009758531879360155, 'satisfy': 0.575203968841796, 'saturated': 0.99024146812064, 'saturation': -0.009758531879360316, 'save': -0.4458576466860339, 'saved': -0.009758531879359995, 'saver': 0.7272070622868461, 'savers': -0.009758531879360155, 'saves': 0.7492333686168448, 'saving': 0.8203164666783274, 'savings': 0.40527896739948366, 'saw': -1.009824989333608, 'say': -0.13904154882432662, 'says': -2.0097585318793603, 'scale': -0.009758531879360155, 'scam': -1.009824989333608, 'scan': 0.05437180554035535, 'scanned': -1.009824989333608, 'scanner': 0.18596593899500752, 'scanners': -1.009824989333608, 'scanning': 0.012961544620723298, 'scans': 0.3579732526211268, 'scarce': -1.009824989333608, 'scares': -1.009824989333608, 'scary': -0.009758531879360155, 'scene': 0.40527896739948366, 'scenes': 0.99024146812064, 'scheduler': -0.17968353332167264, 'scheme': -1.009824989333608, 'school': -0.009758531879360155, 'score': -0.009758531879360155, 'scp': -1.009824989333608, 'scrapes': -1.009824989333608, 'scratch': -1.0097585318793603, 'scratched': -1.009824989333608, 'scratches': -3.842648546044102, 'scratching': -0.5947210326005163, 'scratchy': -1.009824989333608, 'scree': -0.009758531879360155, 'screen': 0.38460343048418455, 'screening': 0.6683133732332772, 'screens': 0.4283625805125249, 'screensaver': -0.5947210326005163, 'screensavers': 0.14224456156568993, 'screw': -0.5947210326005163, 'screws': -1.009824989333608, 'screwy': -1.009824989333608, 'scripting': 0.9902414681206398, 'scroll': -0.2727929377131539, 'scrolling': -1.0097585318793603, 'sd': -0.6727235446017894, 'seamless': -0.3316866267667228, 'search': 0.40527896739948366, 'searching': -1.0097585318793603, 'seat': -0.061288832519442386, 'seatbelt': -1.009824989333608, 'seating': 0.6683133732332772, 'seats': 0.682119172758308, 'sec': -0.5947210326005163, 'second': -0.4810642508049494, 'seconds': -2.1390415488243266, 'secs': -1.009824989333608, 'secure': -0.8842276497955013, 'security': -1.0097585318793603, 'see': -0.9527685532945305, 'seeing': -0.5947210326005163, 'seem': -2.0972213731297, 'seemed': -0.009758531879360155, 'seemingly': -0.009758531879359995, 'seems': -0.9675302964900631, 'seen': -0.06038460494932838, 'seldom': 0.575203968841796, 'select': -1.00975853187936, 'selectable': 0.99024146812064, 'selected': -0.009758531879360155, 'selecting': 0.9902414681206398, 'selection': -0.1352894139632191, 'selections': 0.1828865460630357, 'selectivity': 0.40527896739948366, 'selector': -1.5947210326005163, 'self': 0.29509604964906067, 'sell': -1.009824989333608, 'sells': -1.009824989333608, 'semi': -0.009758531879360316, 'send': -0.04723323729802322, 'sending': 0.14224456156568993, 'sensative': -1.009824989333608, 'sensitive': -4.21921189750831, 'sensitivity': -0.17968353332167264, 'sensor': 0.2126338894570877, 'sensors': -0.009758531879360155, 'sent': -2.331686626766723, 'separate': 0.5477232324196888, 'separately': -2.8677395270069326, 'seperate': 0.25327587395443346, 'seperately': -1.009824989333608, 'sepia': 0.575203968841796, 'seprately': -1.009824989333608, 'sequence': -0.5947210326005163, 'serial': -2.4157508915551973, 'series': 0.25327587395443346, 'serious': -1.257686045322946, 'seriously': -1.009824989333608, 'serve': 0.9902414681206398, 'server': -1.331686626766723, 'serves': 0.9902414681206398, 'service': -0.5115455497532752, 'services': -0.4247960311582039, 'session': -0.009758531879360155, 'set': 0.6077718312982265, 'sets': 0.6683133732332772, 'setting': -0.9357579504355835, 'settings': -0.2012899895110476, 'setup': 0.6704844722749045, 'seven': -0.009758531879360155, 'several': 0.026767344145753585, 'severe': -1.009824989333608, 'sexy': 0.9009741300235525, 'shade': -1.009824989333608, 'shades': -0.5947210326005163, 'shadow': -1.009824989333608, 'shake': -1.8171134539369642, 'shakes': -1.0098249893336084, 'shaking': -1.009824989333608, 'shaky': -1.009824989333608, 'shall': -1.009824989333608, 'shallow': -1.009824989333608, 'shame': -1.009824989333608, 'shape': -0.23215095321580803, 'shaped': 0.40527896739948366, 'share': -0.009758531879360155, 'shared': -1.009824989333608, 'sharing': 0.575203968841796, 'sharp': 0.8719785865008199, 'sharper': -0.5947210326005163, 'sharpest': -1.0097585318793603, 'sharpness': 0.5207561848194197, 'sheet': -0.839833530437048, 'sheets': -1.0098249893336084, 'shelf': -0.009758531879360155, 'shell': 0.6117298448669098, 'shield': -0.009758531879360155, 'shift': -1.009824989333608, 'shifts': -1.009824989333608, 'shiny': 0.575203968841796, 'ship': -1.009824989333608, 'shipped': -1.009824989333608, 'shipping': -1.0097585318793603, 'ships': -1.009824989333608, 'shirt': 0.7975963901782439, 'shock': 0.575203968841796, 'shocking': -1.009824989333608, 'shoddy': -1.009824989333608, 'shoe': 0.5496688767346583, 'shoot': 0.6032183450113925, 'shooter': 0.40527896739948366, 'shooters': -1.009824989333608, 'shooting': -0.17968353332167264, 'shoots': -0.009758531879360155, 'shop': -0.8171134539369643, 'shopping': -1.0097585318793603, 'short': -3.0510265502510943, 'shortcut': 0.40527896739948366, 'shortcuts': -0.009758531879360316, 'shorted': -1.009824989333608, 'shorter': -2.8171134539369644, 'shortish': -1.009824989333608, 'shot': -0.07115907654350348, 'shots': -0.209323023761547, 'should': -2.9166491274878785, 'shoulder': -0.5947210326005163, 'show': -1.0801478597707581, 'showing': 0.25327587395443346, 'shown': -1.009824989333608, 'shows': -0.7752932782423373, 'shq': -0.009758531879360155, 'shredder': -1.009824989333608, 'shreds': -0.009758531879360155, 'shut': -1.3316866267667227, 'shutdown': -1.5947210326005163, 'shutoff': -1.009824989333608, 'shuts': -3.4020759546581205, 'shutter': -1.8889041370049746, 'shy': -1.009824989333608, 'side': -2.3427418152757187, 'sided': 0.654638436336201, 'sides': -0.5947210326005163, 'sideways': -1.009824989333608, 'siemens': -0.5947210326005163, 'signal': 0.0847061521241323, 'signals': -0.23215095321580803, 'signed': 0.9902414681206398, 'significant': -2.179683533321673, 'significantly': -0.009758531879360155, 'silence': -1.009824989333608, 'silent': 0.2017455733143515, 'silly': -1.331686626766723, 'silver': -0.10929420543027471, 'sim': -0.33168662676672256, 'similar': -1.0097585318793603, 'similarly': -1.009824989333608, 'simple': 0.858376020246666, 'simpler': -1.009824989333608, 'simplicity': 0.9471727462287537, 'simplified': -1.0097585318793603, 'simplistic': -0.009758531879360316, 'simply': 0.11577235020449872, 'simultaneous': -0.5947210326005163, 'simultaneously': -0.5947210326005163, 'since': -1.3316866267667227, 'single': -0.5947210326005163, 'sit': -0.009758531879360316, 'site': -0.009758531879360155, 'sites': 0.25327587395443346, 'sits': -0.3316866267667228, 'sitting': -1.0097585318793603, 'situation': 0.40527896739948366, 'situations': -3.5947210326005163, 'six': -0.33168662676672256, 'size': 0.669430731007645, 'sized': 0.5649356333879688, 'sizes': 0.2312495676244348, 'sizing': -1.009824989333608, 'sketchy': -1.009824989333608, 'skewed': -1.009824989333608, 'skills': -0.5947210326005163, 'skimpy': -1.009824989333608, 'skin': -0.009758531879359995, 'skinned': 0.9902414681206398, 'skinny': 0.9902414681206398, 'skins': 0.99024146812064, 'skips': -1.009824989333608, 'skuff': -1.009824989333608, 'slanted': -1.009824989333608, 'sleek': 0.9660751569898876, 'sleeker': 0.40527896739948366, 'sleekness': 0.99024146812064, 'sleep': -0.4247960311582039, 'sleeping': 0.9902414681206398, 'slender': 0.40527896739948366, 'slick': 0.690681186261732, 'slide': 0.25327587395443346, 'slider': -0.4247960311582039, 'slides': -0.009758531879360155, 'sliding': -0.2992651490743453, 'slight': -1.009824989333608, 'slightly': -6.3226414871637155, 'slim': 0.8833262642041279, 'slimmer': -1.009824989333608, 'slip': -0.23215095321580803, 'slippery': -1.009824989333608, 'slips': -1.009824989333608, 'slooooooow': -1.009824989333608, 'slooooow': -1.009824989333608, 'sloooow': -1.009824989333608, 'slooow': -1.009824989333608, 'sloppy': -1.009824989333608, 'slot': -0.03832768407613114, 'slots': 0.31216956300800214, 'slow': -6.900934656633905, 'slower': -1.0098249893336084, 'slowly': -1.009824989333608, 'slows': -1.009824989333608, 'slowwwww': -1.009824989333608, 'slr': 0.780023760730294, 'slrs': -1.009824989333608, 'sluggish': -1.009824989333608, 'sm': -1.009824989333608, 'small': 0.5101949967037808, 'smaller': -0.5691859404933788, 'smallest': 0.33816477154094654, 'smallish': -1.6727235446017894, 'smart': 0.05164201278478293, 'smartcard': 0.25327587395443346, 'smartdisk': -1.009824989333608, 'smartmedia': -0.037239268301467246, 'smashed': -0.009758531879360155, 'smcard': -1.009824989333608, 'smear': -0.009758531879359995, 'smeared': -1.009824989333608, 'smearing': -1.5947210326005163, 'smears': -1.009824989333608, 'smell': -0.5947210326005163, 'smoke': 0.9902414681206398, 'smooth': 0.8577911720969903, 'smoothly': 0.6683133732332772, 'sms': 0.40527896739948366, 'smudge': -0.23215095321580803, 'smudged': -1.009824989333608, 'smudges': -1.0098249893336084, 'smudging': -1.009824989333608, 'snack': -0.009758531879360155, 'snail': -0.009758531879360155, 'snake': 0.25327587395443346, 'snap': -0.33168662676672256, 'snapped': -1.009824989333608, 'snapping': -1.4691901505166576, 'snaps': -0.009758531879360155, 'snapshot': -0.3316866267667228, 'snapshots': 0.7272070622868461, 'snazzy': 0.99024146812064, 'sneaky': -1.009824989333608, 'sneeze': -1.009824989333608, 'snooze': -1.009824989333608, 'snub': 0.9902414681206398, 'so': -1.0527106770639074, 'socket': -1.009824989333608, 'soft': -1.257686045322946, 'softer': -0.009758531879360155, 'softness': -1.009824989333608, 'software': -0.26281512651757777, 'soho': 0.575203968841796, 'solar': 0.9902414681206398, 'sold': -1.009824989333608, 'solid': 0.9316137381499313, 'solidly': 0.99024146812064, 'solitaire': 0.40527896739948366, 'solution': 0.6683133732332772, 'some': -2.056722010849947, 'someone': -0.6878304369919979, 'something': -1.8171134539369642, 'sometime': -1.009824989333608, 'sometimes': -3.513889957987472, 'somewhat': -3.1277557412778116, 'somtimes': -1.009824989333608, 'song': -0.009758531879360155, 'sonics': 0.9902414681206398, 'sony': 0.007519459552475273, 'soo': -0.009758531879360155, 'soon': -1.009824989333608, 'sooner': -1.0098249893336084, 'sooo': -1.009824989333608, 'soooo': -0.5947210326005163, 'sophisticated': 0.575203968841796, 'sorry': -2.179683533321673, 'sort': -0.9166491274878789, 'sound': 0.3921035786517502, 'sounded': 0.9902414681206398, 'sounding': 0.25327587395443346, 'sounds': 0.020615117164158505, 'source': -1.009824989333608, 'sources': -1.009824989333608, 'space': 0.21972331424340705, 'spaced': 0.9902414681206398, 'spaces': -0.17968353332167264, 'spacious': 0.9902414681206398, 'span': -1.1796835333216726, 'spare': -2.331686626766723, 'sparse': -1.009824989333608, 'speak': -2.916649127487879, 'speaker': 0.16937461634548834, 'speakerphone': 0.384189362017629, 'speakers': 0.1828865460630357, 'speaking': -0.5947210326005163, 'spec': 0.40527896739948366, 'special': 0.09715667203715163, 'specially': -0.009758531879360155, 'specific': -1.009824989333608, 'specifications': 0.1828865460630357, 'specs': 0.6276713887359315, 'spectacular': 0.7272070622868461, 'speech': 0.9902414681206398, 'speed': 0.39348253993563675, 'speeds': -0.23215095321580803, 'speedy': 0.9027786268703003, 'spend': -0.8171134539369643, 'spendy': -1.009824989333608, 'spent': -1.009824989333608, 'spiffy': 0.40527896739948366, 'spills': -0.009758531879360155, 'spoils': -1.009824989333608, 'spool': -1.009824989333608, 'sporadic': -1.009824989333608, 'sports': -1.009824989333608, 'spot': -1.3316866267667227, 'spots': -2.331686626766723, 'spotty': -1.009824989333608, 'spring': -1.009824989333608, 'sprint': -1.1527164857214032, 'sprintpcs': -1.8171134539369642, 'spy': 0.40527896739948366, 'square': -0.3316866267667228, 'squeak': -1.5947210326005163, 'squeaks': -1.009824989333608, 'squeaky': -1.0098249893336084, 'stability': -0.17968353332167264, 'stabilization': -0.3316866267667228, 'stabilized': 0.9902414681206398, 'stable': 0.22470672175766276, 'stainless': 0.9902414681206397, 'stamp': -1.009824989333608, 'stand': -0.2635151241251434, 'standalone': 0.99024146812064, 'standard': -0.3633954864940608, 'standards': -2.916649127487879, 'standby': 0.42087582245050187, 'standing': -0.17968353332167264, 'stands': 0.7272070622868461, 'star': -0.009758531879360155, 'start': -1.238577222375241, 'startac': -0.8842276497955013, 'started': 0.12774499187057442, 'starter': 0.6532064808430692, 'starting': -1.0097585318793603, 'startling': -1.009824989333608, 'starts': -1.0098249893336084, 'startup': -1.2192118975083102, 'state': 0.6683133732332772, 'stated': -0.8171134539369643, 'static': -1.38827015513309, 'staticky': -1.009824989333608, 'station': -0.5947210326005163, 'stationary': -0.5947210326005163, 'status': 0.09715667203715163, 'stay': -2.125235749299296, 'stays': -0.2727929377131539, 'steady': -0.5947210326005163, 'steel': 0.9902414681206397, 'steep': -1.009824989333608, 'steer': 0.40527896739948366, 'steering': 0.33816477154094654, 'steers': 0.99024146812064, 'stellar': -0.23215095321580803, 'step': -0.5947210326005163, 'steps': -1.009824989333608, 'stereo': -0.3316866267667228, 'stick': -1.4935743091436164, 'sticking': -0.5947210326005163, 'sticks': -0.7940298408239234, 'sticky': -1.009824989333608, 'stiff': -1.009824989333608, 'still': -1.0652536444710639, 'stills': 0.7975963901782439, 'stingy': -1.009824989333608, 'stink': -1.0097585318793603, 'stinks': -1.0098249893336084, 'stitch': 0.9902414681206397, 'stock': -1.533320487936373, 'stocked': -1.009824989333608, 'stop': -1.6727235446017894, 'stopped': -3.257686045322946, 'stops': -0.8842276497955013, 'stopwatch': -0.009758531879360155, 'storage': 0.33874521614378306, 'store': -0.009758531879359995, 'storeage': -0.009758531879360155, 'stored': -0.49518535904960176, 'stores': 0.2312495676244348, 'storing': -1.0097585318793603, 'stout': -1.009824989333608, 'straight': -0.4020759546581204, 'straightforward': 0.7272070622868461, 'strange': -1.009824989333608, 'strangely': -1.009824989333608, 'strap': -1.4360232865814582, 'straps': -2.179683533321673, 'streaking': -1.009824989333608, 'streaks': -1.5947210326005163, 'strenght': -0.009758531879360155, 'strength': -0.17968353332167283, 'strenth': -0.009758531879360155, 'strictly': -1.009824989333608, 'string': -1.009824989333608, 'stripes': -1.009824989333608, 'strobe': -1.009824989333608, 'stroller': 0.328410204015213, 'strollers': 0.10571868554057572, 'strong': 0.6077718312982265, 'stronger': -2.0097585318793603, 'structure': -0.8842276497955013, 'stub': -1.009824989333608, 'stubby': -1.009824989333608, 'stuck': -1.5947210326005163, 'student': 0.9902414681206398, 'students': 0.9902414681206398, 'studio': 0.9902414681206398, 'study': -0.009758531879360155, 'stuff': -0.07388886929907602, 'stunning': 0.9902414681206397, 'stunningly': 0.9902414681206398, 'stupid': -1.916649127487879, 'sturdier': -0.009758531879360155, 'sturdiest': -0.009758531879360155, 'sturdiness': -0.009758531879360155, 'sturdy': 0.8647105860367809, 'style': 0.8017963787075296, 'styles': -0.009758531879359995, 'styling': 0.8203164666783274, 'stylish': 0.954944416007347, 'stylus': -0.5947210326005163, 'sub': -3.653614721654085, 'subject': -1.009824989333608, 'subjects': -1.5947210326005163, 'subpar': -1.009824989333608, 'substandard': -1.009824989333608, 'substantial': 0.40527896739948366, 'successfully': 0.9902414681206398, 'such': -0.5947210326005166, 'suck': -2.5947210326005163, 'sucker': -1.009824989333608, 'sucks': -1.0098249893336084, 'sucky': -1.009824989333608, 'suddenly': -1.009824989333608, 'suffer': -1.0097585318793603, 'suffers': -1.009824989333608, 'sufficient': -1.7467241260455666, 'suggest': -1.009824989333608, 'suit': 0.9902414681206398, 'suitable': -1.00975853187936, 'suite': 0.40527896739948366, 'sumer': 0.99024146812064, 'sun': -1.2951607507416087, 'sunhood': -0.009758531879360155, 'sunlight': -4.79111824540402, 'sunny': -0.3316866267667228, 'sunshade': -1.0097585318793603, 'sunshine': -1.009824989333608, 'super': 0.8730579287503007, 'superb': 0.9741218027573629, 'superior': 0.8777667388622269, 'supper': -0.009758531879360155, 'supplied': -1.411856975450706, 'supplies': -1.4691901505166576, 'supply': -1.257686045322946, 'support': -0.5823373081446842, 'supported': -0.4020759546581204, 'supports': 0.6032183450113925, 'suppose': 0.99024146812064, 'supposed': 0.40527896739948366, 'supposedly': 0.40527896739948366, 'suprisingly': 0.9902414681206398, 'sure': -2.4691901505166576, 'surf': 0.575203968841796, 'surface': -0.5947210326005163, 'surfaces': 0.25327587395443346, 'surfing': -0.3316866267667228, 'surpassed': -1.009824989333608, 'surprise': -1.009824989333608, 'surprised': -0.009758531879360155, 'surprisingly': 0.5048146409503982, 'survive': -0.009758531879360155, 'survived': 0.99024146812064, 'susceptible': -1.009824989333608, 'suspect': -1.009824989333608, 'suspension': 0.25327587395443346, 'sux': -1.009824989333608, 'sw': -1.009824989333608, 'swap': -1.009824989333608, 'sweet': 0.99024146812064, 'switch': -2.79111824540402, 'switchable': 0.9902414681206398, 'switches': -0.17968353332167264, 'switching': -1.424796031158204, 'swivel': 0.6947855845944683, 'swiveling': 0.9902414681206397, 'symbian': 0.575203968841796, 'symbols': -1.009824989333608, 'sync': -0.500084158462441, 'synch': -2.0097585318793603, 'synching': -1.009824989333608, 'synchronization': 0.40527896739948366, 'syncing': -0.009758531879360155, 'syncs': 0.7272070622868461, 'system': -0.009758531879360316, 'systems': -0.5947210326005163, 't9': -0.07388886929907602, 'table': -0.5947210326005163, 'tac': -1.009824989333608, 'tactile': 0.40527896739948366, 'tad': -2.5947210326005163, 'tag': -0.6978145255646202, 'tags': 0.40527896739948366, 'take': -0.2560695801220277, 'taken': -1.6727235446017894, 'takes': 0.15848520257290077, 'taking': -0.47315905271960307, 'talk': -0.12949777615345587, 'talkie': 0.7101335489279044, 'talking': -1.1472620556292952, 'talktime': -0.009758531879360155, 'tall': -0.009758531879360316, 'taller': -1.009824989333608, 'tandem': 0.99024146812064, 'tank': -0.10929420543027471, 'tanks': 0.5752039688417958, 'target': -0.5947210326005163, 'task': -0.009758531879359995, 'tasks': -0.4247960311582039, 'taste': 0.25327587395443346, 'tdma': 0.08335087251212113, 'tear': -0.3316866267667228, 'tech': -0.7016362365170282, 'techie': 0.575203968841796, 'technical': -0.39678165498860746, 'technically': 0.40527896739948366, 'technologically': 0.40527896739948366, 'technology': 0.17868655753375, 'teens': 0.40527896739948366, 'telephone': -0.3316866267667228, 'telephoto': -0.7752932782423373, 'tell': -1.424796031158204, 'telus': -1.009824989333608, 'temperamental': -1.009824989333608, 'tempermental': -1.009824989333608, 'templates': 0.9902414681206398, 'tempramental': -1.009824989333608, 'tempting': -0.009758531879360155, 'ten': -1.009824989333608, 'tend': -1.009824989333608, 'tendency': -1.009824989333608, 'tends': -3.916649127487879, 'term': -2.8171134539369644, 'terminal': -0.5947210326005163, 'terms': -1.0097585318793603, 'terrain': 0.1828865460630357, 'terrible': -6.349608534763985, 'terribly': -1.1796835333216726, 'terrific': 0.9902414681206397, 'test': -0.3316866267667228, 'tested': 0.40527896739948366, 'tetris': 0.9902414681206397, 'text': 0.40527896739948366, 'texting': -1.1796835333216726, 'texts': -0.009758531879360155, 'tft': 0.575203968841796, 'than': -0.8326822565454474, 'than15seconds': -1.009824989333608, 'thank': -0.5947210326005163, 'that': -0.8387129905431326, 'thats': -0.14726205562929517, 'the': -0.38861772967934477, 'their': -0.5947210326005166, 'them': -0.3431822656045521, 'themes': 0.6683133732332772, 'then': -0.9446635036574755, 'there': -1.0291238567462913, 'therefore': -1.0097585318793603, 'these': -1.0972213731296996, 'they': -1.5947210326005163, 'thick': -1.009824989333608, 'thicker': -1.009824989333608, 'thickness': 0.40527896739948366, 'thin': 0.767849046784192, 'thing': -0.9531750035129927, 'things': -0.34679351915693074, 'think': -1.486572228744894, 'thinking': -0.4247960311582039, 'thinks': -0.009758531879360155, 'thinner': -0.3316866267667228, 'third': -1.0097585318793603, 'thirsty': -1.0098249893336084, 'this': -0.40126749566196335, 'tho': -0.009758531879360155, 'thorough': -1.009824989333608, 'those': -0.2727929377131541, 'though': -2.436023286581458, 'thought': -0.46919015051665763, 'thread': -1.0097585318793603, 'threaded': -0.009758531879359995, 'threads': -0.009758531879360155, 'three': 0.08977714167155432, 'thrifty': 0.9902414681206398, 'thrilled': -0.009758531879360155, 'through': -1.484843414828143, 'throughout': 0.9902414681206398, 'throw': -0.009758531879360155, 'thru': 0.22470672175766276, 'thumb': -1.8171134539369642, 'thumbnail': -0.009758531879360155, 'thus': -1.8171134539369642, 'tidy': 0.9902414681206398, 'tiff': -0.009758531879360316, 'tight': 0.08335087251212113, 'tightly': -1.009824989333608, 'till': -1.009824989333608, 'tilt': -0.009758531879359995, 'time': -0.8087620845040419, 'timer': 0.02340833205583917, 'timers': 0.767849046784192, 'times': -2.0097585318793603, 'tint': -1.009824989333608, 'tiny': 0.20858705639438566, 'tip': 0.7272070622868461, 'tires': 0.5048146409503982, 'titanium': 0.40527896739948366, 'tmobile': -1.009824989333608, 'to': 0.26586699444903866, 'today': -1.0097585318793603, 'toddler': 0.5496688767346583, 'toddlers': 0.767849046784192, 'together': -1.0097585318793603, 'toggle': -1.009824989333608, 'tolerable': 0.40527896739948366, 'toll': -1.009824989333608, 'tomorrow': -1.009824989333608, 'ton': 0.767849046784192, 'tonal': 0.9902414681206398, 'tone': -0.8842276497955016, 'toner': -0.25076663138315525, 'toners': -1.0097585318793603, 'tones': -0.042773589107323165, 'tons': 0.9224968614848055, 'too': -1.9413111817221478, 'took': -0.5947210326005163, 'tool': 0.2126338894570877, 'tools': 0.6117298448669098, 'tooth': -0.009758531879360316, 'top': -0.06420631590173669, 'tops': -1.0097585318793603, 'toshiba': 0.25327587395443346, 'toss': 0.25327587395443346, 'total': 0.14224456156568993, 'totally': 0.36221024550759756, 'touch': -0.15271648572140317, 'touchy': -1.009824989333608, 'tough': 0.3825588908994003, 'toughness': 0.99024146812064, 'toward': -0.5947210326005163, 'towards': -1.0097585318793603, 'towers': -1.009824989333608, 'toy': 0.08335087251212113, 'toys': 0.40527896739948366, 'tracfone': -1.009824989333608, 'track': -0.009758531879360155, 'trades': -0.009758531879360155, 'traditional': 0.6276713887359315, 'transfer': 0.18034435150058223, 'transferring': -0.8171134539369643, 'transfers': -0.8171134539369643, 'transflash': 0.5308098494833424, 'transition': 0.40527896739948366, 'transmission': -0.5947210326005163, 'transport': 0.47566829529088134, 'trash': -1.331686626766723, 'travel': 0.0391510686015863, 'traveling': 0.5048146409503982, 'tray': -1.1796835333216726, 'trays': -0.14726205562929517, 'trek': 0.99024146812064, 'tremendous': 0.31216956300800214, 'trendy': 0.8647105860367809, 'tri': 0.7923020905087306, 'triband': 0.7272070622868461, 'trick': 0.40527896739948366, 'tricks': -0.009758531879360155, 'tricky': -1.0098249893336084, 'tried': -1.331686626766723, 'trigger': -2.331686626766723, 'triggering': -0.009758531879360155, 'trim': -0.009758531879360155, 'trimode': 0.8382383746755896, 'trip': -0.009758531879360155, 'tripod': -1.4427179391554663, 'trippy': -0.009758531879360155, 'trips': 0.40527896739948366, 'trivial': -1.009824989333608, 'trouble': -1.7752932782423372, 'troubles': -1.009824989333608, 'troubleshooting': -0.5947210326005163, 'troublesome': -1.009824989333608, 'truck': -1.009824989333608, 'true': -0.009758531879359995, 'truly': 0.40527896739948366, 'trunk': -3.4020759546581205, 'trust': 0.9902414681206397, 'trusted': 0.9902414681206398, 'trustworthy': 0.99024146812064, 'try': -1.533320487936373, 'trying': -2.7101982500204524, 'tuck': -1.009824989333608, 'tuned': -0.009758531879360155, 'tuner': 0.40527896739948366, 'tunes': 0.1828865460630357, 'turn': -1.5643473835569977, 'turnaround': -1.009824989333608, 'turned': -2.916649127487879, 'turning': -0.4247960311582039, 'turns': -0.8357291321043115, 'tv': 0.7007348509256547, 'twain': -1.5947210326005163, 'tweaking': -1.009824989333608, 'tweeking': -1.009824989333608, 'twice': -1.009824989333608, 'twin': 0.9902414681206398, 'twins': -0.5947210326005163, 'twist': 0.99024146812064, 'two': 0.10166275078906263, 'txt': 0.9902414681206398, 'txts': -1.009824989333608, 'type': 0.14893921413969813, 'types': 0.5138034241776528, 'typical': -0.33168662676672256, 'typing': -0.5947210326005163, 'ugh': -1.009824989333608, 'ugly': -3.653614721654085, 'uhhh': 0.99024146812064, 'ui': -0.009758531879360316, 'uk': -0.009758531879360155, 'ultimate': 0.9902414681206397, 'ultra': 0.8673847203351063, 'ultracompact': 0.9902414681206398, 'um': -2.0097585318793603, 'umbrella': -0.38827015513309016, 'umm': 0.575203968841796, 'ummm': -0.4247960311582039, 'ummmm': 0.9902414681206398, 'un': -2.0097585318793603, 'unable': -1.009824989333608, 'unacceptable': -1.0098249893336084, 'unattached': -1.009824989333608, 'unattractive': -1.009824989333608, 'unavailable': -1.009824989333608, 'unbeatable': 0.99024146812064, 'unbelievable': 0.767849046784192, 'unbelievably': 0.99024146812064, 'unbreakable': 0.9902414681206398, 'unclear': -1.009824989333608, 'uncomfortable': -3.4691901505166576, 'uncompressed': 0.40527896739948366, 'under': 0.011000028287437274, 'underexposes': -1.009824989333608, 'underneath': -0.5947210326005163, 'underpowered': -1.009824989333608, 'understand': -0.13904154882432662, 'understanding': -1.009824989333608, 'underwater': 0.575203968841796, 'uneven': -1.0098249893336084, 'unexpected': 0.575203968841796, 'unfold': 0.767849046784192, 'unfolds': 0.9902414681206398, 'unfriendly': -1.009824989333608, 'unimpressive': -1.8171134539369642, 'uninspiring': -1.009824989333608, 'unintended': -1.009824989333608, 'unintuitive': -1.009824989333608, 'unique': 0.8382383746755897, 'unit': 0.1828865460630357, 'units': -0.8842276497955013, 'universal': -0.009758531879359995, 'unix': -1.009824989333608, 'unknown': -1.009824989333608, 'unless': -3.916649127487879, 'unlike': 0.99024146812064, 'unlimited': 0.9902414681206397, 'unlock': -0.5947210326005163, 'unmatched': 0.99024146812064, 'unobtainable': -0.009758531879360155, 'unorthodox': -1.009824989333608, 'unplug': -1.009824989333608, 'unpredictable': -1.009824989333608, 'unprotected': -1.009824989333608, 'unreadable': -1.009824989333608, 'unreliability': -1.009824989333608, 'unreliable': -1.009824989333608, 'unresponsive': -1.009824989333608, 'unstable': -1.0098249893336084, 'unsurpassed': 0.9902414681206398, 'until': -1.6727235446017894, 'unusable': -1.009824989333608, 'unusual': -1.009824989333608, 'unwanted': -0.4247960311582039, 'up': -0.3400018949787261, 'update': -0.8577554384343101, 'updated': 0.1828865460630357, 'updates': -1.331686626766723, 'upgradability': -0.009758531879360155, 'upgradable': -0.009758531879360155, 'upgrade': -0.9572911119852248, 'upgradeability': -1.0097585318793603, 'upgradeable': 0.449673086757937, 'upgraded': -0.5947210326005163, 'upgrades': -0.009758531879360155, 'upload': 0.305743293848569, 'uploadable': 0.9902414681206398, 'uploading': -0.37232861126406847, 'uploads': -0.009758531879360155, 'upon': -1.009824989333608, 'upper': -1.331686626766723, 'upright': 0.9902414681206397, 'ups': -0.6727235446017894, 'us': -0.009758531879360316, 'usa': -0.3316866267667228, 'usability': 0.27034938731337504, 'usable': 0.25327587395443346, 'usage': -0.4441613560251353, 'usb': 0.007943469854098752, 'use': 0.8039874926679804, 'useable': -0.009758531879360155, 'useage': -1.009824989333608, 'used': -0.8616598928902262, 'useful': 0.7525499104013094, 'useless': -4.3316866267667224, 'uselessly': -1.009824989333608, 'user': 0.3323474449456323, 'users': -0.7016362365170282, 'uses': -0.48199143273974704, 'using': -1.190330777521181, 'usual': -1.1252357492992962, 'usually': 0.08335087251212113, 'utilities': -0.009758531879360155, 'utility': 0.25327587395443346, 'utilize': -1.009824989333608, 'utterly': -1.009824989333608, 'v60c': 0.575203968841796, 'v60i': -1.009824989333608, 'v60t': -0.009758531879360155, 'v710': 0.99024146812064, 'vacation': -1.009824989333608, 'vacations': 0.40527896739948366, 'vague': -1.009824989333608, 'value': 0.9107027031354329, 'variable': -0.3316866267667228, 'varied': 0.9902414681206398, 'varies': -1.5947210326005163, 'variety': 0.9458473487621863, 'various': 0.8971320637291584, 'varying': -1.8171134539369642, 'vcast': 0.47566829529088134, 've': -0.6185677745548842, 'vehicle': -0.009758531879360155, 'veiwfinder': -0.009758531879360155, 'vendors': -0.009758531879360155, 'verizon': -0.7467241260455665, 'versatile': 0.9349590326194502, 'versatility': 0.9421471799195947, 'version': -1.5947210326005163, 'versions': -1.009824989333608, 'versitile': 0.9902414681206398, 'vertical': -1.009824989333608, 'verticle': -1.009824989333608, 'very': 0.36254023819891684, 'vga': 0.09715667203715163, 'via': -0.009758531879360155, 'vibe': -1.009824989333608, 'vibra': -0.5947210326005163, 'vibracall': 0.40527896739948366, 'vibrant': 0.8382383746755897, 'vibrate': -0.9001340407048621, 'vibrates': -0.009758531879360316, 'vibrating': -0.1741453497802426, 'vibration': -1.1796835333216726, 'vibrations': -0.009758531879360155, 'vibrator': -0.5947210326005163, 'vid': -1.0097585318793603, 'video': 0.3053986050305658, 'videos': 0.3381647715409468, 'view': -0.5562468847858809, 'viewable': -0.009758531879360155, 'viewed': -0.009758531879360155, 'viewer': -1.0801478597707581, 'viewfinder': -1.552016581646278, 'viewfinders': 0.99024146812064, 'viewing': 0.2644164315596341, 'viewscreen': -0.009758531879359995, 'virgin': -0.009758531879360155, 'virtually': 0.25327587395443346, 'visibility': -0.5947210326005163, 'visible': -0.009758531879360316, 'vision': -0.6878304369919979, 'visual': 0.31216956300800214, 'visually': 0.5048146409503982, 'vivid': 0.9902414681206397, 'vm': -1.0098249893336084, 'voice': 0.5066601097545081, 'voicedial': -0.009758531879360155, 'voicemail': -0.23215095321580803, 'voices': 0.40527896739948366, 'voicestream': -0.5947210326005163, 'void': -1.009824989333608, 'vol': -0.009758531879360155, 'volt': -0.5947210326005163, 'voltage': -1.009824989333608, 'volume': -1.2862038569727143, 'volumes': -0.5947210326005163, 'voracious': -1.009824989333608, 'vs': 0.31216956300800214, 'vulnerable': -1.009824989333608, 'w2k': -1.009824989333608, 'waaaay': -1.009824989333608, 'wait': -1.9732326558542463, 'waited': -1.009824989333608, 'waiting': 0.07270362831261258, 'wake': -0.3316866267667228, 'wal': 0.9902414681206398, 'walk': -1.0097585318793603, 'walkie': 0.8203164666783274, 'walking': -0.5947210326005163, 'walks': -0.009758531879360155, 'walky': 0.9902414681206398, 'wall': 0.40527896739948366, 'wallet': -0.009758531879360316, 'wallpaper': -0.6618352284590534, 'wallpapers': -0.12523574929929612, 'want': -0.20044209348846984, 'wanted': 0.40527896739948366, 'wanting': -1.009824989333608, 'wants': -1.0098249893336084, 'wap': -0.11511153202558887, 'warm': -2.0972213731296994, 'warmed': 0.9902414681206397, 'warmup': -0.23215095321580803, 'warn': -1.009824989333608, 'warning': -2.916649127487879, 'warrantee': -0.009758531879360155, 'warranties': 0.9902414681206398, 'warranty': -0.6275109677181857, 'warrenty': -1.009824989333608, 'was': -0.009758531879360316, 'wash': -0.23215095321580803, 'washable': 0.9902414681206398, 'washed': -1.009824989333608, 'washes': -1.009824989333608, 'washing': -0.009758531879360155, 'wasn': -1.1796835333216726, 'waste': -1.0097585318793603, 'wasted': 0.9902414681206397, 'waster': -1.009824989333608, 'wastes': -1.009824989333608, 'wasting': -1.009824989333608, 'watch': -0.6878304369919979, 'water': -0.6536147216540851, 'waterproof': 0.6683133732332772, 'way': -0.30374975026359946, 'ways': -0.17968353332167264, 'we': -0.363395486494061, 'weak': -5.55922235137913, 'weaker': -1.009824989333608, 'weakness': -0.009758531879360155, 'wear': -1.8842276497955013, 'wearable': 0.99024146812064, 'wearing': -1.009824989333608, 'wears': -2.0097585318793603, 'weather': 0.31216956300800214, 'weatherproof': 0.767849046784192, 'web': 0.2126338894570877, 'webcam': 0.575203968841796, 'website': 0.575203968841796, 'wee': -1.009824989333608, 'weed': -0.009758531879360155, 'week': -2.179683533321673, 'weeks': -1.232150953215808, 'weighs': 0.31216956300800214, 'weight': 0.7892970669597571, 'weighted': 0.40527896739948366, 'weird': -1.009824989333608, 'welcome': 0.40527896739948366, 'well': 0.46916233143147135, 'wells': -1.009824989333608, 'went': -1.5947210326005163, 'were': -1.0603846049493284, 'weren': 0.9902414681206397, 'wet': -1.00975853187936, 'what': -0.7234543467227191, 'whatsoever': -0.8171134539369643, 'wheel': -0.8842276497955013, 'wheels': -0.2555149462813184, 'when': -1.0305170920461577, 'whenever': -1.009824989333608, 'where': -0.10491576491970048, 'wherever': 0.9902414681206398, 'whether': -0.009758531879360155, 'which': -1.0352936239864978, 'while': -1.1860813045198233, 'whisper': 0.9902414681206398, 'whistles': 0.19377486220577173, 'white': 0.14496406291928188, 'whiz': -0.009758531879360155, 'who': -0.5661518804037456, 'whole': -0.6878304369919979, 'wholly': -1.009824989333608, 'why': -2.0097585318793603, 'wide': 0.11897478224284289, 'wideangle': -0.009758531879360155, 'widely': 0.575203968841796, 'wider': -1.009824989333608, 'width': -0.7467241260455665, 'wieght': 0.9902414681206398, 'wierd': -1.009824989333608, 'wierdness': -1.009824989333608, 'wife': -0.5947210326005163, 'wifi': -1.0097585318793603, 'wiggly': -1.009824989333608, 'will': -0.8764920010158961, 'willing': -0.009758531879360155, 'wimpy': -1.009824989333608, 'win': -1.4691901505166576, 'win2000': -1.009824989333608, 'win2k': -0.5947210326005163, 'win95': -1.009824989333608, 'win98': -1.00975853187936, 'wind': -0.009758531879360155, 'window': -0.06038460494932838, 'windows': -0.8104497236559537, 'windows95': -1.009824989333608, 'windowsme': -1.009824989333608, 'winner': 0.40527896739948366, 'winxp': -0.009758531879360155, 'wire': -0.009758531879360155, 'wired': -0.3316866267667228, 'wireless': 0.14636067003792178, 'wires': 0.575203968841796, 'wise': -1.0097585318793603, 'wish': -3.916649127487879, 'with': -0.09182138538710986, 'within': -2.4691901505166576, 'without': -0.18966762189429487, 'withstand': -1.009824989333608, 'withstands': 0.9902414681206397, 'wma': 0.40527896739948366, 'wobbly': -1.009824989333608, 'woes': -1.009824989333608, 'women': -0.009758531879360155, 'won': -1.5540790481031703, 'wonder': 0.9902414681206398, 'wonderful': 0.9742999242516183, 'wonderfull': 0.99024146812064, 'wonderfully': 0.99024146812064, 'wondering': -1.009824989333608, 'wont': -1.8171134539369642, 'word': -0.3316866267667228, 'words': -0.8171134539369643, 'wore': -1.009824989333608, 'work': -1.539225920008813, 'worked': 0.504814640950398, 'workhorse': 0.767849046784192, 'working': -0.6796099301870294, 'workmanship': 0.575203968841796, 'works': 0.7222063812284795, 'world': 0.7772477447864414, 'worldwide': 0.9902414681206397, 'worn': -1.009824989333608, 'worry': 0.575203968841796, 'worse': -1.4691901505166576, 'worst': -3.764646034042829, 'worth': -1.5072581913501768, 'worthless': -1.0098249893336084, 'worthy': 0.575203968841796, 'would': -2.129497776153456, 'wouldn': -1.0097585318793603, 'wow': 0.7909326598972332, 'wraps': -0.5947210326005163, 'wrinkles': -1.009824989333608, 'wrist': -1.009824989333608, 'writable': -0.009758531879360155, 'write': -1.5947210326005163, 'writer': 0.40527896739948366, 'writes': 0.40527896739948366, 'writeup': -0.009758531879360155, 'writing': -1.0098249893336084, 'written': -3.331686626766723, 'wrong': -3.4691901505166576, 'www': 0.99024146812064, 'x83': 0.9902414681206398, 'xd': -0.4247960311582039, 'xerox': 0.40527896739948366, 'xp': -0.8492938596861144, 'ya': -1.009824989333608, 'yahoo': 0.9902414681206398, 'yeah': -1.0097585318793603, 'year': -0.4503311232653416, 'years': -0.08776104388063354, 'yellow': -1.1796835333216726, 'yes': -0.009758531879360155, 'yet': -2.1961716561102413, 'yields': -0.009758531879360155, 'you': -0.46686009072474804, 'young': 0.5048146409503982, 'your': -0.061186770686363176, 'yourself': -2.0097585318793603, 'yr': -1.0097585318793603, 'z52': -0.009758531879360155, 'zeiss': 0.9902414681206397, 'zero': -1.0097585318793603, 'zillion': -0.009758531879360155, 'zip': 0.9902414681206398, 'zone': 0.25327587395443346, 'zones': -0.3316866267667228, 'zoom': -0.03430071614215181, 'zoombrowser': -1.009824989333608, 'zooming': -0.8171134539369643, 'zooms': -0.009758531879360155}\n"
     ]
    }
   ],
   "source": [
    "print(pmi_scores)"
   ]
  },
  {
   "cell_type": "code",
   "execution_count": 22,
   "metadata": {},
   "outputs": [],
   "source": [
    "pmi_features = np.array([[pmi_scores.get(word, 0) for word in vocab] for review in reviews])"
   ]
  },
  {
   "cell_type": "code",
   "execution_count": 23,
   "metadata": {},
   "outputs": [
    {
     "name": "stdout",
     "output_type": "stream",
     "text": [
      "(40000, 5000)\n"
     ]
    }
   ],
   "source": [
    "print(pmi_features.shape)"
   ]
  },
  {
   "cell_type": "code",
   "execution_count": 24,
   "metadata": {},
   "outputs": [
    {
     "name": "stdout",
     "output_type": "stream",
     "text": [
      "[[0. 0. 0. ... 0. 0. 0.]\n",
      " [0. 0. 0. ... 0. 0. 0.]\n",
      " [0. 0. 0. ... 0. 0. 0.]\n",
      " [0. 0. 0. ... 0. 0. 0.]\n",
      " [0. 0. 0. ... 0. 0. 0.]]\n",
      "(40000, 10006)\n"
     ]
    }
   ],
   "source": [
    "X3 = np.hstack([X2, pmi_features])\n",
    "# clean up negative values\n",
    "X3 = np.maximum(X3, 0)\n",
    "print(X3[:5])\n",
    "print(X3.shape)"
   ]
  },
  {
   "cell_type": "code",
   "execution_count": 25,
   "metadata": {},
   "outputs": [],
   "source": [
    "X3_train, X3_test, y_train, y_test = train_test_split(X3, labels, test_size=0.2, random_state=42)"
   ]
  },
  {
   "cell_type": "code",
   "execution_count": 26,
   "metadata": {},
   "outputs": [],
   "source": [
    "final_models = [\n",
    "    (LogisticRegression(), \"Logistic Regression TF-IDF PMI Features\"),\n",
    "    (RandomForestClassifier(), \"Random Forest TF-IDF PMI Features\"),\n",
    "    (MultinomialNB(), \"Naive Bayes classifier TF-IDF PMI Features\"),\n",
    "    # (SVC(), \"Support Vector Machine\")\n",
    "]"
   ]
  },
  {
   "cell_type": "code",
   "execution_count": 40,
   "metadata": {},
   "outputs": [
    {
     "name": "stderr",
     "output_type": "stream",
     "text": [
      "/Users/maohieng/master-degree/learn_ai/.venv/lib/python3.8/site-packages/sklearn/linear_model/_logistic.py:460: ConvergenceWarning: lbfgs failed to converge (status=1):\n",
      "STOP: TOTAL NO. of ITERATIONS REACHED LIMIT.\n",
      "\n",
      "Increase the number of iterations (max_iter) or scale the data as shown in:\n",
      "    https://scikit-learn.org/stable/modules/preprocessing.html\n",
      "Please also refer to the documentation for alternative solver options:\n",
      "    https://scikit-learn.org/stable/modules/linear_model.html#logistic-regression\n",
      "  n_iter_i = _check_optimize_result(\n"
     ]
    },
    {
     "name": "stdout",
     "output_type": "stream",
     "text": [
      "Accuracy of Logistic Regression TF-IDF PMI Features: 0.9250\n",
      "Accuracy of Random Forest TF-IDF PMI Features: 0.9247\n",
      "Accuracy of Naive Bayes classifier TF-IDF PMI Features: 0.9123\n"
     ]
    }
   ],
   "source": [
    "for model, model_name in final_models:\n",
    "    train_and_evaluate_model(model, model_name, X3_train, X3_test)"
   ]
  },
  {
   "cell_type": "markdown",
   "metadata": {},
   "source": [
    "## Testing"
   ]
  },
  {
   "cell_type": "code",
   "execution_count": 28,
   "metadata": {},
   "outputs": [],
   "source": [
    "def predict_review(model_path:str, review:str)->str:\n",
    "    model = joblib.load(model_path)\n",
    "    features = extract_features([review])\n",
    "    tfidf_features = tfidf_vectorizer.transform([review]).toarray()\n",
    "    pmi_features = np.array([[pmi_scores.get(word, 0) for word in vocab]])\n",
    "    X = np.hstack([features, tfidf_features, pmi_features])\n",
    "    y_pred = model.predict(X)\n",
    "    return 'Positive' if y_pred[0] == 1 else 'Negative'\n"
   ]
  },
  {
   "cell_type": "code",
   "execution_count": 29,
   "metadata": {},
   "outputs": [
    {
     "data": {
      "text/plain": [
       "'Positive'"
      ]
     },
     "execution_count": 29,
     "metadata": {},
     "output_type": "execute_result"
    }
   ],
   "source": [
    "predict_review('Logistic Regression TF-IDF PMI Features.pkl', \"I love this movie\")"
   ]
  },
  {
   "cell_type": "code",
   "execution_count": 30,
   "metadata": {},
   "outputs": [
    {
     "data": {
      "text/plain": [
       "'Negative'"
      ]
     },
     "execution_count": 30,
     "metadata": {},
     "output_type": "execute_result"
    }
   ],
   "source": [
    "predict_review('Logistic Regression TF-IDF PMI Features.pkl', \"I don't love this movie\")"
   ]
  },
  {
   "cell_type": "markdown",
   "metadata": {},
   "source": [
    "## Challenging"
   ]
  },
  {
   "cell_type": "code",
   "execution_count": 31,
   "metadata": {},
   "outputs": [],
   "source": [
    "def challenge(model_path:str, file_path:str, output_path:str)->None:\n",
    "    model = joblib.load(model_path)\n",
    "    with open(file_path, 'r', encoding='utf-8') as f:\n",
    "        reviews = f.readlines()\n",
    "    features = extract_features(reviews)\n",
    "    tfidf_features = tfidf_vectorizer.transform(reviews).toarray()\n",
    "    pmi_features = np.array([[pmi_scores.get(word, 0) for word in vocab] for review in reviews])\n",
    "    X = np.hstack([features, tfidf_features, pmi_features])\n",
    "    y_pred = model.predict(X)\n",
    "    \n",
    "    with open(output_path, 'w', encoding='utf-8') as f:\n",
    "        f.write(''.join(map(str, y_pred)))"
   ]
  },
  {
   "cell_type": "code",
   "execution_count": 32,
   "metadata": {},
   "outputs": [],
   "source": [
    "challenge('Logistic Regression TF-IDF PMI Features.pkl','challenge_data.txt', 'challenge_output.txt')"
   ]
  },
  {
   "cell_type": "markdown",
   "metadata": {},
   "source": [
    "### Challenges 2"
   ]
  },
  {
   "cell_type": "code",
   "execution_count": 43,
   "metadata": {},
   "outputs": [],
   "source": [
    "def challenge2(model_path:str, input_path:str, output_path:str)->None:\n",
    "    reviews = load_file(input_path)\n",
    "    default_features = extract_features(reviews)\n",
    "\n",
    "    # tfidf_vectorizer = TfidfVectorizer(max_features=tfidf_max_features)\n",
    "    # tfidf_features = tfidf_vectorizer.fit_transform(reviews).toarray()\n",
    "    tfidf_features = tfidf_vectorizer.transform(reviews).toarray()\n",
    "\n",
    "    features = np.hstack([default_features, tfidf_features])\n",
    "\n",
    "    model = joblib.load(model_path)\n",
    "\n",
    "    predicts = model.predict(features)\n",
    "    \n",
    "    with open(output_path, 'w', encoding='utf-8') as f:\n",
    "        f.write('\\n'.join(map(str, predicts)))"
   ]
  },
  {
   "cell_type": "code",
   "execution_count": 44,
   "metadata": {},
   "outputs": [
    {
     "name": "stdout",
     "output_type": "stream",
     "text": [
      "Logistic Regression TF-IDF Features\n"
     ]
    }
   ],
   "source": [
    "print(tfidf_models[0][1])"
   ]
  },
  {
   "cell_type": "code",
   "execution_count": 45,
   "metadata": {},
   "outputs": [],
   "source": [
    "challenge2(f\"{tfidf_models[0][1]}.pkl\",'challenge_data.txt', 'challenge_output2.txt')"
   ]
  },
  {
   "cell_type": "code",
   "execution_count": 53,
   "metadata": {},
   "outputs": [],
   "source": [
    "challenge_inputs = load_file('challenge_data.txt')\n",
    "challenge_outputs = load_file('challenge_output2.txt')\n",
    "\n",
    "for input, output in zip(challenge_inputs, challenge_outputs):\n",
    "    with open('challenge_merged.txt', 'a', encoding='utf-8') as f:\n",
    "        f.write(f\"{input}{output}\")"
   ]
  },
  {
   "cell_type": "markdown",
   "metadata": {},
   "source": [
    "## Other Experiments"
   ]
  },
  {
   "cell_type": "markdown",
   "metadata": {},
   "source": [
    "### TF-IDF Alone"
   ]
  },
  {
   "cell_type": "code",
   "execution_count": 54,
   "metadata": {},
   "outputs": [],
   "source": [
    "X_tfidf = tfidf_features\n",
    "X_tfidf_train, X_tfidf_test, _, _ = train_test_split(X_tfidf, labels, test_size=0.2, random_state=42)"
   ]
  },
  {
   "cell_type": "code",
   "execution_count": 55,
   "metadata": {},
   "outputs": [
    {
     "name": "stdout",
     "output_type": "stream",
     "text": [
      "Accuracy of Logistic TF-IDF Alone: 0.9304\n"
     ]
    }
   ],
   "source": [
    "train_and_evaluate_model(LogisticRegression(), \"Logistic TF-IDF Alone\", X_tfidf_train, X_tfidf_test)"
   ]
  },
  {
   "cell_type": "markdown",
   "metadata": {},
   "source": [
    "### PMI Features Alone"
   ]
  },
  {
   "cell_type": "code",
   "execution_count": 56,
   "metadata": {},
   "outputs": [],
   "source": [
    "X_pmi = pmi_features\n",
    "X_pmi_train, X_pmi_test, _, _ = train_test_split(X_pmi, labels, test_size=0.2, random_state=42)"
   ]
  },
  {
   "cell_type": "code",
   "execution_count": 57,
   "metadata": {},
   "outputs": [
    {
     "name": "stdout",
     "output_type": "stream",
     "text": [
      "Accuracy of Logistic PMI Alone: 0.4983\n"
     ]
    }
   ],
   "source": [
    "train_and_evaluate_model(LogisticRegression(), \"Logistic PMI Alone\", X_pmi_train, X_pmi_test)"
   ]
  },
  {
   "cell_type": "markdown",
   "metadata": {},
   "source": [
    "### Default + PMI Features"
   ]
  },
  {
   "cell_type": "code",
   "execution_count": 58,
   "metadata": {},
   "outputs": [],
   "source": [
    "X_pmi_2 = np.hstack([X, pmi_features])\n",
    "X_pmi_2_train, X_pmi_2_test, _, _ = train_test_split(X_pmi_2, labels, test_size=0.2, random_state=42)"
   ]
  },
  {
   "cell_type": "code",
   "execution_count": 59,
   "metadata": {},
   "outputs": [
    {
     "name": "stdout",
     "output_type": "stream",
     "text": [
      "Accuracy of Logistic Default PMI: 0.5919\n"
     ]
    }
   ],
   "source": [
    "train_and_evaluate_model(LogisticRegression(), \"Logistic Default PMI\", X_pmi_2_train, X_pmi_2_test)"
   ]
  }
 ],
 "metadata": {
  "kernelspec": {
   "display_name": ".venv",
   "language": "python",
   "name": "python3"
  },
  "language_info": {
   "codemirror_mode": {
    "name": "ipython",
    "version": 3
   },
   "file_extension": ".py",
   "mimetype": "text/x-python",
   "name": "python",
   "nbconvert_exporter": "python",
   "pygments_lexer": "ipython3",
   "version": "3.8.0"
  }
 },
 "nbformat": 4,
 "nbformat_minor": 2
}

{
 "cells": [
  {
   "cell_type": "markdown",
   "metadata": {},
   "source": [
    "## Regular Expression"
   ]
  },
  {
   "cell_type": "code",
   "execution_count": 1,
   "metadata": {},
   "outputs": [],
   "source": [
    "import re"
   ]
  },
  {
   "cell_type": "code",
   "execution_count": 11,
   "metadata": {},
   "outputs": [],
   "source": [
    "str = '''\n",
    "stronger and strongest\n",
    "larger and largest\n",
    "bigger and biggest\n",
    "smaller and smallest\n",
    "bigger and smallest\n",
    "'''"
   ]
  },
  {
   "cell_type": "code",
   "execution_count": 12,
   "metadata": {},
   "outputs": [
    {
     "name": "stdout",
     "output_type": "stream",
     "text": [
      "<re.Match object; span=(1, 23), match='stronger and strongest'>\n"
     ]
    }
   ],
   "source": [
    "result = re.search('([a-zA-Z]+)er\\\\sand\\\\s\\\\1est', str)\n",
    "print(result)"
   ]
  },
  {
   "cell_type": "code",
   "execution_count": 17,
   "metadata": {},
   "outputs": [
    {
     "name": "stdout",
     "output_type": "stream",
     "text": [
      "\n",
      "stronger and strongest\n",
      "larger and largest\n",
      "bigger and biggest\n",
      "smaller and smallest\n",
      "bigger and smallest\n",
      "\n"
     ]
    }
   ],
   "source": [
    "r1 = r'(\\\\w+)er'\n",
    "r2 = r'(\\\\w+)est'\n",
    "\n",
    "replaced = re.sub(r1, r2, str)\n",
    "print(replaced)"
   ]
  },
  {
   "cell_type": "code",
   "execution_count": 21,
   "metadata": {},
   "outputs": [
    {
     "name": "stdout",
     "output_type": "stream",
     "text": [
      "123-456-7890\n",
      "016-234-5667\n"
     ]
    }
   ],
   "source": [
    "phone1 = '1234567890'\n",
    "phone2 = '0162345667'\n",
    "\n",
    "\n",
    "r1 = r'(\\d{3})(\\d{3})(\\d{3,4})'\n",
    "r2 = r'\\1-\\2-\\3'\n",
    "\n",
    "new_phone1 = re.sub(r1, r2, phone1)\n",
    "new_phone2 = re.sub(r1, r2, phone2)\n",
    "\n",
    "print(new_phone1)\n",
    "print(new_phone2)\n",
    "\n"
   ]
  },
  {
   "cell_type": "markdown",
   "metadata": {},
   "source": [
    "## Exercise\n",
    "Write a regular expression to match each of the following\n",
    "patterns:"
   ]
  },
  {
   "cell_type": "markdown",
   "metadata": {},
   "source": [
    "1. Any character that is not a word character nor a white\n",
    "space"
   ]
  },
  {
   "cell_type": "code",
   "execution_count": null,
   "metadata": {},
   "outputs": [],
   "source": [
    "r1 = r'^\\w\\s'"
   ]
  },
  {
   "cell_type": "markdown",
   "metadata": {},
   "source": [
    "2. String of letters whose length is at most 3 "
   ]
  },
  {
   "cell_type": "code",
   "execution_count": null,
   "metadata": {},
   "outputs": [],
   "source": [
    "# Regular expression for String of letters whose length is at most 3\n",
    "r2 = r'[a-zA-Z]{1,3}'"
   ]
  },
  {
   "cell_type": "markdown",
   "metadata": {},
   "source": [
    "3. String of digits whose length is at least 3"
   ]
  },
  {
   "cell_type": "code",
   "execution_count": null,
   "metadata": {},
   "outputs": [],
   "source": [
    "# Regular expression for String of digits whose length is at least 3\n",
    "r3 = r'\\d{3,}'"
   ]
  },
  {
   "cell_type": "markdown",
   "metadata": {},
   "source": [
    "4. String of word characters containing at least one a and\n",
    "one b"
   ]
  },
  {
   "cell_type": "code",
   "execution_count": null,
   "metadata": {},
   "outputs": [],
   "source": [
    "r4 = r'\\w*a\\w*b\\w*'"
   ]
  },
  {
   "cell_type": "markdown",
   "metadata": {},
   "source": [
    "5. Anything enclosed by square brackets"
   ]
  },
  {
   "cell_type": "code",
   "execution_count": null,
   "metadata": {},
   "outputs": [],
   "source": [
    "r5 = r'\\[.*\\]'"
   ]
  },
  {
   "cell_type": "markdown",
   "metadata": {},
   "source": [
    "6. String of word characters whose the 5th character from\n",
    "the right end is a digit"
   ]
  },
  {
   "cell_type": "code",
   "execution_count": null,
   "metadata": {},
   "outputs": [],
   "source": [
    "r6 = r'\\d(?=\\w{5})'\n",
    "r6_1 = r'\\w*\\d\\w{4}'"
   ]
  },
  {
   "cell_type": "markdown",
   "metadata": {},
   "source": [
    "7. Date format: yyyy-mm-dd"
   ]
  },
  {
   "cell_type": "code",
   "execution_count": null,
   "metadata": {},
   "outputs": [],
   "source": [
    "# Regular expression for date format YYYY-MM-DD with MM are 01-12 and DD are 01-31\n",
    "r7 = r'\\d{4}-(?:0[1-9]|1[0-2])-(?:0[1-9]|[12]\\d|3[01])'"
   ]
  },
  {
   "cell_type": "markdown",
   "metadata": {},
   "source": [
    "8. String of 10 digits that starts and ends with the same 3-\n",
    "digit sequence"
   ]
  },
  {
   "cell_type": "code",
   "execution_count": null,
   "metadata": {},
   "outputs": [],
   "source": [
    "r8 = r'(\\d{3})\\d{4}\\1'"
   ]
  },
  {
   "cell_type": "markdown",
   "metadata": {},
   "source": [
    "9. Password satisfying the following conditions:\n",
    "- at least 1 lowercase letter\n",
    "- at least 1 uppercase letter\n",
    "- at least 1 digit\n",
    "- six characters or more"
   ]
  },
  {
   "cell_type": "code",
   "execution_count": null,
   "metadata": {},
   "outputs": [],
   "source": [
    "r9 = r'(?=.*[a-z])(?=.*[A-Z])(?=.*\\d).{6,}'\n",
    "r9_1 = r'(?=.*[a-z])(?=.*[A-Z])(?=.*\\d)(?=.*[!@#$%^&*]).{6,}'"
   ]
  }
 ],
 "metadata": {
  "kernelspec": {
   "display_name": ".venv",
   "language": "python",
   "name": "python3"
  },
  "language_info": {
   "codemirror_mode": {
    "name": "ipython",
    "version": 3
   },
   "file_extension": ".py",
   "mimetype": "text/x-python",
   "name": "python",
   "nbconvert_exporter": "python",
   "pygments_lexer": "ipython3",
   "version": "3.8.0"
  }
 },
 "nbformat": 4,
 "nbformat_minor": 2
}

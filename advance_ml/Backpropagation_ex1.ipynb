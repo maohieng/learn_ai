{
 "cells": [
  {
   "cell_type": "markdown",
   "metadata": {},
   "source": [
    "# Exercise 1: Calculate the updated weights in 1 epoch\n",
    "- Prepared by: Hieng MAO\n",
    "- Date: 20 / 03 / 2025\n",
    "- Source code: [Github](https://github.com/maohieng/learn_ai/blob/main/advance_ml/Backpropagation_ex1.ipynb)"
   ]
  },
  {
   "cell_type": "markdown",
   "metadata": {},
   "source": [
    "![Exercise 1](./Screenshot%202025-03-19%20105410.png)\n",
    "\n",
    "\n",
    "## What we have\n",
    "- Inputs:  \n",
    "  $ x_1 = 0.35 $, $ x_2 = 0.7 $  \n",
    "\n",
    "- Weights:  \n",
    "  - Input to Hidden Layer:  \n",
    "    $ w_{1,1} = 0.2 $, $ w_{1,2} = 0.3 $  \n",
    "    $ w_{2,1} = 0.2 $, $ w_{2,2} = 0.3 $  \n",
    "  - Hidden to Output Layer:  \n",
    "    $ w_{1,3} = 0.3 $, $ w_{2,3} = 0.9 $  \n",
    "\n",
    "- Activation Function: **Sigmoid**  \n",
    "  $$\n",
    "  \\sigma(x) = \\frac{1}{1 + e^{-x}}\n",
    "  $$\n",
    "  $$\n",
    "  \\sigma'(x) = \\sigma(x) (1 - \\sigma(x))\n",
    "  $$\n",
    "\n",
    "- Learning rate: **Assume $ \\eta = 0.5 $**  \n",
    "\n",
    "- **Target output** $ o_{3, \\text{true}} $   \n",
    "  I assume $ o_{3, \\text{true}} = 1.0 $."
   ]
  },
  {
   "cell_type": "code",
   "execution_count": 2,
   "metadata": {},
   "outputs": [],
   "source": [
    "import math\n",
    "\n",
    "x1 = 0.35\n",
    "x2 = 0.7\n",
    "\n",
    "w1_1 = 0.2\n",
    "w1_2 = 0.3\n",
    "w2_1 = 0.2\n",
    "w2_2 = 0.3\n",
    "\n",
    "w1_3 = 0.3\n",
    "w2_3 = 0.9\n",
    "\n",
    "alpha = 0.5\n",
    "\n",
    "y_true = 1"
   ]
  },
  {
   "cell_type": "markdown",
   "metadata": {},
   "source": [
    "\n",
    "## Forward Pass\n",
    "### Hidden Layer Activations\n",
    "For $ h_1 $:\n",
    "\n",
    "$$\n",
    "S_{h1} = (x_1 \\cdot w_{1,1}) + (x_2 \\cdot w_{2,1})\n",
    "$$"
   ]
  },
  {
   "cell_type": "code",
   "execution_count": 3,
   "metadata": {},
   "outputs": [
    {
     "name": "stdout",
     "output_type": "stream",
     "text": [
      "h1_net 0.20999999999999996\n"
     ]
    }
   ],
   "source": [
    "h1_net = (x1 * w1_1) + (x2 * w2_1)\n",
    "print(\"h1_net\", h1_net)"
   ]
  },
  {
   "cell_type": "markdown",
   "metadata": {},
   "source": [
    "$$\n",
    "h_1 = \\sigma(S_{h1}) = \\frac{1}{1 + e^{-S_{h1}}} \n",
    "$$"
   ]
  },
  {
   "cell_type": "code",
   "execution_count": 4,
   "metadata": {},
   "outputs": [
    {
     "name": "stdout",
     "output_type": "stream",
     "text": [
      "h1_out 0.5523079095743253\n"
     ]
    }
   ],
   "source": [
    "h1_out = 1 / (1 + math.exp(-h1_net))\n",
    "print(\"h1_out\", h1_out)"
   ]
  },
  {
   "cell_type": "markdown",
   "metadata": {},
   "source": [
    "Calculate the $ h_1 $'s derivative, since we will use it later.\n",
    "$$\n",
    "h_1^{'} = \\frac{\\partial{h_1}}{\\partial{S_{h1}}} = \\sigma^{'}(S_{h1}) = \\frac{\\partial{\\sigma(S_{h1})}}{\\partial{S_{h1}}} = S_{h1} \\cdot (1 - S_{h1})\n",
    "$$"
   ]
  },
  {
   "cell_type": "code",
   "execution_count": 5,
   "metadata": {},
   "outputs": [
    {
     "name": "stdout",
     "output_type": "stream",
     "text": [
      "derive_h1_out 0.1659\n"
     ]
    }
   ],
   "source": [
    "derive_h1_out = h1_net * (1 - h1_net)\n",
    "print(\"derive_h1_out\", derive_h1_out)"
   ]
  },
  {
   "cell_type": "markdown",
   "metadata": {},
   "source": [
    "For $ h_2 $:\n",
    "\n",
    "$$\n",
    "S_{h2} = (x_1 \\cdot w_{1,2}) + (x_2 \\cdot w_{2,2})\n",
    "$$"
   ]
  },
  {
   "cell_type": "code",
   "execution_count": 6,
   "metadata": {},
   "outputs": [
    {
     "name": "stdout",
     "output_type": "stream",
     "text": [
      "h2_net 0.315\n"
     ]
    }
   ],
   "source": [
    "h2_net = (x1 * w1_2) + (x2 * w2_2)\n",
    "print(\"h2_net\", h2_net)"
   ]
  },
  {
   "cell_type": "markdown",
   "metadata": {},
   "source": [
    "$$\n",
    "h_2 = \\sigma(S_{h2}) = \\frac{1}{1 + e^{-S_{h2}}}\n",
    "$$"
   ]
  },
  {
   "cell_type": "code",
   "execution_count": 7,
   "metadata": {},
   "outputs": [
    {
     "name": "stdout",
     "output_type": "stream",
     "text": [
      "h2_out 0.5781052328843092\n"
     ]
    }
   ],
   "source": [
    "h2_out = 1 / (1 + math.exp(-h2_net))\n",
    "print(\"h2_out\", h2_out)"
   ]
  },
  {
   "cell_type": "markdown",
   "metadata": {},
   "source": [
    "Calculate the $ h_2 $'s derivative, since we will use it later.\n",
    "$$\n",
    "h_2^{'} = \\frac{\\partial{h_2}}{\\partial{S_{h2}}} = \\sigma^{'}(S_{h2}) = \\frac{\\partial{\\sigma(S_{h2})}}{\\partial{S_{h2}}} = S_{h2} \\cdot (1 - S_{h2})\n",
    "$$"
   ]
  },
  {
   "cell_type": "code",
   "execution_count": 8,
   "metadata": {},
   "outputs": [
    {
     "data": {
      "text/plain": [
       "0.21577500000000002"
      ]
     },
     "execution_count": 8,
     "metadata": {},
     "output_type": "execute_result"
    }
   ],
   "source": [
    "derive_h2_out = h2_net * (1 - h2_net)\n",
    "derive_h2_out"
   ]
  },
  {
   "cell_type": "markdown",
   "metadata": {},
   "source": [
    "### Output Layer Activation\n",
    "For $ o_3 $:\n",
    "\n",
    "$$\n",
    "S_{o3} = (h_1 \\cdot w_{1,3}) + (h_2 \\cdot w_{2,3})\n",
    "$$"
   ]
  },
  {
   "cell_type": "code",
   "execution_count": 9,
   "metadata": {},
   "outputs": [
    {
     "name": "stdout",
     "output_type": "stream",
     "text": [
      "o3_net 0.6859870824681757\n"
     ]
    }
   ],
   "source": [
    "o3_net = (h1_out * w1_3) + (h2_out * w2_3)\n",
    "print(\"o3_net\", o3_net)"
   ]
  },
  {
   "cell_type": "markdown",
   "metadata": {},
   "source": [
    "$$\n",
    "o_3 = \\sigma(S_{o3}) = \\frac{1}{1 + e^{-S_{o3}}}\n",
    "$$"
   ]
  },
  {
   "cell_type": "code",
   "execution_count": 10,
   "metadata": {},
   "outputs": [
    {
     "name": "stdout",
     "output_type": "stream",
     "text": [
      "o3_out 0.6650736395247564\n"
     ]
    }
   ],
   "source": [
    "o3_out = 1 / (1 + math.exp(-o3_net))\n",
    "print(\"o3_out\", o3_out)"
   ]
  },
  {
   "cell_type": "markdown",
   "metadata": {},
   "source": [
    "Calculate the $ o_3 $'s derivative, since we will use it later.\n",
    "$$\n",
    "o_3^{'} = \\frac{\\partial{o_3}}{\\partial{S_{o3}}} = \\sigma^{'}(S_{o3}) = \\frac{\\partial{\\sigma(S_{o3})}}{\\partial{S_{o3}}} = S_{o3} \\cdot (1 - S_{o3})\n",
    "$$"
   ]
  },
  {
   "cell_type": "code",
   "execution_count": 11,
   "metadata": {},
   "outputs": [
    {
     "data": {
      "text/plain": [
       "0.21540880515497599"
      ]
     },
     "execution_count": 11,
     "metadata": {},
     "output_type": "execute_result"
    }
   ],
   "source": [
    "derive_o3_out = o3_net * (1 - o3_net)\n",
    "derive_o3_out"
   ]
  },
  {
   "cell_type": "markdown",
   "metadata": {},
   "source": [
    "## Computing the Error (total)\n",
    "$$\n",
    "E = \\frac{1}{2} (o_3 - o_{3, \\text{true}})^2\n",
    "= \\frac{1}{2} (o_3^2 - 2 \\cdot o_3 \\cdot o_{3, \\text{true}} + o_{3, \\text{true}}^2)\n",
    "$$"
   ]
  },
  {
   "cell_type": "code",
   "execution_count": 12,
   "metadata": {},
   "outputs": [
    {
     "name": "stdout",
     "output_type": "stream",
     "text": [
      "Total error 0.05608783347059641\n"
     ]
    }
   ],
   "source": [
    "err_total = 0.5 * (y_true - o3_out) ** 2\n",
    "print(\"Total error\", err_total)"
   ]
  },
  {
   "cell_type": "markdown",
   "metadata": {},
   "source": [
    "## Backward Pass"
   ]
  },
  {
   "cell_type": "markdown",
   "metadata": {},
   "source": [
    "Before moving on to the calculation of adjusting the weights below, we would take a look at the derivative of total error related to a weight.\n",
    "\n",
    "For example, we want to adjust $ w_{1,3} $ relatively to the total losses, we start with a **chaine rule** below:\n",
    "$$\n",
    "\\frac{\\partial{E}}{\\partial{w_{1,3}}} = \\frac{\\partial{E}}{\\partial{o_3}} \\cdot \\frac{\\partial{o_3}}{\\partial{S_{o3}}} \\cdot \\frac{\\partial{S_{o3}}}{\\partial{w_{1,3}}}\n",
    "$$\n",
    "where\n",
    "$$\n",
    "\\frac{\\partial{E}}{\\partial{o_3}} = \\frac{\\partial{}}{\\partial{o_3}}[\\frac{1}{2} (o_3^2 - 2 \\cdot o_3 \\cdot o_{3, \\text{true}} + o_{3, \\text{true}}^2)] = o_3 - o_{3, \\text{true}}\n",
    "$$\n",
    " \n",
    "$$\n",
    "\\frac{\\partial{o_3}}{\\partial{S_{o3}}} = o_3^{'} = o_3 (1 - o_3)\n",
    "$$\n",
    " \n",
    "$$\n",
    "\\frac{\\partial{S_{o3}}}{\\partial{w_{1,3}}} = \\frac{\\partial{}}{\\partial{w_{1,3}}}(h_1 \\cdot w_{1,3} + h_2 \\cdot w_{2,3}) = h_1\n",
    "$$"
   ]
  },
  {
   "cell_type": "markdown",
   "metadata": {},
   "source": [
    "Suppose a $ \\delta_{o3} $ called error gradients, where:\n",
    "$$\n",
    "\\delta_{o3} = \\frac{\\partial{E}}{\\partial{o_3}} \\cdot \\frac{\\partial{o_3}}{\\partial{S_{o3}}} = (o_3 - o_3^{\\text{true}}) \\cdot o_3^{'} = (o_3 - o_3^{\\text{true}}) \\cdot o_3 \\cdot (1 - o_3)\n",
    "$$"
   ]
  },
  {
   "cell_type": "code",
   "execution_count": 13,
   "metadata": {},
   "outputs": [
    {
     "name": "stdout",
     "output_type": "stream",
     "text": [
      "err_o -0.074605079078696\n"
     ]
    }
   ],
   "source": [
    "delta_o = (o3_out - y_true) * o3_out * (1 - o3_out)\n",
    "print(\"err_o\", delta_o)"
   ]
  },
  {
   "cell_type": "markdown",
   "metadata": {},
   "source": [
    "So\n",
    "$$\n",
    "\\frac{\\partial{E}}{\\partial{w_{1,3}}} = \\delta_{o3} \\cdot h_1\n",
    "$$"
   ]
  },
  {
   "cell_type": "code",
   "execution_count": 14,
   "metadata": {},
   "outputs": [
    {
     "data": {
      "text/plain": [
       "-0.04120497526958182"
      ]
     },
     "execution_count": 14,
     "metadata": {},
     "output_type": "execute_result"
    }
   ],
   "source": [
    "step_w1_3 = delta_o * h1_out\n",
    "step_w1_3"
   ]
  },
  {
   "cell_type": "markdown",
   "metadata": {},
   "source": [
    "Similarly for $ w_{2,3} $:\n",
    "\n",
    "$$\n",
    "\\frac{\\partial E}{\\partial w_{2,3}} = \\delta_o \\times h_2\n",
    "$$"
   ]
  },
  {
   "cell_type": "code",
   "execution_count": 15,
   "metadata": {},
   "outputs": [
    {
     "data": {
      "text/plain": [
       "-0.04312958661514185"
      ]
     },
     "execution_count": 15,
     "metadata": {},
     "output_type": "execute_result"
    }
   ],
   "source": [
    "step_w2_3 = delta_o * h2_out\n",
    "step_w2_3"
   ]
  },
  {
   "cell_type": "markdown",
   "metadata": {},
   "source": [
    "### Update Output Layer Weights (gradient descent)\n",
    "Using:\n",
    "\n",
    "$$\n",
    "w' = w - \\eta \\frac{\\partial E}{\\partial w}\n",
    "$$"
   ]
  },
  {
   "cell_type": "code",
   "execution_count": 16,
   "metadata": {},
   "outputs": [
    {
     "data": {
      "text/plain": [
       "0.3206024876347909"
      ]
     },
     "execution_count": 16,
     "metadata": {},
     "output_type": "execute_result"
    }
   ],
   "source": [
    "new_w1_3 = w1_3 - alpha * step_w1_3\n",
    "new_w1_3"
   ]
  },
  {
   "cell_type": "code",
   "execution_count": 17,
   "metadata": {},
   "outputs": [
    {
     "data": {
      "text/plain": [
       "0.9215647933075709"
      ]
     },
     "execution_count": 17,
     "metadata": {},
     "output_type": "execute_result"
    }
   ],
   "source": [
    "new_w2_3 = w2_3 - alpha * step_w2_3\n",
    "new_w2_3"
   ]
  },
  {
   "cell_type": "markdown",
   "metadata": {},
   "source": [
    "## Compute Hidden Layer Errors"
   ]
  },
  {
   "cell_type": "markdown",
   "metadata": {},
   "source": [
    "![Exercise 1](./Screenshot%202025-03-19%20105410.png)"
   ]
  },
  {
   "cell_type": "markdown",
   "metadata": {},
   "source": [
    "Again we want to compute how much error change relatively to the hidden layer's weights. For example, for $ w_{1,1} $, we can write a chain rule like this:\n",
    "\n",
    "$$\n",
    "\\frac{\\partial{E}}{\\partial{w_{1,1}}} = \\frac{\\partial{E}}{\\partial{o_3}} \\cdot \\frac{\\partial{o_3}}{\\partial{S_{o3}}} \\cdot \\frac{\\partial{S_{o3}}}{\\partial{h_1}} \\cdot \\frac{\\partial{h_1}}{\\partial{S_{h1}}} \\cdot \\frac{\\partial{S_{h1}}}{\\partial{w_{1,1}}}\n",
    "$$"
   ]
  },
  {
   "cell_type": "markdown",
   "metadata": {},
   "source": [
    "where\n",
    "$$\n",
    "\\frac{\\partial{E}}{\\partial{o_3}} \\cdot \\frac{\\partial{o_3}}{\\partial{S_{o3}}} = \\delta_{o3}\n",
    "$$\n",
    "\n",
    "$$\n",
    "\\frac{\\partial{S_{o3}}}{\\partial{h_1}} = \\frac{\\partial{}}{\\partial{h_1}}(h_1 \\cdot w_{1,3} + h_2 \\cdot w_{2,3}) = w_{1,3}\n",
    "$$\n",
    "\n",
    "$$\n",
    "\\frac{\\partial{h_1}}{\\partial{S_{h1}}} = h_1^{'}\n",
    "$$\n",
    "\n",
    "$$\n",
    "\\frac{\\partial{S_{h1}}}{\\partial{w_{1,1}}} = \\frac{\\partial{}}{\\partial{w_{1,1}}} (x_1 \\cdot w_{1,1} + x_2 \\cdot w_{2,1}) = x_1\n",
    "$$\n",
    "\n",
    "So\n",
    "$$\n",
    "\\frac{\\partial E}{\\partial{w_{1,1}}} = \\delta_{o3} \\cdot w_{1,3} \\cdot h_1^{'} \\cdot x_1 \n",
    "$$"
   ]
  },
  {
   "cell_type": "code",
   "execution_count": 18,
   "metadata": {},
   "outputs": [
    {
     "data": {
      "text/plain": [
       "-0.0012995831750113448"
      ]
     },
     "execution_count": 18,
     "metadata": {},
     "output_type": "execute_result"
    }
   ],
   "source": [
    "step_w1_1 = delta_o * w1_3 * derive_h1_out * x1\n",
    "step_w1_1"
   ]
  },
  {
   "cell_type": "markdown",
   "metadata": {},
   "source": [
    "The same apply for $ w_{1,2}, w_{2,1}, w_{2,2} $:\n",
    "$$\n",
    "\\frac{\\partial E}{\\partial{w_{1,2}}} = \\delta_{o3} \\cdot w_{2,3} \\cdot h_2^{'} \\cdot x_1 \n",
    "$$\n",
    "\n",
    "$$\n",
    "\\frac{\\partial E}{\\partial{w_{2,1}}} = \\delta_{o3} \\cdot w_{1,3} \\cdot h_1^{'} \\cdot x_2\n",
    "$$\n",
    "\n",
    "$$\n",
    "\\frac{\\partial E}{\\partial{w_{2,2}}} = \\delta_{o3} \\cdot w_{2,3} \\cdot h_2^{'} \\cdot x_2\n",
    "$$"
   ]
  },
  {
   "cell_type": "code",
   "execution_count": 19,
   "metadata": {},
   "outputs": [
    {
     "data": {
      "text/plain": [
       "-0.005070841945534772"
      ]
     },
     "execution_count": 19,
     "metadata": {},
     "output_type": "execute_result"
    }
   ],
   "source": [
    "step_w1_2 = delta_o * w2_3 * derive_h2_out * x1\n",
    "step_w1_2"
   ]
  },
  {
   "cell_type": "code",
   "execution_count": 20,
   "metadata": {},
   "outputs": [
    {
     "data": {
      "text/plain": [
       "-0.0025991663500226896"
      ]
     },
     "execution_count": 20,
     "metadata": {},
     "output_type": "execute_result"
    }
   ],
   "source": [
    "step_w2_1 = delta_o * w1_3 * derive_h1_out * x2\n",
    "step_w2_1"
   ]
  },
  {
   "cell_type": "code",
   "execution_count": 21,
   "metadata": {},
   "outputs": [
    {
     "data": {
      "text/plain": [
       "-0.010141683891069545"
      ]
     },
     "execution_count": 21,
     "metadata": {},
     "output_type": "execute_result"
    }
   ],
   "source": [
    "step_w2_2 = delta_o * w2_3 * derive_h2_out * x2\n",
    "step_w2_2"
   ]
  },
  {
   "cell_type": "markdown",
   "metadata": {},
   "source": [
    "### Compute gradient for hidden layer weights"
   ]
  },
  {
   "cell_type": "code",
   "execution_count": 22,
   "metadata": {},
   "outputs": [
    {
     "name": "stdout",
     "output_type": "stream",
     "text": [
      "0.20064979158750568\n",
      "0.30253542097276737\n",
      "0.20129958317501134\n",
      "0.30507084194553474\n"
     ]
    }
   ],
   "source": [
    "new_w1_1 = w1_1 - alpha * step_w1_1\n",
    "print(new_w1_1)\n",
    "\n",
    "new_w1_2 = w1_2 - alpha * step_w1_2\n",
    "print(new_w1_2)\n",
    "\n",
    "new_w2_1 = w2_1 - alpha * step_w2_1\n",
    "print(new_w2_1)\n",
    "\n",
    "new_w2_2 = w2_2 - alpha * step_w2_2\n",
    "print(new_w2_2)"
   ]
  },
  {
   "cell_type": "markdown",
   "metadata": {},
   "source": [
    "## Final Updated Weights (for this epoch)\n"
   ]
  },
  {
   "cell_type": "code",
   "execution_count": 25,
   "metadata": {},
   "outputs": [
    {
     "name": "stdout",
     "output_type": "stream",
     "text": [
      "W_1_1 0.20064979158750568\n",
      "W_1_2 0.30253542097276737\n",
      "W_2_1 0.20129958317501134\n",
      "W_2_2 0.30507084194553474\n",
      "W_1_3 0.3206024876347909\n",
      "W_2_3 0.9215647933075709\n"
     ]
    }
   ],
   "source": [
    "w1_1 = new_w1_1\n",
    "w1_2 = new_w1_2\n",
    "w2_1 = new_w2_1\n",
    "w2_2 = new_w2_2\n",
    "w1_3 = new_w1_3\n",
    "w2_3 = new_w2_3\n",
    "\n",
    "print(\"W_1_1\", new_w1_1)\n",
    "print(\"W_1_2\", new_w1_2)\n",
    "print(\"W_2_1\", new_w2_1)\n",
    "print(\"W_2_2\", new_w2_2)\n",
    "print(\"W_1_3\", new_w1_3)\n",
    "print(\"W_2_3\", new_w2_3)"
   ]
  },
  {
   "cell_type": "markdown",
   "metadata": {},
   "source": [
    "## Forward Pass - One more time"
   ]
  },
  {
   "cell_type": "markdown",
   "metadata": {},
   "source": [
    "Since we have new weights, we want to perform the forward pass one more time to see if the error is decreasing or increasing."
   ]
  },
  {
   "cell_type": "code",
   "execution_count": 27,
   "metadata": {},
   "outputs": [],
   "source": [
    "def forward(x1, x2):\n",
    "    h1_net = (x1 * w1_1) + (x2 * w2_1)\n",
    "    h1_out = 1 / (1 + math.exp(-h1_net))\n",
    "    h2_net = (x1 * w1_2) + (x2 * w2_2)\n",
    "    h2_out = 1 / (1 + math.exp(-h2_net))\n",
    "    o3_net = (h1_out * w1_3) + (h2_out * w2_3)\n",
    "    o3_out = 1 / (1 + math.exp(-o3_net))\n",
    "    return o3_out"
   ]
  },
  {
   "cell_type": "code",
   "execution_count": 28,
   "metadata": {},
   "outputs": [
    {
     "data": {
      "text/plain": [
       "0.6706043722221676"
      ]
     },
     "execution_count": 28,
     "metadata": {},
     "output_type": "execute_result"
    }
   ],
   "source": [
    "new_out = forward(0.35, 0.7)\n",
    "new_out"
   ]
  },
  {
   "cell_type": "code",
   "execution_count": 29,
   "metadata": {},
   "outputs": [],
   "source": [
    "def error(y_true, y_pred):\n",
    "    return 0.5 * (y_true - y_pred) ** 2"
   ]
  },
  {
   "cell_type": "markdown",
   "metadata": {},
   "source": [
    "Calculate the new error and compare to the previous error, if $ E_{old} - E_{new} > 0$ mean there's an improvement in model's learning, none otherwise. "
   ]
  },
  {
   "cell_type": "code",
   "execution_count": 30,
   "metadata": {},
   "outputs": [
    {
     "data": {
      "text/plain": [
       "0.05425073979957615"
      ]
     },
     "execution_count": 30,
     "metadata": {},
     "output_type": "execute_result"
    }
   ],
   "source": [
    "new_err = error(1, new_out)\n",
    "new_err"
   ]
  },
  {
   "cell_type": "code",
   "execution_count": 31,
   "metadata": {},
   "outputs": [
    {
     "data": {
      "text/plain": [
       "0.001837093671020265"
      ]
     },
     "execution_count": 31,
     "metadata": {},
     "output_type": "execute_result"
    }
   ],
   "source": [
    "diff_err = err_total - new_err\n",
    "diff_err"
   ]
  }
 ],
 "metadata": {
  "kernelspec": {
   "display_name": "myenv",
   "language": "python",
   "name": "python3"
  },
  "language_info": {
   "codemirror_mode": {
    "name": "ipython",
    "version": 3
   },
   "file_extension": ".py",
   "mimetype": "text/x-python",
   "name": "python",
   "nbconvert_exporter": "python",
   "pygments_lexer": "ipython3",
   "version": "3.12.9"
  }
 },
 "nbformat": 4,
 "nbformat_minor": 2
}

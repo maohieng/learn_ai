{
  "cells": [
    {
      "cell_type": "markdown",
      "metadata": {},
      "source": [
        "# PySpark Introductory Lab Exercise"
      ]
    },
    {
      "cell_type": "markdown",
      "metadata": {},
      "source": [
        "Prepared by: **Mr. Hieng MAO**\n",
        "\n",
        "Date: **02 April 2025**\n",
        "\n",
        "Source Code: [Here](https://github.com/maohieng/learn_ai/blob/main/larg_data/Hieng_MAO_Spark_lab.ipynb)"
      ]
    },
    {
      "cell_type": "markdown",
      "metadata": {
        "id": "o8QMEECFieJ7"
      },
      "source": [
        "## Install PySpark"
      ]
    },
    {
      "cell_type": "code",
      "execution_count": 1,
      "metadata": {},
      "outputs": [
        {
          "name": "stdout",
          "output_type": "stream",
          "text": [
            "/home/rnd/hieng/venv/bin/pip\n"
          ]
        }
      ],
      "source": [
        "!which pip"
      ]
    },
    {
      "cell_type": "code",
      "execution_count": 4,
      "metadata": {
        "colab": {
          "base_uri": "https://localhost:8080/"
        },
        "id": "l8p-scL7ibHj",
        "outputId": "e7cbd34e-52c5-49ef-c5e4-a7a64fb737fe"
      },
      "outputs": [
        {
          "name": "stdout",
          "output_type": "stream",
          "text": [
            "Requirement already satisfied: pyspark in /home/rnd/hieng/venv/lib/python3.12/site-packages (3.5.5)\n",
            "Requirement already satisfied: py4j==0.10.9.7 in /home/rnd/hieng/venv/lib/python3.12/site-packages (from pyspark) (0.10.9.7)\n"
          ]
        }
      ],
      "source": [
        "!pip install pyspark"
      ]
    },
    {
      "cell_type": "markdown",
      "metadata": {
        "id": "BQOq3NCmip4p"
      },
      "source": [
        "## Create a spark session"
      ]
    },
    {
      "cell_type": "code",
      "execution_count": 5,
      "metadata": {
        "colab": {
          "base_uri": "https://localhost:8080/"
        },
        "id": "1Y5DT6HyizhX",
        "outputId": "b77f0a2e-e5d9-4a5b-fffd-7801c1a7a328"
      },
      "outputs": [
        {
          "name": "stderr",
          "output_type": "stream",
          "text": [
            "25/04/08 07:27:35 WARN Utils: Your hostname, vishnu resolves to a loopback address: 127.0.1.1; using 103.16.62.251 instead (on interface eno8303)\n",
            "25/04/08 07:27:35 WARN Utils: Set SPARK_LOCAL_IP if you need to bind to another address\n",
            "Setting default log level to \"WARN\".\n",
            "To adjust logging level use sc.setLogLevel(newLevel). For SparkR, use setLogLevel(newLevel).\n",
            "25/04/08 07:27:36 WARN NativeCodeLoader: Unable to load native-hadoop library for your platform... using builtin-java classes where applicable\n"
          ]
        },
        {
          "name": "stdout",
          "output_type": "stream",
          "text": [
            "<pyspark.sql.session.SparkSession object at 0x76891ff8d850>\n"
          ]
        }
      ],
      "source": [
        "from pyspark.sql import SparkSession\n",
        "\n",
        "spark = SparkSession.builder.appName(\"PySpark Exercise\").getOrCreate()\n",
        "\n",
        "print(spark)"
      ]
    },
    {
      "cell_type": "markdown",
      "metadata": {
        "id": "8LSbKqaijJ38"
      },
      "source": [
        "## Create a DataFrame"
      ]
    },
    {
      "cell_type": "code",
      "execution_count": 6,
      "metadata": {
        "colab": {
          "base_uri": "https://localhost:8080/"
        },
        "id": "H7EXZSb4jONU",
        "outputId": "8a20a472-d105-4f2d-d4a2-a6f206b5da85"
      },
      "outputs": [
        {
          "name": "stderr",
          "output_type": "stream",
          "text": [
            "                                                                                \r"
          ]
        },
        {
          "name": "stdout",
          "output_type": "stream",
          "text": [
            "+-----+-----------+------+\n",
            "| Name| Department|Salary|\n",
            "+-----+-----------+------+\n",
            "|Alice|         HR| 50000|\n",
            "|  Bob|Engineering| 75000|\n",
            "|Cathy|  Marketing| 60000|\n",
            "+-----+-----------+------+\n",
            "\n"
          ]
        }
      ],
      "source": [
        "data = [\n",
        "    (\"Alice\", \"HR\", 50000),\n",
        "    (\"Bob\", \"Engineering\", 75000),\n",
        "    (\"Cathy\", \"Marketing\", 60000),\n",
        "]\n",
        "\n",
        "column = [\"Name\", \"Department\", \"Salary\"]\n",
        "\n",
        "df = spark.createDataFrame(data, column)\n",
        "\n",
        "df.show()"
      ]
    },
    {
      "cell_type": "markdown",
      "metadata": {
        "id": "Fy8QvFwijs3L"
      },
      "source": [
        "## Perform Data Transformation"
      ]
    },
    {
      "cell_type": "code",
      "execution_count": 7,
      "metadata": {
        "colab": {
          "base_uri": "https://localhost:8080/"
        },
        "id": "IdC-aiG6jwKm",
        "outputId": "f3294585-a0f4-4504-d026-b53080e062e1"
      },
      "outputs": [
        {
          "name": "stdout",
          "output_type": "stream",
          "text": [
            "Employee with salary > 55000:\n",
            "+-----+-----------+------+\n",
            "| Name| Department|Salary|\n",
            "+-----+-----------+------+\n",
            "|  Bob|Engineering| 75000|\n",
            "|Cathy|  Marketing| 60000|\n",
            "+-----+-----------+------+\n",
            "\n",
            "DataFrame with bonus:\n",
            "+-----+-----------+------+------+\n",
            "| Name| Department|Salary| Bonus|\n",
            "+-----+-----------+------+------+\n",
            "|Alice|         HR| 50000|5000.0|\n",
            "|  Bob|Engineering| 75000|7500.0|\n",
            "|Cathy|  Marketing| 60000|6000.0|\n",
            "+-----+-----------+------+------+\n",
            "\n"
          ]
        }
      ],
      "source": [
        "high_earner = df.filter(df.Salary >= 55000)\n",
        "print(\"Employee with salary > 55000:\")\n",
        "high_earner.show()\n",
        "\n",
        "# Add a column for a 10% bonus\n",
        "df_with_bonus = df.withColumn(\"Bonus\", df.Salary * 0.1)\n",
        "print(\"DataFrame with bonus:\")\n",
        "df_with_bonus.show()"
      ]
    },
    {
      "cell_type": "markdown",
      "metadata": {
        "id": "GebxS1TxkhOR"
      },
      "source": [
        "Show employee in the \"Engineering\" department only"
      ]
    },
    {
      "cell_type": "code",
      "execution_count": 8,
      "metadata": {
        "colab": {
          "base_uri": "https://localhost:8080/"
        },
        "id": "iyRJ4_DDkndJ",
        "outputId": "115581fa-861d-461f-e640-2299e2b4e9a8"
      },
      "outputs": [
        {
          "name": "stdout",
          "output_type": "stream",
          "text": [
            "Employee in the Engineering department:\n",
            "+----+-----------+------+\n",
            "|Name| Department|Salary|\n",
            "+----+-----------+------+\n",
            "| Bob|Engineering| 75000|\n",
            "+----+-----------+------+\n",
            "\n"
          ]
        }
      ],
      "source": [
        "enigneering_department = df.filter(df.Department == \"Engineering\")\n",
        "print(\"Employee in the Engineering department:\")\n",
        "enigneering_department.show()"
      ]
    },
    {
      "cell_type": "markdown",
      "metadata": {
        "id": "0P3_m-PJlZaV"
      },
      "source": [
        "## Explore the DataFrame"
      ]
    },
    {
      "cell_type": "code",
      "execution_count": 9,
      "metadata": {
        "colab": {
          "base_uri": "https://localhost:8080/"
        },
        "id": "jqNwG3y5lcNL",
        "outputId": "7797c583-bc61-4d44-b5f7-83cff16d7e8f"
      },
      "outputs": [
        {
          "name": "stderr",
          "output_type": "stream",
          "text": [
            "[Stage 16:=============================================>          (39 + 9) / 48]\r"
          ]
        },
        {
          "name": "stdout",
          "output_type": "stream",
          "text": [
            "Total number of employee: 3\n",
            "DataFrame schema:\n",
            "root\n",
            " |-- Name: string (nullable = true)\n",
            " |-- Department: string (nullable = true)\n",
            " |-- Salary: long (nullable = true)\n",
            "\n"
          ]
        },
        {
          "name": "stderr",
          "output_type": "stream",
          "text": [
            "                                                                                \r"
          ]
        }
      ],
      "source": [
        "# Count the number of rows\n",
        "row_count = df.count()\n",
        "print(\"Total number of employee:\", row_count)\n",
        "\n",
        "# Get the schema of the DataFrame\n",
        "print(\"DataFrame schema:\")\n",
        "df.printSchema()"
      ]
    },
    {
      "cell_type": "markdown",
      "metadata": {
        "id": "DYMD2Uhvm4iT"
      },
      "source": [
        "## Challenge Questions"
      ]
    },
    {
      "cell_type": "code",
      "execution_count": 10,
      "metadata": {
        "colab": {
          "base_uri": "https://localhost:8080/"
        },
        "id": "sMrQYgoEm72a",
        "outputId": "aa97cd7a-d8ee-4113-ab73-dc1f2f004c7a"
      },
      "outputs": [
        {
          "name": "stdout",
          "output_type": "stream",
          "text": [
            "DataFrame with new column:\n",
            "+-----+-----------+------+------+------------------+\n",
            "| Name| Department|Salary| Bonus|Total_Compensation|\n",
            "+-----+-----------+------+------+------------------+\n",
            "|Alice|         HR| 50000|5000.0|           55000.0|\n",
            "|  Bob|Engineering| 75000|7500.0|           82500.0|\n",
            "|Cathy|  Marketing| 60000|6000.0|           66000.0|\n",
            "+-----+-----------+------+------+------------------+\n",
            "\n"
          ]
        }
      ],
      "source": [
        "# Add a new column\n",
        "df_with_total_compensation = df_with_bonus.withColumn(\"Total_Compensation\", df_with_bonus.Salary + df_with_bonus.Bonus)\n",
        "\n",
        "# Show the DataFrame with the new column\n",
        "print(\"DataFrame with new column:\")\n",
        "df_with_total_compensation.show()"
      ]
    },
    {
      "cell_type": "code",
      "execution_count": 11,
      "metadata": {
        "colab": {
          "base_uri": "https://localhost:8080/"
        },
        "id": "41FxbCrWoT8y",
        "outputId": "809b4c7f-eea5-4591-f016-869d6a7d69b5"
      },
      "outputs": [
        {
          "name": "stdout",
          "output_type": "stream",
          "text": [
            "Sorted DataFrame by Salary:\n",
            "+-----+-----------+------+------+------------------+\n",
            "| Name| Department|Salary| Bonus|Total_Compensation|\n",
            "+-----+-----------+------+------+------------------+\n",
            "|  Bob|Engineering| 75000|7500.0|           82500.0|\n",
            "|Cathy|  Marketing| 60000|6000.0|           66000.0|\n",
            "|Alice|         HR| 50000|5000.0|           55000.0|\n",
            "+-----+-----------+------+------+------------------+\n",
            "\n"
          ]
        }
      ],
      "source": [
        "# Sort the DataFrame by Salary in decending order\n",
        "sorted_df = df_with_total_compensation.orderBy(df_with_total_compensation.Salary.desc())\n",
        "\n",
        "# Show the sorted DataFrame\n",
        "print(\"Sorted DataFrame by Salary:\")\n",
        "sorted_df.show()"
      ]
    },
    {
      "cell_type": "code",
      "execution_count": 12,
      "metadata": {
        "colab": {
          "base_uri": "https://localhost:8080/"
        },
        "id": "1lM7QJoQonj8",
        "outputId": "52380211-434b-4838-efb0-8975124e577f"
      },
      "outputs": [
        {
          "name": "stdout",
          "output_type": "stream",
          "text": [
            "Employee whose names start with 'A':\n",
            "+-----+----------+------+\n",
            "| Name|Department|Salary|\n",
            "+-----+----------+------+\n",
            "|Alice|        HR| 50000|\n",
            "+-----+----------+------+\n",
            "\n"
          ]
        }
      ],
      "source": [
        "# Show only Employee whose names start with \"A\"\n",
        "employees_start_with_a = df.filter(df.Name.startswith(\"A\"))\n",
        "print(\"Employee whose names start with 'A':\")\n",
        "employees_start_with_a.show()"
      ]
    },
    {
      "cell_type": "markdown",
      "metadata": {
        "id": "EgHiRwPYoyVB"
      },
      "source": [
        "## Clean Up"
      ]
    },
    {
      "cell_type": "code",
      "execution_count": 13,
      "metadata": {
        "id": "7xiicKN_ozin"
      },
      "outputs": [],
      "source": [
        "spark.stop()"
      ]
    }
  ],
  "metadata": {
    "colab": {
      "provenance": []
    },
    "kernelspec": {
      "display_name": "venv",
      "language": "python",
      "name": "python3"
    },
    "language_info": {
      "codemirror_mode": {
        "name": "ipython",
        "version": 3
      },
      "file_extension": ".py",
      "mimetype": "text/x-python",
      "name": "python",
      "nbconvert_exporter": "python",
      "pygments_lexer": "ipython3",
      "version": "3.12.3"
    }
  },
  "nbformat": 4,
  "nbformat_minor": 0
}

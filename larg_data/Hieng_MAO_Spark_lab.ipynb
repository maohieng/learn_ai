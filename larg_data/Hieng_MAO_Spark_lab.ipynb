{
  "cells": [
    {
      "cell_type": "markdown",
      "metadata": {},
      "source": [
        "# PySpark Introductory Lab Exercise"
      ]
    },
    {
      "cell_type": "markdown",
      "metadata": {},
      "source": [
        "Prepared by: **Mr. Hieng MAO**\n",
        "\n",
        "Date: **02 April 2025**\n",
        "\n",
        "Source Code: [Here](https://github.com/maohieng/learn_ai/blob/main/larg_data/Hieng_MAO_Spark_lab.ipynb)"
      ]
    },
    {
      "cell_type": "markdown",
      "metadata": {
        "id": "o8QMEECFieJ7"
      },
      "source": [
        "## Install PySpark"
      ]
    },
    {
      "cell_type": "code",
      "execution_count": 11,
      "metadata": {
        "colab": {
          "base_uri": "https://localhost:8080/"
        },
        "id": "l8p-scL7ibHj",
        "outputId": "e7cbd34e-52c5-49ef-c5e4-a7a64fb737fe"
      },
      "outputs": [
        {
          "name": "stdout",
          "output_type": "stream",
          "text": [
            "Requirement already satisfied: pyspark in /usr/local/lib/python3.11/dist-packages (3.5.5)\n",
            "Requirement already satisfied: py4j==0.10.9.7 in /usr/local/lib/python3.11/dist-packages (from pyspark) (0.10.9.7)\n"
          ]
        }
      ],
      "source": [
        "!pip install pyspark"
      ]
    },
    {
      "cell_type": "markdown",
      "metadata": {
        "id": "BQOq3NCmip4p"
      },
      "source": [
        "## Create a spark session"
      ]
    },
    {
      "cell_type": "code",
      "execution_count": 12,
      "metadata": {
        "colab": {
          "base_uri": "https://localhost:8080/"
        },
        "id": "1Y5DT6HyizhX",
        "outputId": "b77f0a2e-e5d9-4a5b-fffd-7801c1a7a328"
      },
      "outputs": [
        {
          "name": "stdout",
          "output_type": "stream",
          "text": [
            "<pyspark.sql.session.SparkSession object at 0x7f02a78a5910>\n"
          ]
        }
      ],
      "source": [
        "from pyspark.sql import SparkSession\n",
        "\n",
        "spark = SparkSession.builder.appName(\"PySpark Exercise\").getOrCreate()\n",
        "\n",
        "print(spark)"
      ]
    },
    {
      "cell_type": "markdown",
      "metadata": {
        "id": "8LSbKqaijJ38"
      },
      "source": [
        "## Create a DataFrame"
      ]
    },
    {
      "cell_type": "code",
      "execution_count": 13,
      "metadata": {
        "colab": {
          "base_uri": "https://localhost:8080/"
        },
        "id": "H7EXZSb4jONU",
        "outputId": "8a20a472-d105-4f2d-d4a2-a6f206b5da85"
      },
      "outputs": [
        {
          "name": "stdout",
          "output_type": "stream",
          "text": [
            "+-----+-----------+------+\n",
            "| Name| Department|Salary|\n",
            "+-----+-----------+------+\n",
            "|Alice|         HR| 50000|\n",
            "|  Bob|Engineering| 75000|\n",
            "|Cathy|  Marketing| 60000|\n",
            "+-----+-----------+------+\n",
            "\n"
          ]
        }
      ],
      "source": [
        "data = [\n",
        "    (\"Alice\", \"HR\", 50000),\n",
        "    (\"Bob\", \"Engineering\", 75000),\n",
        "    (\"Cathy\", \"Marketing\", 60000),\n",
        "]\n",
        "\n",
        "column = [\"Name\", \"Department\", \"Salary\"]\n",
        "\n",
        "df = spark.createDataFrame(data, column)\n",
        "\n",
        "df.show()"
      ]
    },
    {
      "cell_type": "markdown",
      "metadata": {
        "id": "Fy8QvFwijs3L"
      },
      "source": [
        "## Perform Data Transformation"
      ]
    },
    {
      "cell_type": "code",
      "execution_count": 14,
      "metadata": {
        "colab": {
          "base_uri": "https://localhost:8080/"
        },
        "id": "IdC-aiG6jwKm",
        "outputId": "f3294585-a0f4-4504-d026-b53080e062e1"
      },
      "outputs": [
        {
          "name": "stdout",
          "output_type": "stream",
          "text": [
            "Employee with salary > 55000:\n",
            "+-----+-----------+------+\n",
            "| Name| Department|Salary|\n",
            "+-----+-----------+------+\n",
            "|  Bob|Engineering| 75000|\n",
            "|Cathy|  Marketing| 60000|\n",
            "+-----+-----------+------+\n",
            "\n",
            "DataFrame with bonus:\n",
            "+-----+-----------+------+------+\n",
            "| Name| Department|Salary| Bonus|\n",
            "+-----+-----------+------+------+\n",
            "|Alice|         HR| 50000|5000.0|\n",
            "|  Bob|Engineering| 75000|7500.0|\n",
            "|Cathy|  Marketing| 60000|6000.0|\n",
            "+-----+-----------+------+------+\n",
            "\n"
          ]
        }
      ],
      "source": [
        "high_earner = df.filter(df.Salary >= 55000)\n",
        "print(\"Employee with salary > 55000:\")\n",
        "high_earner.show()\n",
        "\n",
        "# Add a column for a 10% bonus\n",
        "df_with_bonus = df.withColumn(\"Bonus\", df.Salary * 0.1)\n",
        "print(\"DataFrame with bonus:\")\n",
        "df_with_bonus.show()"
      ]
    },
    {
      "cell_type": "markdown",
      "metadata": {
        "id": "GebxS1TxkhOR"
      },
      "source": [
        "Show employee in the \"Engineering\" department only"
      ]
    },
    {
      "cell_type": "code",
      "execution_count": 15,
      "metadata": {
        "colab": {
          "base_uri": "https://localhost:8080/"
        },
        "id": "iyRJ4_DDkndJ",
        "outputId": "115581fa-861d-461f-e640-2299e2b4e9a8"
      },
      "outputs": [
        {
          "name": "stdout",
          "output_type": "stream",
          "text": [
            "Employee in the Engineering department:\n",
            "+----+-----------+------+\n",
            "|Name| Department|Salary|\n",
            "+----+-----------+------+\n",
            "| Bob|Engineering| 75000|\n",
            "+----+-----------+------+\n",
            "\n"
          ]
        }
      ],
      "source": [
        "enigneering_department = df.filter(df.Department == \"Engineering\")\n",
        "print(\"Employee in the Engineering department:\")\n",
        "enigneering_department.show()"
      ]
    },
    {
      "cell_type": "markdown",
      "metadata": {
        "id": "0P3_m-PJlZaV"
      },
      "source": [
        "## Explore the DataFrame"
      ]
    },
    {
      "cell_type": "code",
      "execution_count": 16,
      "metadata": {
        "colab": {
          "base_uri": "https://localhost:8080/"
        },
        "id": "jqNwG3y5lcNL",
        "outputId": "7797c583-bc61-4d44-b5f7-83cff16d7e8f"
      },
      "outputs": [
        {
          "name": "stdout",
          "output_type": "stream",
          "text": [
            "Total number of employee: 3\n",
            "DataFrame schema:\n",
            "root\n",
            " |-- Name: string (nullable = true)\n",
            " |-- Department: string (nullable = true)\n",
            " |-- Salary: long (nullable = true)\n",
            "\n"
          ]
        }
      ],
      "source": [
        "# Count the number of rows\n",
        "row_count = df.count()\n",
        "print(\"Total number of employee:\", row_count)\n",
        "\n",
        "# Get the schema of the DataFrame\n",
        "print(\"DataFrame schema:\")\n",
        "df.printSchema()"
      ]
    },
    {
      "cell_type": "markdown",
      "metadata": {
        "id": "DYMD2Uhvm4iT"
      },
      "source": [
        "## Challenge Questions"
      ]
    },
    {
      "cell_type": "code",
      "execution_count": 19,
      "metadata": {
        "colab": {
          "base_uri": "https://localhost:8080/"
        },
        "id": "sMrQYgoEm72a",
        "outputId": "aa97cd7a-d8ee-4113-ab73-dc1f2f004c7a"
      },
      "outputs": [
        {
          "name": "stdout",
          "output_type": "stream",
          "text": [
            "DataFrame with new column:\n",
            "+-----+-----------+------+------+------------------+\n",
            "| Name| Department|Salary| Bonus|Total_Compensation|\n",
            "+-----+-----------+------+------+------------------+\n",
            "|Alice|         HR| 50000|5000.0|           55000.0|\n",
            "|  Bob|Engineering| 75000|7500.0|           82500.0|\n",
            "|Cathy|  Marketing| 60000|6000.0|           66000.0|\n",
            "+-----+-----------+------+------+------------------+\n",
            "\n"
          ]
        }
      ],
      "source": [
        "# Add a new column\n",
        "df_with_total_compensation = df_with_bonus.withColumn(\"Total_Compensation\", df_with_bonus.Salary + df_with_bonus.Bonus)\n",
        "\n",
        "# Show the DataFrame with the new column\n",
        "print(\"DataFrame with new column:\")\n",
        "df_with_total_compensation.show()"
      ]
    },
    {
      "cell_type": "code",
      "execution_count": 20,
      "metadata": {
        "colab": {
          "base_uri": "https://localhost:8080/"
        },
        "id": "41FxbCrWoT8y",
        "outputId": "809b4c7f-eea5-4591-f016-869d6a7d69b5"
      },
      "outputs": [
        {
          "name": "stdout",
          "output_type": "stream",
          "text": [
            "Sorted DataFrame by Salary:\n",
            "+-----+-----------+------+------+------------------+\n",
            "| Name| Department|Salary| Bonus|Total_Compensation|\n",
            "+-----+-----------+------+------+------------------+\n",
            "|  Bob|Engineering| 75000|7500.0|           82500.0|\n",
            "|Cathy|  Marketing| 60000|6000.0|           66000.0|\n",
            "|Alice|         HR| 50000|5000.0|           55000.0|\n",
            "+-----+-----------+------+------+------------------+\n",
            "\n"
          ]
        }
      ],
      "source": [
        "# Sort the DataFrame by Salary in decending order\n",
        "sorted_df = df_with_total_compensation.orderBy(df_with_total_compensation.Salary.desc())\n",
        "\n",
        "# Show the sorted DataFrame\n",
        "print(\"Sorted DataFrame by Salary:\")\n",
        "sorted_df.show()"
      ]
    },
    {
      "cell_type": "code",
      "execution_count": 21,
      "metadata": {
        "colab": {
          "base_uri": "https://localhost:8080/"
        },
        "id": "1lM7QJoQonj8",
        "outputId": "52380211-434b-4838-efb0-8975124e577f"
      },
      "outputs": [
        {
          "name": "stdout",
          "output_type": "stream",
          "text": [
            "Employee whose names start with 'A':\n",
            "+-----+----------+------+\n",
            "| Name|Department|Salary|\n",
            "+-----+----------+------+\n",
            "|Alice|        HR| 50000|\n",
            "+-----+----------+------+\n",
            "\n"
          ]
        }
      ],
      "source": [
        "# Show only Employee whose names start with \"A\"\n",
        "employees_start_with_a = df.filter(df.Name.startswith(\"A\"))\n",
        "print(\"Employee whose names start with 'A':\")\n",
        "employees_start_with_a.show()"
      ]
    },
    {
      "cell_type": "markdown",
      "metadata": {
        "id": "EgHiRwPYoyVB"
      },
      "source": [
        "## Clean Up"
      ]
    },
    {
      "cell_type": "code",
      "execution_count": 22,
      "metadata": {
        "id": "7xiicKN_ozin"
      },
      "outputs": [],
      "source": [
        "spark.stop()"
      ]
    }
  ],
  "metadata": {
    "colab": {
      "provenance": []
    },
    "kernelspec": {
      "display_name": "Python 3",
      "name": "python3"
    },
    "language_info": {
      "name": "python"
    }
  },
  "nbformat": 4,
  "nbformat_minor": 0
}

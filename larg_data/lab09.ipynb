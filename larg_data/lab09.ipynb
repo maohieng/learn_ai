{
 "cells": [
  {
   "cell_type": "markdown",
   "id": "8859524a",
   "metadata": {},
   "source": [
    "# Lab 09: Using PySpark and MLlib for K-Means Clustering and Logistic Regression\n",
    "Prepared by: **Hieng MAO**\n",
    "\n",
    "### Objective\n",
    "Learn how to\n",
    "1. Set up a PySpark environment.\n",
    "2. Perform K-means clustering using MLlib.\n",
    "3. Build a Logistic Regression model using MLlib.\n",
    "4. Evaluate and interpret the results.\n",
    "\n",
    "### Prerequisites\n",
    "- Software: Python 3.8+, PySpark (install via pip install pyspark), Java 8 or 11 (required\n",
    "for Spark).\n",
    "- Dataset: Use a sample dataset (e.g., Iris dataset or a synthetic dataset).\n",
    "- Environment: Local machine or cloud-based environment (e.g., Jupyter Notebook,\n",
    "Google Colab)."
   ]
  },
  {
   "cell_type": "code",
   "execution_count": 1,
   "id": "7ae4c76c",
   "metadata": {},
   "outputs": [
    {
     "name": "stdout",
     "output_type": "stream",
     "text": [
      "Requirement already satisfied: pyspark in /home/rnd/hieng/venv/lib/python3.12/site-packages (3.5.5)\n",
      "Requirement already satisfied: py4j==0.10.9.7 in /home/rnd/hieng/venv/lib/python3.12/site-packages (from pyspark) (0.10.9.7)\n"
     ]
    }
   ],
   "source": [
    "!pip install pyspark"
   ]
  },
  {
   "cell_type": "code",
   "execution_count": 59,
   "id": "3bd74fe6",
   "metadata": {},
   "outputs": [
    {
     "name": "stdout",
     "output_type": "stream",
     "text": [
      "Spark session created.\n"
     ]
    }
   ],
   "source": [
    "from pyspark.sql import SparkSession\n",
    "\n",
    "# Create a Spark session\n",
    "spark = SparkSession.builder \\\n",
    "    .appName(\"MLlib Lab\") \\\n",
    "    .getOrCreate()\n",
    "\n",
    "print(\"Spark session created.\")"
   ]
  },
  {
   "cell_type": "markdown",
   "id": "467bfded",
   "metadata": {},
   "source": [
    "### Load or Create a Sample Dataset"
   ]
  },
  {
   "cell_type": "code",
   "execution_count": 60,
   "id": "6d82f6a8",
   "metadata": {},
   "outputs": [],
   "source": [
    "# # Download Iris dataset\n",
    "# !wget -O iris.csv https://raw.githubusercontent.com/jbrownlee/Datasets/master/iris.csv\n",
    "# !ls -l iris.csv\n",
    "# !head -n 5 iris.csv"
   ]
  },
  {
   "cell_type": "code",
   "execution_count": 61,
   "id": "f89ede30",
   "metadata": {},
   "outputs": [],
   "source": [
    "# Load the dataset into a DataFrame\n",
    "df = spark.read.csv(\"iris.csv\", header=True, inferSchema=True)"
   ]
  },
  {
   "cell_type": "code",
   "execution_count": 62,
   "id": "8e9c2cd8",
   "metadata": {},
   "outputs": [
    {
     "name": "stdout",
     "output_type": "stream",
     "text": [
      "+---+------------+-----------+------------+-----------+-----------+\n",
      "| Id|sepal_length|sepal_width|petal_length|petal_width|    species|\n",
      "+---+------------+-----------+------------+-----------+-----------+\n",
      "|  1|         5.1|        3.5|         1.4|        0.2|Iris-setosa|\n",
      "|  2|         4.9|        3.0|         1.4|        0.2|Iris-setosa|\n",
      "|  3|         4.7|        3.2|         1.3|        0.2|Iris-setosa|\n",
      "|  4|         4.6|        3.1|         1.5|        0.2|Iris-setosa|\n",
      "|  5|         5.0|        3.6|         1.4|        0.2|Iris-setosa|\n",
      "+---+------------+-----------+------------+-----------+-----------+\n",
      "only showing top 5 rows\n",
      "\n"
     ]
    }
   ],
   "source": [
    "df.show(5)"
   ]
  },
  {
   "cell_type": "markdown",
   "id": "031cfc9e",
   "metadata": {},
   "source": [
    "### Data Preprocessing"
   ]
  },
  {
   "cell_type": "code",
   "execution_count": 63,
   "id": "7c4c6620",
   "metadata": {},
   "outputs": [
    {
     "name": "stdout",
     "output_type": "stream",
     "text": [
      "+------------+-----------+------------+-----------+-----------+\n",
      "|sepal_length|sepal_width|petal_length|petal_width|    species|\n",
      "+------------+-----------+------------+-----------+-----------+\n",
      "|         5.1|        3.5|         1.4|        0.2|Iris-setosa|\n",
      "|         4.9|        3.0|         1.4|        0.2|Iris-setosa|\n",
      "|         4.7|        3.2|         1.3|        0.2|Iris-setosa|\n",
      "|         4.6|        3.1|         1.5|        0.2|Iris-setosa|\n",
      "|         5.0|        3.6|         1.4|        0.2|Iris-setosa|\n",
      "+------------+-----------+------------+-----------+-----------+\n",
      "only showing top 5 rows\n",
      "\n"
     ]
    }
   ],
   "source": [
    "# Remove Column Id\n",
    "df = df.drop(\"Id\")\n",
    "df.show(5)"
   ]
  },
  {
   "cell_type": "code",
   "execution_count": 64,
   "id": "0bd0f32c",
   "metadata": {},
   "outputs": [
    {
     "name": "stdout",
     "output_type": "stream",
     "text": [
      "+------------+-----------+------------+-----------+-----------+-----------------+\n",
      "|sepal_length|sepal_width|petal_length|petal_width|    species|         features|\n",
      "+------------+-----------+------------+-----------+-----------+-----------------+\n",
      "|         5.1|        3.5|         1.4|        0.2|Iris-setosa|[5.1,3.5,1.4,0.2]|\n",
      "|         4.9|        3.0|         1.4|        0.2|Iris-setosa|[4.9,3.0,1.4,0.2]|\n",
      "|         4.7|        3.2|         1.3|        0.2|Iris-setosa|[4.7,3.2,1.3,0.2]|\n",
      "|         4.6|        3.1|         1.5|        0.2|Iris-setosa|[4.6,3.1,1.5,0.2]|\n",
      "|         5.0|        3.6|         1.4|        0.2|Iris-setosa|[5.0,3.6,1.4,0.2]|\n",
      "+------------+-----------+------------+-----------+-----------+-----------------+\n",
      "only showing top 5 rows\n",
      "\n"
     ]
    }
   ],
   "source": [
    "from pyspark.ml.feature import VectorAssembler\n",
    "\n",
    "# Create a feature vector\n",
    "feature_columns = df.columns[:-1]  # All columns except the last one\n",
    "assembler = VectorAssembler(inputCols=feature_columns, outputCol=\"features\")\n",
    "df_vector = assembler.transform(df)\n",
    "df_vector.show(5)"
   ]
  },
  {
   "cell_type": "markdown",
   "id": "70a1e25c",
   "metadata": {},
   "source": [
    "## K-Means Clustering"
   ]
  },
  {
   "cell_type": "code",
   "execution_count": 112,
   "id": "df56c2b2",
   "metadata": {},
   "outputs": [],
   "source": [
    "from pyspark.ml.clustering import KMeans\n",
    "\n",
    "# Initial KMeans model\n",
    "kmeans = KMeans(k=3, seed=42).setFeaturesCol(\"features\").setPredictionCol(\"cluster\")"
   ]
  },
  {
   "cell_type": "code",
   "execution_count": 113,
   "id": "a2ffd670",
   "metadata": {},
   "outputs": [],
   "source": [
    "# Fit the model\n",
    "k_model = kmeans.fit(df_vector)"
   ]
  },
  {
   "cell_type": "code",
   "execution_count": 114,
   "id": "f5687e36",
   "metadata": {},
   "outputs": [],
   "source": [
    "# Make predictions\n",
    "clustered_data = k_model.transform(df_vector)"
   ]
  },
  {
   "cell_type": "code",
   "execution_count": 115,
   "id": "affb3e59",
   "metadata": {},
   "outputs": [
    {
     "name": "stdout",
     "output_type": "stream",
     "text": [
      "+-----------------+-------+\n",
      "|         features|cluster|\n",
      "+-----------------+-------+\n",
      "|[5.1,3.5,1.4,0.2]|      0|\n",
      "|[4.9,3.0,1.4,0.2]|      0|\n",
      "|[4.7,3.2,1.3,0.2]|      0|\n",
      "|[4.6,3.1,1.5,0.2]|      0|\n",
      "|[5.0,3.6,1.4,0.2]|      0|\n",
      "+-----------------+-------+\n",
      "only showing top 5 rows\n",
      "\n"
     ]
    }
   ],
   "source": [
    "clustered_data.select(\"features\", \"cluster\").show(5)"
   ]
  },
  {
   "cell_type": "markdown",
   "id": "8ef4e285",
   "metadata": {},
   "source": [
    "### Evaluate Clustering\n",
    "Compute the **Silhouette score** to evaluate the clustering quality."
   ]
  },
  {
   "cell_type": "code",
   "execution_count": 116,
   "id": "debe40fd",
   "metadata": {},
   "outputs": [
    {
     "name": "stdout",
     "output_type": "stream",
     "text": [
      "Silhouette with squared euclidean distance = 0.7342113066202725\n"
     ]
    }
   ],
   "source": [
    "from pyspark.ml.evaluation import ClusteringEvaluator\n",
    "\n",
    "# Evaluate clustering by computing Silhouette score\n",
    "evaluator = ClusteringEvaluator(featuresCol=\"features\", predictionCol=\"cluster\")\n",
    "silhouette = evaluator.evaluate(clustered_data)\n",
    "print(f\"Silhouette with squared euclidean distance = {silhouette}\")"
   ]
  },
  {
   "cell_type": "code",
   "execution_count": 117,
   "id": "7d602892",
   "metadata": {},
   "outputs": [
    {
     "data": {
      "image/png": "[encoded data removed]",
      "text/plain": [
       "<Figure size 1000x600 with 1 Axes>"
      ]
     },
     "metadata": {},
     "output_type": "display_data"
    }
   ],
   "source": [
    "# Plotting the clusters in 2D using t-SNE\n",
    "import matplotlib.pyplot as plt\n",
    "import pandas as pd\n",
    "from sklearn.manifold import TSNE\n",
    "import numpy as np\n",
    "import seaborn as sns\n",
    "from sklearn.preprocessing import StandardScaler\n",
    "from sklearn.decomposition import PCA\n",
    "from sklearn.preprocessing import StandardScaler\n",
    "\n",
    "# Convert to Pandas DataFrame\n",
    "clustered_data_pd = clustered_data.select(\"features\", \"cluster\").toPandas()\n",
    "# Convert features to a 2D array\n",
    "X = np.array(clustered_data_pd[\"features\"].tolist())\n",
    "# Standardize the features\n",
    "scaler = StandardScaler()\n",
    "X_scaled = scaler.fit_transform(X)\n",
    "# Perform PCA to reduce dimensions to 2D\n",
    "pca = PCA(n_components=2)\n",
    "X_pca = pca.fit_transform(X_scaled)\n",
    "# Perform t-SNE\n",
    "tsne = TSNE(n_components=2, random_state=42)\n",
    "X_tsne = tsne.fit_transform(X_pca)\n",
    "# Create a DataFrame for plotting\n",
    "plot_df = pd.DataFrame(X_tsne, columns=[\"x\", \"y\"])\n",
    "plot_df[\"cluster\"] = clustered_data_pd[\"cluster\"]\n",
    "# Plot the clusters\n",
    "plt.figure(figsize=(10, 6))\n",
    "sns.scatterplot(data=plot_df, x=\"x\", y=\"y\", hue=\"cluster\", palette=\"Set1\", s=100)\n",
    "plt.title(\"t-SNE visualization of KMeans clusters\")\n",
    "plt.xlabel(\"t-SNE Component 1\")\n",
    "plt.ylabel(\"t-SNE Component 2\")\n",
    "plt.legend(title=\"Cluster\")\n",
    "plt.show()"
   ]
  },
  {
   "cell_type": "markdown",
   "id": "b1002ac8",
   "metadata": {},
   "source": [
    "### Hyperparameters Tuning"
   ]
  },
  {
   "cell_type": "code",
   "execution_count": 118,
   "id": "0f794054",
   "metadata": {},
   "outputs": [
    {
     "name": "stderr",
     "output_type": "stream",
     "text": [
      "25/04/29 04:00:00 WARN CacheManager: Asked to cache already cached data.\n",
      "25/04/29 04:00:00 WARN CacheManager: Asked to cache already cached data.\n"
     ]
    },
    {
     "name": "stdout",
     "output_type": "stream",
     "text": [
      "Best K: 2\n"
     ]
    }
   ],
   "source": [
    "# Tuning KMeans\n",
    "from pyspark.ml.tuning import CrossValidator, ParamGridBuilder\n",
    "from pyspark.ml.evaluation import ClusteringEvaluator\n",
    "# Create a parameter grid for tuning\n",
    "paramGrid = ParamGridBuilder() \\\n",
    "    .addGrid(kmeans.k, [2, 3, 4, 5]) \\\n",
    "    .build()\n",
    "# Create a CrossValidator\n",
    "crossval = CrossValidator(estimator=kmeans,\n",
    "                            estimatorParamMaps=paramGrid,\n",
    "                            evaluator=evaluator,\n",
    "                            numFolds=3)  # Use 3+ folds in practice\n",
    "\n",
    "# Fit the model\n",
    "cv_model = crossval.fit(df_vector)\n",
    "# Get the best model\n",
    "best_model = cv_model.bestModel\n",
    "print(f\"Best K: {best_model.getK()}\")"
   ]
  },
  {
   "cell_type": "code",
   "execution_count": 119,
   "id": "e31f90c2",
   "metadata": {},
   "outputs": [
    {
     "name": "stdout",
     "output_type": "stream",
     "text": [
      "Silhouette with squared euclidean distance = 0.8501515983265806\n"
     ]
    }
   ],
   "source": [
    "# Evaluate the best model\n",
    "best_predictions = best_model.transform(df_vector)\n",
    "silhouette = evaluator.evaluate(best_predictions)\n",
    "print(f\"Silhouette with squared euclidean distance = {silhouette}\")"
   ]
  },
  {
   "cell_type": "markdown",
   "id": "a39b8f24",
   "metadata": {},
   "source": [
    "## Logistic Regression\n",
    "\n",
    "### Prepare Data for Classification\n",
    "For Logistic Regression, we need a numeric label column. Convert the categorical label or species column to numeric using StringIndexer."
   ]
  },
  {
   "cell_type": "code",
   "execution_count": 71,
   "id": "bd7d1eda",
   "metadata": {},
   "outputs": [
    {
     "name": "stdout",
     "output_type": "stream",
     "text": [
      "+------------+-----------+------------+-----------+-----------+-----------------+-------+-----+\n",
      "|sepal_length|sepal_width|petal_length|petal_width|    species|         features|cluster|label|\n",
      "+------------+-----------+------------+-----------+-----------+-----------------+-------+-----+\n",
      "|         5.1|        3.5|         1.4|        0.2|Iris-setosa|[5.1,3.5,1.4,0.2]|      0|  0.0|\n",
      "|         4.9|        3.0|         1.4|        0.2|Iris-setosa|[4.9,3.0,1.4,0.2]|      0|  0.0|\n",
      "|         4.7|        3.2|         1.3|        0.2|Iris-setosa|[4.7,3.2,1.3,0.2]|      0|  0.0|\n",
      "|         4.6|        3.1|         1.5|        0.2|Iris-setosa|[4.6,3.1,1.5,0.2]|      0|  0.0|\n",
      "|         5.0|        3.6|         1.4|        0.2|Iris-setosa|[5.0,3.6,1.4,0.2]|      0|  0.0|\n",
      "+------------+-----------+------------+-----------+-----------+-----------------+-------+-----+\n",
      "only showing top 5 rows\n",
      "\n"
     ]
    }
   ],
   "source": [
    "from pyspark.ml.feature import StringIndexer\n",
    "\n",
    "# Convert categorical labels to numerical labels\n",
    "indexer = StringIndexer(inputCol=\"species\", outputCol=\"label\")\n",
    "df_indexed = indexer.fit(clustered_data).transform(clustered_data)\n",
    "df_indexed.show(5)"
   ]
  },
  {
   "cell_type": "markdown",
   "id": "864a25bf",
   "metadata": {},
   "source": [
    "### Data Splitting"
   ]
  },
  {
   "cell_type": "code",
   "execution_count": 72,
   "id": "bfc3eaa6",
   "metadata": {},
   "outputs": [],
   "source": [
    "# train-test split\n",
    "train_data, test_data = df_indexed.randomSplit([0.7, 0.3], seed=42)"
   ]
  },
  {
   "cell_type": "markdown",
   "id": "3cd43303",
   "metadata": {},
   "source": [
    "### Train the model"
   ]
  },
  {
   "cell_type": "code",
   "execution_count": 73,
   "id": "8d64fbba",
   "metadata": {},
   "outputs": [],
   "source": [
    "from pyspark.ml.classification import LogisticRegression\n",
    "\n",
    "# Create a Logistic Regression model\n",
    "lr = LogisticRegression(featuresCol=\"features\", labelCol=\"label\", maxIter=100)"
   ]
  },
  {
   "cell_type": "code",
   "execution_count": 74,
   "id": "c3978f8e",
   "metadata": {},
   "outputs": [],
   "source": [
    "# Fit the model\n",
    "lr_model = lr.fit(train_data)"
   ]
  },
  {
   "cell_type": "code",
   "execution_count": 75,
   "id": "b9f68404",
   "metadata": {},
   "outputs": [
    {
     "name": "stdout",
     "output_type": "stream",
     "text": [
      "+-----------------+-----+----------+\n",
      "|         features|label|prediction|\n",
      "+-----------------+-----+----------+\n",
      "|[4.4,3.0,1.3,0.2]|  0.0|       0.0|\n",
      "|[4.6,3.2,1.4,0.2]|  0.0|       0.0|\n",
      "|[4.6,3.6,1.0,0.2]|  0.0|       0.0|\n",
      "|[4.7,3.2,1.3,0.2]|  0.0|       0.0|\n",
      "|[4.8,3.1,1.6,0.2]|  0.0|       0.0|\n",
      "+-----------------+-----+----------+\n",
      "only showing top 5 rows\n",
      "\n"
     ]
    }
   ],
   "source": [
    "# Make predictions on test data\n",
    "predictions = lr_model.transform(test_data)\n",
    "predictions.select(\"features\", \"label\", \"prediction\").show(5)"
   ]
  },
  {
   "cell_type": "markdown",
   "id": "70007acb",
   "metadata": {},
   "source": [
    "### Evaluate Logistic Regression"
   ]
  },
  {
   "cell_type": "code",
   "execution_count": 76,
   "id": "49c7a469",
   "metadata": {},
   "outputs": [
    {
     "name": "stdout",
     "output_type": "stream",
     "text": [
      "Test set accuracy = 0.9782608695652174\n"
     ]
    }
   ],
   "source": [
    "from pyspark.ml.evaluation import MulticlassClassificationEvaluator\n",
    "# Evaluate the model\n",
    "evaluator = MulticlassClassificationEvaluator(labelCol=\"label\", predictionCol=\"prediction\", metricName=\"accuracy\")\n",
    "accuracy = evaluator.evaluate(predictions)\n",
    "print(f\"Test set accuracy = {accuracy}\")"
   ]
  },
  {
   "cell_type": "code",
   "execution_count": 85,
   "id": "82f128c3",
   "metadata": {},
   "outputs": [
    {
     "name": "stdout",
     "output_type": "stream",
     "text": [
      "Test set precision = 0.9804347826086957\n",
      "Test set recall = 0.9782608695652174\n",
      "Test set F1 score = 0.978458139351377\n"
     ]
    }
   ],
   "source": [
    "# Evaluate precision, recall, and F1 score\n",
    "precision_evaluator = MulticlassClassificationEvaluator(labelCol=\"label\", predictionCol=\"prediction\", metricName=\"weightedPrecision\")\n",
    "precision = precision_evaluator.evaluate(predictions)\n",
    "print(f\"Test set precision = {precision}\")\n",
    "recall_evaluator = MulticlassClassificationEvaluator(labelCol=\"label\", predictionCol=\"prediction\", metricName=\"weightedRecall\")\n",
    "recall = recall_evaluator.evaluate(predictions)\n",
    "print(f\"Test set recall = {recall}\")\n",
    "f1_evaluator = MulticlassClassificationEvaluator(labelCol=\"label\", predictionCol=\"prediction\", metricName=\"f1\")\n",
    "f1 = f1_evaluator.evaluate(predictions)\n",
    "print(f\"Test set F1 score = {f1}\")"
   ]
  },
  {
   "cell_type": "markdown",
   "id": "b0be35bb",
   "metadata": {},
   "source": [
    "### Visualization - Decision Boundary"
   ]
  },
  {
   "cell_type": "code",
   "execution_count": 125,
   "id": "02282e6f",
   "metadata": {},
   "outputs": [
    {
     "name": "stdout",
     "output_type": "stream",
     "text": [
      "+-----------------+--------------------+\n",
      "|         features|        pca_features|\n",
      "+-----------------+--------------------+\n",
      "|[5.1,3.5,1.4,0.2]|[-2.8271359726790...|\n",
      "|[4.9,3.0,1.4,0.2]|[-2.7959524821488...|\n",
      "|[4.7,3.2,1.3,0.2]|[-2.6215235581650...|\n",
      "|[4.6,3.1,1.5,0.2]|[-2.7649059004742...|\n",
      "|[5.0,3.6,1.4,0.2]|[-2.7827501159516...|\n",
      "+-----------------+--------------------+\n",
      "only showing top 5 rows\n",
      "\n"
     ]
    }
   ],
   "source": [
    "from pyspark.ml.feature import PCA as sparkPCA\n",
    "pca = sparkPCA(k=2, inputCol=\"features\", outputCol=\"pca_features\")\n",
    "pca_model = pca.fit(df_indexed)\n",
    "X_vis = pca_model.transform(df_indexed)\n",
    "X_vis.select(\"features\", \"pca_features\").show(5)"
   ]
  },
  {
   "cell_type": "code",
   "execution_count": 96,
   "id": "c128f857",
   "metadata": {},
   "outputs": [
    {
     "name": "stdout",
     "output_type": "stream",
     "text": [
      "+-----------------+-----+----------+\n",
      "|         features|label|prediction|\n",
      "+-----------------+-----+----------+\n",
      "|[5.1,3.5,1.4,0.2]|  0.0|       0.0|\n",
      "|[4.9,3.0,1.4,0.2]|  0.0|       0.0|\n",
      "|[4.7,3.2,1.3,0.2]|  0.0|       0.0|\n",
      "|[4.6,3.1,1.5,0.2]|  0.0|       0.0|\n",
      "|[5.0,3.6,1.4,0.2]|  0.0|       0.0|\n",
      "+-----------------+-----+----------+\n",
      "only showing top 5 rows\n",
      "\n"
     ]
    }
   ],
   "source": [
    "# Predict all points \n",
    "y_vis_pred = lr_model.transform(df_pca)\n",
    "y_vis_pred.select(\"features\", \"label\", \"prediction\").show(5)"
   ]
  },
  {
   "cell_type": "code",
   "execution_count": null,
   "id": "ea4633fe",
   "metadata": {},
   "outputs": [],
   "source": [
    "# Stop the Spark session\n",
    "spark.stop()"
   ]
  }
 ],
 "metadata": {
  "kernelspec": {
   "display_name": "venv",
   "language": "python",
   "name": "python3"
  },
  "language_info": {
   "codemirror_mode": {
    "name": "ipython",
    "version": 3
   },
   "file_extension": ".py",
   "mimetype": "text/x-python",
   "name": "python",
   "nbconvert_exporter": "python",
   "pygments_lexer": "ipython3",
   "version": "3.12.3"
  }
 },
 "nbformat": 4,
 "nbformat_minor": 5
}

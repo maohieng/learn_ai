{
 "cells": [
  {
   "cell_type": "markdown",
   "id": "23c6398f",
   "metadata": {},
   "source": [
    "# Direction Lab - Spark 02"
   ]
  },
  {
   "cell_type": "code",
   "execution_count": 4,
   "id": "6911e399",
   "metadata": {},
   "outputs": [],
   "source": [
    "from pyspark.sql import SparkSession\n",
    "from operator import add\n",
    "\n",
    "def compute_contributions(url_ranks):\n",
    "    \"\"\"Calculate contributions to linked pages.\"\"\"\n",
    "    url, (link_list, rank) = url_ranks\n",
    "    num_links = len(link_list)\n",
    "    if num_links == 0:\n",
    "        return []\n",
    "    \n",
    "    for link in link_list:\n",
    "        yield (link, rank / num_links)\n",
    "\n",
    "def pagerank(web_graph, damping_factor=0.85, max_iteration=20, tolerance=0.001):\n",
    "    # Initialize Spark session\n",
    "    spark = SparkSession.builder \\\n",
    "        .appName(\"PageRank Example\") \\\n",
    "        .getOrCreate()\n",
    "\n",
    "    # Get the Spark context from the session\n",
    "    sc = spark.sparkContext\n",
    "\n",
    "        # Parallelize the web graph data\n",
    "    links = sc.parallelize(web_graph)\n",
    "\n",
    "    # Create an RDD of (page, links) pairs\n",
    "    pages = links.map(lambda x: x[0]).distinct()\n",
    "    N = pages.count() # total number of pages\n",
    "\n",
    "    ranks = pages.map(lambda page: (page, 1.0))\n",
    "\n",
    "    # Calculate out-degree for each page\n",
    "    out_degree = links.map(lambda x: (x[0], len(x[1])))\n",
    "\n",
    "    # Main PageRank iteration\n",
    "    for iteration in range(max_iteration):\n",
    "        # Join ranks with links to compute contributions\n",
    "        contributions = links.join(ranks).flatMap(compute_contributions)\n",
    "        \n",
    "        # Calculate new ranks\n",
    "        new_ranks = contributions.reduceByKey(add).mapValues(lambda rank: (1 - damping_factor) / N + damping_factor * rank)\n",
    "        \n",
    "        # Check for convergence\n",
    "        rank_diffs = new_ranks.join(ranks).map(lambda x: abs(x[1][0] - x[1][1])).reduce(add)\n",
    "        print(f\"Iteration {iteration + 1}: Total rank difference = {rank_diffs}\")\n",
    "\n",
    "        ranks = new_ranks\n",
    "\n",
    "        if  rank_diffs < tolerance:\n",
    "            print(f\"Converged after {iteration} iterations.\")\n",
    "            break\n",
    "    \n",
    "    return spark, ranks"
   ]
  },
  {
   "cell_type": "code",
   "execution_count": 5,
   "id": "50ed767e",
   "metadata": {},
   "outputs": [],
   "source": [
    "# Sample web graph data: (page, [list of pages it points to])\n",
    "web_graph = [\n",
    "    (\"A\", [\"B\", \"C\"]),\n",
    "    (\"B\", [\"C\"]),\n",
    "    (\"C\", [\"A\"]),\n",
    "    (\"D\", [\"C\"]),\n",
    "]"
   ]
  },
  {
   "cell_type": "code",
   "execution_count": 6,
   "id": "e0f40356",
   "metadata": {},
   "outputs": [],
   "source": [
    "# Parameters\n",
    "damping_factor = 0.85 # typical value for PageRank\n",
    "max_iterations = 20\n",
    "tolerance = 0.001"
   ]
  },
  {
   "cell_type": "code",
   "execution_count": 7,
   "id": "8451c080",
   "metadata": {},
   "outputs": [
    {
     "name": "stderr",
     "output_type": "stream",
     "text": [
      "25/04/10 08:17:28 WARN Utils: Your hostname, vishnu resolves to a loopback address: 127.0.1.1; using 103.16.62.251 instead (on interface eno8303)\n",
      "25/04/10 08:17:28 WARN Utils: Set SPARK_LOCAL_IP if you need to bind to another address\n",
      "Setting default log level to \"WARN\".\n",
      "To adjust logging level use sc.setLogLevel(newLevel). For SparkR, use setLogLevel(newLevel).\n",
      "25/04/10 08:17:28 WARN NativeCodeLoader: Unable to load native-hadoop library for your platform... using builtin-java classes where applicable\n",
      "                                                                                \r"
     ]
    },
    {
     "name": "stdout",
     "output_type": "stream",
     "text": [
      "Iteration 1: Total rank difference = 1.8125\n"
     ]
    },
    {
     "name": "stderr",
     "output_type": "stream",
     "text": [
      "                                                                                \r"
     ]
    },
    {
     "name": "stdout",
     "output_type": "stream",
     "text": [
      "Iteration 2: Total rank difference = 2.3906250000000004\n"
     ]
    },
    {
     "name": "stderr",
     "output_type": "stream",
     "text": [
      "                                                                                \r"
     ]
    },
    {
     "name": "stdout",
     "output_type": "stream",
     "text": [
      "Iteration 3: Total rank difference = 1.9507500000000004\n"
     ]
    },
    {
     "name": "stderr",
     "output_type": "stream",
     "text": [
      "                                                                                \r"
     ]
    },
    {
     "name": "stdout",
     "output_type": "stream",
     "text": [
      "Iteration 4: Total rank difference = 0.9442171875000003\n"
     ]
    },
    {
     "name": "stderr",
     "output_type": "stream",
     "text": [
      "                                                                                \r"
     ]
    },
    {
     "name": "stdout",
     "output_type": "stream",
     "text": [
      "Iteration 5: Total rank difference = 0.5285313281250004\n"
     ]
    },
    {
     "name": "stderr",
     "output_type": "stream",
     "text": [
      "                                                                                \r"
     ]
    },
    {
     "name": "stdout",
     "output_type": "stream",
     "text": [
      "Iteration 6: Total rank difference = 0.3535776708984376\n"
     ]
    },
    {
     "name": "stderr",
     "output_type": "stream",
     "text": [
      "                                                                                \r"
     ]
    },
    {
     "name": "stdout",
     "output_type": "stream",
     "text": [
      "Iteration 7: Total rank difference = 0.3005410202636719\n"
     ]
    },
    {
     "name": "stderr",
     "output_type": "stream",
     "text": [
      "                                                                                \r"
     ]
    },
    {
     "name": "stdout",
     "output_type": "stream",
     "text": [
      "Iteration 8: Total rank difference = 0.2058705988806152\n"
     ]
    },
    {
     "name": "stderr",
     "output_type": "stream",
     "text": [
      "                                                                                \r"
     ]
    },
    {
     "name": "stdout",
     "output_type": "stream",
     "text": [
      "Iteration 9: Total rank difference = 0.1328391309565431\n"
     ]
    },
    {
     "name": "stderr",
     "output_type": "stream",
     "text": [
      "                                                                                \r"
     ]
    },
    {
     "name": "stdout",
     "output_type": "stream",
     "text": [
      "Iteration 10: Total rank difference = 0.11291326131306156\n"
     ]
    },
    {
     "name": "stderr",
     "output_type": "stream",
     "text": [
      "                                                                                \r"
     ]
    },
    {
     "name": "stdout",
     "output_type": "stream",
     "text": [
      "Iteration 11: Total rank difference = 0.09597627211610238\n"
     ]
    },
    {
     "name": "stderr",
     "output_type": "stream",
     "text": [
      "                                                                                \r"
     ]
    },
    {
     "name": "stdout",
     "output_type": "stream",
     "text": [
      "Iteration 12: Total rank difference = 0.08157983129868684\n"
     ]
    },
    {
     "name": "stderr",
     "output_type": "stream",
     "text": [
      "                                                                                \r"
     ]
    },
    {
     "name": "stdout",
     "output_type": "stream",
     "text": [
      "Iteration 13: Total rank difference = 0.06934285660388387\n"
     ]
    },
    {
     "name": "stderr",
     "output_type": "stream",
     "text": [
      "                                                                                \r"
     ]
    },
    {
     "name": "stdout",
     "output_type": "stream",
     "text": [
      "Iteration 14: Total rank difference = 0.05894142811330133\n"
     ]
    },
    {
     "name": "stderr",
     "output_type": "stream",
     "text": [
      "                                                                                \r"
     ]
    },
    {
     "name": "stdout",
     "output_type": "stream",
     "text": [
      "Iteration 15: Total rank difference = 0.05010021389630606\n"
     ]
    },
    {
     "name": "stderr",
     "output_type": "stream",
     "text": [
      "                                                                                \r"
     ]
    },
    {
     "name": "stdout",
     "output_type": "stream",
     "text": [
      "Iteration 16: Total rank difference = 0.04258518181186016\n"
     ]
    },
    {
     "name": "stderr",
     "output_type": "stream",
     "text": [
      "                                                                                \r"
     ]
    },
    {
     "name": "stdout",
     "output_type": "stream",
     "text": [
      "Iteration 17: Total rank difference = 0.03619740454008108\n"
     ]
    },
    {
     "name": "stderr",
     "output_type": "stream",
     "text": [
      "                                                                                \r"
     ]
    },
    {
     "name": "stdout",
     "output_type": "stream",
     "text": [
      "Iteration 18: Total rank difference = 0.03076779385906897\n"
     ]
    },
    {
     "name": "stderr",
     "output_type": "stream",
     "text": [
      "                                                                                \r"
     ]
    },
    {
     "name": "stdout",
     "output_type": "stream",
     "text": [
      "Iteration 19: Total rank difference = 0.026152624780208605\n"
     ]
    },
    {
     "name": "stderr",
     "output_type": "stream",
     "text": [
      "                                                                                \r"
     ]
    },
    {
     "name": "stdout",
     "output_type": "stream",
     "text": [
      "Iteration 20: Total rank difference = 0.0222297310631773\n"
     ]
    },
    {
     "name": "stderr",
     "output_type": "stream",
     "text": [
      "                                                                                \r"
     ]
    },
    {
     "name": "stdout",
     "output_type": "stream",
     "text": [
      "\n",
      "Final Page Ranks Score:\n",
      "Page: B, Rank: 0.1863\n",
      "Page: C, Rank: 0.3485\n",
      "Page: A, Rank: 0.3413\n"
     ]
    }
   ],
   "source": [
    "spark, ranks = pagerank(web_graph, damping_factor=damping_factor, max_iteration=max_iterations, tolerance=tolerance)\n",
    "\n",
    "# Collect and print the final ranks\n",
    "final_ranks = ranks.collect()\n",
    "print(\"\\nFinal Page Ranks Score:\")\n",
    "for page, rank in final_ranks:\n",
    "    print(f\"Page: {page}, Rank: {rank:.4f}\")\n",
    "\n",
    "# Stop the Spark session\n",
    "spark.stop()"
   ]
  },
  {
   "cell_type": "code",
   "execution_count": null,
   "id": "99d4ee88",
   "metadata": {},
   "outputs": [],
   "source": [
    "web_graph = [\n",
    "    (\"A\", [\"B\", \"C\"]),\n",
    "]\n",
    "# Parameters\n",
    "damping_factor = 0.85 # typical value for PageRank\n",
    "max_iterations = 20\n",
    "tolerance = 0.001\n",
    "\n",
    "spark, ranks = pagerank(web_graph, damping_factor=damping_factor, max_iteration=max_iterations, tolerance=tolerance)\n",
    "# Collect and print the final ranks\n",
    "final_ranks = ranks.collect()\n",
    "print(\"\\nFinal Page Ranks Score:\")\n",
    "for page, rank in final_ranks:\n",
    "    print(f\"Page: {page}, Rank: {rank:.4f}\")\n",
    "# Stop the Spark session\n",
    "spark.stop()"
   ]
  }
 ],
 "metadata": {
  "kernelspec": {
   "display_name": "venv",
   "language": "python",
   "name": "python3"
  },
  "language_info": {
   "codemirror_mode": {
    "name": "ipython",
    "version": 3
   },
   "file_extension": ".py",
   "mimetype": "text/x-python",
   "name": "python",
   "nbconvert_exporter": "python",
   "pygments_lexer": "ipython3",
   "version": "3.12.3"
  }
 },
 "nbformat": 4,
 "nbformat_minor": 5
}

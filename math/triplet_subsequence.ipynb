{
 "cells": [
  {
   "cell_type": "markdown",
   "metadata": {},
   "source": [
    "To find a triple subsequence in \\( O(n) \\) time complexity, you can use a linear scan with some auxiliary arrays to keep track of necessary information. A common problem of this type is finding a triplet \\( (a, b, c) \\) in an array such that \\( a < b < c \\). Here's a step-by-step method to solve this in \\( O(n) \\) time:\n",
    "\n",
    "### Step-by-Step Approach\n",
    "\n",
    "1. **Initialize Arrays**: Create two arrays `left_min` and `right_max` of the same size as the input array. These arrays will help keep track of the smallest element to the left of the current element and the largest element to the right of the current element.\n",
    "\n",
    "2. **Fill `left_min` Array**: Traverse the array from left to right to fill the `left_min` array such that `left_min[i]` contains the minimum element from the start of the array to the `i-th` position.\n",
    "\n",
    "3. **Fill `right_max` Array**: Traverse the array from right to left to fill the `right_max` array such that `right_max[i]` contains the maximum element from the `i-th` position to the end of the array.\n",
    "\n",
    "4. **Find the Triplet**: Traverse the array again and for each element `arr[i]`, check if there is a valid triplet by ensuring `left_min[i] < arr[i] < right_max[i]`.\n",
    "\n",
    "### Implementation\n",
    "\n",
    "Here's the implementation of the above approach:\n"
   ]
  },
  {
   "cell_type": "code",
   "execution_count": 1,
   "metadata": {},
   "outputs": [],
   "source": [
    "def find_triple_subsequence(arr):\n",
    "    n = len(arr)\n",
    "    if n < 3:\n",
    "        return None  # Not enough elements for a triplet\n",
    "\n",
    "    # Step 1: Initialize arrays\n",
    "    left_min = [0] * n\n",
    "    right_max = [0] * n\n",
    "\n",
    "    # Step 2: Fill left_min array\n",
    "    left_min[0] = arr[0]\n",
    "    for i in range(1, n):\n",
    "        left_min[i] = min(left_min[i - 1], arr[i])\n",
    "\n",
    "    # Step 3: Fill right_max array\n",
    "    right_max[n - 1] = arr[n - 1]\n",
    "    for i in range(n - 2, -1, -1):\n",
    "        right_max[i] = max(right_max[i + 1], arr[i])\n",
    "\n",
    "    # Step 4: Find the triplet\n",
    "    for i in range(1, n - 1):\n",
    "        if left_min[i - 1] < arr[i] < right_max[i + 1]:\n",
    "            return (left_min[i - 1], arr[i], right_max[i + 1])\n",
    "\n",
    "    return None  # No triplet found"
   ]
  },
  {
   "cell_type": "code",
   "execution_count": 2,
   "metadata": {},
   "outputs": [
    {
     "name": "stdout",
     "output_type": "stream",
     "text": [
      "(1, 2, 5)\n"
     ]
    }
   ],
   "source": [
    "# Example usage:\n",
    "arr = [1, 2, 3, 4, 5]\n",
    "triplet = find_triple_subsequence(arr)\n",
    "print(triplet)  # Output: (1, 2, 3) or (1, 2, 4) or any valid triplet"
   ]
  },
  {
   "cell_type": "markdown",
   "metadata": {},
   "source": [
    "### Explanation\n",
    "\n",
    "1. **Initialize Arrays**:\n",
    "   - `left_min[0] = arr[0]`\n",
    "   - `right_max[n-1] = arr[n-1]`\n",
    "\n",
    "2. **Fill `left_min`**:\n",
    "   - For each `i` from 1 to `n-1`, `left_min[i]` is the minimum of `left_min[i-1]` and `arr[i]`.\n",
    "\n",
    "3. **Fill `right_max`**:\n",
    "   - For each `i` from `n-2` to 0, `right_max[i]` is the maximum of `right_max[i+1]` and `arr[i]`.\n",
    "\n",
    "4. **Find the Triplet**:\n",
    "   - For each `i` from 1 to `n-2`, check if `left_min[i-1] < arr[i] < right_max[i+1]`. If such a triplet is found, return it.\n",
    "\n",
    "This approach ensures that the overall time complexity is \\( O(n) \\), as each step involves a single linear scan of the array."
   ]
  },
  {
   "cell_type": "markdown",
   "metadata": {},
   "source": []
  }
 ],
 "metadata": {
  "kernelspec": {
   "display_name": "venv",
   "language": "python",
   "name": "python3"
  },
  "language_info": {
   "codemirror_mode": {
    "name": "ipython",
    "version": 3
   },
   "file_extension": ".py",
   "mimetype": "text/x-python",
   "name": "python",
   "nbconvert_exporter": "python",
   "pygments_lexer": "ipython3",
   "version": "3.8.0"
  }
 },
 "nbformat": 4,
 "nbformat_minor": 2
}

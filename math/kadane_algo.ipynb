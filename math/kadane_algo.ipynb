{
 "cells": [
  {
   "cell_type": "markdown",
   "metadata": {},
   "source": [
    "Kadane's algorithm is used to find the maximum subarray sum in an array. It works by maintaining a running sum of the maximum subarray found so far. The key to Kadane's algorithm is to look for all positive contiguous segments of the array (max_ending_here) and keep track of the maximum sum contiguous segment among all positive segments (max_so_far). The algorithm can be implemented as follows:"
   ]
  },
  {
   "cell_type": "code",
   "execution_count": 2,
   "metadata": {},
   "outputs": [],
   "source": [
    "def kadane_algorithm(arr):\n",
    "    max_so_far = arr[0]\n",
    "    max_ending_here = arr[0]\n",
    "    \n",
    "    for i in range(1, len(arr)):\n",
    "        # max_ending_here keeps track of the sum of the current subarray. \n",
    "        # We add the current element to max_ending_here and if it becomes \n",
    "        # less than the current element itself, we start a new subarray \n",
    "        # starting from the current element.\n",
    "        max_ending_here = max(arr[i], max_ending_here + arr[i])\n",
    "        \n",
    "        # max_so_far keeps track of the overall maximum sum of subarrays found so far.\n",
    "        max_so_far = max(max_so_far, max_ending_here)\n",
    "        \n",
    "    return max_so_far"
   ]
  },
  {
   "cell_type": "code",
   "execution_count": 3,
   "metadata": {},
   "outputs": [
    {
     "name": "stdout",
     "output_type": "stream",
     "text": [
      "Maximum subarray sum is 7\n"
     ]
    }
   ],
   "source": [
    "# Example usage\n",
    "arr = [-2, -3, 4, -1, -2, 1, 5, -3]\n",
    "print(\"Maximum subarray sum is\", kadane_algorithm(arr))"
   ]
  }
 ],
 "metadata": {
  "kernelspec": {
   "display_name": "venv",
   "language": "python",
   "name": "python3"
  },
  "language_info": {
   "codemirror_mode": {
    "name": "ipython",
    "version": 3
   },
   "file_extension": ".py",
   "mimetype": "text/x-python",
   "name": "python",
   "nbconvert_exporter": "python",
   "pygments_lexer": "ipython3",
   "version": "3.8.0"
  }
 },
 "nbformat": 4,
 "nbformat_minor": 2
}

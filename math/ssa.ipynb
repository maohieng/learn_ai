{
 "cells": [
  {
   "cell_type": "code",
   "execution_count": 1,
   "metadata": {},
   "outputs": [],
   "source": [
    "import numpy as np\n",
    "import matplotlib.pyplot as plt\n",
    "import pandas as pd  # Assuming time_series is a pandas DataFrame or Series"
   ]
  },
  {
   "cell_type": "code",
   "execution_count": 2,
   "metadata": {},
   "outputs": [],
   "source": [
    "# Define the time series and window length\n",
    "time_series = np.array([1, 1.1, 0, 0.6, -1])\n",
    "L = 2"
   ]
  },
  {
   "cell_type": "code",
   "execution_count": 4,
   "metadata": {},
   "outputs": [
    {
     "data": {
      "text/plain": [
       "(array([[-0.84749103,  0.04914732, -0.3490736 ,  0.39685151],\n",
       "        [-0.44392387, -0.54062051,  0.23405267, -0.67518917],\n",
       "        [-0.24214029,  0.29488391,  0.8944562 ,  0.2331516 ],\n",
       "        [ 0.16142686, -0.7863571 ,  0.15269276,  0.57642762]]),\n",
       " array([1.75214155, 1.43874946]),\n",
       " array([[-0.70710678, -0.70710678],\n",
       "        [-0.70710678,  0.70710678]]))"
      ]
     },
     "execution_count": 4,
     "metadata": {},
     "output_type": "execute_result"
    }
   ],
   "source": [
    "# Construct the trajectory matrix\n",
    "K = len(time_series) - L + 1\n",
    "trajectory_matrix = np.zeros((K, L))\n",
    "for i in range(K):\n",
    "    trajectory_matrix[i] = time_series[i:i + L]\n",
    "\n",
    "# Perform SVD\n",
    "U, Sigma, Vt = np.linalg.svd(trajectory_matrix)\n",
    "\n",
    "U, Sigma, Vt"
   ]
  },
  {
   "cell_type": "code",
   "execution_count": 5,
   "metadata": {},
   "outputs": [
    {
     "data": {
      "text/plain": [
       "array([[[ 1.05,  1.05],\n",
       "        [ 0.55,  0.55],\n",
       "        [ 0.3 ,  0.3 ],\n",
       "        [-0.2 , -0.2 ]],\n",
       "\n",
       "       [[-0.05,  0.05],\n",
       "        [ 0.55, -0.55],\n",
       "        [-0.3 ,  0.3 ],\n",
       "        [ 0.8 , -0.8 ]]])"
      ]
     },
     "execution_count": 5,
     "metadata": {},
     "output_type": "execute_result"
    }
   ],
   "source": [
    "\n",
    "# Reconstruct the elementary matrices\n",
    "elementary_matrices = np.array([Sigma[i] * np.outer(U[:, i], Vt[i, :]) for i in range(L)])\n",
    "\n",
    "elementary_matrices"
   ]
  },
  {
   "cell_type": "code",
   "execution_count": 6,
   "metadata": {},
   "outputs": [
    {
     "data": {
      "text/plain": [
       "array([[ 1. ,  1.1],\n",
       "       [ 1.1,  0. ],\n",
       "       [ 0. ,  0.6],\n",
       "       [ 0.6, -1. ]])"
      ]
     },
     "execution_count": 6,
     "metadata": {},
     "output_type": "execute_result"
    }
   ],
   "source": [
    "# Sum the elementary matrices to get the approximated trajectory matrix\n",
    "approx_trajectory_matrix = np.sum(elementary_matrices, axis=0)\n",
    "\n",
    "approx_trajectory_matrix"
   ]
  },
  {
   "cell_type": "code",
   "execution_count": 10,
   "metadata": {},
   "outputs": [
    {
     "data": {
      "text/plain": [
       "array([ 1. ,  1.1,  0. ,  0.6, -1. ])"
      ]
     },
     "execution_count": 10,
     "metadata": {},
     "output_type": "execute_result"
    }
   ],
   "source": [
    "# Average the anti-diagonals to get the reconstructed time series\n",
    "reconstructed_series = np.zeros(len(time_series))\n",
    "count = np.zeros(len(time_series))\n",
    "\n",
    "for i in range(K):\n",
    "    for j in range(L):\n",
    "        reconstructed_series[i + j] += approx_trajectory_matrix[i, j]\n",
    "        count[i + j] += 1\n",
    "\n",
    "reconstructed_series /= count\n",
    "\n",
    "reconstructed_series"
   ]
  }
 ],
 "metadata": {
  "kernelspec": {
   "display_name": "venv",
   "language": "python",
   "name": "python3"
  },
  "language_info": {
   "codemirror_mode": {
    "name": "ipython",
    "version": 3
   },
   "file_extension": ".py",
   "mimetype": "text/x-python",
   "name": "python",
   "nbconvert_exporter": "python",
   "pygments_lexer": "ipython3",
   "version": "3.8.0"
  }
 },
 "nbformat": 4,
 "nbformat_minor": 2
}

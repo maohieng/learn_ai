{
 "cells": [
  {
   "cell_type": "code",
   "execution_count": 7,
   "id": "1a77237a-ab39-49cf-be17-402ff9979032",
   "metadata": {},
   "outputs": [
    {
     "ename": "ModuleNotFoundError",
     "evalue": "No module named 'matplotlib'",
     "output_type": "error",
     "traceback": [
      "\u001b[0;31m---------------------------------------------------------------------------\u001b[0m",
      "\u001b[0;31mModuleNotFoundError\u001b[0m                       Traceback (most recent call last)",
      "Cell \u001b[0;32mIn[7], line 2\u001b[0m\n\u001b[1;32m      1\u001b[0m \u001b[38;5;28;01mimport\u001b[39;00m \u001b[38;5;21;01mnumpy\u001b[39;00m \u001b[38;5;28;01mas\u001b[39;00m \u001b[38;5;21;01mnp\u001b[39;00m\n\u001b[0;32m----> 2\u001b[0m \u001b[38;5;28;01mimport\u001b[39;00m \u001b[38;5;21;01mmatplotlib\u001b[39;00m\u001b[38;5;21;01m.\u001b[39;00m\u001b[38;5;21;01mpyplot\u001b[39;00m \u001b[38;5;28;01mas\u001b[39;00m \u001b[38;5;21;01mplt\u001b[39;00m\n",
      "\u001b[0;31mModuleNotFoundError\u001b[0m: No module named 'matplotlib'"
     ]
    }
   ],
   "source": [
    "import numpy as np\n",
    "import matplotlib.pyplot as plt"
   ]
  },
  {
   "cell_type": "markdown",
   "id": "ca9d08d0-f5e6-441d-b05f-1e433c113647",
   "metadata": {},
   "source": [
    "# Regression Coefficients\n",
    "Construct linear regression using 3 methods:\n",
    "1. Least Square\n",
    "2. Gradient Descent\n",
    "3. Stochastic Gradient Descent: SGD\n",
    "\n",
    "Example: Given Heights and Weights Dataset of 9 people as follows:\n",
    "X = ([152, 157, 160, 163, 150, 147, 165, 168, 170])\n",
    "y = ([54.48, 55.84, 57.20, 56.57, 53.12, 52.21, 59.93, 61.29, 67.92])\n"
   ]
  },
  {
   "cell_type": "code",
   "execution_count": null,
   "id": "bca92ccb-ccea-41cc-81b5-050e4e9b2329",
   "metadata": {},
   "outputs": [],
   "source": [
    "X = np.array([152, 157, 160, 163, 150, 147, 165, 168, 170])\n",
    "Y = np.array([54.48, 55.84, 57.20, 56.57, 53.12, 52.21, 59.93, 61.29, 67.92])"
   ]
  },
  {
   "cell_type": "markdown",
   "id": "5536da7b-ba30-4a0e-bfba-6c35da53c589",
   "metadata": {},
   "source": [
    "## 1. Least Square\n",
    "To construct the regression coefficients using the Least Squares Method, we follow these steps:\n",
    "\n",
    "1. **Define the linear regression model**: $ y = \\beta_0 + \\beta_1 x $\n",
    "\n",
    "2. **Calculate the means of $X$ and $y$**:\n",
    "   $$\n",
    "   \\bar{X} = \\frac{1}{n} \\sum_{i=1}^n X_i \\quad \\text{and} \\quad \\bar{y} = \\frac{1}{n} \\sum_{i=1}^n y_i\n",
    "   $$\n",
    "   where $n$ is the number of data points.\n",
    "\n",
    "3. **Calculate the regression coefficients**:\n",
    "   $$\n",
    "   \\beta_1 = \\frac{\\sum_{i=1}^n (X_i - \\bar{X})(y_i - \\bar{y})}{\\sum_{i=1}^n (X_i - \\bar{X})^2}\n",
    "   $$\n",
    "   $$\n",
    "   \\beta_0 = \\bar{y} - \\beta_1 \\bar{X}\n",
    "   $$\n",
    "\n",
    "Given data:\n",
    "$ X = [152, 157, 160, 163, 150, 147, 165, 168, 170] $\n",
    "$ y = [54.48, 55.84, 57.20, 56.57, 53.12, 52.21, 59.93, 61.29, 67.92] $\n",
    "\n",
    "### Step 1: Calculate the means of $X$ and $y$\n",
    "$$\n",
    "\\bar{X} = \\frac{152 + 157 + 160 + 163 + 150 + 147 + 165 + 168 + 170}{9}\n",
    "$$\n"
   ]
  },
  {
   "cell_type": "code",
   "execution_count": 6,
   "id": "15e5c41e-2a1b-408b-bf7c-6c913f0085dc",
   "metadata": {},
   "outputs": [
    {
     "ename": "NameError",
     "evalue": "name 'np' is not defined",
     "output_type": "error",
     "traceback": [
      "\u001b[0;31m---------------------------------------------------------------------------\u001b[0m",
      "\u001b[0;31mNameError\u001b[0m                                 Traceback (most recent call last)",
      "Cell \u001b[0;32mIn[6], line 1\u001b[0m\n\u001b[0;32m----> 1\u001b[0m barX \u001b[38;5;241m=\u001b[39m \u001b[43mnp\u001b[49m\u001b[38;5;241m.\u001b[39msum(X) \u001b[38;5;241m/\u001b[39m \u001b[38;5;241m9\u001b[39m\n",
      "\u001b[0;31mNameError\u001b[0m: name 'np' is not defined"
     ]
    }
   ],
   "source": [
    "barX = np.sum(X) / 9"
   ]
  },
  {
   "cell_type": "code",
   "execution_count": null,
   "id": "574d3ff0-5a4f-4f28-a6aa-9f0cd678c686",
   "metadata": {},
   "outputs": [],
   "source": []
  },
  {
   "cell_type": "markdown",
   "id": "769a8e86-95ca-46ac-af24-0b08eceae984",
   "metadata": {},
   "source": [
    "$$\n",
    "\\bar{y} = \\frac{54.48 + 55.84 + 57.20 + 56.57 + 53.12 + 52.21 + 59.93 + 61.29 + 67.92}{9}\n",
    "$$"
   ]
  },
  {
   "cell_type": "code",
   "execution_count": 5,
   "id": "9b4ef896-f561-4c45-897d-2cd0b61fb8a7",
   "metadata": {},
   "outputs": [
    {
     "data": {
      "text/plain": [
       "57.617777777777775"
      ]
     },
     "execution_count": 5,
     "metadata": {},
     "output_type": "execute_result"
    }
   ],
   "source": [
    "(54.48 + 55.84 + 57.20 + 56.57 + 53.12 + 52.21 + 59.93 + 61.29 + 67.92) / 9"
   ]
  },
  {
   "cell_type": "markdown",
   "id": "5c7e8004-b566-42ec-80a2-241cdc6b4c1a",
   "metadata": {},
   "source": [
    "### Step 2: Calculate the regression coefficients\n",
    "First, we calculate the numerator and denominator for $\\beta_1$:\n",
    "$$\n",
    "\\sum_{i=1}^n (X_i - \\bar{X})(y_i - \\bar{y}) = (152-160)(54.48-57.618) + (157-160)(55.84-57.618) + (160-160)(57.20-57.618) + \\cdots + (170-160)(67.92-57.618)\n",
    "$$"
   ]
  },
  {
   "cell_type": "code",
   "execution_count": null,
   "id": "b3cb4b66-6b84-45f3-a8e6-f686cda720b7",
   "metadata": {},
   "outputs": [],
   "source": []
  },
  {
   "cell_type": "markdown",
   "id": "a8cbd847-eccf-437f-900c-7a369ed56eeb",
   "metadata": {},
   "source": [
    "### Step 2: Calculate the regression coefficients\n",
    "First, we calculate the numerator and denominator for $\\beta_1$:\n",
    "$$\n",
    "\\sum_{i=1}^n (X_i - \\bar{X})(y_i - \\bar{y}) = (152-160)(54.48-57.618) + (157-160)(55.84-57.618) + (160-160)(57.20-57.618) + \\cdots + (170-160)(67.92-57.618)\n",
    "$$\n",
    "\n",
    "Calculate each term:\n",
    "$$\n",
    "(152 - 160)(54.48 - 57.618) = (-8)(-3.138) = 25.104\n",
    "$$\n",
    "$$\n",
    "(157 - 160)(55.84 - 57.618) = (-3)(-1.778) = 5.334\n",
    "$$\n",
    "$$\n",
    "(160 - 160)(57.20 - 57.618) = (0)(-0.418) = 0\n",
    "$$\n",
    "$$\n",
    "(163 - 160)(56.57 - 57.618) = (3)(-1.048) = -3.144\n",
    "$$\n",
    "$$\n",
    "(150 - 160)(53.12 - 57.618) = (-10)(-4.498) = 44.98\n",
    "$$\n",
    "$$\n",
    "(147 - 160)(52.21 - 57.618) = (-13)(-5.408) = 70.304\n",
    "$$\n",
    "$$\n",
    "(165 - 160)(59.93 - 57.618) = (5)(2.312) = 11.56\n",
    "$$\n",
    "$$\n",
    "(168 - 160)(61.29 - 57.618) = (8)(3.672) = 29.376\n",
    "$$\n",
    "$$\n",
    "(170 - 160)(67.92 - 57.618) = (10)(10.302) = 103.02\n",
    "$$\n",
    "\n",
    "Sum of products:\n",
    "$$\n",
    "25.104 + 5.334 + 0 - 3.144 + 44.98 + 70.304 + 11.56 + 29.376 + 103.02 = 286.534\n",
    "$$\n",
    "\n",
    "Now, calculate the denominator:\n",
    "$$\n",
    "\\sum_{i=1}^n (X_i - \\bar{X})^2 = (152-160)^2 + (157-160)^2 + (160-160)^2 + \\cdots + (170-160)^2\n",
    "$$\n",
    "$$\n",
    "(152 - 160)^2 = (-8)^2 = 64\n",
    "$$\n",
    "$$\n",
    "(157 - 160)^2 = (-3)^2 = 9\n",
    "$$\n",
    "$$\n",
    "(160 - 160)^2 = 0\n",
    "$$\n",
    "$$\n",
    "(163 - 160)^2 = 3^2 = 9\n",
    "$$\n",
    "$$\n",
    "(150 - 160)^2 = (-10)^2 = 100\n",
    "$$\n",
    "$$\n",
    "(147 - 160)^2 = (-13)^2 = 169\n",
    "$$\n",
    "$$\n",
    "(165 - 160)^2 = 5^2 = 25\n",
    "$$\n",
    "$$\n",
    "(168 - 160)^2 = 8^2 = 64\n",
    "$$\n",
    "$$\n",
    "(170 - 160)^2 = 10^2 = 100\n",
    "$$\n",
    "\n",
    "Sum of squares:\n",
    "$$\n",
    "64 + 9 + 0 + 9 + 100 + 169 + 25 + 64 + 100 = 540\n",
    "$$\n",
    "\n",
    "Calculate $\\beta_1$:\n",
    "$$\n",
    "\\beta_1 = \\frac{286.534}{540} \\approx 0.5306\n",
    "$$\n",
    "\n",
    "Calculate $\\beta_0$:\n",
    "$$\n",
    "\\beta_0 = \\bar{y} - \\beta_1 \\bar{X} = 57.618 - (0.5306 \\times 160) = 57.618 - 84.896 = -27.278\n",
    "$$\n",
    "\n",
    "### Step 3: Regression equation\n",
    "The regression equation is:\n",
    "$$\n",
    "y = -27.278 + 0.5306x\n",
    "$$\n",
    "\n",
    "Therefore, the regression coefficients are $\\beta_0 \\approx -27.278$ and $\\beta_1 \\approx 0.5306$."
   ]
  }
 ],
 "metadata": {
  "kernelspec": {
   "display_name": "Python 3 (ipykernel)",
   "language": "python",
   "name": "python3"
  },
  "language_info": {
   "codemirror_mode": {
    "name": "ipython",
    "version": 3
   },
   "file_extension": ".py",
   "mimetype": "text/x-python",
   "name": "python",
   "nbconvert_exporter": "python",
   "pygments_lexer": "ipython3",
   "version": "3.8.0"
  }
 },
 "nbformat": 4,
 "nbformat_minor": 5
}

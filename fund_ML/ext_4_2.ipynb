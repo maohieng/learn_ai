{
  "cells": [
    {
      "cell_type": "code",
      "execution_count": 12,
      "metadata": {},
      "outputs": [],
      "source": [
        "datapath = 'tiny_mnist/'\n",
        "saved_model_path = './'"
      ]
    },
    {
      "cell_type": "code",
      "execution_count": 1,
      "metadata": {
        "colab": {
          "base_uri": "https://localhost:8080/"
        },
        "id": "KDMdtUHRUV2f",
        "outputId": "1092a643-9b3c-4839-ecaf-c4d688486417"
      },
      "outputs": [
        {
          "name": "stdout",
          "output_type": "stream",
          "text": [
            "imgs (90, 28, 28)\n",
            "lbls (90,)\n"
          ]
        }
      ],
      "source": [
        "import os\n",
        "import cv2\n",
        "import numpy as np\n",
        "\n",
        "imgs = []\n",
        "lbls = []\n",
        "numb_label = 3\n",
        "\n",
        "for i in range(numb_label):\n",
        "  path2 = datapath+'/'+str(i)\n",
        "  for filename in os.listdir(path2):\n",
        "    img = cv2.imread(path2+'/'+filename, cv2.IMREAD_GRAYSCALE)\n",
        "    imgs.append(img)\n",
        "    lbls.append(i)\n",
        "\n",
        "imgs = np.array(imgs)\n",
        "lbls = np.array(lbls)\n",
        "\n",
        "print('imgs', imgs.shape)\n",
        "print('lbls', lbls.shape)"
      ]
    },
    {
      "cell_type": "markdown",
      "metadata": {},
      "source": [
        "### Plot dataset by label"
      ]
    },
    {
      "cell_type": "code",
      "execution_count": 2,
      "metadata": {},
      "outputs": [
        {
          "data": {
            "image/png": "[encoded data removed]",
            "text/plain": [
              "<Figure size 1000x500 with 1 Axes>"
            ]
          },
          "metadata": {},
          "output_type": "display_data"
        }
      ],
      "source": [
        "import matplotlib.pyplot as plt\n",
        "import collections\n",
        "\n",
        "# Count the number of images in each class\n",
        "counter = collections.Counter(lbls)\n",
        "\n",
        "# Extract the counts for each class\n",
        "classes = [0, 1, 2]\n",
        "counts = [counter[cls] for cls in classes]\n",
        "\n",
        "# Plot the counts\n",
        "def plot_class_distribution(classes, counts):\n",
        "    plt.figure(figsize=(10, 5))\n",
        "    plt.bar(classes, counts, color=['blue', 'orange', 'green'])\n",
        "    plt.xlabel('Class')\n",
        "    plt.ylabel('Number of Images')\n",
        "    plt.title('Distribution of Classes in the Dataset', fontsize=14)\n",
        "    plt.xticks(classes)\n",
        "    plt.show()\n",
        "\n",
        "plot_class_distribution(classes, counts)"
      ]
    },
    {
      "cell_type": "code",
      "execution_count": 3,
      "metadata": {
        "colab": {
          "base_uri": "https://localhost:8080/"
        },
        "id": "uge2TrfxXGcV",
        "outputId": "eec27e29-9a2f-4fb7-e877-d762796ae832"
      },
      "outputs": [
        {
          "name": "stdout",
          "output_type": "stream",
          "text": [
            "tx torch.Size([90, 784])\n",
            "ty torch.Size([90])\n"
          ]
        }
      ],
      "source": [
        "import torch\n",
        "\n",
        "tx = torch.tensor(imgs, dtype=torch.float32)\n",
        "\n",
        "img_size = tx.shape[1] * tx.shape[2]\n",
        "\n",
        "tx = tx.reshape(-1, img_size)\n",
        "ty = torch.tensor(lbls, dtype=torch.long)\n",
        "\n",
        "print('tx', tx.shape)\n",
        "print('ty', ty.shape)"
      ]
    },
    {
      "cell_type": "code",
      "execution_count": 4,
      "metadata": {
        "colab": {
          "base_uri": "https://localhost:8080/"
        },
        "id": "mcZN04KGXz4d",
        "outputId": "ba4b3557-769e-4fb1-a2b5-3e9ea58e4625"
      },
      "outputs": [
        {
          "name": "stdout",
          "output_type": "stream",
          "text": [
            "y_pred torch.Size([100, 3])\n",
            "numb_params 238083\n"
          ]
        }
      ],
      "source": [
        "import torch.nn as nn\n",
        "import torch.optim as optim\n",
        "\n",
        "class MyNeuralModel(nn.Module):\n",
        "  def __init__(self):\n",
        "    super().__init__()\n",
        "    self.layers = nn.Sequential(\n",
        "        nn.Linear(28*28, 256),\n",
        "        nn.Sigmoid(),\n",
        "        nn.Linear(256, 128),\n",
        "        nn.Sigmoid(),\n",
        "        nn.Linear(128, 32),\n",
        "        nn.Sigmoid(),\n",
        "        nn.Linear(32, 3)\n",
        "    )\n",
        "    self.losses = []\n",
        "\n",
        "  def forward(self, x):\n",
        "    out = self.layers(x)\n",
        "    return out\n",
        "\n",
        "  def fit(self, x, y, epochs=1000, lr=0.01):\n",
        "    loss_fn = nn.CrossEntropyLoss()\n",
        "    optimizer = optim.SGD(self.parameters(), lr=lr)\n",
        "    for epoch in range(epochs):\n",
        "      optimizer.zero_grad()\n",
        "      y_pred = self.forward(x)\n",
        "      J = loss_fn(y_pred, y)\n",
        "\n",
        "      if epoch % 20 == 0:\n",
        "        print('Epoch: %d, J: %f' % (epoch, J.item()))\n",
        "\n",
        "      J.backward()\n",
        "      optimizer.step()\n",
        "      self.losses.append(J.item())\n",
        "\n",
        "  def predict(self, x):\n",
        "    y_pred = self(x)\n",
        "    y_pred = torch.argmax(y_pred, dim=1)\n",
        "    return y_pred\n",
        "\n",
        "  def evaluate(self, x, y):\n",
        "    y_pred = self.predict(x)\n",
        "    accuracy = (y_pred == y).sum().item() / len(y)\n",
        "    return accuracy\n",
        "\n",
        "tmp = torch.rand(100, 28*28)\n",
        "model = MyNeuralModel()\n",
        "y_pred = model.forward(tmp)\n",
        "print('y_pred', y_pred.shape)\n",
        "\n",
        "def numb_params(model):\n",
        "  return sum(p.numel() for p in model.parameters() if p.requires_grad)\n",
        "\n",
        "print('numb_params', numb_params(model))"
      ]
    },
    {
      "cell_type": "markdown",
      "metadata": {
        "id": "nAE5jOXgauDo"
      },
      "source": [
        "### Train"
      ]
    },
    {
      "cell_type": "code",
      "execution_count": 5,
      "metadata": {
        "colab": {
          "base_uri": "https://localhost:8080/"
        },
        "id": "6sfz0l5RZuD8",
        "outputId": "52ee4c20-de8c-4744-b238-71e02957ab39"
      },
      "outputs": [
        {
          "name": "stdout",
          "output_type": "stream",
          "text": [
            "Epoch: 0, J: 1.100924\n",
            "Epoch: 20, J: 1.089602\n",
            "Epoch: 40, J: 1.081482\n",
            "Epoch: 60, J: 1.070566\n",
            "Epoch: 80, J: 1.053456\n",
            "Epoch: 100, J: 1.023561\n",
            "Epoch: 120, J: 0.967082\n",
            "Epoch: 140, J: 0.862833\n",
            "Epoch: 160, J: 0.721859\n",
            "Epoch: 180, J: 0.591922\n",
            "Epoch: 200, J: 0.491875\n",
            "Epoch: 220, J: 0.409385\n",
            "Epoch: 240, J: 0.335891\n",
            "Epoch: 260, J: 0.272944\n",
            "Epoch: 280, J: 0.224922\n",
            "Epoch: 300, J: 0.186824\n",
            "Epoch: 320, J: 0.156820\n",
            "Epoch: 340, J: 0.133336\n",
            "Epoch: 360, J: 0.114740\n",
            "Epoch: 380, J: 0.099535\n",
            "Epoch: 400, J: 0.087351\n",
            "Epoch: 420, J: 0.077231\n",
            "Epoch: 440, J: 0.068738\n",
            "Epoch: 460, J: 0.061765\n",
            "Epoch: 480, J: 0.055722\n",
            "Epoch: 500, J: 0.050663\n",
            "Epoch: 520, J: 0.046311\n",
            "Epoch: 540, J: 0.042521\n",
            "Epoch: 560, J: 0.039207\n",
            "Epoch: 580, J: 0.036172\n",
            "Epoch: 600, J: 0.033465\n",
            "Epoch: 620, J: 0.031160\n",
            "Epoch: 640, J: 0.029118\n",
            "Epoch: 660, J: 0.027304\n",
            "Epoch: 680, J: 0.025655\n",
            "Epoch: 700, J: 0.024144\n",
            "Epoch: 720, J: 0.022791\n",
            "Epoch: 740, J: 0.021580\n",
            "Epoch: 760, J: 0.020469\n",
            "Epoch: 780, J: 0.019388\n",
            "Epoch: 800, J: 0.018456\n",
            "Epoch: 820, J: 0.017523\n",
            "Epoch: 840, J: 0.016738\n",
            "Epoch: 860, J: 0.016013\n",
            "Epoch: 880, J: 0.015344\n",
            "Epoch: 900, J: 0.014725\n",
            "Epoch: 920, J: 0.014146\n",
            "Epoch: 940, J: 0.013609\n",
            "Epoch: 960, J: 0.013101\n",
            "Epoch: 980, J: 0.012625\n"
          ]
        }
      ],
      "source": [
        "model = MyNeuralModel()\n",
        "model.fit(tx, ty, epochs=1000, lr=0.1)"
      ]
    },
    {
      "cell_type": "markdown",
      "metadata": {
        "id": "IU8lmVvOm7zy"
      },
      "source": [
        "#### Plot Learning"
      ]
    },
    {
      "cell_type": "code",
      "execution_count": 6,
      "metadata": {
        "colab": {
          "base_uri": "https://localhost:8080/",
          "height": 449
        },
        "id": "bhENF1JRnBN_",
        "outputId": "0576c537-3d3d-4301-8a4e-c83940a61a58"
      },
      "outputs": [
        {
          "data": {
            "image/png": "[encoded data removed]",
            "text/plain": [
              "<Figure size 640x480 with 1 Axes>"
            ]
          },
          "metadata": {},
          "output_type": "display_data"
        }
      ],
      "source": [
        "import matplotlib.pyplot as plot\n",
        "\n",
        "def plot_learning(model):\n",
        "  plot.plot(model.losses)\n",
        "  plot.xlabel('Epoch')\n",
        "  plot.ylabel('Loss')\n",
        "  plot.show()\n",
        "\n",
        "plot_learning(model)"
      ]
    },
    {
      "cell_type": "markdown",
      "metadata": {
        "id": "4vDngHIcdknX"
      },
      "source": [
        "### Evaluate model"
      ]
    },
    {
      "cell_type": "code",
      "execution_count": 7,
      "metadata": {
        "colab": {
          "base_uri": "https://localhost:8080/"
        },
        "id": "ZLqXadxWdnDK",
        "outputId": "6f7483b0-e198-4d59-c1ad-a76ddda3f3ec"
      },
      "outputs": [
        {
          "name": "stdout",
          "output_type": "stream",
          "text": [
            "accuracy 1.0\n"
          ]
        }
      ],
      "source": [
        "acc = model.evaluate(tx, ty)\n",
        "print('accuracy', acc)"
      ]
    },
    {
      "cell_type": "markdown",
      "metadata": {
        "id": "x5jlEuuKbQUY"
      },
      "source": [
        "### Save the model"
      ]
    },
    {
      "cell_type": "code",
      "execution_count": 9,
      "metadata": {
        "id": "KanvuJVnbSC-"
      },
      "outputs": [],
      "source": [
        "torch.save(model.state_dict(), f'{saved_model_path}model_4_2.sav')"
      ]
    },
    {
      "cell_type": "markdown",
      "metadata": {
        "id": "VY1gfijUbpXs"
      },
      "source": [
        "### Load the Saved Model"
      ]
    },
    {
      "cell_type": "code",
      "execution_count": 15,
      "metadata": {
        "colab": {
          "base_uri": "https://localhost:8080/"
        },
        "id": "TL8QIImRbrHR",
        "outputId": "578ff232-c12d-484b-d00a-6db7d9d55bc9"
      },
      "outputs": [
        {
          "data": {
            "text/plain": [
              "<All keys matched successfully>"
            ]
          },
          "execution_count": 15,
          "metadata": {},
          "output_type": "execute_result"
        }
      ],
      "source": [
        "loaded_model = MyNeuralModel()\n",
        "loaded_model.load_state_dict(torch.load(f'{saved_model_path}model_4_2.sav'))"
      ]
    },
    {
      "cell_type": "markdown",
      "metadata": {
        "id": "_5XYVsiIeLLq"
      },
      "source": [
        "### Test Model from Test Dataset"
      ]
    },
    {
      "cell_type": "code",
      "execution_count": 16,
      "metadata": {
        "colab": {
          "base_uri": "https://localhost:8080/",
          "height": 87
        },
        "id": "qvnvVHeMeOPP",
        "outputId": "82c00a2b-a8ab-4450-ea94-8454cc33024a"
      },
      "outputs": [
        {
          "name": "stdout",
          "output_type": "stream",
          "text": [
            "[[[0 0 0 ... 0 0 0]\n",
            "  [0 0 0 ... 0 0 0]\n",
            "  [0 0 0 ... 0 0 0]\n",
            "  ...\n",
            "  [0 0 0 ... 0 0 0]\n",
            "  [0 0 0 ... 0 0 0]\n",
            "  [0 0 0 ... 0 0 0]]\n",
            "\n",
            " [[0 0 0 ... 0 0 0]\n",
            "  [0 0 0 ... 0 0 0]\n",
            "  [0 0 0 ... 0 0 0]\n",
            "  ...\n",
            "  [0 0 0 ... 0 0 0]\n",
            "  [0 0 0 ... 0 0 0]\n",
            "  [0 0 0 ... 0 0 0]]\n",
            "\n",
            " [[0 0 0 ... 0 0 0]\n",
            "  [0 0 0 ... 0 0 0]\n",
            "  [0 0 0 ... 0 0 0]\n",
            "  ...\n",
            "  [0 0 0 ... 0 0 0]\n",
            "  [0 0 0 ... 0 0 0]\n",
            "  [0 0 0 ... 0 0 0]]\n",
            "\n",
            " ...\n",
            "\n",
            " [[0 0 0 ... 0 0 0]\n",
            "  [0 0 0 ... 0 0 0]\n",
            "  [0 0 0 ... 0 0 0]\n",
            "  ...\n",
            "  [0 0 0 ... 0 0 0]\n",
            "  [0 0 0 ... 0 0 0]\n",
            "  [0 0 0 ... 0 0 0]]\n",
            "\n",
            " [[0 0 0 ... 0 0 0]\n",
            "  [0 0 0 ... 0 0 0]\n",
            "  [0 0 0 ... 0 0 0]\n",
            "  ...\n",
            "  [0 0 0 ... 0 0 0]\n",
            "  [0 0 0 ... 0 0 0]\n",
            "  [0 0 0 ... 0 0 0]]\n",
            "\n",
            " [[0 0 0 ... 0 0 0]\n",
            "  [0 0 0 ... 0 0 0]\n",
            "  [0 0 0 ... 0 0 0]\n",
            "  ...\n",
            "  [0 0 0 ... 0 0 0]\n",
            "  [0 0 0 ... 0 0 0]\n",
            "  [0 0 0 ... 0 0 0]]]\n"
          ]
        },
        {
          "data": {
            "image/png": "[encoded data removed]",
            "text/plain": [
              "<Figure size 640x480 with 15 Axes>"
            ]
          },
          "metadata": {},
          "output_type": "display_data"
        },
        {
          "name": "stdout",
          "output_type": "stream",
          "text": [
            "Eval tensor([[ 5.7213, -6.6539,  1.5261],\n",
            "        [-7.1433,  6.0951,  1.0214],\n",
            "        [-7.1838,  6.1704,  0.9853],\n",
            "        [-7.1694,  6.1573,  0.9855],\n",
            "        [-4.0824,  1.5883,  2.7711],\n",
            "        [-0.4956, -2.2644,  3.2685],\n",
            "        [-0.5836, -2.2856,  3.3788],\n",
            "        [-7.0776,  6.0517,  1.0037],\n",
            "        [-1.0244, -1.8733,  3.3948],\n",
            "        [ 3.0213, -4.6042,  2.1525],\n",
            "        [ 5.8601, -6.6356,  1.3722],\n",
            "        [-2.2052,  0.0259,  2.5556],\n",
            "        [-7.0141,  5.9298,  1.0682],\n",
            "        [ 3.0030, -4.6791,  2.2508],\n",
            "        [ 6.2505, -6.9839,  1.3331]], grad_fn=<AddmmBackward0>)\n"
          ]
        }
      ],
      "source": [
        "import matplotlib.pyplot as plot\n",
        "\n",
        "test_imgs = []\n",
        "path_test = datapath+'/test'\n",
        "for filename in os.listdir(path_test):\n",
        "  img = cv2.imread(path_test+'/'+filename, cv2.IMREAD_GRAYSCALE)\n",
        "  test_imgs.append(img)\n",
        "\n",
        "\n",
        "test_imgs = np.array(test_imgs)\n",
        "print(test_imgs)\n",
        "test_x = torch.tensor(test_imgs, dtype=torch.float32)\n",
        "test_x = test_x.reshape(-1, 28*28)\n",
        "\n",
        "y_pred = loaded_model.predict(test_x)\n",
        "\n",
        "# Display images in grid of 3 column with the prediction result\n",
        "for i in range(len(test_imgs)):\n",
        "  plot.subplot(1, len(test_imgs), i+1)\n",
        "  plot.imshow(test_imgs[i], cmap='gray')\n",
        "  plot.title(y_pred[i].item())\n",
        "  plot.axis('off')\n",
        "\n",
        "plot.show()\n",
        "\n",
        "print('Eval', loaded_model(test_x))"
      ]
    }
  ],
  "metadata": {
    "colab": {
      "provenance": []
    },
    "kernelspec": {
      "display_name": "Python 3",
      "name": "python3"
    },
    "language_info": {
      "codemirror_mode": {
        "name": "ipython",
        "version": 3
      },
      "file_extension": ".py",
      "mimetype": "text/x-python",
      "name": "python",
      "nbconvert_exporter": "python",
      "pygments_lexer": "ipython3",
      "version": "3.8.0"
    }
  },
  "nbformat": 4,
  "nbformat_minor": 0
}

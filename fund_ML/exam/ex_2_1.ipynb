{
  "cells": [
    {
      "cell_type": "code",
      "execution_count": 9,
      "metadata": {
        "colab": {
          "base_uri": "https://localhost:8080/"
        },
        "id": "BsdkRXLsGjhZ",
        "outputId": "16cd18d3-db3d-41a4-a150-803148679438"
      },
      "outputs": [
        {
          "name": "stdout",
          "output_type": "stream",
          "text": [
            "3\n"
          ]
        }
      ],
      "source": [
        "x = [90, 130, 210]\n",
        "y = [2.1, 3.9, 4.5]\n",
        "\n",
        "print(len(x))"
      ]
    },
    {
      "cell_type": "code",
      "execution_count": 12,
      "metadata": {
        "id": "wKiDeYK6HljR"
      },
      "outputs": [],
      "source": [
        "#h(x) = a*x\n",
        "def h(x, a, b):\n",
        "  return [a*xi + b for xi in x]\n",
        "\n",
        "def J(z, y):\n",
        "  return sum([(zi - yi)**2 for zi, yi in zip(z, y)])/len(z)\n",
        "\n",
        "def grada(x, y, a, b):\n",
        "  return 2*sum([(a*xi+b - yi)*xi for xi, yi in zip(x, y)])/len(x)\n",
        "\n",
        "def gradb(x, y, a, b):\n",
        "  return 2*sum([(a*xi+b - yi) for xi, yi in zip(x, y)])/len(x)\n"
      ]
    },
    {
      "cell_type": "code",
      "execution_count": 16,
      "metadata": {
        "colab": {
          "base_uri": "https://localhost:8080/"
        },
        "id": "9XAV2Or9Iv2X",
        "outputId": "3413f30c-8ccc-4d83-fae7-ca44dfd82519"
      },
      "outputs": [
        {
          "name": "stdout",
          "output_type": "stream",
          "text": [
            "iter: 0, J: 4.078202960170102, a: 0.01094, b: 3.8638666666666666e-05\n",
            "iter: 1, J: 1.3987681778619934, a: 0.01684019590248889, b: 6.0362665639531845e-05\n",
            "iter: 2, J: 0.6194013501725568, a: 0.020022305950434176, b: 7.296418132830774e-05\n"
          ]
        }
      ],
      "source": [
        "#training\n",
        "\n",
        "a = 0\n",
        "b = 0\n",
        "alpha = 0.00001\n",
        "\n",
        "for i in range(3):\n",
        "  ga = grada(x, y, a, b)\n",
        "  a += -alpha*ga\n",
        "\n",
        "  gb = gradb(x, y, a, b)\n",
        "  b += -alpha*gb\n",
        "  z = h(x, a, b)\n",
        "  cost = J(z, y)\n",
        "  print(f'iter: {i}, J: {cost}, a: {a}, b: {b}')"
      ]
    }
  ],
  "metadata": {
    "colab": {
      "provenance": []
    },
    "kernelspec": {
      "display_name": ".venv",
      "language": "python",
      "name": "python3"
    },
    "language_info": {
      "codemirror_mode": {
        "name": "ipython",
        "version": 3
      },
      "file_extension": ".py",
      "mimetype": "text/x-python",
      "name": "python",
      "nbconvert_exporter": "python",
      "pygments_lexer": "ipython3",
      "version": "3.8.0"
    }
  },
  "nbformat": 4,
  "nbformat_minor": 0
}

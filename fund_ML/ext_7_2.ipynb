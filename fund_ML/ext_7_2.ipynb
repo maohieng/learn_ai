{
 "cells": [
  {
   "cell_type": "markdown",
   "metadata": {},
   "source": [
    "# Autoencoder - Artificial Neural Network"
   ]
  },
  {
   "cell_type": "code",
   "execution_count": 2,
   "metadata": {},
   "outputs": [],
   "source": [
    "import pandas as pd\n",
    "import matplotlib.pyplot as plt\n",
    "from sklearn.decomposition import PCA\n",
    "from matplotlib.pyplot import scatter, annotate, show\n",
    "import numpy as np"
   ]
  },
  {
   "cell_type": "code",
   "execution_count": 3,
   "metadata": {},
   "outputs": [
    {
     "name": "stdout",
     "output_type": "stream",
     "text": [
      "(4898, 11)\n",
      "(4898,)\n"
     ]
    }
   ],
   "source": [
    "data = pd.read_csv('wine_quality.csv')\n",
    "x = data.iloc[:, :-1].to_numpy()\n",
    "y = data.iloc[:, -1].to_numpy()\n",
    "\n",
    "labels = {\n",
    "    'Medium': 0,\n",
    "    'Good': 1,\n",
    "    'Excellent': 2\n",
    "}\n",
    "y = np.array([labels[i] for i in y])\n",
    "\n",
    "print(x.shape)\n",
    "print(y.shape)"
   ]
  },
  {
   "cell_type": "code",
   "execution_count": 6,
   "metadata": {},
   "outputs": [
    {
     "name": "stdout",
     "output_type": "stream",
     "text": [
      "torch.Size([100, 3])\n"
     ]
    }
   ],
   "source": [
    "#Model\n",
    "import torch\n",
    "import torch.nn as nn\n",
    "import torch.optim as optim\n",
    "\n",
    "from torch.utils.data import Dataset, DataLoader\n",
    "import torch\n",
    "\n",
    "class WineDataset(Dataset):\n",
    "  def __init__(self, x, y):\n",
    "    self.x = x\n",
    "    self.y = y\n",
    "\n",
    "  def __len__(self):\n",
    "    return self.x.shape[0]\n",
    "\n",
    "  def __getitem__(self, idx):\n",
    "    tx = torch.tensor(self.x, dtype=torch.float32)\n",
    "    ty = torch.tensor(self.y, dtype=torch.long)\n",
    "    return tx[idx], ty[idx]\n",
    "\n",
    "class MyModel(nn.Module):\n",
    "  def __init__(self, num_hid, hid_sz):\n",
    "    self.num_hid = num_hid\n",
    "    self.hid_sz = hid_sz\n",
    "    self.accuracy_on_val = -1\n",
    "    super().__init__()\n",
    "    layers = [nn.Linear(11, hid_sz)] #input layer\n",
    "    for i in range(num_hid-1):\n",
    "      layers.append(nn.Sigmoid())\n",
    "      layers.append(nn.Linear(hid_sz, hid_sz))\n",
    "    layers.append(nn.Sigmoid())\n",
    "    layers.append(nn.Linear(hid_sz, 3)) #output layer\n",
    "    self.layers = nn.ModuleList(layers)\n",
    "\n",
    "  def forward(self, x):\n",
    "    for layer in self.layers:\n",
    "      x = layer(x)\n",
    "    return x\n",
    "\n",
    "  def train(self, dataset, b_sz=300, num_epoch=10):\n",
    "    opt = optim.Adam(self.parameters())\n",
    "    loss_fn = nn.CrossEntropyLoss()\n",
    "    loader = DataLoader(dataset, batch_size=b_sz, shuffle=True)\n",
    "\n",
    "    for epoch in range(num_epoch):\n",
    "      for i, (bx, by) in enumerate(loader):\n",
    "        output = self(bx)\n",
    "        loss = loss_fn(output, by)\n",
    "        loss.backward()\n",
    "        if epoch%10==0 and i==0:\n",
    "          print('Epoch: %d, Loss: %f' % (epoch, loss.item()))\n",
    "\n",
    "        opt.step()\n",
    "        opt.zero_grad()\n",
    "\n",
    "  def evaluate(self, dataset):\n",
    "    loader = DataLoader(dataset, batch_size=100, shuffle=False)\n",
    "    correct = 0\n",
    "    for bx, by in loader:\n",
    "      output = self(bx)\n",
    "      pred = torch.argmax(output, dim=1)\n",
    "      correct += (pred==by).sum().item()\n",
    "    self.accuracy_on_val = correct/len(dataset)\n",
    "    return self.accuracy_on_val\n",
    "\n",
    "tmp = torch.rand(100, 11)\n",
    "model = MyModel(3, 50)\n",
    "print(model(tmp).shape)"
   ]
  },
  {
   "cell_type": "code",
   "execution_count": 21,
   "metadata": {},
   "outputs": [],
   "source": [
    "m = x.shape[0]\n",
    "m_train = int(m*0.8)\n",
    "m_val = int(m*0.1)\n",
    "m_test = m-m_train-m_val\n",
    "\n",
    "ds_train = WineDataset(x[:m_train], y[:m_train])\n",
    "ds_val = WineDataset(x[m_train:m_train+m_val], y[m_train:m_train+m_val])\n",
    "ds_test = WineDataset(x[m_train+m_val:], y[m_train+m_val:])"
   ]
  },
  {
   "cell_type": "code",
   "execution_count": 22,
   "metadata": {},
   "outputs": [
    {
     "name": "stdout",
     "output_type": "stream",
     "text": [
      "\n",
      "\n",
      "Training model with num_hid=2, hid_sz=25\n",
      "Epoch: 0, iter: 0, Loss: 1.224852\n",
      "Epoch: 10, iter: 0, Loss: 1.053966\n",
      "Epoch: 20, iter: 0, Loss: 1.024002\n",
      "Epoch: 30, iter: 0, Loss: 0.997552\n",
      "Epoch: 40, iter: 0, Loss: 0.948823\n",
      "\n",
      "\n",
      "Training model with num_hid=2, hid_sz=50\n",
      "Epoch: 0, iter: 0, Loss: 1.107925\n",
      "Epoch: 10, iter: 0, Loss: 1.060706\n",
      "Epoch: 20, iter: 0, Loss: 1.012447\n",
      "Epoch: 30, iter: 0, Loss: 0.968128\n",
      "Epoch: 40, iter: 0, Loss: 0.942396\n",
      "\n",
      "\n",
      "Training model with num_hid=2, hid_sz=100\n",
      "Epoch: 0, iter: 0, Loss: 1.086631\n",
      "Epoch: 10, iter: 0, Loss: 0.998154\n",
      "Epoch: 20, iter: 0, Loss: 0.951479\n",
      "Epoch: 30, iter: 0, Loss: 0.975676\n",
      "Epoch: 40, iter: 0, Loss: 0.934791\n",
      "\n",
      "\n",
      "Training model with num_hid=3, hid_sz=25\n",
      "Epoch: 0, iter: 0, Loss: 1.176106\n",
      "Epoch: 10, iter: 0, Loss: 1.040063\n",
      "Epoch: 20, iter: 0, Loss: 1.033023\n",
      "Epoch: 30, iter: 0, Loss: 1.030554\n",
      "Epoch: 40, iter: 0, Loss: 0.949053\n",
      "\n",
      "\n",
      "Training model with num_hid=3, hid_sz=50\n",
      "Epoch: 0, iter: 0, Loss: 1.100878\n",
      "Epoch: 10, iter: 0, Loss: 1.017025\n",
      "Epoch: 20, iter: 0, Loss: 0.986981\n",
      "Epoch: 30, iter: 0, Loss: 0.939884\n",
      "Epoch: 40, iter: 0, Loss: 0.889916\n",
      "\n",
      "\n",
      "Training model with num_hid=3, hid_sz=100\n",
      "Epoch: 0, iter: 0, Loss: 1.130763\n",
      "Epoch: 10, iter: 0, Loss: 1.012429\n",
      "Epoch: 20, iter: 0, Loss: 0.937549\n",
      "Epoch: 30, iter: 0, Loss: 0.947336\n",
      "Epoch: 40, iter: 0, Loss: 0.884767\n",
      "\n",
      "\n",
      "Training model with num_hid=4, hid_sz=25\n",
      "Epoch: 0, iter: 0, Loss: 1.130932\n",
      "Epoch: 10, iter: 0, Loss: 1.073996\n",
      "Epoch: 20, iter: 0, Loss: 1.065226\n",
      "Epoch: 30, iter: 0, Loss: 1.014583\n",
      "Epoch: 40, iter: 0, Loss: 0.969075\n",
      "\n",
      "\n",
      "Training model with num_hid=4, hid_sz=50\n",
      "Epoch: 0, iter: 0, Loss: 1.110008\n",
      "Epoch: 10, iter: 0, Loss: 1.038769\n",
      "Epoch: 20, iter: 0, Loss: 0.984683\n",
      "Epoch: 30, iter: 0, Loss: 0.895092\n",
      "Epoch: 40, iter: 0, Loss: 0.895396\n",
      "\n",
      "\n",
      "Training model with num_hid=4, hid_sz=100\n",
      "Epoch: 0, iter: 0, Loss: 1.085370\n",
      "Epoch: 10, iter: 0, Loss: 1.023183\n",
      "Epoch: 20, iter: 0, Loss: 0.958709\n",
      "Epoch: 30, iter: 0, Loss: 0.914009\n",
      "Epoch: 40, iter: 0, Loss: 0.895884\n",
      "Accuracy on validation set: 0.558282\n",
      "Accuracy on validation set: 0.529652\n",
      "Accuracy on validation set: 0.484663\n",
      "Accuracy on validation set: 0.568507\n",
      "Accuracy on validation set: 0.601227\n",
      "Accuracy on validation set: 0.390593\n",
      "Accuracy on validation set: 0.515337\n",
      "Accuracy on validation set: 0.588957\n",
      "Accuracy on validation set: 0.617587\n"
     ]
    }
   ],
   "source": [
    "num_hids = [2, 3, 4]\n",
    "hid_szs = [25, 50, 100]\n",
    "\n",
    "models = []\n",
    "for num_hid in num_hids:\n",
    "  for hid_sz in hid_szs:\n",
    "    model = MyModel(num_hid, hid_sz)\n",
    "    print('\\n\\nTraining model with num_hid=%d, hid_sz=%d' % (num_hid, hid_sz))\n",
    "    model.train(ds_train, num_epoch=50)\n",
    "    models.append(model)\n",
    "\n",
    "for model in models:\n",
    "  print('Accuracy on validation set: %f' % model.evaluate(ds_val))"
   ]
  },
  {
   "cell_type": "code",
   "execution_count": 23,
   "metadata": {},
   "outputs": [
    {
     "name": "stdout",
     "output_type": "stream",
     "text": [
      "Accuracy of model (num_hid=2, hid_sz=25): 0.558282\n",
      "Accuracy of model (num_hid=2, hid_sz=50): 0.529652\n",
      "Accuracy of model (num_hid=2, hid_sz=100): 0.484663\n",
      "Accuracy of model (num_hid=3, hid_sz=25): 0.568507\n",
      "Accuracy of model (num_hid=3, hid_sz=50): 0.601227\n",
      "Accuracy of model (num_hid=3, hid_sz=100): 0.390593\n",
      "Accuracy of model (num_hid=4, hid_sz=25): 0.515337\n",
      "Accuracy of model (num_hid=4, hid_sz=50): 0.588957\n",
      "Accuracy of model (num_hid=4, hid_sz=100): 0.617587\n"
     ]
    }
   ],
   "source": [
    "for model in models:\n",
    "  print('Accuracy of model (num_hid=%d, hid_sz=%d): %f' % (model.num_hid, model.hid_sz, model.accuracy_on_val))"
   ]
  },
  {
   "cell_type": "code",
   "execution_count": 25,
   "metadata": {},
   "outputs": [
    {
     "name": "stdout",
     "output_type": "stream",
     "text": [
      "Accuracy on test set: 0.535642\n",
      "Accuracy on training set: 0.533946\n",
      "Number of hidden layers: 3\n",
      "Size of hidden layers: 50\n"
     ]
    }
   ],
   "source": [
    "best_model = models[0]\n",
    "\n",
    "for model in models:\n",
    "  if model.accuracy_on_val > best_model.accuracy_on_val:\n",
    "    best_model = model\n",
    "\n",
    "print('Accuracy on test set: %f' % best_model.evaluate(ds_test))\n",
    "print('Accuracy on training set: %f' % best_model.evaluate(ds_train))\n",
    "print('Number of hidden layers: %d' % best_model.num_hid)\n",
    "print('Size of hidden layers: %d' % best_model.hid_sz)"
   ]
  },
  {
   "cell_type": "markdown",
   "metadata": {},
   "source": [
    "### PCA"
   ]
  },
  {
   "cell_type": "code",
   "execution_count": 26,
   "metadata": {},
   "outputs": [
    {
     "name": "stdout",
     "output_type": "stream",
     "text": [
      "(4898, 5)\n"
     ]
    }
   ],
   "source": [
    "pca = PCA(n_components=5)\n",
    "pca.fit(x)\n",
    "new_x = pca.transform(x)\n",
    "\n",
    "print(new_x.shape)\n",
    "\n",
    "# print(new_x[:5])"
   ]
  },
  {
   "cell_type": "code",
   "execution_count": 27,
   "metadata": {},
   "outputs": [],
   "source": [
    "m = new_x.shape[0]\n",
    "m_train = int(m*0.8)\n",
    "m_val = int(m*0.1)\n",
    "m_test = m-m_train-m_val\n",
    "\n",
    "ds_train = WineDataset(x[:m_train], y[:m_train])\n",
    "ds_val = WineDataset(x[m_train:m_train+m_val], y[m_train:m_train+m_val])\n",
    "ds_test = WineDataset(x[m_train+m_val:], y[m_train+m_val:])"
   ]
  },
  {
   "cell_type": "code",
   "execution_count": 28,
   "metadata": {},
   "outputs": [
    {
     "name": "stdout",
     "output_type": "stream",
     "text": [
      "\n",
      "\n",
      "Training model with num_hid=3, hid_sz=50\n",
      "Epoch: 0, iter: 0, Loss: 1.085901\n",
      "Epoch: 10, iter: 0, Loss: 1.057894\n",
      "Epoch: 20, iter: 0, Loss: 0.973926\n",
      "Epoch: 30, iter: 0, Loss: 0.943851\n",
      "Epoch: 40, iter: 0, Loss: 0.939765\n",
      "Accuracy on validation set: 0.415133\n",
      "Accuracy of model (num_hid=3, hid_sz=50): 0.415133\n"
     ]
    }
   ],
   "source": [
    "num_hids = [3]\n",
    "hid_szs = [50]\n",
    "\n",
    "models = []\n",
    "for num_hid in num_hids:\n",
    "  for hid_sz in hid_szs:\n",
    "    model = MyModel(num_hid, hid_sz)\n",
    "    print('\\n\\nTraining model with num_hid=%d, hid_sz=%d' % (num_hid, hid_sz))\n",
    "    model.train(ds_train, num_epoch=50)\n",
    "    models.append(model)\n",
    "\n",
    "for model in models:\n",
    "  print('Accuracy on validation set: %f' % model.evaluate(ds_val))\n",
    "  print('Accuracy of model (num_hid=%d, hid_sz=%d): %f' % (model.num_hid, model.hid_sz, model.accuracy_on_val))\n",
    "\n"
   ]
  },
  {
   "cell_type": "markdown",
   "metadata": {},
   "source": [
    "### Autoencoder"
   ]
  },
  {
   "cell_type": "code",
   "execution_count": 29,
   "metadata": {},
   "outputs": [],
   "source": [
    "# Autoencoder model with 3 hidden layers and 50 hidden units\n",
    "class Autoencoder(nn.Module):\n",
    "  def __init__(self):\n",
    "    super().__init__()\n",
    "    self.encoder = nn.Sequential(\n",
    "      nn.Linear(11, 50),\n",
    "      nn.Sigmoid(),\n",
    "      nn.Linear(50, 25),\n",
    "      nn.Sigmoid(),\n",
    "      nn.Linear(25, 5)\n",
    "    )\n",
    "    self.decoder = nn.Sequential(\n",
    "      nn.Linear(5, 25),\n",
    "      nn.Sigmoid(),\n",
    "      nn.Linear(25, 50),\n",
    "      nn.Sigmoid(),\n",
    "      nn.Linear(50, 11)\n",
    "    )\n",
    "\n",
    "  def forward(self, x):\n",
    "    x = self.encoder(x)\n",
    "    x = self.decoder(x)\n",
    "    return x\n",
    "  \n",
    "  def train(self, dataset, b_sz=300, num_epoch=10):\n",
    "    opt = optim.Adam(self.parameters())\n",
    "    loss_fn = nn.MSELoss()\n",
    "    loader = DataLoader(dataset, batch_size=b_sz, shuffle=True)\n",
    "\n",
    "    for epoch in range(num_epoch):\n",
    "      for i, (bx, by) in enumerate(loader):\n",
    "        output = self(bx)\n",
    "        loss = loss_fn(output, bx)\n",
    "        loss.backward()\n",
    "        if epoch%10==0 and i==0:\n",
    "          print('Epoch: %d, Loss: %f' % (epoch, i, loss.item()))\n",
    "\n",
    "        opt.step()\n",
    "        opt.zero_grad()\n",
    "  \n",
    "  def evaluate(self, dataset):\n",
    "    loader = DataLoader(dataset, batch_size=100, shuffle=False)\n",
    "    loss_fn = nn.MSELoss()\n",
    "    loss = 0\n",
    "    for bx, by in loader:\n",
    "      output = self(bx)\n",
    "      loss += loss_fn(output, bx).item()\n",
    "    return loss/len(dataset)\n",
    "  \n",
    "  def encode(self, x):\n",
    "    return self.encoder(x)\n",
    "  \n",
    "  def decode(self, x):\n",
    "    return self.decoder(x)"
   ]
  },
  {
   "cell_type": "code",
   "execution_count": 31,
   "metadata": {},
   "outputs": [
    {
     "ename": "TypeError",
     "evalue": "not all arguments converted during string formatting",
     "output_type": "error",
     "traceback": [
      "\u001b[0;31m---------------------------------------------------------------------------\u001b[0m",
      "\u001b[0;31mTypeError\u001b[0m                                 Traceback (most recent call last)",
      "Cell \u001b[0;32mIn[31], line 2\u001b[0m\n\u001b[1;32m      1\u001b[0m autoencoder \u001b[38;5;241m=\u001b[39m Autoencoder()\n\u001b[0;32m----> 2\u001b[0m \u001b[43mautoencoder\u001b[49m\u001b[38;5;241;43m.\u001b[39;49m\u001b[43mtrain\u001b[49m\u001b[43m(\u001b[49m\u001b[43mds_train\u001b[49m\u001b[43m,\u001b[49m\u001b[43m \u001b[49m\u001b[43mnum_epoch\u001b[49m\u001b[38;5;241;43m=\u001b[39;49m\u001b[38;5;241;43m50\u001b[39;49m\u001b[43m)\u001b[49m\n\u001b[1;32m      3\u001b[0m \u001b[38;5;28mprint\u001b[39m(\u001b[38;5;124m'\u001b[39m\u001b[38;5;124mLoss on validation set: \u001b[39m\u001b[38;5;132;01m%f\u001b[39;00m\u001b[38;5;124m'\u001b[39m \u001b[38;5;241m%\u001b[39m autoencoder\u001b[38;5;241m.\u001b[39mevaluate(ds_val))\n",
      "Cell \u001b[0;32mIn[29], line 36\u001b[0m, in \u001b[0;36mAutoencoder.train\u001b[0;34m(self, dataset, b_sz, num_epoch)\u001b[0m\n\u001b[1;32m     34\u001b[0m loss\u001b[38;5;241m.\u001b[39mbackward()\n\u001b[1;32m     35\u001b[0m \u001b[38;5;28;01mif\u001b[39;00m epoch\u001b[38;5;241m%\u001b[39m\u001b[38;5;241m10\u001b[39m\u001b[38;5;241m==\u001b[39m\u001b[38;5;241m0\u001b[39m \u001b[38;5;129;01mand\u001b[39;00m i\u001b[38;5;241m==\u001b[39m\u001b[38;5;241m0\u001b[39m:\n\u001b[0;32m---> 36\u001b[0m   \u001b[38;5;28mprint\u001b[39m(\u001b[38;5;124;43m'\u001b[39;49m\u001b[38;5;124;43mEpoch: \u001b[39;49m\u001b[38;5;132;43;01m%d\u001b[39;49;00m\u001b[38;5;124;43m, Loss: \u001b[39;49m\u001b[38;5;132;43;01m%f\u001b[39;49;00m\u001b[38;5;124;43m'\u001b[39;49m\u001b[43m \u001b[49m\u001b[38;5;241;43m%\u001b[39;49m\u001b[43m \u001b[49m\u001b[43m(\u001b[49m\u001b[43mepoch\u001b[49m\u001b[43m,\u001b[49m\u001b[43m \u001b[49m\u001b[43mi\u001b[49m\u001b[43m,\u001b[49m\u001b[43m \u001b[49m\u001b[43mloss\u001b[49m\u001b[38;5;241;43m.\u001b[39;49m\u001b[43mitem\u001b[49m\u001b[43m(\u001b[49m\u001b[43m)\u001b[49m\u001b[43m)\u001b[49m)\n\u001b[1;32m     38\u001b[0m opt\u001b[38;5;241m.\u001b[39mstep()\n\u001b[1;32m     39\u001b[0m opt\u001b[38;5;241m.\u001b[39mzero_grad()\n",
      "\u001b[0;31mTypeError\u001b[0m: not all arguments converted during string formatting"
     ]
    }
   ],
   "source": [
    "autoencoder = Autoencoder()\n",
    "autoencoder.train(ds_train, num_epoch=50)\n",
    "print('Loss on validation set: %f' % autoencoder.evaluate(ds_val))\n"
   ]
  }
 ],
 "metadata": {
  "kernelspec": {
   "display_name": ".venv",
   "language": "python",
   "name": "python3"
  },
  "language_info": {
   "codemirror_mode": {
    "name": "ipython",
    "version": 3
   },
   "file_extension": ".py",
   "mimetype": "text/x-python",
   "name": "python",
   "nbconvert_exporter": "python",
   "pygments_lexer": "ipython3",
   "version": "3.8.0"
  }
 },
 "nbformat": 4,
 "nbformat_minor": 2
}

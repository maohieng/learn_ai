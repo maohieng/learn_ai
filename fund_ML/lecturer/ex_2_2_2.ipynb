{
  "nbformat": 4,
  "nbformat_minor": 0,
  "metadata": {
    "colab": {
      "provenance": []
    },
    "kernelspec": {
      "name": "python3",
      "display_name": "Python 3"
    },
    "language_info": {
      "name": "python"
    }
  },
  "cells": [
    {
      "cell_type": "code",
      "execution_count": null,
      "metadata": {
        "colab": {
          "base_uri": "https://localhost:8080/"
        },
        "id": "-CS75Sz_zQPm",
        "outputId": "6b0c01b8-9268-45b3-afdb-d601357710b0"
      },
      "outputs": [
        {
          "output_type": "stream",
          "name": "stdout",
          "text": [
            "(30, 2)\n",
            "x (30,)\n",
            "y (30,)\n"
          ]
        }
      ],
      "source": [
        "import pandas as pd\n",
        "import numpy as np\n",
        "\n",
        "path = '/content/land_price_2.csv'\n",
        "\n",
        "data = pd.read_csv(path).to_numpy()\n",
        "print(data.shape)\n",
        "\n",
        "x = data[:, 0]\n",
        "y = data[:, 1]\n",
        "print('x', x.shape)\n",
        "print('y', y.shape)"
      ]
    },
    {
      "cell_type": "code",
      "source": [
        "#h(x) = th0*x0+th1*x1+th2*x2\n",
        "def h(x, theta):\n",
        "  \"\"\"\n",
        "  x: np(m, 3)\n",
        "  theta: np(3)\n",
        "  return: z: np(m)\n",
        "  \"\"\"\n",
        "  z = np.dot(x, theta.reshape(-1, 1))\n",
        "  return z.flatten()\n",
        "\n",
        "def cost_func(z, y):\n",
        "  m = y.shape[0]\n",
        "  J = np.sum((z-y)**2)/m\n",
        "  return J\n",
        "\n",
        "def grad(x, y, theta):\n",
        "  m = y.shape[0]\n",
        "  z = h(x, theta)\n",
        "  g = np.dot(x.T, (z-y).reshape((-1, 1)))*2/m #np(3, 1)\n",
        "  return g.flatten() #np(3)"
      ],
      "metadata": {
        "id": "YJJAfgRv0weq"
      },
      "execution_count": null,
      "outputs": []
    },
    {
      "cell_type": "code",
      "source": [
        "#feature scaling\n",
        "def feature_scaling(x):\n",
        "  mu = np.mean(x, axis=0) #np(n)\n",
        "  x = (x-mu)/(np.max(x, axis=0)-np.min(x, axis=0))\n",
        "  return x\n",
        "\n",
        "x0 = np.ones((x.shape[0], 1))\n",
        "x1 = x.reshape(-1, 1)\n",
        "x2 = np.sqrt(x).reshape(-1, 1)\n",
        "tmp = np.concatenate((x1, x2), axis=1)\n",
        "x_scaled = feature_scaling(tmp)\n",
        "x_scaled = np.concatenate((x0, x_scaled), axis=1)\n",
        "print(x_scaled.shape)"
      ],
      "metadata": {
        "colab": {
          "base_uri": "https://localhost:8080/"
        },
        "id": "jT04jS2U8A3a",
        "outputId": "9e451a5c-54aa-49ab-bb16-73d3718cb673"
      },
      "execution_count": null,
      "outputs": [
        {
          "output_type": "stream",
          "name": "stdout",
          "text": [
            "(30, 3)\n"
          ]
        }
      ]
    },
    {
      "cell_type": "code",
      "source": [
        "#train model\n",
        "\n",
        "theta = np.zeros(3)\n",
        "alpha = 0.1\n",
        "\n",
        "for i in range(20000):\n",
        "  z = h(x_scaled, theta)\n",
        "  J = cost_func(z, y)\n",
        "  if i%100==0:\n",
        "    print('i: %d, J: %f' % (i, J))\n",
        "\n",
        "  g = grad(x_scaled, y, theta)\n",
        "  theta += -alpha*g"
      ],
      "metadata": {
        "colab": {
          "base_uri": "https://localhost:8080/"
        },
        "id": "nFEWkYPo6cGb",
        "outputId": "502f4f70-715f-40d0-e3bd-acd7c5fa9ce5"
      },
      "execution_count": null,
      "outputs": [
        {
          "output_type": "stream",
          "name": "stdout",
          "text": [
            "i: 0, J: 1199843.372000\n",
            "i: 100, J: 1107.686513\n",
            "i: 200, J: 829.008869\n",
            "i: 300, J: 791.841249\n",
            "i: 400, J: 756.616761\n",
            "i: 500, J: 723.019974\n",
            "i: 600, J: 690.975462\n",
            "i: 700, J: 660.411503\n",
            "i: 800, J: 631.259692\n",
            "i: 900, J: 603.454784\n",
            "i: 1000, J: 576.934547\n",
            "i: 1100, J: 551.639625\n",
            "i: 1200, J: 527.513406\n",
            "i: 1300, J: 504.501892\n",
            "i: 1400, J: 482.553579\n",
            "i: 1500, J: 461.619346\n",
            "i: 1600, J: 441.652337\n",
            "i: 1700, J: 422.607865\n",
            "i: 1800, J: 404.443306\n",
            "i: 1900, J: 387.118005\n",
            "i: 2000, J: 370.593185\n",
            "i: 2100, J: 354.831862\n",
            "i: 2200, J: 339.798760\n",
            "i: 2300, J: 325.460233\n",
            "i: 2400, J: 311.784190\n",
            "i: 2500, J: 298.740021\n",
            "i: 2600, J: 286.298533\n",
            "i: 2700, J: 274.431880\n",
            "i: 2800, J: 263.113502\n",
            "i: 2900, J: 252.318067\n",
            "i: 3000, J: 242.021414\n",
            "i: 3100, J: 232.200498\n",
            "i: 3200, J: 222.833338\n",
            "i: 3300, J: 213.898970\n",
            "i: 3400, J: 205.377396\n",
            "i: 3500, J: 197.249545\n",
            "i: 3600, J: 189.497226\n",
            "i: 3700, J: 182.103087\n",
            "i: 3800, J: 175.050580\n",
            "i: 3900, J: 168.323920\n",
            "i: 4000, J: 161.908053\n",
            "i: 4100, J: 155.788618\n",
            "i: 4200, J: 149.951919\n",
            "i: 4300, J: 144.384894\n",
            "i: 4400, J: 139.075082\n",
            "i: 4500, J: 134.010600\n",
            "i: 4600, J: 129.180112\n",
            "i: 4700, J: 124.572807\n",
            "i: 4800, J: 120.178374\n",
            "i: 4900, J: 115.986977\n",
            "i: 5000, J: 111.989236\n",
            "i: 5100, J: 108.176202\n",
            "i: 5200, J: 104.539342\n",
            "i: 5300, J: 101.070516\n",
            "i: 5400, J: 97.761960\n",
            "i: 5500, J: 94.606269\n",
            "i: 5600, J: 91.596382\n",
            "i: 5700, J: 88.725560\n",
            "i: 5800, J: 85.987378\n",
            "i: 5900, J: 83.375709\n",
            "i: 6000, J: 80.884707\n",
            "i: 6100, J: 78.508797\n",
            "i: 6200, J: 76.242662\n",
            "i: 6300, J: 74.081228\n",
            "i: 6400, J: 72.019660\n",
            "i: 6500, J: 70.053342\n",
            "i: 6600, J: 68.177874\n",
            "i: 6700, J: 66.389058\n",
            "i: 6800, J: 64.682891\n",
            "i: 6900, J: 63.055554\n",
            "i: 7000, J: 61.503406\n",
            "i: 7100, J: 60.022971\n",
            "i: 7200, J: 58.610936\n",
            "i: 7300, J: 57.264142\n",
            "i: 7400, J: 55.979574\n",
            "i: 7500, J: 54.754357\n",
            "i: 7600, J: 53.585749\n",
            "i: 7700, J: 52.471134\n",
            "i: 7800, J: 51.408017\n",
            "i: 7900, J: 50.394020\n",
            "i: 8000, J: 49.426872\n",
            "i: 8100, J: 48.504410\n",
            "i: 8200, J: 47.624568\n",
            "i: 8300, J: 46.785378\n",
            "i: 8400, J: 45.984960\n",
            "i: 8500, J: 45.221525\n",
            "i: 8600, J: 44.493362\n",
            "i: 8700, J: 43.798843\n",
            "i: 8800, J: 43.136413\n",
            "i: 8900, J: 42.504589\n",
            "i: 9000, J: 41.901957\n",
            "i: 9100, J: 41.327169\n",
            "i: 9200, J: 40.778937\n",
            "i: 9300, J: 40.256036\n",
            "i: 9400, J: 39.757294\n",
            "i: 9500, J: 39.281596\n",
            "i: 9600, J: 38.827876\n",
            "i: 9700, J: 38.395119\n",
            "i: 9800, J: 37.982358\n",
            "i: 9900, J: 37.588667\n",
            "i: 10000, J: 37.213165\n",
            "i: 10100, J: 36.855013\n",
            "i: 10200, J: 36.513409\n",
            "i: 10300, J: 36.187588\n",
            "i: 10400, J: 35.876821\n",
            "i: 10500, J: 35.580412\n",
            "i: 10600, J: 35.297698\n",
            "i: 10700, J: 35.028047\n",
            "i: 10800, J: 34.770854\n",
            "i: 10900, J: 34.525544\n",
            "i: 11000, J: 34.291569\n",
            "i: 11100, J: 34.068403\n",
            "i: 11200, J: 33.855549\n",
            "i: 11300, J: 33.652529\n",
            "i: 11400, J: 33.458889\n",
            "i: 11500, J: 33.274196\n",
            "i: 11600, J: 33.098037\n",
            "i: 11700, J: 32.930016\n",
            "i: 11800, J: 32.769759\n",
            "i: 11900, J: 32.616906\n",
            "i: 12000, J: 32.471115\n",
            "i: 12100, J: 32.332060\n",
            "i: 12200, J: 32.199430\n",
            "i: 12300, J: 32.072928\n",
            "i: 12400, J: 31.952271\n",
            "i: 12500, J: 31.837188\n",
            "i: 12600, J: 31.727423\n",
            "i: 12700, J: 31.622729\n",
            "i: 12800, J: 31.522872\n",
            "i: 12900, J: 31.427629\n",
            "i: 13000, J: 31.336786\n",
            "i: 13100, J: 31.250141\n",
            "i: 13200, J: 31.167499\n",
            "i: 13300, J: 31.088675\n",
            "i: 13400, J: 31.013493\n",
            "i: 13500, J: 30.941785\n",
            "i: 13600, J: 30.873390\n",
            "i: 13700, J: 30.808155\n",
            "i: 13800, J: 30.745934\n",
            "i: 13900, J: 30.686588\n",
            "i: 14000, J: 30.629984\n",
            "i: 14100, J: 30.575995\n",
            "i: 14200, J: 30.524500\n",
            "i: 14300, J: 30.475385\n",
            "i: 14400, J: 30.428539\n",
            "i: 14500, J: 30.383857\n",
            "i: 14600, J: 30.341240\n",
            "i: 14700, J: 30.300592\n",
            "i: 14800, J: 30.261822\n",
            "i: 14900, J: 30.224843\n",
            "i: 15000, J: 30.189573\n",
            "i: 15100, J: 30.155933\n",
            "i: 15200, J: 30.123846\n",
            "i: 15300, J: 30.093242\n",
            "i: 15400, J: 30.064053\n",
            "i: 15500, J: 30.036211\n",
            "i: 15600, J: 30.009656\n",
            "i: 15700, J: 29.984329\n",
            "i: 15800, J: 29.960171\n",
            "i: 15900, J: 29.937129\n",
            "i: 16000, J: 29.915152\n",
            "i: 16100, J: 29.894191\n",
            "i: 16200, J: 29.874198\n",
            "i: 16300, J: 29.855128\n",
            "i: 16400, J: 29.836940\n",
            "i: 16500, J: 29.819592\n",
            "i: 16600, J: 29.803046\n",
            "i: 16700, J: 29.787264\n",
            "i: 16800, J: 29.772211\n",
            "i: 16900, J: 29.757854\n",
            "i: 17000, J: 29.744160\n",
            "i: 17100, J: 29.731099\n",
            "i: 17200, J: 29.718641\n",
            "i: 17300, J: 29.706759\n",
            "i: 17400, J: 29.695426\n",
            "i: 17500, J: 29.684616\n",
            "i: 17600, J: 29.674306\n",
            "i: 17700, J: 29.664473\n",
            "i: 17800, J: 29.655093\n",
            "i: 17900, J: 29.646147\n",
            "i: 18000, J: 29.637615\n",
            "i: 18100, J: 29.629476\n",
            "i: 18200, J: 29.621714\n",
            "i: 18300, J: 29.614310\n",
            "i: 18400, J: 29.607248\n",
            "i: 18500, J: 29.600513\n",
            "i: 18600, J: 29.594089\n",
            "i: 18700, J: 29.587961\n",
            "i: 18800, J: 29.582117\n",
            "i: 18900, J: 29.576543\n",
            "i: 19000, J: 29.571226\n",
            "i: 19100, J: 29.566155\n",
            "i: 19200, J: 29.561318\n",
            "i: 19300, J: 29.556705\n",
            "i: 19400, J: 29.552304\n",
            "i: 19500, J: 29.548108\n",
            "i: 19600, J: 29.544105\n",
            "i: 19700, J: 29.540287\n",
            "i: 19800, J: 29.536645\n",
            "i: 19900, J: 29.533172\n"
          ]
        }
      ]
    },
    {
      "cell_type": "code",
      "source": [
        "#evaluate model\n",
        "z = h(x_scaled, theta)\n",
        "\n",
        "for i, (zi, yi) in enumerate(zip(z, y)):\n",
        "  print('i: %02d, predict: %f, real: %f' % (i+1, zi, yi))"
      ],
      "metadata": {
        "colab": {
          "base_uri": "https://localhost:8080/"
        },
        "id": "RzvDV-2M-O3S",
        "outputId": "4c10cc21-b5b9-4337-b028-9fabf3efe210"
      },
      "execution_count": null,
      "outputs": [
        {
          "output_type": "stream",
          "name": "stdout",
          "text": [
            "i: 01, predict: 139.517252, real: 140.900000\n",
            "i: 02, predict: 197.517528, real: 200.300000\n",
            "i: 03, predict: 280.655356, real: 280.400000\n",
            "i: 04, predict: 308.213945, real: 298.800000\n",
            "i: 05, predict: 349.634661, real: 358.200000\n",
            "i: 06, predict: 417.135428, real: 414.300000\n",
            "i: 07, predict: 482.983808, real: 484.200000\n",
            "i: 08, predict: 555.684018, real: 561.400000\n",
            "i: 09, predict: 603.128786, real: 593.700000\n",
            "i: 10, predict: 682.739582, real: 690.900000\n",
            "i: 11, predict: 728.336539, real: 730.200000\n",
            "i: 12, predict: 801.234589, real: 791.900000\n",
            "i: 13, predict: 829.812595, real: 823.700000\n",
            "i: 14, predict: 919.155359, real: 919.200000\n",
            "i: 15, predict: 940.698098, real: 941.800000\n",
            "i: 16, predict: 1011.925791, real: 1009.700000\n",
            "i: 17, predict: 1050.245651, real: 1054.000000\n",
            "i: 18, predict: 1113.193203, real: 1108.900000\n",
            "i: 19, predict: 1210.054258, real: 1217.900000\n",
            "i: 20, predict: 1265.858466, real: 1271.000000\n",
            "i: 21, predict: 1304.291034, real: 1299.900000\n",
            "i: 22, predict: 1370.999009, real: 1368.300000\n",
            "i: 23, predict: 1427.578166, real: 1433.600000\n",
            "i: 24, predict: 1457.488923, real: 1464.400000\n",
            "i: 25, predict: 1526.619358, real: 1524.000000\n",
            "i: 26, predict: 1553.127380, real: 1552.800000\n",
            "i: 27, predict: 1611.043975, real: 1608.600000\n",
            "i: 28, predict: 1672.721387, real: 1662.600000\n",
            "i: 29, predict: 1724.410896, real: 1730.400000\n",
            "i: 30, predict: 1793.594959, real: 1793.600000\n"
          ]
        }
      ]
    },
    {
      "cell_type": "code",
      "source": [
        "import matplotlib.pyplot as plt\n",
        "plt.scatter(x, y)\n",
        "plt.show()"
      ],
      "metadata": {
        "colab": {
          "base_uri": "https://localhost:8080/",
          "height": 430
        },
        "id": "QH_p_PX-J1gI",
        "outputId": "47eb9080-5a3b-4c2c-f88d-cbf4e83a410c"
      },
      "execution_count": null,
      "outputs": [
        {
          "output_type": "display_data",
          "data": {
            "text/plain": [
              "<Figure size 640x480 with 1 Axes>"
            ],
            "image/png": "[encoded data removed]"
          },
          "metadata": {}
        }
      ]
    }
  ]
}
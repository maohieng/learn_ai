{
  "nbformat": 4,
  "nbformat_minor": 0,
  "metadata": {
    "colab": {
      "provenance": []
    },
    "kernelspec": {
      "name": "python3",
      "display_name": "Python 3"
    },
    "language_info": {
      "name": "python"
    }
  },
  "cells": [
    {
      "cell_type": "code",
      "execution_count": null,
      "metadata": {
        "id": "1zeTq7YIo_gV"
      },
      "outputs": [],
      "source": [
        "import pandas as pd\n",
        "\n",
        "data = pd.read_csv('data_3_1_2.csv').to_numpy()\n",
        "\n",
        "x = data[:, :2]\n",
        "y = data[:, -1]\n",
        "\n",
        "ratio = 140\n",
        "x_train = x[:ratio]\n",
        "y_train = y[:ratio]\n",
        "x_test = x[ratio:]\n",
        "y_test = y[ratio:]"
      ]
    },
    {
      "cell_type": "code",
      "source": [
        "#https://scikit-learn.org/stable/modules/generated/sklearn.svm.SVC.html\n",
        "\n",
        "from sklearn.svm import SVC\n",
        "\n",
        "model = SVC(kernel='rbf', C=100)\n",
        "model.fit(x_train, y_train)\n",
        "\n",
        "z_test = model.predict(x_test)\n",
        "\n",
        "acc_rate = (z_test==y_test).mean()\n",
        "\n",
        "print('Accuracy Rate: %.2f' % (acc_rate*100))"
      ],
      "metadata": {
        "colab": {
          "base_uri": "https://localhost:8080/"
        },
        "id": "mN9SD8SRplmy",
        "outputId": "46ae2cdc-9145-43ed-d292-302ede59bfe7"
      },
      "execution_count": null,
      "outputs": [
        {
          "output_type": "stream",
          "name": "stdout",
          "text": [
            "Accuracy Rate: 100.00\n"
          ]
        }
      ]
    },
    {
      "cell_type": "code",
      "source": [
        "import matplotlib.pyplot as plt\n",
        "import numpy as np\n",
        "\n",
        "plt.figure(figsize=(5, 5))\n",
        "id0 = np.where(y==0)\n",
        "id1 = np.where(y==1)\n",
        "plt.scatter(x=x[id0, 0], y=x[id0, 1], c=\"blue\", s=10)\n",
        "plt.scatter(x=x[id1, 0], y=x[id1, 1], c=\"red\", s=10)\n",
        "\n",
        "step = 0.01\n",
        "xx = np.arange(x[:, 0].min(), x[:, 0].max(), step)\n",
        "yy = np.arange(x[:, 1].min(), x[:, 1].max(), step)\n",
        "xx, yy = np.meshgrid(xx, yy)\n",
        "xy = np.concatenate((xx.reshape(-1, 1), yy.reshape(-1, 1)), axis=1)\n",
        "\n",
        "z = model.predict(xy)\n",
        "\n",
        "z[np.where(z==1)] = 3\n",
        "z[np.where(z==0)] = 2\n",
        "\n",
        "plt.contourf(xx, yy, z.reshape(xx.shape), cmap=plt.cm.jet, alpha=0.25)\n",
        "plt.tight_layout()\n",
        "plt.show()"
      ],
      "metadata": {
        "colab": {
          "base_uri": "https://localhost:8080/",
          "height": 369
        },
        "id": "vI-a97E0_vCz",
        "outputId": "489c4d4a-d9f7-4b54-f2b8-119986c13547"
      },
      "execution_count": null,
      "outputs": [
        {
          "output_type": "display_data",
          "data": {
            "text/plain": [
              "<Figure size 360x360 with 1 Axes>"
            ],
            "image/png": "[encoded data removed]"
          },
          "metadata": {
            "needs_background": "light"
          }
        }
      ]
    },
    {
      "cell_type": "code",
      "source": [
        "from sklearn.datasets import load_breast_cancer\n",
        "\n",
        "dataset = load_breast_cancer()\n",
        "x = dataset.data\n",
        "y = dataset.target\n",
        "\n",
        "print(x.shape)\n",
        "print(y.shape)\n"
      ],
      "metadata": {
        "colab": {
          "base_uri": "https://localhost:8080/"
        },
        "id": "dJg5QukBCBuC",
        "outputId": "be01faea-e838-4549-de5a-32f1ade94505"
      },
      "execution_count": null,
      "outputs": [
        {
          "output_type": "stream",
          "name": "stdout",
          "text": [
            "(569, 30)\n",
            "(569,)\n"
          ]
        }
      ]
    }
  ]
}
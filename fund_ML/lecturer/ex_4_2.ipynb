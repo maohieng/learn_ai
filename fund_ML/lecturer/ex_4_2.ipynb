{
  "nbformat": 4,
  "nbformat_minor": 0,
  "metadata": {
    "colab": {
      "provenance": []
    },
    "kernelspec": {
      "name": "python3",
      "display_name": "Python 3"
    },
    "language_info": {
      "name": "python"
    }
  },
  "cells": [
    {
      "cell_type": "code",
      "source": [
        "from google.colab import drive\n",
        "drive.mount('/content/drive')"
      ],
      "metadata": {
        "colab": {
          "base_uri": "https://localhost:8080/"
        },
        "id": "l8C2StqMQuGN",
        "outputId": "3570bbd3-111b-41d4-fdea-114c0ace3fbc"
      },
      "execution_count": null,
      "outputs": [
        {
          "output_type": "stream",
          "name": "stdout",
          "text": [
            "Mounted at /content/drive\n"
          ]
        }
      ]
    },
    {
      "cell_type": "code",
      "source": [
        "import os\n",
        "import cv2\n",
        "import numpy as np\n",
        "\n",
        "path = '/content/drive/MyDrive/CODING/dataset/tiny_mnist'\n",
        "\n",
        "imgs = []\n",
        "lbls = []\n",
        "for i in range(3):\n",
        "  path2 = path+'/'+str(i)\n",
        "  for filename in os.listdir(path2):\n",
        "    img = cv2.imread(path2+'/'+filename, cv2.IMREAD_GRAYSCALE)\n",
        "    imgs.append(img)\n",
        "    lbls.append(i)\n",
        "\n",
        "imgs = np.array(imgs)\n",
        "lbls = np.array(lbls)\n",
        "\n",
        "print('imgs', imgs.shape)\n",
        "print('lbls', lbls.shape)\n"
      ],
      "metadata": {
        "colab": {
          "base_uri": "https://localhost:8080/"
        },
        "id": "x85cLSaNRIa2",
        "outputId": "7a3b11c0-c440-498c-ddc7-9fb5e306dc8f"
      },
      "execution_count": null,
      "outputs": [
        {
          "output_type": "stream",
          "name": "stdout",
          "text": [
            "imgs (90, 28, 28)\n",
            "lbls (90,)\n"
          ]
        }
      ]
    },
    {
      "cell_type": "code",
      "source": [
        "import torch\n",
        "\n",
        "tx = torch.tensor(imgs, dtype=torch.float32)\n",
        "tx = tx.reshape(-1, 28*28)\n",
        "ty = torch.tensor(lbls, dtype=torch.long)\n",
        "\n",
        "print('tx', tx.shape)\n",
        "print('ty', ty.shape)"
      ],
      "metadata": {
        "colab": {
          "base_uri": "https://localhost:8080/"
        },
        "id": "OG5ecb5jWHNe",
        "outputId": "e7125877-80a0-4842-a10b-86e558189e00"
      },
      "execution_count": null,
      "outputs": [
        {
          "output_type": "stream",
          "name": "stdout",
          "text": [
            "tx torch.Size([90, 784])\n",
            "ty torch.Size([90])\n"
          ]
        }
      ]
    },
    {
      "cell_type": "code",
      "source": [
        "import torch.nn as nn\n",
        "\n",
        "class MyNN(nn.Module):\n",
        "  def __init__(self):\n",
        "    super().__init__()\n",
        "    self.layers = nn.Sequential(\n",
        "        nn.Linear(784, 256),\n",
        "        nn.Sigmoid(),\n",
        "        nn.Linear(256, 128),\n",
        "        nn.Sigmoid(),\n",
        "        nn.Linear(128, 32),\n",
        "        nn.Sigmoid(),\n",
        "        nn.Linear(32, 3)\n",
        "    )\n",
        "\n",
        "  def forward(self, x): #x: tensor(m, 784)\n",
        "    output = self.layers(x)\n",
        "    return output\n",
        "\n",
        "tmp = torch.rand(100, 784)\n",
        "model = MyNN()\n",
        "output = model(tmp)\n",
        "print(output.shape)\n",
        "\n",
        "def num_params(model):\n",
        "  return sum(p.numel() for p in model.parameters() if p.requires_grad)\n",
        "\n",
        "print('num params:', num_params(model))"
      ],
      "metadata": {
        "colab": {
          "base_uri": "https://localhost:8080/"
        },
        "id": "f1kviX3_Y7QY",
        "outputId": "93f6a5f3-e978-4a81-e3c9-8c85f644b502"
      },
      "execution_count": null,
      "outputs": [
        {
          "output_type": "stream",
          "name": "stdout",
          "text": [
            "torch.Size([100, 3])\n",
            "num params: 238083\n"
          ]
        }
      ]
    }
  ]
}
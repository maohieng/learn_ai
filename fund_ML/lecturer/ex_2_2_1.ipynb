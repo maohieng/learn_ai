{
  "nbformat": 4,
  "nbformat_minor": 0,
  "metadata": {
    "colab": {
      "provenance": []
    },
    "kernelspec": {
      "name": "python3",
      "display_name": "Python 3"
    },
    "language_info": {
      "name": "python"
    }
  },
  "cells": [
    {
      "cell_type": "code",
      "execution_count": null,
      "metadata": {
        "colab": {
          "base_uri": "https://localhost:8080/"
        },
        "id": "-CS75Sz_zQPm",
        "outputId": "2a71bf87-efa3-46d0-9e12-c55b866cf1ce"
      },
      "outputs": [
        {
          "output_type": "stream",
          "name": "stdout",
          "text": [
            "(30, 3)\n",
            "x (30, 2)\n",
            "y (30,)\n"
          ]
        }
      ],
      "source": [
        "import pandas as pd\n",
        "import numpy as np\n",
        "\n",
        "path = '/content/land_price_1.csv'\n",
        "\n",
        "data = pd.read_csv(path).to_numpy()\n",
        "print(data.shape)\n",
        "\n",
        "x = data[:, :-1] #np(m, 2)\n",
        "y = data[:, -1]\n",
        "print('x', x.shape)\n",
        "print('y', y.shape)"
      ]
    },
    {
      "cell_type": "code",
      "source": [
        "#h(x) = th0*x0+th1*x1+th2*x2\n",
        "def h(x, theta):\n",
        "  \"\"\"\n",
        "  x: np(m, 3)\n",
        "  theta: np(3)\n",
        "  return: z: np(m)\n",
        "  \"\"\"\n",
        "  z = np.dot(x, theta.reshape(-1, 1))\n",
        "  return z.flatten()\n",
        "\n",
        "def cost_func(z, y):\n",
        "  m = y.shape[0]\n",
        "  J = np.sum((z-y)**2)/m\n",
        "  return J\n",
        "\n",
        "def grad(x, y, theta):\n",
        "  m = y.shape[0]\n",
        "  z = h(x, theta)\n",
        "  g = np.dot(x.T, (z-y).reshape((-1, 1)))*2/m #np(3, 1)\n",
        "  return g.flatten() #np(3)"
      ],
      "metadata": {
        "id": "YJJAfgRv0weq"
      },
      "execution_count": null,
      "outputs": []
    },
    {
      "cell_type": "code",
      "source": [
        "#feature scaling\n",
        "def feature_scaling(x):\n",
        "  mu = np.mean(x, axis=0) #np(n)\n",
        "  x = (x-mu)/(np.max(x, axis=0)-np.min(x, axis=0))\n",
        "  return x\n",
        "\n",
        "x_scaled = feature_scaling(x)\n",
        "x_scaled = np.concatenate((np.ones((x_scaled.shape[0], 1)), x_scaled), axis=1)\n",
        "print(x_scaled.shape)"
      ],
      "metadata": {
        "colab": {
          "base_uri": "https://localhost:8080/"
        },
        "id": "jT04jS2U8A3a",
        "outputId": "57068894-8023-42c8-d7a8-a2fb87c44b40"
      },
      "execution_count": null,
      "outputs": [
        {
          "output_type": "stream",
          "name": "stdout",
          "text": [
            "(30, 3)\n"
          ]
        }
      ]
    },
    {
      "cell_type": "code",
      "source": [
        "#train model\n",
        "\n",
        "theta = np.zeros(3)\n",
        "alpha = 0.1\n",
        "\n",
        "for i in range(1000):\n",
        "  z = h(x_scaled, theta)\n",
        "  J = cost_func(z, y)\n",
        "  if i%10==0:\n",
        "    print('i: %d, J: %f' % (i, J))\n",
        "\n",
        "  g = grad(x_scaled, y, theta)\n",
        "  theta += -alpha*g"
      ],
      "metadata": {
        "colab": {
          "base_uri": "https://localhost:8080/"
        },
        "id": "nFEWkYPo6cGb",
        "outputId": "0b952699-8856-467d-9120-1069d5c01f4e"
      },
      "execution_count": null,
      "outputs": [
        {
          "output_type": "stream",
          "name": "stdout",
          "text": [
            "i: 0, J: 35052.920667\n",
            "i: 10, J: 5749.137007\n",
            "i: 20, J: 3747.741093\n",
            "i: 30, J: 2584.124131\n",
            "i: 40, J: 1787.139068\n",
            "i: 50, J: 1238.518382\n",
            "i: 60, J: 860.067867\n",
            "i: 70, J: 598.468865\n",
            "i: 80, J: 417.274118\n",
            "i: 90, J: 291.518619\n",
            "i: 100, J: 204.067320\n",
            "i: 110, J: 143.135193\n",
            "i: 120, J: 100.600108\n",
            "i: 130, J: 70.852867\n",
            "i: 140, J: 50.011808\n",
            "i: 150, J: 35.385323\n",
            "i: 160, J: 25.103288\n",
            "i: 170, J: 17.863801\n",
            "i: 180, J: 12.758802\n",
            "i: 190, J: 9.153746\n",
            "i: 200, J: 6.604419\n",
            "i: 210, J: 4.799302\n",
            "i: 220, J: 3.519567\n",
            "i: 230, J: 2.611246\n",
            "i: 240, J: 1.965839\n",
            "i: 250, J: 1.506775\n",
            "i: 260, J: 1.179938\n",
            "i: 270, J: 0.947033\n",
            "i: 280, J: 0.780925\n",
            "i: 290, J: 0.662363\n",
            "i: 300, J: 0.577677\n",
            "i: 310, J: 0.517147\n",
            "i: 320, J: 0.473855\n",
            "i: 330, J: 0.442874\n",
            "i: 340, J: 0.420692\n",
            "i: 350, J: 0.404801\n",
            "i: 360, J: 0.393412\n",
            "i: 370, J: 0.385246\n",
            "i: 380, J: 0.379389\n",
            "i: 390, J: 0.375186\n",
            "i: 400, J: 0.372170\n",
            "i: 410, J: 0.370004\n",
            "i: 420, J: 0.368448\n",
            "i: 430, J: 0.367331\n",
            "i: 440, J: 0.366528\n",
            "i: 450, J: 0.365951\n",
            "i: 460, J: 0.365536\n",
            "i: 470, J: 0.365237\n",
            "i: 480, J: 0.365023\n",
            "i: 490, J: 0.364869\n",
            "i: 500, J: 0.364758\n",
            "i: 510, J: 0.364678\n",
            "i: 520, J: 0.364620\n",
            "i: 530, J: 0.364579\n",
            "i: 540, J: 0.364549\n",
            "i: 550, J: 0.364528\n",
            "i: 560, J: 0.364513\n",
            "i: 570, J: 0.364502\n",
            "i: 580, J: 0.364494\n",
            "i: 590, J: 0.364488\n",
            "i: 600, J: 0.364484\n",
            "i: 610, J: 0.364481\n",
            "i: 620, J: 0.364479\n",
            "i: 630, J: 0.364477\n",
            "i: 640, J: 0.364476\n",
            "i: 650, J: 0.364475\n",
            "i: 660, J: 0.364474\n",
            "i: 670, J: 0.364474\n",
            "i: 680, J: 0.364474\n",
            "i: 690, J: 0.364474\n",
            "i: 700, J: 0.364473\n",
            "i: 710, J: 0.364473\n",
            "i: 720, J: 0.364473\n",
            "i: 730, J: 0.364473\n",
            "i: 740, J: 0.364473\n",
            "i: 750, J: 0.364473\n",
            "i: 760, J: 0.364473\n",
            "i: 770, J: 0.364473\n",
            "i: 780, J: 0.364473\n",
            "i: 790, J: 0.364473\n",
            "i: 800, J: 0.364473\n",
            "i: 810, J: 0.364473\n",
            "i: 820, J: 0.364473\n",
            "i: 830, J: 0.364473\n",
            "i: 840, J: 0.364473\n",
            "i: 850, J: 0.364473\n",
            "i: 860, J: 0.364473\n",
            "i: 870, J: 0.364473\n",
            "i: 880, J: 0.364473\n",
            "i: 890, J: 0.364473\n",
            "i: 900, J: 0.364473\n",
            "i: 910, J: 0.364473\n",
            "i: 920, J: 0.364473\n",
            "i: 930, J: 0.364473\n",
            "i: 940, J: 0.364473\n",
            "i: 950, J: 0.364473\n",
            "i: 960, J: 0.364473\n",
            "i: 970, J: 0.364473\n",
            "i: 980, J: 0.364473\n",
            "i: 990, J: 0.364473\n"
          ]
        }
      ]
    },
    {
      "cell_type": "code",
      "source": [
        "#evaluate model\n",
        "z = h(x_scaled, theta)\n",
        "\n",
        "for i, (zi, yi) in enumerate(zip(z, y)):\n",
        "  print('i: %02d, predict: %f, real: %f' % (i+1, zi, yi))"
      ],
      "metadata": {
        "colab": {
          "base_uri": "https://localhost:8080/"
        },
        "id": "RzvDV-2M-O3S",
        "outputId": "45afb52f-6359-457a-bf18-1c76907a8876"
      },
      "execution_count": null,
      "outputs": [
        {
          "output_type": "stream",
          "name": "stdout",
          "text": [
            "i: 01, predict: 16.194543, real: 15.700000\n",
            "i: 02, predict: 10.244300, real: 11.300000\n",
            "i: 03, predict: 41.954123, real: 42.000000\n",
            "i: 04, predict: 35.082056, real: 35.000000\n",
            "i: 05, predict: 38.084521, real: 37.700000\n",
            "i: 06, predict: 75.441886, real: 75.500000\n",
            "i: 07, predict: 77.723605, real: 77.100000\n",
            "i: 08, predict: 89.345749, real: 88.700000\n",
            "i: 09, predict: 121.073624, real: 122.000000\n",
            "i: 10, predict: 118.729084, real: 119.100000\n",
            "i: 11, predict: 126.542280, real: 125.600000\n",
            "i: 12, predict: 145.399657, real: 145.500000\n",
            "i: 13, predict: 149.603541, real: 150.000000\n",
            "i: 14, predict: 145.948016, real: 145.000000\n",
            "i: 15, predict: 171.646410, real: 172.000000\n",
            "i: 16, predict: 169.267210, real: 170.000000\n",
            "i: 17, predict: 176.384934, real: 177.000000\n",
            "i: 18, predict: 170.028923, real: 169.400000\n",
            "i: 19, predict: 210.512037, real: 211.000000\n",
            "i: 20, predict: 219.907871, real: 220.000000\n",
            "i: 21, predict: 231.125691, real: 231.400000\n",
            "i: 22, predict: 216.739518, real: 216.900000\n",
            "i: 23, predict: 228.558409, real: 227.500000\n",
            "i: 24, predict: 239.064148, real: 239.400000\n",
            "i: 25, predict: 243.964227, real: 244.300000\n",
            "i: 26, predict: 280.230459, real: 279.800000\n",
            "i: 27, predict: 258.878540, real: 259.500000\n",
            "i: 28, predict: 295.314080, real: 295.400000\n",
            "i: 29, predict: 315.406092, real: 314.100000\n",
            "i: 30, predict: 324.204465, real: 324.700000\n"
          ]
        }
      ]
    }
  ]
}
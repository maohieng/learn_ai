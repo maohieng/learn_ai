{
  "nbformat": 4,
  "nbformat_minor": 0,
  "metadata": {
    "colab": {
      "provenance": []
    },
    "kernelspec": {
      "name": "python3",
      "display_name": "Python 3"
    },
    "language_info": {
      "name": "python"
    }
  },
  "cells": [
    {
      "cell_type": "code",
      "execution_count": null,
      "metadata": {
        "colab": {
          "base_uri": "https://localhost:8080/"
        },
        "id": "A3f_je-R7hYN",
        "outputId": "9d95e11b-3b80-435d-bdba-092078fde1de"
      },
      "outputs": [
        {
          "output_type": "stream",
          "name": "stdout",
          "text": [
            "x (100, 2)\n",
            "y (100,)\n"
          ]
        }
      ],
      "source": [
        "import numpy as np\n",
        "import pandas as pd\n",
        "\n",
        "data = pd.read_csv('/content/data_3_1_1.csv').to_numpy()\n",
        "\n",
        "x = data[:, :-1]\n",
        "y = data[:, -1]\n",
        "\n",
        "print('x', x.shape)\n",
        "print('y', y.shape)"
      ]
    },
    {
      "cell_type": "code",
      "source": [
        "#Pytorch Module\n",
        "import torch\n",
        "import torch.nn as nn\n",
        "\n",
        "class MyModel(nn.Module):\n",
        "  def __init__(self):\n",
        "    super().__init__()\n",
        "    self.linear = nn.Linear(2, 1)\n",
        "\n",
        "  def forward(self, x):\n",
        "    \"\"\"\n",
        "    x: tensor(m, 2)\n",
        "    return: tensor(m)\n",
        "    \"\"\"\n",
        "    output = self.linear(x) #tensor(m, 1)\n",
        "    output = torch.sigmoid(output)\n",
        "    return output.flatten()\n",
        "\n",
        "tmp = torch.randn(100, 2)\n",
        "model = MyModel()\n",
        "#output = model.forward(tmp)\n",
        "output = model(tmp)\n",
        "\n",
        "print('output', output.shape)"
      ],
      "metadata": {
        "colab": {
          "base_uri": "https://localhost:8080/"
        },
        "id": "ItSN8Rh98Q-x",
        "outputId": "235bc624-56fc-4bfd-ac87-2a11fc0e68d1"
      },
      "execution_count": null,
      "outputs": [
        {
          "output_type": "stream",
          "name": "stdout",
          "text": [
            "output torch.Size([100])\n"
          ]
        }
      ]
    },
    {
      "cell_type": "code",
      "source": [
        "#training\n",
        "import torch.optim as optim\n",
        "\n",
        "model = MyModel()\n",
        "opt = optim.SGD(model.parameters(), lr=0.1)\n",
        "\n",
        "tx = torch.tensor(x, dtype=torch.float32)\n",
        "ty = torch.tensor(y, dtype=torch.float32)\n",
        "\n",
        "for i in range(500):\n",
        "  tz = model(tx)\n",
        "  J = -ty*torch.log(tz) - (1-ty)*torch.log(1-tz)\n",
        "  J = J.mean()\n",
        "\n",
        "  if i%20==0:\n",
        "    print('i: %d, J: %f' % (i, J.item()))\n",
        "\n",
        "  J.backward()\n",
        "\n",
        "  opt.step()\n",
        "  opt.zero_grad()\n"
      ],
      "metadata": {
        "colab": {
          "base_uri": "https://localhost:8080/"
        },
        "id": "c5JvUHG0A2gh",
        "outputId": "7e1827b8-4cfd-4beb-f0f6-a0797115b0fe"
      },
      "execution_count": null,
      "outputs": [
        {
          "output_type": "stream",
          "name": "stdout",
          "text": [
            "i: 0, J: 1.141484\n",
            "i: 20, J: 0.201055\n",
            "i: 40, J: 0.139598\n",
            "i: 60, J: 0.116666\n",
            "i: 80, J: 0.104393\n",
            "i: 100, J: 0.096655\n",
            "i: 120, J: 0.091291\n",
            "i: 140, J: 0.087334\n",
            "i: 160, J: 0.084286\n",
            "i: 180, J: 0.081860\n",
            "i: 200, J: 0.079879\n",
            "i: 220, J: 0.078230\n",
            "i: 240, J: 0.076833\n",
            "i: 260, J: 0.075634\n",
            "i: 280, J: 0.074593\n",
            "i: 300, J: 0.073679\n",
            "i: 320, J: 0.072871\n",
            "i: 340, J: 0.072151\n",
            "i: 360, J: 0.071505\n",
            "i: 380, J: 0.070921\n",
            "i: 400, J: 0.070391\n",
            "i: 420, J: 0.069908\n",
            "i: 440, J: 0.069465\n",
            "i: 460, J: 0.069057\n",
            "i: 480, J: 0.068681\n"
          ]
        }
      ]
    },
    {
      "cell_type": "code",
      "source": [
        "#evaluating the model\n",
        "\n",
        "tz = model(tx)\n",
        "tz = (tz>=0.5).float()\n",
        "accuracy = (tz==ty).float().sum()/tx.shape[0]\n",
        "print('Accuracy Rate: %.4f' % accuracy.item())\n"
      ],
      "metadata": {
        "colab": {
          "base_uri": "https://localhost:8080/"
        },
        "id": "_KQg31zTD7KA",
        "outputId": "6a6d839e-1f21-48e9-a0b3-e39253615f52"
      },
      "execution_count": null,
      "outputs": [
        {
          "output_type": "stream",
          "name": "stdout",
          "text": [
            "Accuracy Rate: 0.9600\n"
          ]
        }
      ]
    }
  ]
}
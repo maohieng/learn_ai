{
  "nbformat": 4,
  "nbformat_minor": 0,
  "metadata": {
    "colab": {
      "provenance": []
    },
    "kernelspec": {
      "name": "python3",
      "display_name": "Python 3"
    },
    "language_info": {
      "name": "python"
    }
  },
  "cells": [
    {
      "cell_type": "code",
      "execution_count": null,
      "metadata": {
        "colab": {
          "base_uri": "https://localhost:8080/"
        },
        "id": "A3f_je-R7hYN",
        "outputId": "afe3ea5b-1dd5-4e0a-b877-504257396609"
      },
      "outputs": [
        {
          "output_type": "stream",
          "name": "stdout",
          "text": [
            "x (100, 2)\n",
            "y (100,)\n"
          ]
        }
      ],
      "source": [
        "import numpy as np\n",
        "import pandas as pd\n",
        "\n",
        "data = pd.read_csv('/content/data_3_1_1.csv').to_numpy()\n",
        "\n",
        "x = data[:, :-1]\n",
        "y = data[:, -1]\n",
        "y[y==0] = -1\n",
        "\n",
        "x_train = x[:70]\n",
        "y_train = y[:70]\n",
        "x_test = x[70:]\n",
        "y_test = y[70:]\n",
        "\n",
        "print('x', x.shape)\n",
        "print('y', y.shape)"
      ]
    },
    {
      "cell_type": "code",
      "source": [
        "#Pytorch Module\n",
        "import torch\n",
        "import torch.nn as nn\n",
        "\n",
        "class MyModel(nn.Module):\n",
        "  def __init__(self):\n",
        "    super().__init__()\n",
        "    self.linear = nn.Linear(2, 1)\n",
        "\n",
        "  def forward(self, x):\n",
        "    \"\"\"\n",
        "    x: tensor(m, 2)\n",
        "    return: tensor(m)\n",
        "    \"\"\"\n",
        "    output = self.linear(x) #tensor(m, 1)\n",
        "    #output = torch.sigmoid(output)\n",
        "    return output.flatten()\n",
        "\n",
        "tmp = torch.randn(100, 2)\n",
        "model = MyModel()\n",
        "output = model(tmp)\n",
        "\n",
        "print('output', output.shape)"
      ],
      "metadata": {
        "colab": {
          "base_uri": "https://localhost:8080/"
        },
        "id": "ItSN8Rh98Q-x",
        "outputId": "ec57ae5a-284a-4107-c863-607a520004b8"
      },
      "execution_count": null,
      "outputs": [
        {
          "output_type": "stream",
          "name": "stdout",
          "text": [
            "output torch.Size([100])\n"
          ]
        }
      ]
    },
    {
      "cell_type": "code",
      "source": [
        "#training\n",
        "import torch.optim as optim\n",
        "\n",
        "def hinge_loss(tz, ty):\n",
        "  return torch.clamp(1-tz.flatten()*ty, min=0).mean()\n",
        "\n",
        "model = MyModel()\n",
        "opt = optim.Adam(model.parameters(), lr=0.1, weight_decay=0.0001)\n",
        "\n",
        "tx = torch.tensor(x_train, dtype=torch.float32)\n",
        "ty = torch.tensor(y_train, dtype=torch.float32)\n",
        "\n",
        "for i in range(1000):\n",
        "  tz = model(tx)\n",
        "  J = hinge_loss(tz, ty)\n",
        "\n",
        "  if i%50==0:\n",
        "    print('i: %d, J: %f' % (i, J.item()))\n",
        "\n",
        "  J.backward()\n",
        "\n",
        "  opt.step()\n",
        "  opt.zero_grad()\n"
      ],
      "metadata": {
        "colab": {
          "base_uri": "https://localhost:8080/"
        },
        "id": "c5JvUHG0A2gh",
        "outputId": "8923b966-2be0-47ca-a5c2-426f10edc011"
      },
      "execution_count": null,
      "outputs": [
        {
          "output_type": "stream",
          "name": "stdout",
          "text": [
            "i: 0, J: 2.911229\n",
            "i: 50, J: 0.080472\n",
            "i: 100, J: 0.077726\n",
            "i: 150, J: 0.074680\n",
            "i: 200, J: 0.073705\n",
            "i: 250, J: 0.072718\n",
            "i: 300, J: 0.071607\n",
            "i: 350, J: 0.070406\n",
            "i: 400, J: 0.069157\n",
            "i: 450, J: 0.067985\n",
            "i: 500, J: 0.067164\n",
            "i: 550, J: 0.066456\n",
            "i: 600, J: 0.065472\n",
            "i: 650, J: 0.064390\n",
            "i: 700, J: 0.063427\n",
            "i: 750, J: 0.062566\n",
            "i: 800, J: 0.062329\n",
            "i: 850, J: 0.061931\n",
            "i: 900, J: 0.061727\n",
            "i: 950, J: 0.061446\n"
          ]
        }
      ]
    },
    {
      "cell_type": "code",
      "source": [
        "#evaluating the model\n",
        "tx_test = torch.tensor(x_test, dtype=torch.float32)\n",
        "ty_test = torch.tensor(y_test, dtype=torch.float32)\n",
        "\n",
        "tz = model(tx_test)\n",
        "tz[tz>=0] = 1\n",
        "tz[tz<0] = -1\n",
        "accuracy = (tz==ty_test).float().sum()/tx_test.shape[0]\n",
        "print('Accuracy Rate: %.4f' % accuracy.item())\n"
      ],
      "metadata": {
        "colab": {
          "base_uri": "https://localhost:8080/"
        },
        "id": "_KQg31zTD7KA",
        "outputId": "c27c3fbb-5905-4565-d6a7-0494a9562cab"
      },
      "execution_count": null,
      "outputs": [
        {
          "output_type": "stream",
          "name": "stdout",
          "text": [
            "Accuracy Rate: 1.0000\n"
          ]
        }
      ]
    },
    {
      "cell_type": "code",
      "source": [
        "import matplotlib.pyplot as plt\n",
        "import numpy as np\n",
        "\n",
        "plt.figure(figsize=(5, 5))\n",
        "id0 = np.where(y==-1)\n",
        "id1 = np.where(y==1)\n",
        "plt.scatter(x=x[id0, 0], y=x[id0, 1], c=\"blue\", s=10)\n",
        "plt.scatter(x=x[id1, 0], y=x[id1, 1], c=\"red\", s=10)\n",
        "\n",
        "step = 0.01\n",
        "xx = np.arange(x[:, 0].min(), x[:, 0].max(), step)\n",
        "yy = np.arange(x[:, 1].min(), x[:, 1].max(), step)\n",
        "xx, yy = np.meshgrid(xx, yy)\n",
        "xy = np.concatenate((xx.reshape(-1, 1), yy.reshape(-1, 1)), axis=1)\n",
        "\n",
        "z = model(torch.tensor(xy, dtype=torch.float32))\n",
        "z = z.detach().numpy()\n",
        "\n",
        "z[np.where(z > 1)] = 4\n",
        "z[np.where((z > 0) & (z <= 1))] = 3\n",
        "z[np.where((z > -1) & (z <= 0))] = 2\n",
        "z[np.where(z <= -1)] = 1\n",
        "\n",
        "plt.contourf(xx, yy, z.reshape(xx.shape), cmap=plt.cm.jet, alpha=0.25)\n",
        "plt.tight_layout()\n",
        "plt.show()"
      ],
      "metadata": {
        "colab": {
          "base_uri": "https://localhost:8080/",
          "height": 506
        },
        "id": "sGvV2gZEgFZh",
        "outputId": "e08e760c-1a67-4a10-f6bc-8a9e741c671e"
      },
      "execution_count": null,
      "outputs": [
        {
          "output_type": "display_data",
          "data": {
            "text/plain": [
              "<Figure size 500x500 with 1 Axes>"
            ],
            "image/png": "[encoded data removed]"
          },
          "metadata": {}
        }
      ]
    }
  ]
}
{
  "nbformat": 4,
  "nbformat_minor": 0,
  "metadata": {
    "colab": {
      "provenance": []
    },
    "kernelspec": {
      "name": "python3",
      "display_name": "Python 3"
    },
    "language_info": {
      "name": "python"
    }
  },
  "cells": [
    {
      "cell_type": "code",
      "execution_count": null,
      "metadata": {
        "colab": {
          "base_uri": "https://localhost:8080/"
        },
        "id": "kKvpjAZtBPN7",
        "outputId": "93e785c3-a624-4054-efa6-c6f279e26dd2"
      },
      "outputs": [
        {
          "output_type": "stream",
          "name": "stdout",
          "text": [
            "x (100, 2)\n",
            "y (100,)\n"
          ]
        }
      ],
      "source": [
        "import numpy as np\n",
        "import pandas as pd\n",
        "\n",
        "data = pd.read_csv('/content/data_3_1_1.csv').to_numpy()\n",
        "\n",
        "x = data[:, :-1]\n",
        "y = data[:, -1]\n",
        "\n",
        "print('x', x.shape)\n",
        "print('y', y.shape)"
      ]
    },
    {
      "cell_type": "code",
      "source": [
        "import torch\n",
        "import torch.nn as nn\n",
        "\n",
        "class MyNN(nn.Module):\n",
        "  def __init__(self):\n",
        "    super().__init__()\n",
        "    self.hid_layer1 = nn.Linear(2, 5)\n",
        "    self.hid_layer2 = nn.Linear(5, 5)\n",
        "    self.out_layer = nn.Linear(5, 2)\n",
        "\n",
        "  def forward(self, x): #x: tensor(m, 2)\n",
        "    output = self.hid_layer1(x) #tensor(m, 5)\n",
        "    output = torch.sigmoid(output)\n",
        "    output = self.hid_layer2(output) #tensor(m, 5)\n",
        "    output = torch.sigmoid(output)\n",
        "    output = self.out_layer(output) #tensor(m, 2)\n",
        "    #output = torch.sigmoid(output)\n",
        "    return output\n",
        "\n",
        "tmp = torch.rand(100, 2)\n",
        "model = MyNN()\n",
        "output = model(tmp)\n",
        "print(output.shape)\n"
      ],
      "metadata": {
        "colab": {
          "base_uri": "https://localhost:8080/"
        },
        "id": "yf8kVIXRB3vZ",
        "outputId": "b9230af1-c274-46bb-97b8-9ec54dac8b25"
      },
      "execution_count": null,
      "outputs": [
        {
          "output_type": "stream",
          "name": "stdout",
          "text": [
            "torch.Size([100, 2])\n"
          ]
        }
      ]
    },
    {
      "cell_type": "markdown",
      "source": [
        "Cost/Loss functions in Pytorch:\n",
        "\n",
        "\n",
        "*   MSELoss\n",
        "*   CrossEntropyLoss\n",
        "*   BCELoss/BCEWithLogitsLoss\n",
        "\n"
      ],
      "metadata": {
        "id": "469A-rEbHp9V"
      }
    },
    {
      "cell_type": "code",
      "source": [
        "#training\n",
        "\n",
        "import torch.optim as optim\n",
        "\n",
        "model = MyNN()\n",
        "opt = optim.SGD(model.parameters(), lr=0.1)\n",
        "cost_func = nn.CrossEntropyLoss()\n",
        "\n",
        "tx = torch.tensor(x, dtype=torch.float32)\n",
        "ty = torch.tensor(y, dtype=torch.long) #tensor(m)\n",
        "\n",
        "for i in range(500):\n",
        "  tz = model(tx) #tensor(m, 2)\n",
        "  J = cost_func(tz, ty)\n",
        "\n",
        "  if i%10 == 0:\n",
        "    print('i: %d, J: %f' % (i, J.item()))\n",
        "\n",
        "  J.backward()\n",
        "  opt.step()\n",
        "  opt.zero_grad()\n",
        "\n",
        "\n",
        "torch.save(model.state_dict(), 'model.sav')"
      ],
      "metadata": {
        "colab": {
          "base_uri": "https://localhost:8080/"
        },
        "id": "RAO55nwkDj8v",
        "outputId": "2883b5fe-f08b-4b7d-e987-6378e977e99d"
      },
      "execution_count": null,
      "outputs": [
        {
          "output_type": "stream",
          "name": "stdout",
          "text": [
            "i: 0, J: 0.704000\n",
            "i: 10, J: 0.692976\n",
            "i: 20, J: 0.690196\n",
            "i: 30, J: 0.688043\n",
            "i: 40, J: 0.685794\n",
            "i: 50, J: 0.683358\n",
            "i: 60, J: 0.680707\n",
            "i: 70, J: 0.677817\n",
            "i: 80, J: 0.674647\n",
            "i: 90, J: 0.671138\n",
            "i: 100, J: 0.667202\n",
            "i: 110, J: 0.662728\n",
            "i: 120, J: 0.657577\n",
            "i: 130, J: 0.651583\n",
            "i: 140, J: 0.644565\n",
            "i: 150, J: 0.636351\n",
            "i: 160, J: 0.626822\n",
            "i: 170, J: 0.615940\n",
            "i: 180, J: 0.603700\n",
            "i: 190, J: 0.590069\n",
            "i: 200, J: 0.574984\n",
            "i: 210, J: 0.558395\n",
            "i: 220, J: 0.540309\n",
            "i: 230, J: 0.520810\n",
            "i: 240, J: 0.500057\n",
            "i: 250, J: 0.478276\n",
            "i: 260, J: 0.455752\n",
            "i: 270, J: 0.432807\n",
            "i: 280, J: 0.409780\n",
            "i: 290, J: 0.387005\n",
            "i: 300, J: 0.364790\n",
            "i: 310, J: 0.343398\n",
            "i: 320, J: 0.323039\n",
            "i: 330, J: 0.303860\n",
            "i: 340, J: 0.285951\n",
            "i: 350, J: 0.269354\n",
            "i: 360, J: 0.254064\n",
            "i: 370, J: 0.240045\n",
            "i: 380, J: 0.227239\n",
            "i: 390, J: 0.215570\n",
            "i: 400, J: 0.204956\n",
            "i: 410, J: 0.195312\n",
            "i: 420, J: 0.186553\n",
            "i: 430, J: 0.178596\n",
            "i: 440, J: 0.171365\n",
            "i: 450, J: 0.164787\n",
            "i: 460, J: 0.158797\n",
            "i: 470, J: 0.153336\n",
            "i: 480, J: 0.148349\n",
            "i: 490, J: 0.143789\n"
          ]
        }
      ]
    },
    {
      "cell_type": "code",
      "source": [
        "#Evaluating\n",
        "\n",
        "model = MyNN()\n",
        "model.load_state_dict(torch.load('model.sav'))\n",
        "\n",
        "tz = model(tx) #tensor(m, 2)\n",
        "predict = torch.argmax(tz, dim=1) #tensor(m) of long\n",
        "\n",
        "accuracy = (predict==ty).sum().item()/len(ty)\n",
        "print('accuracy: %.4f' % accuracy)\n"
      ],
      "metadata": {
        "colab": {
          "base_uri": "https://localhost:8080/"
        },
        "id": "VrOwvKzXILWJ",
        "outputId": "84bd2761-28a1-4d78-984e-236f1dd240d4"
      },
      "execution_count": null,
      "outputs": [
        {
          "output_type": "stream",
          "name": "stdout",
          "text": [
            "accuracy: 0.9600\n"
          ]
        }
      ]
    }
  ]
}
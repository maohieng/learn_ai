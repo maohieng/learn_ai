{
  "nbformat": 4,
  "nbformat_minor": 0,
  "metadata": {
    "colab": {
      "provenance": []
    },
    "kernelspec": {
      "name": "python3",
      "display_name": "Python 3"
    },
    "language_info": {
      "name": "python"
    }
  },
  "cells": [
    {
      "cell_type": "code",
      "execution_count": null,
      "metadata": {
        "colab": {
          "base_uri": "https://localhost:8080/"
        },
        "id": "sMJOwn3c94ME",
        "outputId": "91937733-4b77-43d9-9867-4892d51bebcf"
      },
      "outputs": [
        {
          "output_type": "stream",
          "name": "stdout",
          "text": [
            "(4898, 11)\n",
            "(4898,)\n"
          ]
        }
      ],
      "source": [
        "import numpy as np\n",
        "import pandas as pd\n",
        "\n",
        "data = pd.read_csv('/content/wine_quality.csv')\n",
        "x = data.iloc[:, :-1].to_numpy()\n",
        "y = data.iloc[:, -1].to_numpy()\n",
        "\n",
        "labels = {\n",
        "    'Medium': 0,\n",
        "    'Good': 1,\n",
        "    'Excellent': 2\n",
        "}\n",
        "y = np.array([labels[i] for i in y])\n",
        "\n",
        "print(x.shape)\n",
        "print(y.shape)"
      ]
    },
    {
      "cell_type": "code",
      "source": [
        "#Dataset\n",
        "\n",
        "from torch.utils.data import Dataset, DataLoader\n",
        "import torch\n",
        "\n",
        "class WineDataset(Dataset):\n",
        "  def __init__(self, x, y):\n",
        "    self.x = x\n",
        "    self.y = y\n",
        "\n",
        "  def __len__(self):\n",
        "    return self.x.shape[0]\n",
        "\n",
        "  def __getitem__(self, idx):\n",
        "    tx = torch.tensor(self.x, dtype=torch.float32)\n",
        "    ty = torch.tensor(self.y, dtype=torch.long)\n",
        "    return tx[idx], ty[idx]"
      ],
      "metadata": {
        "id": "AMU16iLS_AYt"
      },
      "execution_count": null,
      "outputs": []
    },
    {
      "cell_type": "code",
      "source": [
        "#Model\n",
        "\n",
        "import torch.nn as nn\n",
        "import torch.optim as optim\n",
        "\n",
        "class MyModel(nn.Module):\n",
        "  def __init__(self, hid_szs):\n",
        "    super().__init__()\n",
        "    self.hid_szs = hid_szs\n",
        "    act_func = nn.ReLU()\n",
        "    layers = nn.ModuleList()\n",
        "    layers.append(nn.Linear(11, hid_szs[0]))\n",
        "    layers.append(act_func)\n",
        "    for i in range(len(hid_szs)-1):\n",
        "      layers.append(nn.Linear(hid_szs[i], hid_szs[i+1]))\n",
        "      layers.append(act_func)\n",
        "    layers.append(nn.Linear(hid_szs[-1], 3))\n",
        "    self.layers = layers\n",
        "\n",
        "  def forward(self, x):\n",
        "    for layer in self.layers:\n",
        "      x = layer(x)\n",
        "    return x\n",
        "\n",
        "  def train(self, dataset, b_sz=300, num_epoch=10):\n",
        "    opt = optim.Adam(self.parameters())\n",
        "    loss_fn = nn.CrossEntropyLoss()\n",
        "    loader = DataLoader(dataset, batch_size=b_sz, shuffle=True)\n",
        "\n",
        "    for epoch in range(num_epoch):\n",
        "      for i, (bx, by) in enumerate(loader):\n",
        "        output = self(bx)\n",
        "        loss = loss_fn(output, by)\n",
        "        loss.backward()\n",
        "        if epoch%10==0 and i==0:\n",
        "          print('Epoch: %d, iter: %d, Loss: %f' % (epoch, i, loss.item()))\n",
        "\n",
        "        opt.step()\n",
        "        opt.zero_grad()\n",
        "\n",
        "  def evaluate(self, dataset):\n",
        "    loader = DataLoader(dataset, batch_size=100, shuffle=False)\n",
        "    correct = 0\n",
        "    for bx, by in loader:\n",
        "      output = self(bx)\n",
        "      pred = torch.argmax(output, dim=1)\n",
        "      correct += (pred==by).sum().item()\n",
        "    self.accuracy_on_val = correct/len(dataset)\n",
        "    return self.accuracy_on_val\n",
        "\n",
        "tmp = torch.rand(100, 11)\n",
        "model = MyModel([32, 16, 8])\n",
        "print(model(tmp).shape)\n"
      ],
      "metadata": {
        "colab": {
          "base_uri": "https://localhost:8080/"
        },
        "id": "f1wgk7nZ_odG",
        "outputId": "393b6c30-e9b8-4b19-c580-cffe5ed13740"
      },
      "execution_count": null,
      "outputs": [
        {
          "output_type": "stream",
          "name": "stdout",
          "text": [
            "torch.Size([100, 3])\n"
          ]
        }
      ]
    },
    {
      "cell_type": "code",
      "source": [
        "m = x.shape[0]\n",
        "m_train = int(m*0.6)\n",
        "m_val = int(m*0.1)\n",
        "m_test = m-m_train-m_val\n",
        "\n",
        "def feature_scaling(x):\n",
        "  return (x-x.mean(axis=0))/x.std(axis=0)\n",
        "\n",
        "x_scaled = feature_scaling(x)\n",
        "\n",
        "ds_train = WineDataset(x_scaled[:m_train], y[:m_train])\n",
        "ds_val = WineDataset(x_scaled[m_train:m_train+m_val], y[m_train:m_train+m_val])\n",
        "ds_test = WineDataset(x_scaled[m_train+m_val:], y[m_train+m_val:])"
      ],
      "metadata": {
        "id": "DXh1-YPVEiHC"
      },
      "execution_count": null,
      "outputs": []
    },
    {
      "cell_type": "code",
      "source": [
        "#Training\n",
        "\n",
        "num_hids = [2, 3, 4]\n",
        "hid_szs = [25, 50, 100]\n",
        "\n",
        "model = MyModel([64, 64, 32, 16])\n",
        "model.train(ds_train, num_epoch=100)\n",
        "print('Accuracy on validation set: %f' % model.evaluate(ds_val))"
      ],
      "metadata": {
        "colab": {
          "base_uri": "https://localhost:8080/"
        },
        "id": "syE_anW3FRNk",
        "outputId": "094502f5-6220-43ba-8422-bd083fd7a2bb"
      },
      "execution_count": null,
      "outputs": [
        {
          "output_type": "stream",
          "name": "stdout",
          "text": [
            "Epoch: 0, iter: 0, Loss: 1.080249\n",
            "Epoch: 10, iter: 0, Loss: 0.863017\n",
            "Epoch: 20, iter: 0, Loss: 0.799983\n",
            "Epoch: 30, iter: 0, Loss: 0.725069\n",
            "Epoch: 40, iter: 0, Loss: 0.695611\n",
            "Epoch: 50, iter: 0, Loss: 0.650573\n",
            "Epoch: 60, iter: 0, Loss: 0.664190\n",
            "Epoch: 70, iter: 0, Loss: 0.584646\n",
            "Epoch: 80, iter: 0, Loss: 0.593820\n",
            "Epoch: 90, iter: 0, Loss: 0.610291\n",
            "Accuracy on validation set: 0.529652\n"
          ]
        }
      ]
    },
    {
      "cell_type": "code",
      "source": [
        "print('Accuracy on test set: %f' % model.evaluate(ds_test))\n",
        "print('Accuracy on training set: %f' % model.evaluate(ds_train))"
      ],
      "metadata": {
        "colab": {
          "base_uri": "https://localhost:8080/"
        },
        "id": "mm73ipODJXNr",
        "outputId": "3bf8fa52-30b3-4b5c-912e-831f0a6b8f6d"
      },
      "execution_count": null,
      "outputs": [
        {
          "output_type": "stream",
          "name": "stdout",
          "text": [
            "Accuracy on test set: 0.525493\n",
            "Accuracy on training set: 0.796801\n"
          ]
        }
      ]
    }
  ]
}
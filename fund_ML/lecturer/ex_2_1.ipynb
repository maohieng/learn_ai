{
  "cells": [
    {
      "cell_type": "code",
      "execution_count": null,
      "metadata": {
        "colab": {
          "base_uri": "https://localhost:8080/"
        },
        "id": "BsdkRXLsGjhZ",
        "outputId": "16cd18d3-db3d-41a4-a150-803148679438"
      },
      "outputs": [
        {
          "name": "stdout",
          "output_type": "stream",
          "text": [
            "10\n"
          ]
        }
      ],
      "source": [
        "x = [90, 130, 210, 300, 350, 420, 480, 530, 640, 710]\n",
        "y = [7.1, 10.9, 19.2, 28, 32.8, 39.9, 46.1, 51, 62.2, 68.9]\n",
        "\n",
        "print(len(x))"
      ]
    },
    {
      "cell_type": "code",
      "execution_count": null,
      "metadata": {
        "id": "wKiDeYK6HljR"
      },
      "outputs": [],
      "source": [
        "#h(x) = a*x\n",
        "def h(x, a):\n",
        "  return [a*xi for xi in x]\n",
        "\n",
        "def J(z, y):\n",
        "  return sum([(zi - yi)**2 for zi, yi in zip(z, y)])/len(z)\n",
        "\n",
        "def grad(x, y, a):\n",
        "  return 2*sum([(a*xi - yi)*xi for xi, yi in zip(x, y)])/len(x)\n"
      ]
    },
    {
      "cell_type": "code",
      "execution_count": null,
      "metadata": {
        "colab": {
          "base_uri": "https://localhost:8080/"
        },
        "id": "9XAV2Or9Iv2X",
        "outputId": "3413f30c-8ccc-4d83-fae7-ca44dfd82519"
      },
      "outputs": [
        {
          "name": "stdout",
          "output_type": "stream",
          "text": [
            "iter: 0, J: 7317997336298.560547, a: -6233.963878\n",
            "iter: 1, J: 2843975448892.720703, a: -3886.216959\n",
            "iter: 2, J: 1105247239403.594482, a: -2422.631530\n",
            "iter: 3, J: 429529537846.666626, a: -1510.232374\n",
            "iter: 4, J: 166927016241.789642, a: -941.442740\n",
            "iter: 5, J: 64872439020.639015, a: -586.859282\n",
            "iter: 6, J: 25211217688.351620, a: -365.811954\n",
            "iter: 7, J: 9797774015.364826, a: -228.011050\n",
            "iter: 8, J: 3807685009.534531, a: -142.105966\n",
            "iter: 9, J: 1479771335.015878, a: -88.552737\n",
            "iter: 10, J: 575079923.797060, a: -55.167654\n",
            "iter: 11, J: 223491908.102134, a: -34.355393\n",
            "iter: 12, J: 86855115.437373, a: -21.381030\n",
            "iter: 13, J: 33754292.097841, a: -13.292812\n",
            "iter: 14, J: 13117848.689408, a: -8.250617\n",
            "iter: 15, J: 5097958.040510, a: -5.107312\n",
            "iter: 16, J: 1981207.506163, a: -3.147776\n",
            "iter: 17, J: 769952.350870, a: -1.926202\n",
            "iter: 18, J: 299225.215332, a: -1.164672\n",
            "iter: 19, J: 116287.677221, a: -0.689934\n",
            "iter: 20, J: 45193.108153, a: -0.393983\n",
            "iter: 21, J: 17563.799247, a: -0.209487\n",
            "iter: 22, J: 6826.288342, a: -0.094472\n",
            "iter: 23, J: 2653.395679, a: -0.022772\n",
            "iter: 24, J: 1031.694585, a: 0.021926\n",
            "iter: 25, J: 401.456846, a: 0.049791\n",
            "iter: 26, J: 156.529091, a: 0.067162\n",
            "iter: 27, J: 61.343415, a: 0.077991\n",
            "iter: 28, J: 24.351638, a: 0.084742\n",
            "iter: 29, J: 9.975614, a: 0.088950\n",
            "iter: 30, J: 4.388695, a: 0.091574\n",
            "iter: 31, J: 2.217465, a: 0.093209\n",
            "iter: 32, J: 1.373664, a: 0.094229\n",
            "iter: 33, J: 1.045740, a: 0.094864\n",
            "iter: 34, J: 0.918300, a: 0.095261\n",
            "iter: 35, J: 0.868773, a: 0.095508\n",
            "iter: 36, J: 0.849526, a: 0.095662\n",
            "iter: 37, J: 0.842046, a: 0.095758\n",
            "iter: 38, J: 0.839139, a: 0.095818\n",
            "iter: 39, J: 0.838009, a: 0.095855\n",
            "iter: 40, J: 0.837570, a: 0.095878\n",
            "iter: 41, J: 0.837399, a: 0.095893\n",
            "iter: 42, J: 0.837333, a: 0.095902\n",
            "iter: 43, J: 0.837307, a: 0.095907\n",
            "iter: 44, J: 0.837297, a: 0.095911\n",
            "iter: 45, J: 0.837293, a: 0.095913\n",
            "iter: 46, J: 0.837292, a: 0.095914\n",
            "iter: 47, J: 0.837291, a: 0.095915\n",
            "iter: 48, J: 0.837291, a: 0.095916\n",
            "iter: 49, J: 0.837291, a: 0.095916\n"
          ]
        }
      ],
      "source": [
        "#training\n",
        "\n",
        "a = -10000\n",
        "alpha = 0.000001\n",
        "\n",
        "for i in range(50):\n",
        "  g = grad(x, y, a)\n",
        "  a += -alpha*g\n",
        "  z = h(x, a)\n",
        "  cost = J(z, y)\n",
        "  print('iter: %d, J: %f, a: %f' % (i, cost, a))"
      ]
    }
  ],
  "metadata": {
    "colab": {
      "provenance": []
    },
    "kernelspec": {
      "display_name": "Python 3",
      "name": "python3"
    },
    "language_info": {
      "name": "python"
    }
  },
  "nbformat": 4,
  "nbformat_minor": 0
}

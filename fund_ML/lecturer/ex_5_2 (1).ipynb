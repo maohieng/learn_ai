{
  "nbformat": 4,
  "nbformat_minor": 0,
  "metadata": {
    "colab": {
      "provenance": []
    },
    "kernelspec": {
      "name": "python3",
      "display_name": "Python 3"
    },
    "language_info": {
      "name": "python"
    }
  },
  "cells": [
    {
      "cell_type": "code",
      "execution_count": null,
      "metadata": {
        "colab": {
          "base_uri": "https://localhost:8080/"
        },
        "id": "sMJOwn3c94ME",
        "outputId": "3c6d6dc3-8a1f-4375-e298-2101bc4bc59f"
      },
      "outputs": [
        {
          "output_type": "stream",
          "name": "stdout",
          "text": [
            "(4898, 11)\n",
            "(4898,)\n"
          ]
        }
      ],
      "source": [
        "import numpy as np\n",
        "import pandas as pd\n",
        "\n",
        "data = pd.read_csv('/content/wine_quality.csv')\n",
        "x = data.iloc[:, :-1].to_numpy()\n",
        "y = data.iloc[:, -1].to_numpy()\n",
        "\n",
        "labels = {\n",
        "    'Medium': 0,\n",
        "    'Good': 1,\n",
        "    'Excellent': 2\n",
        "}\n",
        "y = np.array([labels[i] for i in y])\n",
        "\n",
        "print(x.shape)\n",
        "print(y.shape)"
      ]
    },
    {
      "cell_type": "code",
      "source": [
        "#Dataset\n",
        "\n",
        "from torch.utils.data import Dataset, DataLoader\n",
        "import torch\n",
        "\n",
        "class WineDataset(Dataset):\n",
        "  def __init__(self, x, y):\n",
        "    self.x = x\n",
        "    self.y = y\n",
        "\n",
        "  def __len__(self):\n",
        "    return self.x.shape[0]\n",
        "\n",
        "  def __getitem__(self, idx):\n",
        "    tx = torch.tensor(self.x, dtype=torch.float32)\n",
        "    ty = torch.tensor(self.y, dtype=torch.long)\n",
        "    return tx[idx], ty[idx]"
      ],
      "metadata": {
        "id": "AMU16iLS_AYt"
      },
      "execution_count": null,
      "outputs": []
    },
    {
      "cell_type": "code",
      "source": [
        "#Model\n",
        "\n",
        "import torch.nn as nn\n",
        "import torch.optim as optim\n",
        "\n",
        "class MyModel(nn.Module):\n",
        "  def __init__(self, num_hid, hid_sz):\n",
        "    self.num_hid = num_hid\n",
        "    self.hid_sz = hid_sz\n",
        "    self.accuracy_on_val = -1\n",
        "    super().__init__()\n",
        "    layers = [nn.Linear(11, hid_sz)] #input layer\n",
        "    for i in range(num_hid-1):\n",
        "      layers.append(nn.Sigmoid())\n",
        "      layers.append(nn.Linear(hid_sz, hid_sz))\n",
        "    layers.append(nn.Sigmoid())\n",
        "    layers.append(nn.Linear(hid_sz, 3)) #output layer\n",
        "    self.layers = nn.ModuleList(layers)\n",
        "\n",
        "  def forward(self, x):\n",
        "    for layer in self.layers:\n",
        "      x = layer(x)\n",
        "    return x\n",
        "\n",
        "  def train(self, dataset, b_sz=300, num_epoch=10):\n",
        "    opt = optim.Adam(self.parameters())\n",
        "    loss_fn = nn.CrossEntropyLoss()\n",
        "    loader = DataLoader(dataset, batch_size=b_sz, shuffle=True)\n",
        "\n",
        "    for epoch in range(num_epoch):\n",
        "      for i, (bx, by) in enumerate(loader):\n",
        "        output = self(bx)\n",
        "        loss = loss_fn(output, by)\n",
        "        loss.backward()\n",
        "        if epoch%10==0 and i==0:\n",
        "          print('Epoch: %d, iter: %d, Loss: %f' % (epoch, i, loss.item()))\n",
        "\n",
        "        opt.step()\n",
        "        opt.zero_grad()\n",
        "\n",
        "  def evaluate(self, dataset):\n",
        "    loader = DataLoader(dataset, batch_size=100, shuffle=False)\n",
        "    correct = 0\n",
        "    for bx, by in loader:\n",
        "      output = self(bx)\n",
        "      pred = torch.argmax(output, dim=1)\n",
        "      correct += (pred==by).sum().item()\n",
        "    self.accuracy_on_val = correct/len(dataset)\n",
        "    return self.accuracy_on_val\n",
        "\n",
        "tmp = torch.rand(100, 11)\n",
        "model = MyModel(3, 50)\n",
        "print(model(tmp).shape)\n"
      ],
      "metadata": {
        "colab": {
          "base_uri": "https://localhost:8080/"
        },
        "id": "f1wgk7nZ_odG",
        "outputId": "f660419e-32f3-44fd-9ce5-7feca5ca9a82"
      },
      "execution_count": null,
      "outputs": [
        {
          "output_type": "stream",
          "name": "stdout",
          "text": [
            "torch.Size([100, 3])\n"
          ]
        }
      ]
    },
    {
      "cell_type": "code",
      "source": [
        "m = x.shape[0]\n",
        "m_train = int(m*0.6)\n",
        "m_val = int(m*0.1)\n",
        "m_test = m-m_train-m_val\n",
        "\n",
        "ds_train = WineDataset(x[:m_train], y[:m_train])\n",
        "ds_val = WineDataset(x[m_train:m_train+m_val], y[m_train:m_train+m_val])\n",
        "ds_test = WineDataset(x[m_train+m_val:], y[m_train+m_val:])"
      ],
      "metadata": {
        "id": "DXh1-YPVEiHC"
      },
      "execution_count": null,
      "outputs": []
    },
    {
      "cell_type": "code",
      "source": [
        "#Training\n",
        "\n",
        "num_hids = [2, 3, 4]\n",
        "hid_szs = [25, 50, 100]\n",
        "\n",
        "models = []\n",
        "for num_hid in num_hids:\n",
        "  for hid_sz in hid_szs:\n",
        "    model = MyModel(num_hid, hid_sz)\n",
        "    print('\\n\\nTraining model with num_hid=%d, hid_sz=%d' % (num_hid, hid_sz))\n",
        "    model.train(ds_train, num_epoch=50)\n",
        "    models.append(model)\n",
        "\n",
        "for model in models:\n",
        "  print('Accuracy on validation set: %f' % model.evaluate(ds_val))"
      ],
      "metadata": {
        "colab": {
          "base_uri": "https://localhost:8080/"
        },
        "id": "syE_anW3FRNk",
        "outputId": "3fe6b37d-4e2d-4e72-8139-35f65989ae9e"
      },
      "execution_count": null,
      "outputs": [
        {
          "output_type": "stream",
          "name": "stdout",
          "text": [
            "\n",
            "\n",
            "Training model with num_hid=2, hid_sz=25\n",
            "Epoch: 0, iter: 0, Loss: 1.205536\n",
            "Epoch: 10, iter: 0, Loss: 1.046679\n",
            "Epoch: 20, iter: 0, Loss: 1.027595\n",
            "Epoch: 30, iter: 0, Loss: 1.010409\n",
            "Epoch: 40, iter: 0, Loss: 0.993768\n",
            "\n",
            "\n",
            "Training model with num_hid=2, hid_sz=50\n",
            "Epoch: 0, iter: 0, Loss: 1.243775\n",
            "Epoch: 10, iter: 0, Loss: 1.055571\n",
            "Epoch: 20, iter: 0, Loss: 1.015911\n",
            "Epoch: 30, iter: 0, Loss: 0.971202\n",
            "Epoch: 40, iter: 0, Loss: 0.940706\n",
            "\n",
            "\n",
            "Training model with num_hid=2, hid_sz=100\n",
            "Epoch: 0, iter: 0, Loss: 1.079934\n",
            "Epoch: 10, iter: 0, Loss: 1.017123\n",
            "Epoch: 20, iter: 0, Loss: 1.002577\n",
            "Epoch: 30, iter: 0, Loss: 0.958627\n",
            "Epoch: 40, iter: 0, Loss: 0.939703\n",
            "\n",
            "\n",
            "Training model with num_hid=3, hid_sz=25\n",
            "Epoch: 0, iter: 0, Loss: 1.078858\n",
            "Epoch: 10, iter: 0, Loss: 1.059983\n",
            "Epoch: 20, iter: 0, Loss: 1.024975\n",
            "Epoch: 30, iter: 0, Loss: 0.996827\n",
            "Epoch: 40, iter: 0, Loss: 0.980152\n",
            "\n",
            "\n",
            "Training model with num_hid=3, hid_sz=50\n",
            "Epoch: 0, iter: 0, Loss: 1.121107\n",
            "Epoch: 10, iter: 0, Loss: 1.078552\n",
            "Epoch: 20, iter: 0, Loss: 0.990059\n",
            "Epoch: 30, iter: 0, Loss: 0.941574\n",
            "Epoch: 40, iter: 0, Loss: 0.885334\n",
            "\n",
            "\n",
            "Training model with num_hid=3, hid_sz=100\n",
            "Epoch: 0, iter: 0, Loss: 1.096249\n",
            "Epoch: 10, iter: 0, Loss: 1.030440\n",
            "Epoch: 20, iter: 0, Loss: 0.971819\n",
            "Epoch: 30, iter: 0, Loss: 0.948683\n",
            "Epoch: 40, iter: 0, Loss: 0.876396\n",
            "\n",
            "\n",
            "Training model with num_hid=4, hid_sz=25\n",
            "Epoch: 0, iter: 0, Loss: 1.084627\n",
            "Epoch: 10, iter: 0, Loss: 1.084736\n",
            "Epoch: 20, iter: 0, Loss: 1.062577\n",
            "Epoch: 30, iter: 0, Loss: 1.032327\n",
            "Epoch: 40, iter: 0, Loss: 0.988277\n",
            "\n",
            "\n",
            "Training model with num_hid=4, hid_sz=50\n",
            "Epoch: 0, iter: 0, Loss: 1.084263\n",
            "Epoch: 10, iter: 0, Loss: 1.046910\n",
            "Epoch: 20, iter: 0, Loss: 0.992074\n",
            "Epoch: 30, iter: 0, Loss: 0.968145\n",
            "Epoch: 40, iter: 0, Loss: 0.895409\n",
            "\n",
            "\n",
            "Training model with num_hid=4, hid_sz=100\n",
            "Epoch: 0, iter: 0, Loss: 1.136100\n",
            "Epoch: 10, iter: 0, Loss: 1.077144\n",
            "Epoch: 20, iter: 0, Loss: 0.942282\n",
            "Epoch: 30, iter: 0, Loss: 0.937762\n",
            "Epoch: 40, iter: 0, Loss: 0.930647\n",
            "Accuracy on validation set: 0.429448\n",
            "Accuracy on validation set: 0.458078\n",
            "Accuracy on validation set: 0.466258\n",
            "Accuracy on validation set: 0.462168\n",
            "Accuracy on validation set: 0.478528\n",
            "Accuracy on validation set: 0.484663\n",
            "Accuracy on validation set: 0.478528\n",
            "Accuracy on validation set: 0.490798\n",
            "Accuracy on validation set: 0.494888\n"
          ]
        }
      ]
    },
    {
      "cell_type": "code",
      "source": [
        "for model in models:\n",
        "  print('Accuracy of model (num_hid=%d, hid_sz=%d): %f' % (model.num_hid, model.hid_sz, model.accuracy_on_val))"
      ],
      "metadata": {
        "colab": {
          "base_uri": "https://localhost:8080/"
        },
        "id": "wub1k59oI3k2",
        "outputId": "9dfc4b61-d4de-418b-d955-538332e00801"
      },
      "execution_count": null,
      "outputs": [
        {
          "output_type": "stream",
          "name": "stdout",
          "text": [
            "Accuracy of model (num_hid=2, hid_sz=25): 0.429448\n",
            "Accuracy of model (num_hid=2, hid_sz=50): 0.458078\n",
            "Accuracy of model (num_hid=2, hid_sz=100): 0.466258\n",
            "Accuracy of model (num_hid=3, hid_sz=25): 0.462168\n",
            "Accuracy of model (num_hid=3, hid_sz=50): 0.478528\n",
            "Accuracy of model (num_hid=3, hid_sz=100): 0.484663\n",
            "Accuracy of model (num_hid=4, hid_sz=25): 0.478528\n",
            "Accuracy of model (num_hid=4, hid_sz=50): 0.490798\n",
            "Accuracy of model (num_hid=4, hid_sz=100): 0.494888\n"
          ]
        }
      ]
    },
    {
      "cell_type": "code",
      "source": [
        "best_model = models[-1]\n",
        "\n",
        "print('Accuracy on test set: %f' % best_model.evaluate(ds_test))\n",
        "print('Accuracy on training set: %f' % best_model.evaluate(ds_train))"
      ],
      "metadata": {
        "colab": {
          "base_uri": "https://localhost:8080/"
        },
        "id": "mm73ipODJXNr",
        "outputId": "62ca63d1-bf0a-4eff-b988-a3010c51195b"
      },
      "execution_count": null,
      "outputs": [
        {
          "output_type": "stream",
          "name": "stdout",
          "text": [
            "Accuracy on test set: 0.498300\n",
            "Accuracy on training set: 0.552417\n"
          ]
        }
      ]
    }
  ]
}
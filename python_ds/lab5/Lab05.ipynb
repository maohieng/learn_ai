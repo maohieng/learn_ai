{
 "cells": [
  {
   "cell_type": "code",
   "execution_count": 34,
   "metadata": {},
   "outputs": [
    {
     "name": "stdout",
     "output_type": "stream",
     "text": [
      "  First name Last name  Gender    Position  Department Employee level  Performance score  Employment satisfaction  Hired date Termination date\n",
      "0      Pisey     Chann  Female  Supervisor          HR         Senior                 67                        2  2015-03-12              NaN\n",
      "1      Phary       Him    Male     Manager   Marketing           Lead                 70                        5  2016-08-23              NaN\n",
      "2    Rachana     Chhay  Female    Engineer   Marketing         Junior                 77                        2  2018-05-06              NaN\n",
      "3  Sreyneang      Neou    Male       Clerk          HR            Mid                 94                        2  2017-09-13              NaN\n",
      "4        Sok      Khun    Male       Clerk       Sales         Junior                 88                        1  2019-11-08              NaN\n",
      "5      Kosal       Lim    Male       Clerk   Marketing           Lead                 57                        4  2011-04-27              NaN\n",
      "6      Bopha    Chhuon    Male  Technician   Marketing         Senior                 64                        2  2013-06-14              NaN\n",
      "7     Sothea     Chhay  Female  Supervisor          HR         Senior                 58                        4  2020-01-20              NaN\n",
      "8      Kanha     Khiev  Female       Clerk  Operations           Lead                 70                        5  2012-07-11              NaN\n",
      "9     Chenda      Peou    Male     Manager  Operations         Junior                 59                        1  2015-05-04       2023-05-24\n"
     ]
    }
   ],
   "source": [
    "import pandas as pd\n",
    "\n",
    "# Read  the data from csv file\n",
    "datapath = 'lab05_dataset.csv'\n",
    "df = pd.read_csv(datapath)\n",
    "print(df.to_string())"
   ]
  },
  {
   "cell_type": "markdown",
   "metadata": {},
   "source": [
    "## I. Clearing data"
   ]
  },
  {
   "cell_type": "markdown",
   "metadata": {},
   "source": [
    "### 1. Defined the problems in this dataset"
   ]
  },
  {
   "cell_type": "code",
   "execution_count": 35,
   "metadata": {},
   "outputs": [
    {
     "name": "stdout",
     "output_type": "stream",
     "text": [
      "<class 'pandas.core.frame.DataFrame'>\n",
      "RangeIndex: 10 entries, 0 to 9\n",
      "Data columns (total 10 columns):\n",
      " #   Column                   Non-Null Count  Dtype \n",
      "---  ------                   --------------  ----- \n",
      " 0   First name               10 non-null     object\n",
      " 1   Last name                10 non-null     object\n",
      " 2   Gender                   10 non-null     object\n",
      " 3   Position                 10 non-null     object\n",
      " 4   Department               10 non-null     object\n",
      " 5   Employee level           10 non-null     object\n",
      " 6   Performance score        10 non-null     int64 \n",
      " 7   Employment satisfaction  10 non-null     int64 \n",
      " 8   Hired date               10 non-null     object\n",
      " 9   Termination date         1 non-null      object\n",
      "dtypes: int64(2), object(8)\n",
      "memory usage: 928.0+ bytes\n"
     ]
    }
   ],
   "source": [
    "df.info()"
   ]
  },
  {
   "cell_type": "markdown",
   "metadata": {},
   "source": [
    "### 2. Make sure that no white space in column headers"
   ]
  },
  {
   "cell_type": "code",
   "execution_count": 36,
   "metadata": {},
   "outputs": [
    {
     "name": "stdout",
     "output_type": "stream",
     "text": [
      "  First_name Last_name  Gender    Position  Department Employee_level  Performance_score  Employment_satisfaction  Hired_date Termination_date\n",
      "0      Pisey     Chann  Female  Supervisor          HR         Senior                 67                        2  2015-03-12              NaN\n",
      "1      Phary       Him    Male     Manager   Marketing           Lead                 70                        5  2016-08-23              NaN\n",
      "2    Rachana     Chhay  Female    Engineer   Marketing         Junior                 77                        2  2018-05-06              NaN\n",
      "3  Sreyneang      Neou    Male       Clerk          HR            Mid                 94                        2  2017-09-13              NaN\n",
      "4        Sok      Khun    Male       Clerk       Sales         Junior                 88                        1  2019-11-08              NaN\n",
      "5      Kosal       Lim    Male       Clerk   Marketing           Lead                 57                        4  2011-04-27              NaN\n",
      "6      Bopha    Chhuon    Male  Technician   Marketing         Senior                 64                        2  2013-06-14              NaN\n",
      "7     Sothea     Chhay  Female  Supervisor          HR         Senior                 58                        4  2020-01-20              NaN\n",
      "8      Kanha     Khiev  Female       Clerk  Operations           Lead                 70                        5  2012-07-11              NaN\n",
      "9     Chenda      Peou    Male     Manager  Operations         Junior                 59                        1  2015-05-04       2023-05-24\n"
     ]
    }
   ],
   "source": [
    "df.columns = df.columns.str.replace(' ', '_')\n",
    "print(df.to_string())"
   ]
  },
  {
   "cell_type": "markdown",
   "metadata": {},
   "source": [
    "### 3. No leading or ending white speech in each values"
   ]
  },
  {
   "cell_type": "code",
   "execution_count": 37,
   "metadata": {},
   "outputs": [
    {
     "name": "stdout",
     "output_type": "stream",
     "text": [
      "  First_name Last_name  Gender    Position  Department Employee_level  Performance_score  Employment_satisfaction  Hired_date Termination_date\n",
      "0      Pisey     Chann  Female  Supervisor          HR         Senior                 67                        2  2015-03-12              NaN\n",
      "1      Phary       Him    Male     Manager   Marketing           Lead                 70                        5  2016-08-23              NaN\n",
      "2    Rachana     Chhay  Female    Engineer   Marketing         Junior                 77                        2  2018-05-06              NaN\n",
      "3  Sreyneang      Neou    Male       Clerk          HR            Mid                 94                        2  2017-09-13              NaN\n",
      "4        Sok      Khun    Male       Clerk       Sales         Junior                 88                        1  2019-11-08              NaN\n",
      "5      Kosal       Lim    Male       Clerk   Marketing           Lead                 57                        4  2011-04-27              NaN\n",
      "6      Bopha    Chhuon    Male  Technician   Marketing         Senior                 64                        2  2013-06-14              NaN\n",
      "7     Sothea     Chhay  Female  Supervisor          HR         Senior                 58                        4  2020-01-20              NaN\n",
      "8      Kanha     Khiev  Female       Clerk  Operations           Lead                 70                        5  2012-07-11              NaN\n",
      "9     Chenda      Peou    Male     Manager  Operations         Junior                 59                        1  2015-05-04       2023-05-24\n"
     ]
    }
   ],
   "source": [
    "# print(df[\"First_name\"].dtype)\n",
    "# No leading or ending white spaces in each values\n",
    "for col in df.columns:\n",
    "    if df[col].dtype == 'object':\n",
    "        df[col] = df[col].str.strip()\n",
    "\n",
    "print(df.to_string())"
   ]
  },
  {
   "cell_type": "markdown",
   "metadata": {},
   "source": [
    "### 4. No Duplicated data"
   ]
  },
  {
   "cell_type": "code",
   "execution_count": 38,
   "metadata": {},
   "outputs": [
    {
     "name": "stdout",
     "output_type": "stream",
     "text": [
      "  First_name Last_name  Gender    Position  Department Employee_level  Performance_score  Employment_satisfaction  Hired_date Termination_date\n",
      "0      Pisey     Chann  Female  Supervisor          HR         Senior                 67                        2  2015-03-12              NaN\n",
      "1      Phary       Him    Male     Manager   Marketing           Lead                 70                        5  2016-08-23              NaN\n",
      "2    Rachana     Chhay  Female    Engineer   Marketing         Junior                 77                        2  2018-05-06              NaN\n",
      "3  Sreyneang      Neou    Male       Clerk          HR            Mid                 94                        2  2017-09-13              NaN\n",
      "4        Sok      Khun    Male       Clerk       Sales         Junior                 88                        1  2019-11-08              NaN\n",
      "5      Kosal       Lim    Male       Clerk   Marketing           Lead                 57                        4  2011-04-27              NaN\n",
      "6      Bopha    Chhuon    Male  Technician   Marketing         Senior                 64                        2  2013-06-14              NaN\n",
      "7     Sothea     Chhay  Female  Supervisor          HR         Senior                 58                        4  2020-01-20              NaN\n",
      "8      Kanha     Khiev  Female       Clerk  Operations           Lead                 70                        5  2012-07-11              NaN\n",
      "9     Chenda      Peou    Male     Manager  Operations         Junior                 59                        1  2015-05-04       2023-05-24\n"
     ]
    }
   ],
   "source": [
    "# No duplicate rows\n",
    "df.drop_duplicates(inplace=True)\n",
    "print(df.to_string())"
   ]
  },
  {
   "cell_type": "markdown",
   "metadata": {},
   "source": [
    "### 5. Keep the correct format text data"
   ]
  },
  {
   "cell_type": "code",
   "execution_count": 39,
   "metadata": {},
   "outputs": [
    {
     "name": "stdout",
     "output_type": "stream",
     "text": [
      "  First_name Last_name  Gender    Position  Department Employee_level  Performance_score  Employment_satisfaction  Hired_date Termination_date\n",
      "0      Pisey     Chann  Female  Supervisor          Hr         Senior                 67                        2  2015-03-12              NaN\n",
      "1      Phary       Him    Male     Manager   Marketing           Lead                 70                        5  2016-08-23              NaN\n",
      "2    Rachana     Chhay  Female    Engineer   Marketing         Junior                 77                        2  2018-05-06              NaN\n",
      "3  Sreyneang      Neou    Male       Clerk          Hr            Mid                 94                        2  2017-09-13              NaN\n",
      "4        Sok      Khun    Male       Clerk       Sales         Junior                 88                        1  2019-11-08              NaN\n",
      "5      Kosal       Lim    Male       Clerk   Marketing           Lead                 57                        4  2011-04-27              NaN\n",
      "6      Bopha    Chhuon    Male  Technician   Marketing         Senior                 64                        2  2013-06-14              NaN\n",
      "7     Sothea     Chhay  Female  Supervisor          Hr         Senior                 58                        4  2020-01-20              NaN\n",
      "8      Kanha     Khiev  Female       Clerk  Operations           Lead                 70                        5  2012-07-11              NaN\n",
      "9     Chenda      Peou    Male     Manager  Operations         Junior                 59                        1  2015-05-04       2023-05-24\n"
     ]
    }
   ],
   "source": [
    "# Keep the correct format text data\n",
    "for col in df.columns:\n",
    "    if df[col].dtype == 'object':\n",
    "        df[col] = df[col].str.capitalize()\n",
    "\n",
    "print(df.to_string())"
   ]
  },
  {
   "cell_type": "markdown",
   "metadata": {},
   "source": [
    "### 6. Keep a single value in each column"
   ]
  },
  {
   "cell_type": "code",
   "execution_count": 40,
   "metadata": {},
   "outputs": [],
   "source": [
    "# Keep a single value in each column\n",
    "# for col in df.columns:\n",
    "#     if df[col].dtype == 'object':\n",
    "#         df[col] = df[col].str.split().str.get(0)\n",
    "\n",
    "# print(df.to_string())"
   ]
  },
  {
   "cell_type": "markdown",
   "metadata": {},
   "source": [
    "## II. Analysis data"
   ]
  },
  {
   "cell_type": "markdown",
   "metadata": {},
   "source": [
    "### 1. Which Department has the most employee?"
   ]
  },
  {
   "cell_type": "code",
   "execution_count": 56,
   "metadata": {},
   "outputs": [
    {
     "name": "stdout",
     "output_type": "stream",
     "text": [
      "Department\n",
      "Marketing     4\n",
      "Hr            3\n",
      "Operations    2\n",
      "Sales         1\n",
      "Name: count, dtype: int64\n",
      "\n",
      "Most employee in Department: Marketing with 4 employees\n"
     ]
    }
   ],
   "source": [
    "# Which Department has the most employee\n",
    "dept_count = df['Department'].value_counts()\n",
    "print(dept_count)\n",
    "print()\n",
    "print('Most employee in Department:', dept_count.idxmax(), 'with', dept_count.max(), 'employees')"
   ]
  },
  {
   "cell_type": "markdown",
   "metadata": {},
   "source": [
    "### 2. Which Employee Level has the most employee?"
   ]
  },
  {
   "cell_type": "code",
   "execution_count": 55,
   "metadata": {},
   "outputs": [
    {
     "name": "stdout",
     "output_type": "stream",
     "text": [
      "Employee_level\n",
      "Senior    3\n",
      "Lead      3\n",
      "Junior    3\n",
      "Mid       1\n",
      "Name: count, dtype: int64\n",
      "\n",
      "Most employee in Employee_level: Senior with 3 employees\n"
     ]
    }
   ],
   "source": [
    "# Which Employee_level has the most employee\n",
    "level_count = df['Employee_level'].value_counts()\n",
    "print(level_count)\n",
    "print()\n",
    "print('Most employee in Employee_level:', level_count.idxmax(), 'with', level_count.max(), 'employees')\n",
    "\n",
    "# for level in level_count.index:\n",
    "#     if level_count[level] == most_count[-1]:\n",
    "#         most_count.append(level)\n",
    "\n",
    "# print('Most employee in Employee_level:', level_count[most_count], 'with', max_value, 'employees')\n",
    "    "
   ]
  },
  {
   "cell_type": "markdown",
   "metadata": {},
   "source": [
    "### 3. Which Employee Level has the highest Performance Score in average?"
   ]
  },
  {
   "cell_type": "code",
   "execution_count": 54,
   "metadata": {},
   "outputs": [
    {
     "name": "stdout",
     "output_type": "stream",
     "text": [
      "Employee_level\n",
      "Junior    74.666667\n",
      "Lead      65.666667\n",
      "Mid       94.000000\n",
      "Senior    63.000000\n",
      "Name: Performance_score, dtype: float64\n",
      "\n",
      "Highest Performance_score in Employee_level: Mid with 94.0 score\n"
     ]
    }
   ],
   "source": [
    "# Which Employee_level has the highest Performance_score in average\n",
    "avg_score = df.groupby('Employee_level')['Performance_score'].mean()\n",
    "print(avg_score)\n",
    "print()\n",
    "print('Highest Performance_score in Employee_level:', avg_score.idxmax(), 'with', avg_score.max(), 'score')"
   ]
  },
  {
   "cell_type": "markdown",
   "metadata": {},
   "source": [
    "### 4. Which Department has Performance Score in average?"
   ]
  },
  {
   "cell_type": "code",
   "execution_count": 57,
   "metadata": {},
   "outputs": [
    {
     "name": "stdout",
     "output_type": "stream",
     "text": [
      "Department\n",
      "Hr            73.0\n",
      "Marketing     67.0\n",
      "Operations    64.5\n",
      "Sales         88.0\n",
      "Name: Performance_score, dtype: float64\n",
      "\n",
      "Highest Performance_score in Department: Sales with 88.0 score\n"
     ]
    }
   ],
   "source": [
    "dept_average_score = df.groupby('Department')['Performance_score'].mean()\n",
    "print(dept_average_score)\n",
    "print()\n",
    "print('Highest Performance_score in Department:', dept_average_score.idxmax(), 'with', dept_average_score.max(), 'score')"
   ]
  },
  {
   "cell_type": "markdown",
   "metadata": {},
   "source": [
    "### 5. Which Department has the most Senior?"
   ]
  },
  {
   "cell_type": "code",
   "execution_count": 62,
   "metadata": {},
   "outputs": [
    {
     "name": "stdout",
     "output_type": "stream",
     "text": [
      "Department  Employee_level\n",
      "Hr          Senior            2\n",
      "            Mid               1\n",
      "Marketing   Lead              2\n",
      "            Junior            1\n",
      "            Senior            1\n",
      "Operations  Junior            1\n",
      "            Lead              1\n",
      "Sales       Junior            1\n",
      "Name: count, dtype: int64\n",
      "\n",
      "Most Employee_level in Department: ('Hr', 'Senior') with 2 employees\n"
     ]
    }
   ],
   "source": [
    "dept_level = df.groupby(['Department'])['Employee_level'].value_counts()\n",
    "print(dept_level)\n",
    "print()\n",
    "print('Most Employee_level in Department:', dept_level.idxmax(), 'with', dept_level.max(), 'employees')"
   ]
  }
 ],
 "metadata": {
  "kernelspec": {
   "display_name": ".venv",
   "language": "python",
   "name": "python3"
  },
  "language_info": {
   "codemirror_mode": {
    "name": "ipython",
    "version": 3
   },
   "file_extension": ".py",
   "mimetype": "text/x-python",
   "name": "python",
   "nbconvert_exporter": "python",
   "pygments_lexer": "ipython3",
   "version": "3.8.0"
  }
 },
 "nbformat": 4,
 "nbformat_minor": 2
}

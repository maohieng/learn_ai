{
  "cells": [
    {
      "cell_type": "markdown",
      "metadata": {
        "id": "7OyByaWcob1h"
      },
      "source": [
        "<a name='what'></a>What are functions?\n",
        "===\n",
        "Functions are a set of actions that we group together, and give a name to. You have already used a number of functions from the core Python language, such as *string.title()* and *list.sort()*. We can define our own functions, which allows us to \"teach\" Python new behavior.\n",
        "\n",
        "<a name='general_syntax'></a>General Syntax\n",
        "---\n",
        "A general function looks something like this:"
      ]
    },
    {
      "cell_type": "code",
      "execution_count": null,
      "metadata": {
        "id": "FJ9YMN1Iob1h"
      },
      "outputs": [],
      "source": [
        "# Let's define a function.\n",
        "def function_name(argument_1, argument_2):\n",
        "    # Do whatever we want this function to do,\n",
        "    #  using argument_1 and argument_2\n",
        "\n",
        "# Use function_name to call the function.\n",
        "function_name(value_1, value_2)"
      ]
    },
    {
      "cell_type": "markdown",
      "metadata": {
        "id": "NmEuuoylWAEA"
      },
      "source": [
        "### Example"
      ]
    },
    {
      "cell_type": "code",
      "execution_count": null,
      "metadata": {
        "id": "CecSN22LWEcH"
      },
      "outputs": [],
      "source": [
        "def thank_you(name):\n",
        "    # This function prints a two-line personalized thank you message.\n",
        "    print(\"\\nYou are doing good work, %s!\" % name)\n",
        "    print(\"Thank you very much for your efforts on this project.\")\n",
        "\n",
        "thank_you('Adriana')\n",
        "thank_you('Billy')\n",
        "thank_you('Caroline')"
      ]
    },
    {
      "cell_type": "markdown",
      "metadata": {
        "id": "TYB8UkqiWaRn"
      },
      "source": [
        "### A note on a common error\n",
        "A function must be defined before you use it in your program. For example, putting the function at the end of the program would not work."
      ]
    },
    {
      "cell_type": "code",
      "execution_count": null,
      "metadata": {
        "id": "Mjuf7Dc2Wm33"
      },
      "outputs": [],
      "source": [
        "thanks_you('Adriana')\n",
        "thanks_you('Billy')\n",
        "thanks_you('Caroline')\n",
        "\n",
        "def thanks_you(name):\n",
        "    # This function prints a two-line personalized thank you message.\n",
        "    print(\"\\nYou are doing good work, %s!\" % name)\n",
        "    print(\"Thank you very much for your efforts on this project.\")"
      ]
    },
    {
      "cell_type": "markdown",
      "metadata": {
        "id": "EPsntjnhXDxo"
      },
      "source": [
        "A second example\n",
        "---\n",
        "When we introduced the different methods for [sorting a list], our code got very repetitive. It takes two lines of code to print a list using a for loop, so these two lines are repeated whenever you want to print out the contents of a list. This is the perfect opportunity to use a function, so let's see how the code looks with a function.\n",
        "\n",
        "First, let's see the code we had without a function:"
      ]
    },
    {
      "cell_type": "code",
      "execution_count": null,
      "metadata": {
        "id": "Bv2GYmNkXObq"
      },
      "outputs": [],
      "source": [
        "def show_students(students, message):\n",
        "    # Print out a message, and then the list of students\n",
        "    print(message)\n",
        "    for student in students:\n",
        "        print(student.title())\n",
        "\n",
        "students = ['bernice', 'aaron', 'cody']\n",
        "\n",
        "# Put students in alphabetical order.\n",
        "students.sort()\n",
        "show_students(students, \"Our students are currently in alphabetical order.\")\n",
        "\n",
        "#Put students in reverse alphabetical order.\n",
        "students.sort(reverse=True)\n",
        "show_students(students, \"\\nOur students are now in reverse alphabetical order.\")"
      ]
    },
    {
      "cell_type": "markdown",
      "metadata": {
        "id": "-GM-dGGFXtGv"
      },
      "source": [
        "<a name='return_value'></a>Returning a Value\n",
        "---\n",
        "Each function you create can return a value. This can be in addition to the primary work the function does, or it can be the function's main job. The following function takes in a number, and returns the corresponding word for that number:"
      ]
    },
    {
      "cell_type": "code",
      "execution_count": null,
      "metadata": {
        "id": "5fJBpdA4Xt64"
      },
      "outputs": [],
      "source": [
        "def get_number_word(number):\n",
        "    # Takes in a numerical value, and returns\n",
        "    #  the word corresponding to that number.\n",
        "    if number == 0:\n",
        "        return 'zero'\n",
        "    elif number == 1:\n",
        "        return 'one'\n",
        "    elif number == 2:\n",
        "        return 'two'\n",
        "    elif number == 3:\n",
        "        return 'three'\n",
        "    else:\n",
        "        return \"I'm sorry, I don't know that number.\"\n",
        "        print(\"Test outside return\")\n",
        "# Let's try out our function.\n",
        "for current_number in range(0,6):\n",
        "    number_word = get_number_word(current_number)\n",
        "    print(current_number, number_word)"
      ]
    },
    {
      "cell_type": "markdown",
      "metadata": {
        "id": "tGFiHJrUYMY_"
      },
      "source": [
        "<a name='exercises'></a>Exercises\n",
        "---\n",
        "#### Greeter\n",
        "- Write a function that takes in a person's name, and prints out a greeting.\n",
        "    - The greeting must be at least three lines, and the person's name must be in each line.\n",
        "- Use your function to greet at least three different people.\n",
        "- **Bonus:** Store your three people in a list, and call your function from a `for` loop."
      ]
    },
    {
      "cell_type": "code",
      "execution_count": null,
      "metadata": {
        "id": "_WX7kKHAp612"
      },
      "outputs": [],
      "source": [
        "# Ex 2.1 : Greeter\n",
        "\n",
        "# put your code here"
      ]
    },
    {
      "cell_type": "markdown",
      "metadata": {
        "id": "VBKuJQ02Ys5w"
      },
      "source": [
        "#### Full Names 1\n",
        "- Write a function that takes in a first name and a last name, and prints out a nicely formatted full name, in a sentence. Your sentence could be as simple as, \"Hello, *first_name last_name*.\"\n",
        "- Call your function three times, with a different name each time.\n"
      ]
    },
    {
      "cell_type": "code",
      "execution_count": null,
      "metadata": {
        "id": "rbWAYQ6hp612"
      },
      "outputs": [],
      "source": [
        "# Ex 2.2 : Full Names\n",
        "# put your code here"
      ]
    },
    {
      "cell_type": "markdown",
      "metadata": {
        "id": "Skj4FORrI05W"
      },
      "source": [
        "#### Full Names 2\n",
        "- Write a function that takes in a list of first name and a list of last name, and prints out a nicely formatted full name, in a sentence. Your sentence could be as simple as, \"Hello, *firstName\\_lastName*.\""
      ]
    },
    {
      "cell_type": "code",
      "execution_count": 1,
      "metadata": {
        "id": "kPWHbVSzJY8B"
      },
      "outputs": [
        {
          "name": "stdout",
          "output_type": "stream",
          "text": [
            "first name:Kor, last name: A\n",
            "first name:Khor, last name: B\n",
            "first name:Kur, last name: C\n",
            "first name:Khur, last name: D\n"
          ]
        }
      ],
      "source": [
        "# Ex 2.3 : Full Names 2\n",
        "# put your code here\n",
        "first_name = ['Kor', 'Khor', 'Kur', 'Khur']\n",
        "last_name = ['A', 'B', 'C', 'D']\n",
        "\n",
        "for name in zip(first_name, last_name):\n",
        "    print(f'first name:{name[0]}, last name: {name[1]}')"
      ]
    },
    {
      "cell_type": "markdown",
      "metadata": {
        "id": "KLjq3mhKKqxf"
      },
      "source": [
        "#### Full Names 3\n",
        "- Write a function that takes in a list of first name and a list of last name, and returns the length of the longest fullName.\n",
        "- Print out the longest fullName with it's length."
      ]
    },
    {
      "cell_type": "code",
      "execution_count": 4,
      "metadata": {
        "id": "Sh_JkkptKoXy"
      },
      "outputs": [
        {
          "name": "stdout",
          "output_type": "stream",
          "text": [
            "('Khor D', 6)\n"
          ]
        }
      ],
      "source": [
        "# Ex 2.4 : Full Names 2\n",
        "# put your code here\n",
        "def longestFullName(firstNames, lastNames):\n",
        "    longest = ''\n",
        "    for names in zip(firstNames, lastNames):\n",
        "        fullNames = f'{names[0]} {name[1]}'\n",
        "        if len(longest) < len(fullNames):\n",
        "            longest = fullNames\n",
        "    return (longest, len(longest))\n",
        "\n",
        "first_name = ['Kor', 'Khor', 'Kur', 'Khur']\n",
        "last_name = ['A', 'B', 'C', 'D']\n",
        "print(longestFullName(firstNames=first_name, lastNames=last_name))"
      ]
    },
    {
      "cell_type": "markdown",
      "metadata": {
        "id": "c95GmE_yYvxJ"
      },
      "source": [
        "#### Addition Calculator\n",
        "- Write a function that takes in two numbers, and adds them together. Make your function print out a sentence showing the two numbers, and the result.\n",
        "- Call your function with three different sets of numbers.\n"
      ]
    },
    {
      "cell_type": "code",
      "execution_count": null,
      "metadata": {
        "id": "n9v75MoGp612"
      },
      "outputs": [],
      "source": [
        "# Ex 2.5 : Addition Calculator\n",
        "\n",
        "# put your code here\n"
      ]
    },
    {
      "cell_type": "markdown",
      "metadata": {
        "id": "bEpdUAzdYyTg"
      },
      "source": [
        "#### Return Calculator\n",
        "- Modify *Addition Calculator* so that your function returns the sum of the two numbers. The printing should happen outside of the function."
      ]
    },
    {
      "cell_type": "code",
      "execution_count": null,
      "metadata": {
        "id": "uJtDzvqNp612"
      },
      "outputs": [],
      "source": [
        "# Ex 2.6 : Return Calculator\n",
        "\n",
        "# put your code here"
      ]
    },
    {
      "cell_type": "markdown",
      "metadata": {
        "id": "3MPDu_wNY0d_"
      },
      "source": [
        "### 4.5 Ordered Working List\n",
        "\n",
        "Start with the list you created in Working List.\n",
        "You are going to print out the list in a number of different orders.\n",
        "Each time you print the list, use a for loop rather than printing the raw list.\n",
        "\n",
        "Print a message each time telling us what order we should see the list in.\n",
        "\n",
        "* Print the list in its original order.\n",
        "\n",
        "* Print the list in alphabetical order.\n",
        "\n",
        "* Print the list in its original order.\n",
        "\n",
        "* Print the list in reverse alphabetical order.\n",
        "\n",
        "* Print the list in its original order.\n",
        "\n",
        "* Print the list in the reverse order from what it started.\n",
        "\n",
        "* Print the list in its original order\n",
        "\n",
        "* Permanently sort the list in alphabetical order, and then print it out.\n",
        "\n",
        "* Permanently sort the list in reverse alphabetical order, and then print it out."
      ]
    },
    {
      "cell_type": "code",
      "execution_count": null,
      "metadata": {
        "id": "cx3myM9Zp612"
      },
      "outputs": [],
      "source": [
        "# Ex 2.7 : List Exercises - Functions\n",
        "\n",
        "# put your code here\n"
      ]
    },
    {
      "cell_type": "markdown",
      "metadata": {
        "id": "z4SKoduUZFIo"
      },
      "source": [
        "### 4.6 Ordered Numbers\n",
        "\n",
        "Make a list of 5 numbers, in a random order.\n",
        "You are going to print out the list in a number of different orders.\n",
        "Each time you print the list, use a for loop rather than printing the raw list.\n",
        "\n",
        "Print a message each time telling us what order we should see the list in.\n",
        "\n",
        "* Print the numbers in the original order.\n",
        "* Print the numbers in increasing order.\n",
        "* Print the numbers in the original order.\n",
        "* Print the numbers in decreasing order.\n",
        "* Print the numbers in their original order.\n",
        "* Print the numbers in the reverse order from how they started.\n",
        "* Print the numbers in the original order.\n",
        "* Permanently sort the numbers in increasing order, and then print them out.\n",
        "* Permanently sort the numbers in descreasing order, and then print them out."
      ]
    },
    {
      "cell_type": "code",
      "execution_count": null,
      "metadata": {
        "id": "XMe3MNENZMFS"
      },
      "outputs": [],
      "source": [
        "# Ex 2.8 : List Exercises - Functions\n",
        "\n",
        "# put your code here"
      ]
    },
    {
      "cell_type": "markdown",
      "metadata": {
        "id": "muQU3S0uaArl"
      },
      "source": [
        "<a name='default_values'></a>Default argument values\n",
        "===\n",
        "When we first introduced functions, we started with this example:"
      ]
    },
    {
      "cell_type": "code",
      "execution_count": 5,
      "metadata": {
        "id": "xOkwe2gNaBpu"
      },
      "outputs": [
        {
          "name": "stdout",
          "output_type": "stream",
          "text": [
            "\n",
            "You are doing good work, Billy!\n",
            "Thank you very much for your efforts on this project.\n",
            "\n",
            "You are doing good work, Caroline!\n",
            "Thank you very much for your efforts on this project.\n"
          ]
        },
        {
          "ename": "TypeError",
          "evalue": "thank_you() missing 1 required positional argument: 'name'",
          "output_type": "error",
          "traceback": [
            "\u001b[0;31m---------------------------------------------------------------------------\u001b[0m",
            "\u001b[0;31mTypeError\u001b[0m                                 Traceback (most recent call last)",
            "Cell \u001b[0;32mIn[5], line 8\u001b[0m\n\u001b[1;32m      6\u001b[0m thank_you(\u001b[38;5;124m'\u001b[39m\u001b[38;5;124mBilly\u001b[39m\u001b[38;5;124m'\u001b[39m)\n\u001b[1;32m      7\u001b[0m thank_you(\u001b[38;5;124m'\u001b[39m\u001b[38;5;124mCaroline\u001b[39m\u001b[38;5;124m'\u001b[39m)\n\u001b[0;32m----> 8\u001b[0m \u001b[43mthank_you\u001b[49m\u001b[43m(\u001b[49m\u001b[43m)\u001b[49m\n",
            "\u001b[0;31mTypeError\u001b[0m: thank_you() missing 1 required positional argument: 'name'"
          ]
        }
      ],
      "source": [
        "def thank_you(name):\n",
        "    # This function prints a two-line personalized thank you message.\n",
        "    print(\"\\nYou are doing good work, %s!\" % name)\n",
        "    print(\"Thank you very much for your efforts on this project.\")\n",
        "\n",
        "thank_you('Billy')\n",
        "thank_you('Caroline')\n",
        "thank_you()"
      ]
    },
    {
      "cell_type": "markdown",
      "metadata": {
        "id": "7_KOX-T-aMQW"
      },
      "source": [
        "That makes sense; the function needs to have a name in order to do its work, so without a name it is stuck.\n",
        "\n",
        "If you want your function to do something by default, even if no information is passed to it, you can do so by giving your arguments default values. You do this by specifying the default values when you define the function:"
      ]
    },
    {
      "cell_type": "code",
      "execution_count": 6,
      "metadata": {
        "id": "EkXVWx1MaPwQ"
      },
      "outputs": [
        {
          "name": "stdout",
          "output_type": "stream",
          "text": [
            "\n",
            "You are doing good work, Billy!\n",
            "Thank you very much for your efforts on this project.\n",
            "\n",
            "You are doing good work, Caroline!\n",
            "Thank you very much for your efforts on this project.\n",
            "\n",
            "You are doing good work, someone else!\n",
            "Thank you very much for your efforts on this project.\n",
            "\n",
            "You are doing good work, 1!\n",
            "Thank you very much for your efforts on this project.\n"
          ]
        }
      ],
      "source": [
        "def thank_you(name='someone else'):\n",
        "    # This function prints a two-line personalized thank you message.\n",
        "    #  If no name is passed in, it prints a general thank you message\n",
        "    #  to everyone.\n",
        "    print(\"\\nYou are doing good work, %s!\" % name)\n",
        "    print(\"Thank you very much for your efforts on this project.\")\n",
        "\n",
        "thank_you('Billy')\n",
        "thank_you('Caroline')\n",
        "thank_you()\n",
        "thank_you(1)"
      ]
    },
    {
      "cell_type": "markdown",
      "metadata": {
        "id": "ndwoNVpUarj-"
      },
      "source": [
        "<a name='exercises_default_values'></a>Exercises\n",
        "---\n",
        "#### Games\n",
        "- Write a function that accepts the name of a game and prints a statement such as, \"I like playing chess!\"\n",
        "- Give the argument a default value, such as `chess`.\n",
        "- Call your function at least three times. Make sure at least one of the calls includes an argument, and at least one call includes no arguments.\n"
      ]
    },
    {
      "cell_type": "code",
      "execution_count": 7,
      "metadata": {
        "id": "4AVzBg3Wp70D"
      },
      "outputs": [
        {
          "name": "stdout",
          "output_type": "stream",
          "text": [
            "I like playing dota!\n",
            "I like playing 1!\n",
            "I like playing chess!\n"
          ]
        }
      ],
      "source": [
        "# Ex 2.9 : Games\n",
        "\n",
        "# put your code here\n",
        "def game_name(name='chess'):\n",
        "    print(f'I like playing {name}!')\n",
        "\n",
        "game_name('dota')\n",
        "game_name(1)\n",
        "game_name()"
      ]
    },
    {
      "cell_type": "markdown",
      "metadata": {
        "id": "q52TH-5VauOO"
      },
      "source": [
        "#### Favorite Movie\n",
        "- Write a function that accepts the name of a movie, and prints a statement such as, \"My favorite movie is The Princess Bride.\"\n",
        "- Give the argument a default value, such as `The Princess Bride`.\n",
        "- Call your function at least three times. Make sure at least one of the calls includes an argument, and at least one call includes no arguments."
      ]
    },
    {
      "cell_type": "code",
      "execution_count": 9,
      "metadata": {
        "id": "AkCjNRBAp70D"
      },
      "outputs": [
        {
          "name": "stdout",
          "output_type": "stream",
          "text": [
            "My favorite movie is Harry Potter\n",
            "My favorite movie is 1\n",
            "My favorite movie is The Princess Bride\n"
          ]
        }
      ],
      "source": [
        "# Ex 2.10 : Favorite Movie\n",
        "\n",
        "# put your code here\n",
        "def favorite_movie(movie_name='The Princess Bride'):\n",
        "    print(f'My favorite movie is {movie_name}')\n",
        "\n",
        "favorite_movie(\"Harry Potter\")\n",
        "favorite_movie(1)\n",
        "favorite_movie()"
      ]
    },
    {
      "cell_type": "markdown",
      "metadata": {
        "id": "YYQCjf5jp70E"
      },
      "source": [
        "#### Favorite Colors\n",
        "- Write a function that takes two arguments, a person's name and their favorite color. The function should print out a statement such as \"Hillary's favorite color is blue.\"\n",
        "- Call your function three times, with a different person and color each time.\n"
      ]
    },
    {
      "cell_type": "code",
      "execution_count": 8,
      "metadata": {
        "id": "f6-g-S7dp70E"
      },
      "outputs": [
        {
          "name": "stdout",
          "output_type": "stream",
          "text": [
            "Chang'e's favorite color is Ping\n",
            "Layla's favorite color is Purple\n",
            "Moskov's favorite color is Black\n"
          ]
        }
      ],
      "source": [
        "# Ex 2.11 : Favorite Colors\n",
        "\n",
        "# put your code here\n",
        "def favorit_color(name, color):\n",
        "    print(f'{name}\\'s favorite color is {color}')\n",
        "\n",
        "favorit_color('Chang\\'e', 'Ping')\n",
        "favorit_color('Layla', 'Purple')\n",
        "favorit_color('Moskov', 'Black')"
      ]
    },
    {
      "cell_type": "markdown",
      "metadata": {
        "id": "lAn4bU_pbh3v"
      },
      "source": [
        "#### Phones\n",
        "- Write a function that takes two arguments, a brand of phone and a model name. The function should print out a phrase such as \"iPhone 6 Plus\".\n",
        "- Call your function three times, with a different combination of brand and model each time."
      ]
    },
    {
      "cell_type": "code",
      "execution_count": 10,
      "metadata": {
        "id": "bScxghMVp70E"
      },
      "outputs": [
        {
          "name": "stdout",
          "output_type": "stream",
          "text": [
            "iPhone 16 Pro Max\n",
            "Samsung S 24 Ultra\n",
            "Google Pixel 9 Pro\n"
          ]
        }
      ],
      "source": [
        "# Ex 2.12 : Phones\n",
        "\n",
        "# put your code here\n",
        "def smartphone(brand, model):\n",
        "    print(f'{brand} {model}')\n",
        "\n",
        "smartphone('iPhone', '16 Pro Max')\n",
        "smartphone('Samsung', 'S 24 Ultra')\n",
        "smartphone('Google', 'Pixel 9 Pro')"
      ]
    },
    {
      "cell_type": "markdown",
      "metadata": {
        "id": "2MHHMze9cWHn"
      },
      "source": [
        "<a name='keyword_arguments'></a>Keyword arguments and Mixing positional\n"
      ]
    },
    {
      "cell_type": "code",
      "execution_count": null,
      "metadata": {
        "id": "wqXMYxLJcxj8"
      },
      "outputs": [],
      "source": [
        "def describe_person(first_name, last_name, age=None, favorite_language=None, died=None):\n",
        "    \"\"\"\n",
        "    This function takes in a person's first and last name, their age,\n",
        "    and their favorite language.\n",
        "    It then prints this information out in a simple format.\n",
        "    \"\"\"\n",
        "\n",
        "    print(\"First name: %s\" % first_name.title())\n",
        "    print(\"Last name: %s\" % last_name.title())\n",
        "\n",
        "    # Optional information:\n",
        "    if age:\n",
        "        print(\"Age: %d\" % age)\n",
        "    if favorite_language:\n",
        "        print(\"Favorite language: %s\" % favorite_language)\n",
        "    if died:\n",
        "        print(\"Died: %d\" % died)\n",
        "    # Blank line at end.\n",
        "    print(\"\\n\")\n",
        "\n",
        "describe_person('brian', 'kernighan', favorite_language='C')\n",
        "describe_person('adele', 'goldberg', age=68, favorite_language='Smalltalk')\n",
        "describe_person('dennis', 'ritchie', favorite_language='C', died=2011)\n",
        "describe_person('guido', 'van rossum', favorite_language='Python')\n",
        "\n",
        "describe_person(age=18, favorite_language='Python', last_name = 'Romchong', first_name = 'Keo')"
      ]
    },
    {
      "cell_type": "markdown",
      "metadata": {
        "id": "YhK1yDhUc0N3"
      },
      "source": [
        "<a name='exercises_keyword_arguments'></a>Exercises\n",
        "---\n",
        "#### Sports Teams\n",
        "- Write a function that takes in two arguments, the name of a city and the name of a sports team from that city.\n",
        "- Call your function three times, using a mix of positional and keyword arguments.\n"
      ]
    },
    {
      "cell_type": "code",
      "execution_count": 1,
      "metadata": {
        "id": "cHWC8AmFp70M"
      },
      "outputs": [
        {
          "name": "stdout",
          "output_type": "stream",
          "text": [
            "New York Yankees\n",
            "Boston Red Sox\n",
            "New England Patriots\n"
          ]
        }
      ],
      "source": [
        "# Ex 2.13 :\n",
        "\n",
        "# put your code here\n",
        "def sport_team(city, name):\n",
        "    print(f'{city} {name}')\n",
        "\n",
        "sport_team('New York', 'Yankees')\n",
        "sport_team(city='Boston', name='Red Sox')\n",
        "sport_team(name='Patriots', city='New England')"
      ]
    },
    {
      "cell_type": "markdown",
      "metadata": {
        "id": "bhQLvNQjc9Bv"
      },
      "source": [
        "#### World Languages\n",
        "- Write a function that takes in two arguments, the name of a country and a major language spoken there.\n",
        "- Call your function three times, using a mix of positional and keyword arguments."
      ]
    },
    {
      "cell_type": "code",
      "execution_count": 2,
      "metadata": {
        "id": "rp9BWVZSdI3j"
      },
      "outputs": [
        {
          "name": "stdout",
          "output_type": "stream",
          "text": [
            "The official language of Cambodia is Khmer\n",
            "The official language of France is French\n",
            "The official language of Spain is Spanish\n"
          ]
        }
      ],
      "source": [
        "# Ex 2.14 :\n",
        "\n",
        "# put your code here\n",
        "def world_language(country, language):\n",
        "    print(f'The official language of {country} is {language}')\n",
        "\n",
        "world_language('Cambodia', 'Khmer')\n",
        "world_language(country='France', language='French')\n",
        "world_language(language='Spanish', country='Spain')"
      ]
    },
    {
      "cell_type": "markdown",
      "metadata": {
        "id": "zlTqfolxdaUM"
      },
      "source": [
        "<a name='arbitrary_arguments'></a>Accepting an arbitrary number of arguments\n",
        "===\n",
        "We have now seen that using keyword arguments can allow for much more flexible calling statements.\n"
      ]
    },
    {
      "cell_type": "code",
      "execution_count": 3,
      "metadata": {
        "id": "-8vq9JBMdc-C"
      },
      "outputs": [
        {
          "name": "stdout",
          "output_type": "stream",
          "text": [
            "The sum of your numbers is 3.\n",
            "The sum of your numbers is 1.\n",
            "The sum of your numbers is -1.\n"
          ]
        },
        {
          "ename": "TypeError",
          "evalue": "adder() takes 2 positional arguments but 3 were given",
          "output_type": "error",
          "traceback": [
            "\u001b[0;31m---------------------------------------------------------------------------\u001b[0m",
            "\u001b[0;31mTypeError\u001b[0m                                 Traceback (most recent call last)",
            "Cell \u001b[0;32mIn[3], line 11\u001b[0m\n\u001b[1;32m      9\u001b[0m adder(\u001b[38;5;241m1\u001b[39m, \u001b[38;5;241m-\u001b[39m\u001b[38;5;241m2\u001b[39m)\n\u001b[1;32m     10\u001b[0m \u001b[38;5;66;03m# Let's add some numbers.\u001b[39;00m\n\u001b[0;32m---> 11\u001b[0m \u001b[43madder\u001b[49m\u001b[43m(\u001b[49m\u001b[38;5;241;43m1\u001b[39;49m\u001b[43m,\u001b[49m\u001b[43m \u001b[49m\u001b[38;5;241;43m2\u001b[39;49m\u001b[43m,\u001b[49m\u001b[43m \u001b[49m\u001b[38;5;241;43m3\u001b[39;49m\u001b[43m)\u001b[49m\n",
            "\u001b[0;31mTypeError\u001b[0m: adder() takes 2 positional arguments but 3 were given"
          ]
        }
      ],
      "source": [
        "def adder(num_1, num_2):\n",
        "    # This function adds two numbers together, and prints the sum.\n",
        "    sum = num_1 + num_2\n",
        "    print(\"The sum of your numbers is %d.\" % sum)\n",
        "\n",
        "# Let's add some numbers.\n",
        "adder(1, 2)\n",
        "adder(-1, 2)\n",
        "adder(1, -2)\n",
        "# Let's add some numbers.\n",
        "adder(1, 2, 3)"
      ]
    },
    {
      "cell_type": "markdown",
      "metadata": {
        "id": "baBGPRRadd-P"
      },
      "source": [
        "Python gives us a syntax for letting a function accept an arbitrary number of arguments (*args)"
      ]
    },
    {
      "cell_type": "code",
      "execution_count": 4,
      "metadata": {
        "id": "lmMDZ4Eod3vH"
      },
      "outputs": [
        {
          "name": "stdout",
          "output_type": "stream",
          "text": [
            "\n",
            "arg_1: 1\n",
            "arg_2: 2\n",
            "arg_3: ()\n",
            "\n",
            "arg_1: 1\n",
            "arg_2: 2\n",
            "arg_3: (3,)\n",
            "\n",
            "arg_1: 1\n",
            "arg_2: 2\n",
            "arg_3: (3, 4)\n",
            "\n",
            "arg_1: 1\n",
            "arg_2: 2\n",
            "arg_3: (3, 4, 5)\n"
          ]
        }
      ],
      "source": [
        "def example_function(arg_1, arg_2, *arg_3):\n",
        "    # Let's look at the argument values.\n",
        "    print('\\narg_1:', arg_1)\n",
        "    print('arg_2:', arg_2)\n",
        "    print('arg_3:', arg_3)\n",
        "\n",
        "example_function(1, 2)\n",
        "example_function(1, 2, 3)\n",
        "example_function(1, 2, 3, 4)\n",
        "example_function(1, 2, 3, 4, 5)"
      ]
    },
    {
      "cell_type": "code",
      "execution_count": null,
      "metadata": {
        "id": "GqXbfPy7eEc3"
      },
      "outputs": [],
      "source": [
        "def adder(*nums):\n",
        "    \"\"\"This function adds the given numbers together and prints the sum.\"\"\"\n",
        "    # Print the results.\n",
        "    sum = 0\n",
        "    for x in nums:\n",
        "      sum +=x\n",
        "    print(\"The sum of your numbers is %d.\" % sum)\n",
        "\n",
        "# Let's add some numbers.\n",
        "adder(1, 2)\n",
        "adder(1, 2, 3, 4)\n",
        "adder(1, 2, 3, 4, 5)"
      ]
    },
    {
      "cell_type": "markdown",
      "metadata": {
        "id": "V-4ZUWB5ob1j"
      },
      "source": [
        "# Lambdas, and Map/Reduce\n",
        "\n",
        "**lambdas**, and **map/reduce** can allow you to process your data in advanced ways. We will introduce these techniques here and expand on them in the next module, which will discuss Pandas.\n",
        "\n",
        "Function parameters can be named or unnamed in Python. Default values can also be used. Consider the following function.\n"
      ]
    },
    {
      "cell_type": "code",
      "execution_count": 15,
      "metadata": {
        "id": "vgrBZaGDob1j"
      },
      "outputs": [],
      "source": [
        "def process_string(str):\n",
        "    t = str.strip()\n",
        "    return t[0].upper() + t[1:]"
      ]
    },
    {
      "cell_type": "code",
      "execution_count": 16,
      "metadata": {
        "id": "xyTfCBN3hDHe"
      },
      "outputs": [],
      "source": [
        "def square(x):\n",
        "    return x**2"
      ]
    },
    {
      "cell_type": "markdown",
      "metadata": {
        "id": "Bzd4bUAaob1l"
      },
      "source": [
        "## Lambda\n",
        "\n",
        "It might seem somewhat tedious to have to create an entire function just to check to see if a value is greater than 5. A **lambda** saves you this effort.\n",
        "\n",
        "A lambda function is a small anonymous function.\n",
        "\n",
        "A lambda function can take any number of arguments, but can only have one expression.\n",
        "\n",
        "### Syntax\n",
        "\n",
        "**lambda** *arguments* : *expression*"
      ]
    },
    {
      "cell_type": "code",
      "execution_count": null,
      "metadata": {
        "colab": {
          "base_uri": "https://localhost:8080/"
        },
        "id": "hwDyCYqyhcO2",
        "outputId": "eb873717-ab51-4f91-f5bc-ccd011ff0e6f"
      },
      "outputs": [
        {
          "name": "stdout",
          "output_type": "stream",
          "text": [
            "25\n"
          ]
        }
      ],
      "source": [
        "x = lambda x: x**2\n",
        "print(x(5))"
      ]
    },
    {
      "cell_type": "code",
      "execution_count": null,
      "metadata": {
        "colab": {
          "base_uri": "https://localhost:8080/"
        },
        "id": "bCMW3mBehuj-",
        "outputId": "d2556c22-253b-4f46-cb2e-1338d0b5ed6b"
      },
      "outputs": [
        {
          "name": "stdout",
          "output_type": "stream",
          "text": [
            "30\n"
          ]
        }
      ],
      "source": [
        "x = lambda a, b : a * b\n",
        "print(x(5, 6))"
      ]
    },
    {
      "cell_type": "code",
      "execution_count": null,
      "metadata": {
        "id": "sxn3RJnDhxeN"
      },
      "outputs": [],
      "source": [
        "x = lambda a, b, c : a + b + c\n",
        "print(x(5, 6, 2))"
      ]
    },
    {
      "cell_type": "code",
      "execution_count": 5,
      "metadata": {
        "id": "Xnxfase4h4Wu"
      },
      "outputs": [
        {
          "name": "stdout",
          "output_type": "stream",
          "text": [
            "50\n"
          ]
        }
      ],
      "source": [
        "x = lambda x: 100 if x > 100 else 50 if x > 50 else x\n",
        "print(x(51))"
      ]
    },
    {
      "cell_type": "markdown",
      "metadata": {
        "id": "z2zAdfZINqnr"
      },
      "source": [
        "#### Exercise\n",
        "Write a Python program to sort a list of tuples using Lambda.\n",
        "- Original list of tuples:\n",
        "[('English', 88), ('Science', 90), ('Maths', 97), ('Social sciences', 82)]\n",
        "- Sorting the List of Tuples:\n",
        "[('Social sciences', 82), ('English', 88), ('Science', 90), ('Maths', 97)]\n",
        "\n",
        "\n",
        "\n",
        "> *** tip:\n",
        "Using sort()\n"
      ]
    },
    {
      "cell_type": "code",
      "execution_count": 9,
      "metadata": {
        "id": "hrxM7OdbPhQO"
      },
      "outputs": [
        {
          "name": "stdout",
          "output_type": "stream",
          "text": [
            "[('Social sciences', 82), ('English', 88), ('Science', 90), ('Maths', 97)]\n"
          ]
        }
      ],
      "source": [
        "tuple_list = [('English', 88), ('Science', 90), ('Maths', 97), ('Social sciences', 82)]\n",
        "# Sort the list of tuples based on the second element of the tuples\n",
        "tuple_list.sort(key=lambda x: x[1])\n",
        "print(tuple_list)"
      ]
    },
    {
      "cell_type": "markdown",
      "metadata": {
        "id": "No2PffpLRYMS"
      },
      "source": [
        "Write a Python program to find palindromes in a given list of strings using Lambda.\n",
        "- Orginal list of strings:\n",
        "['php', 'w3r', 'Python', 'abcd', 'Java', 'aaa']\n",
        "- List of palindromes:\n",
        "['php', 'aaa']\n",
        "\n",
        "\n",
        "\n",
        "> *** Palindrome: a word, phrase, or sequence that reads the same backwards as forwards, e.g. madam\n",
        "\n"
      ]
    },
    {
      "cell_type": "code",
      "execution_count": 10,
      "metadata": {
        "id": "yVISTJafRVK1"
      },
      "outputs": [
        {
          "name": "stdout",
          "output_type": "stream",
          "text": [
            "['php', 'aaa']\n"
          ]
        }
      ],
      "source": [
        "# put your code here\n",
        "str_list = ['php', 'w3r', 'Python', 'abcd', 'Java', 'aaa']\n",
        "# List of palindrome strings\n",
        "palindrome = lambda x: True if x == x[::-1] else False\n",
        "print([x for x in str_list if palindrome(x)])"
      ]
    },
    {
      "cell_type": "markdown",
      "metadata": {
        "id": "npnc4WLNSBmM"
      },
      "source": [
        "Write a Python program to find all anagrams of a string in a given list of strings using Lambda.\n",
        "- Orginal list of strings:\n",
        "['bcda', 'abce', 'cbda', 'cbea', 'adcb']\n",
        "- Anagrams of 'abcd' in the above string:\n",
        "['bcda', 'cbda', 'adcb']\n",
        "\n",
        "\n",
        "> *** anagram: a word, phrase, or name formed by rearranging the letters of another, such as spar, formed from rasp.\n",
        "\n"
      ]
    },
    {
      "cell_type": "code",
      "execution_count": 12,
      "metadata": {
        "id": "aC456ekKUIaH"
      },
      "outputs": [
        {
          "name": "stdout",
          "output_type": "stream",
          "text": [
            "['bcda', 'cbda', 'adcb']\n"
          ]
        }
      ],
      "source": [
        "# put your code here\n",
        "orginal_list = ['bcda', 'abce', 'cbda', 'cbea', 'adcb']\n",
        "# Anagrams of any string\n",
        "anagrams = lambda x, y: sorted(x) == sorted(y)\n",
        "print([x for x in orginal_list if anagrams('abcd', x)])"
      ]
    },
    {
      "cell_type": "markdown",
      "metadata": {
        "id": "KtQQJ5sRiZxx"
      },
      "source": [
        "### Nested Function\n",
        "\n",
        "\n",
        "The Lambda function is most powerful when used inside another function.\n",
        "\n",
        "Let’s consider an example of a user-defined function that takes a single argument which is used as an exponent of any number."
      ]
    },
    {
      "cell_type": "code",
      "execution_count": 13,
      "metadata": {
        "id": "vZqpOoKsiehG"
      },
      "outputs": [
        {
          "name": "stdout",
          "output_type": "stream",
          "text": [
            "22\n",
            "33\n",
            "40\n"
          ]
        }
      ],
      "source": [
        "def myfunc(n):\n",
        "  return lambda a : a * n\n",
        "\n",
        "mydoubler = myfunc(2) # lambda a: a * 2\n",
        "mytripler = myfunc(3)\n",
        "\n",
        "print(mydoubler(11))\n",
        "print(mytripler(11))\n",
        "print(mydoubler(20))"
      ]
    },
    {
      "cell_type": "markdown",
      "metadata": {
        "id": "gBeLL23Xob1l"
      },
      "source": [
        "## Map\n",
        "\n",
        "The **map** function is very similar to the Python **comprehension** that we previously explored. The following **comprehension** accomplishes the same task as the previous call to **map**.\n"
      ]
    },
    {
      "cell_type": "code",
      "execution_count": 17,
      "metadata": {
        "id": "oHlmlAXKob1l"
      },
      "outputs": [
        {
          "name": "stdout",
          "output_type": "stream",
          "text": [
            "['Apple', 'Pear', 'Orange', 'Pine apple']\n"
          ]
        }
      ],
      "source": [
        "l = [\"   apple  \", \"pear \", \"orange\", \"pine apple  \"]\n",
        "l2 = [process_string(x) for x in l]\n",
        "print(l2)"
      ]
    },
    {
      "cell_type": "markdown",
      "metadata": {
        "id": "XmtKhQsQob1l"
      },
      "source": [
        "The choice of using a **map** function or **comprehension** is up to the programmer. I tend to prefer **map** since it is so common in other programming languages.\n"
      ]
    },
    {
      "cell_type": "markdown",
      "metadata": {
        "id": "5AIECwItob1k"
      },
      "source": [
        "### Using with map()\n",
        "\n",
        "Python's **map** is a very useful function that is provided in many different programming languages. The **map** function takes a **list** and applies a function to each member of the **list** and returns a second **list** that is the same size as the first.\n",
        "\n",
        "The map() function in python has the following syntax:\n",
        "\n",
        "map(func, *iterables)"
      ]
    },
    {
      "cell_type": "code",
      "execution_count": 18,
      "metadata": {
        "id": "-Zv3Bk-dob1k"
      },
      "outputs": [
        {
          "data": {
            "text/plain": [
              "['Apple', 'Pear', 'Orange', 'Pine apple']"
            ]
          },
          "execution_count": 18,
          "metadata": {},
          "output_type": "execute_result"
        }
      ],
      "source": [
        "l = [\"   apple  \", \"pear \", \"orange\", \"pine apple  \"]\n",
        "list(map(process_string, l))"
      ]
    },
    {
      "cell_type": "code",
      "execution_count": 19,
      "metadata": {
        "id": "cf__hk8UjBnG"
      },
      "outputs": [
        {
          "name": "stdout",
          "output_type": "stream",
          "text": [
            "[1, 4, 9, 16, 25, 36, 49, 64, 81, 100]\n",
            "[1, 4, 9, 16, 25, 36, 49, 64, 81, 100]\n"
          ]
        }
      ],
      "source": [
        "# The map() maps the sequence from 1 to 10 to the lambda function and returns the square of all the elements of the sequence.\n",
        "\n",
        "print(list(map(lambda x: x**2, range(1,11))))\n",
        "\n",
        "numlst = [1,2,3,4,5,6,7,8,9,10]\n",
        "print(list(map(lambda x: x**2, numlst)))"
      ]
    },
    {
      "cell_type": "markdown",
      "metadata": {
        "id": "wxgax3iyQa0f"
      },
      "source": [
        "### Exercise\n",
        "Write a Python program to triple all numbers in a given list of integers.\n",
        "Use Python map."
      ]
    },
    {
      "cell_type": "code",
      "execution_count": 20,
      "metadata": {
        "id": "AIDBu-jZWxpm"
      },
      "outputs": [
        {
          "name": "stdout",
          "output_type": "stream",
          "text": [
            "[3, 6, 9, 12, 15, 18, 21, 24, 27, 30]\n"
          ]
        }
      ],
      "source": [
        "numlst = [1,2,3,4,5,6,7,8,9,10]\n",
        "print(list(map(lambda x: x*3, numlst)))"
      ]
    },
    {
      "cell_type": "markdown",
      "metadata": {
        "id": "P7YeYzRcWyXt"
      },
      "source": [
        "Write a Python program to compute the square of the first N Fibonacci numbers, using the map function and generate a list of the numbers.\n",
        "\n",
        "\n",
        "> F0 = 0,   F1 = 1,\n",
        "and\n",
        "Fn = Fn - 1 + Fn - 2,\n",
        "\n"
      ]
    },
    {
      "cell_type": "code",
      "execution_count": 23,
      "metadata": {
        "id": "Fw3gepfLWzLe"
      },
      "outputs": [
        {
          "data": {
            "text/plain": [
              "[0, 1, 1, 4, 9, 25, 64, 169, 441, 1156, 3025]"
            ]
          },
          "execution_count": 23,
          "metadata": {},
          "output_type": "execute_result"
        }
      ],
      "source": [
        "def fibo_square(x):\n",
        "    # Fibonacci\n",
        "    fibonacci = lambda x: 0 if x < 1 else 1 if x == 1 else fibonacci(x-1) + fibonacci(x-2)\n",
        "    return fibonacci(x)**2\n",
        "\n",
        "\n",
        "list(map(fibo_square, range(0, 11)))"
      ]
    },
    {
      "cell_type": "markdown",
      "metadata": {
        "id": "CeMnHvQtWziF"
      },
      "source": [
        "Write a Python program to compute the sum of elements of an array of integers. Use the map() function.\n",
        "\n",
        ">\n",
        "- Original array: array('i', [1, 2, 3, 4, 5, -15])\n",
        "- Sum of all elements of the said array:\n",
        "0\n"
      ]
    },
    {
      "cell_type": "code",
      "execution_count": 45,
      "metadata": {
        "id": "u7tBWLiUW4P-"
      },
      "outputs": [
        {
          "ename": "TypeError",
          "evalue": "<lambda>() missing 1 required positional argument: 'sum'",
          "output_type": "error",
          "traceback": [
            "\u001b[0;31m---------------------------------------------------------------------------\u001b[0m",
            "\u001b[0;31mTypeError\u001b[0m                                 Traceback (most recent call last)",
            "Cell \u001b[0;32mIn[45], line 4\u001b[0m\n\u001b[1;32m      2\u001b[0m numlst \u001b[38;5;241m=\u001b[39m [\u001b[38;5;241m1\u001b[39m, \u001b[38;5;241m2\u001b[39m, \u001b[38;5;241m3\u001b[39m, \u001b[38;5;241m4\u001b[39m, \u001b[38;5;241m5\u001b[39m, \u001b[38;5;241m-\u001b[39m\u001b[38;5;241m15\u001b[39m]\n\u001b[1;32m      3\u001b[0m \u001b[38;5;66;03m# compute the sum of elements of an array of integers. Use the map() function.\u001b[39;00m\n\u001b[0;32m----> 4\u001b[0m total_sum \u001b[38;5;241m=\u001b[39m \u001b[38;5;28;43msum\u001b[39;49m\u001b[43m(\u001b[49m\u001b[43mnumlst\u001b[49m\u001b[43m)\u001b[49m\n\u001b[1;32m      6\u001b[0m \u001b[38;5;28mprint\u001b[39m(total_sum)\n",
            "\u001b[0;31mTypeError\u001b[0m: <lambda>() missing 1 required positional argument: 'sum'"
          ]
        }
      ],
      "source": [
        "# put your code here\n",
        "numlst = [1, 2, 3, 4, 5, -15]\n",
        "# compute the sum of elements of an array of integers. Use the map() function.\n",
        "total_sum = sum(numlst)\n",
        "\n",
        "print(total_sum)"
      ]
    },
    {
      "cell_type": "markdown",
      "metadata": {
        "id": "wA1j3ksmob1l"
      },
      "source": [
        "## Filter\n",
        "\n",
        "While a **map function** always creates a new **list** of the same size as the original, the **filter** function creates a potentially smaller **list**.\n",
        "\n",
        "#### Syntax\n",
        "filter(func, iterable)"
      ]
    },
    {
      "cell_type": "code",
      "execution_count": 46,
      "metadata": {
        "id": "s-qOmchkob1l"
      },
      "outputs": [
        {
          "name": "stdout",
          "output_type": "stream",
          "text": [
            "[10, 20, 15]\n"
          ]
        }
      ],
      "source": [
        "def greater_than_five(x):\n",
        "    return x > 5\n",
        "\n",
        "\n",
        "l = [1, 10, 20, 3, -2, 0,15,5]\n",
        "# print(greater_than_five(10))\n",
        "\n",
        "l2 = list(filter(greater_than_five, l))\n",
        "print(l2)"
      ]
    },
    {
      "cell_type": "code",
      "execution_count": 47,
      "metadata": {
        "id": "gdyEQ_8rob1l"
      },
      "outputs": [
        {
          "name": "stdout",
          "output_type": "stream",
          "text": [
            "[10, 20, 15, 6]\n"
          ]
        }
      ],
      "source": [
        "l = [1, 10, 20, 3, -2, 0,15,5, 6]\n",
        "l2 = list(filter(lambda x: x > 5, l))\n",
        "print(l2)"
      ]
    },
    {
      "cell_type": "markdown",
      "metadata": {
        "id": "BNDIxA8tYQ3m"
      },
      "source": [
        "### Exercise\n",
        "\n",
        "Write a Python function that filters out even numbers from a list of integers using the filter function.\n",
        "\n",
        "\n",
        "> - Original numbers: [1, 2, 3, 4, 5, 6, 7, 8, 9, 10]\n",
        "- After filters out even numbers from the said list of integers\n",
        "[1, 3, 5, 7, 9]\n",
        "\n"
      ]
    },
    {
      "cell_type": "markdown",
      "metadata": {
        "id": "rc6X_PzTZIh9"
      },
      "source": [
        "Write a Python program that creates a list of dictionaries containing student information (name, age, grade) and uses the filter function to extract students with a grade greater than or equal to 95.\n",
        "\n",
        "\n",
        "> - - Student information:\n",
        "[{'name': 'Denis Helio', 'age': 17, 'grade': 97}, {'name': 'Hania Mehtap', 'age': 16, 'grade': 92}, {'name': 'Kelan Stasys', 'age': 17, 'grade': 90}, {'name': 'Velvet Mirko', 'age': 16, 'grade': 94}, {'name': 'Delores Aeneas', 'age': 17, 'grade': 100}]\n",
        "- Students with high grades:\n",
        "[{'name': 'Denis Helio', 'age': 17, 'grade': 97}, {'name': 'Delores Aeneas', 'age': 17, 'grade': 100}]\n",
        "\n"
      ]
    },
    {
      "cell_type": "markdown",
      "metadata": {
        "id": "O2vlB4l8ob1m"
      },
      "source": [
        "## Reduce\n",
        "\n",
        "Finally, we will make use of **reduce**. Like **filter** and **map** the **reduce** function also works on a **list**. However, the result of the **reduce** is a single value. Consider if you wanted to sum the **values** of a **list**. The sum is implemented by a **lambda**.\n",
        "\n",
        "#### Syntax:\n",
        "\n",
        "reduce(func, iterable[, initial])\n"
      ]
    },
    {
      "cell_type": "code",
      "execution_count": 48,
      "metadata": {
        "id": "118uGQLHkyPw"
      },
      "outputs": [
        {
          "name": "stdout",
          "output_type": "stream",
          "text": [
            "78\n"
          ]
        }
      ],
      "source": [
        "# Python 3\n",
        "from functools import reduce\n",
        "\n",
        "numbers = [3, 4, 6, 9, 34, 12]\n",
        "\n",
        "def custom_sum(first, second):\n",
        "    return first + second\n",
        "\n",
        "result = reduce(custom_sum, numbers,10)\n",
        "print(result)"
      ]
    },
    {
      "cell_type": "code",
      "execution_count": 49,
      "metadata": {
        "id": "2JidblK0ob1m"
      },
      "outputs": [
        {
          "name": "stdout",
          "output_type": "stream",
          "text": [
            "32\n"
          ]
        }
      ],
      "source": [
        "from functools import reduce\n",
        "\n",
        "l = [1, 10, 20, 3, -2, 0]\n",
        "result = reduce(lambda x, y: x + y, l)\n",
        "print(result)"
      ]
    },
    {
      "cell_type": "markdown",
      "metadata": {
        "id": "yPXjB9XXmplY"
      },
      "source": [
        "### Exercise\n",
        "\n",
        "Use map to print the square of each numbers rounded to three decimal places\n",
        "\n",
        "my_floats = [4.35, 6.09, 3.25, 9.77, 2.16, 8.88, 4.59]"
      ]
    },
    {
      "cell_type": "code",
      "execution_count": null,
      "metadata": {
        "id": "eEe6Zy9cltod"
      },
      "outputs": [],
      "source": [
        "# write your solution\n",
        "# map_result = list(map(lambda x: x, my_floats))\n",
        "# [18.922, 37.088, 10.562, 95.453, 4.666, 78.854, 21.068]"
      ]
    },
    {
      "cell_type": "markdown",
      "metadata": {
        "id": "LPKi2Wr_md8l"
      },
      "source": [
        "Use filter to print only the names that are less than  or equal to seven letters\n",
        "\n",
        "my_names = [\"olumide\", \"akinremi\", \"josiah\", \"temidayo\", \"omoseun\"]\n",
        "\n"
      ]
    },
    {
      "cell_type": "code",
      "execution_count": null,
      "metadata": {
        "id": "DvcVg629mgFZ"
      },
      "outputs": [],
      "source": [
        "# write your solution\n",
        "# filter_result = list(filter(lambda name: name, my_names, my_names))\n",
        "#['olumide', 'josiah', 'omoseun']"
      ]
    },
    {
      "cell_type": "markdown",
      "metadata": {
        "id": "mAkkVwG6mhD9"
      },
      "source": [
        "Use reduce to print the product of these numbers\n",
        "\n",
        "my_numbers = [4, 6, 9, 23, 5]"
      ]
    },
    {
      "cell_type": "code",
      "execution_count": null,
      "metadata": {
        "id": "wR-epIvZmku1"
      },
      "outputs": [],
      "source": [
        "# write your solution\n",
        "# reduce_result = reduce(lambda num1, num2: num1 * num2, my_numbers, 0)\n",
        "#['olumide', 'josiah', 'omoseun']"
      ]
    },
    {
      "cell_type": "markdown",
      "metadata": {
        "id": "dK4EYOmMYixH"
      },
      "source": [
        "# Object-Oriented terminology\n",
        "**OOP** models real world entities as software objects where each object has some **data/attributes** and some **functions/methods** of it's own.\n",
        "\n",
        "- Define a **class**, which is like a blueprint for creating an object\n",
        "- Use classes to create **new objects**\n",
        "- Model systems with **class inheritance**\n",
        "\n",
        "Eg. Object - Human Being:\n",
        "- It's data - age, weight, height, etc.\n",
        "- It's functions - walk, talk, sleep, run.\n",
        "\n",
        "An **attribute** is a piece of information. In code, an attribute is just a variable that is part of a class.\n",
        "\n",
        "A **behavior** is an action that is defined within a class. These are made up of methods, which are just functions that are defined for the class.\n",
        "\n",
        "## Why class?\n",
        "\n",
        "For example, we might want to track employees in an organization.\n",
        "\n",
        "- We need to store some basic information about each employee, such as their name, age, position, and the year they started working."
      ]
    },
    {
      "cell_type": "code",
      "execution_count": null,
      "metadata": {
        "id": "fa0L6tmyYnmv"
      },
      "outputs": [],
      "source": [
        "Tharo = [\"Dara Tharo\", 34, \"HR\", 2010] # Thara[1]=>\n",
        "sara = [\"sara\", 35, \"Science Officer\", 2014]\n",
        "Sotha = [\"Leo Sotha\", \"Chief Medical Officer\", 2020]"
      ]
    },
    {
      "cell_type": "markdown",
      "metadata": {
        "id": "OUNacmA1ZUZ-"
      },
      "source": [
        "## Defining a class\n",
        "\n",
        "To create a class, use the keyword ***class***"
      ]
    },
    {
      "cell_type": "code",
      "execution_count": 50,
      "metadata": {
        "id": "AWPhz8S1ZZIO"
      },
      "outputs": [],
      "source": [
        "class Person:\n",
        "    \"\"\"We can create a simple empty class.\n",
        "\n",
        "    This is a set of rules that says what a student is.\n",
        "    \"\"\""
      ]
    },
    {
      "cell_type": "code",
      "execution_count": 51,
      "metadata": {
        "id": "VBclhi_sZdB3"
      },
      "outputs": [
        {
          "name": "stdout",
          "output_type": "stream",
          "text": [
            "<__main__.Person object at 0x7f991e313700>\n"
          ]
        },
        {
          "data": {
            "text/plain": [
              "<__main__.Person at 0x7f991e250910>"
            ]
          },
          "execution_count": 51,
          "metadata": {},
          "output_type": "execute_result"
        }
      ],
      "source": [
        "# Creating an instance\n",
        "vince = Person()\n",
        "print(vince)\n",
        "\n",
        "# Creating a different instance\n",
        "zoe = Person()\n",
        "zoe"
      ]
    },
    {
      "cell_type": "markdown",
      "metadata": {
        "id": "hYXu8OKRZzVl"
      },
      "source": [
        "#### Object Attributes"
      ]
    },
    {
      "cell_type": "code",
      "execution_count": 52,
      "metadata": {
        "id": "grU3X4AUZ4d3"
      },
      "outputs": [
        {
          "data": {
            "text/plain": [
              "'Male'"
            ]
          },
          "execution_count": 52,
          "metadata": {},
          "output_type": "execute_result"
        }
      ],
      "source": [
        "class Student:\n",
        "    courses = [\"Biology\", \"Mathematics\", \"English\"]\n",
        "    age = 5\n",
        "    gender = \"Male\"\n",
        "#Let us now create Vince again:\n",
        "vince = Student()\n",
        "\n",
        "#Accessing these attributes:\n",
        "vince.courses\n",
        "vince.age\n",
        "vince.gender"
      ]
    },
    {
      "cell_type": "code",
      "execution_count": null,
      "metadata": {
        "id": "AhtA1wK7aNdO"
      },
      "outputs": [],
      "source": [
        "'''\n",
        "Delete the age property from the p1 object:\n",
        "'''\n",
        "\n",
        "del vince.age\n",
        "\n",
        "'''\n",
        "Delete an object:\n",
        "'''\n",
        "\n",
        "del vince"
      ]
    },
    {
      "cell_type": "markdown",
      "metadata": {
        "id": "kaIYtvV6ae3F"
      },
      "source": [
        "#### Object Methods"
      ]
    },
    {
      "cell_type": "code",
      "execution_count": null,
      "metadata": {
        "id": "Tq1IofLyaYEe"
      },
      "outputs": [],
      "source": [
        "class Student:\n",
        "    courses = [\"Biology\", \"Mathematics\", \"English\"]\n",
        "    age = 5\n",
        "    sex = \"Male\"\n",
        "\n",
        "    def have_a_birthday(self):\n",
        "        \"\"\"This method increments the age of our instance.\"\"\"\n",
        "        self.age += 1"
      ]
    },
    {
      "cell_type": "code",
      "execution_count": null,
      "metadata": {
        "id": "B632nb2FarMY"
      },
      "outputs": [],
      "source": [
        "vince = Student()\n",
        "vince.age\n",
        "\n",
        "vince.have_a_birthday()\n",
        "\n",
        "vince.age"
      ]
    },
    {
      "cell_type": "markdown",
      "metadata": {
        "id": "ihXpZ7M4azlG"
      },
      "source": [
        "### The self Parameter\n",
        "The self parameter is a reference to the current instance of the class, and is used to access variables that belongs to the class.\n",
        "\n",
        "It does not have to be named self , you can call it whatever you like, but it has to be the first parameter of any function in the class:"
      ]
    },
    {
      "cell_type": "code",
      "execution_count": 53,
      "metadata": {
        "id": "wtVrCoyTay02"
      },
      "outputs": [],
      "source": [
        "class Student:\n",
        "  def __init__(this, name, age):\n",
        "    this.name = name\n",
        "    this.age = age\n",
        "\n",
        "  def myfunc(abc):\n",
        "    print(\"Hello my name is \" + abc.name)"
      ]
    },
    {
      "cell_type": "code",
      "execution_count": 54,
      "metadata": {
        "id": "RUpVjmPea46m"
      },
      "outputs": [
        {
          "name": "stdout",
          "output_type": "stream",
          "text": [
            "Hello my name is John\n"
          ]
        }
      ],
      "source": [
        "p1 = Student(\"John\", 36)\n",
        "p1.myfunc()"
      ]
    },
    {
      "cell_type": "markdown",
      "metadata": {
        "id": "ZH2aLBd0a-KO"
      },
      "source": [
        "### The `__init__` method\n",
        "\n",
        "All classes have a function called `__init__()`, which is always executed when the class is being initiated.\n",
        "\n",
        "Use the `__init__()` function to assign values to object properties, or other operations that are necessary to do when the object is being created:"
      ]
    },
    {
      "cell_type": "code",
      "execution_count": 56,
      "metadata": {
        "id": "VADKuaQebCA3"
      },
      "outputs": [],
      "source": [
        "class Student:\n",
        "    def __init__(self, courses, age, sex):\n",
        "        \"\"\"\n",
        "        What the class should do when it\n",
        "        is used to create an instance\n",
        "        \"\"\"\n",
        "        self.courses = courses\n",
        "        self.age = age\n",
        "        self.sex = sex\n",
        "    \n",
        "    def __init__(self, courses, age):\n",
        "        \"\"\"\n",
        "        What the class should do when it\n",
        "        is used to create an instance\n",
        "        \"\"\"\n",
        "        self.courses = courses\n",
        "        self.age = age\n",
        "\n",
        "    def have_a_birthday(self):\n",
        "        self.age += 1"
      ]
    },
    {
      "cell_type": "code",
      "execution_count": 58,
      "metadata": {
        "id": "PaLqkTN2bC3O"
      },
      "outputs": [
        {
          "ename": "TypeError",
          "evalue": "__init__() takes 3 positional arguments but 4 were given",
          "output_type": "error",
          "traceback": [
            "\u001b[0;31m---------------------------------------------------------------------------\u001b[0m",
            "\u001b[0;31mTypeError\u001b[0m                                 Traceback (most recent call last)",
            "Cell \u001b[0;32mIn[58], line 6\u001b[0m\n\u001b[1;32m      3\u001b[0m vince\u001b[38;5;241m.\u001b[39mage\n\u001b[1;32m      4\u001b[0m \u001b[38;5;66;03m# vince.sex\u001b[39;00m\n\u001b[0;32m----> 6\u001b[0m vince \u001b[38;5;241m=\u001b[39m \u001b[43mStudent\u001b[49m\u001b[43m(\u001b[49m\u001b[43m[\u001b[49m\u001b[38;5;124;43m\"\u001b[39;49m\u001b[38;5;124;43mBiology\u001b[39;49m\u001b[38;5;124;43m\"\u001b[39;49m\u001b[43m,\u001b[49m\u001b[38;5;124;43m\"\u001b[39;49m\u001b[38;5;124;43mMath\u001b[39;49m\u001b[38;5;124;43m\"\u001b[39;49m\u001b[43m]\u001b[49m\u001b[43m,\u001b[49m\u001b[38;5;241;43m28\u001b[39;49m\u001b[43m,\u001b[49m\u001b[43m \u001b[49m\u001b[38;5;124;43m\"\u001b[39;49m\u001b[38;5;124;43mMale\u001b[39;49m\u001b[38;5;124;43m\"\u001b[39;49m\u001b[43m)\u001b[49m\n\u001b[1;32m      7\u001b[0m \u001b[38;5;66;03m# vince.courses\u001b[39;00m\n\u001b[1;32m      8\u001b[0m vince\u001b[38;5;241m.\u001b[39mage\n",
            "\u001b[0;31mTypeError\u001b[0m: __init__() takes 3 positional arguments but 4 were given"
          ]
        }
      ],
      "source": [
        "vince = Student([\"Biology\",\"Math\"],28)\n",
        "# vince.courses\n",
        "vince.age\n",
        "# vince.sex\n",
        "\n",
        "vince = Student([\"Biology\",\"Math\"],28, \"Male\")\n",
        "# vince.courses\n",
        "vince.age"
      ]
    },
    {
      "cell_type": "markdown",
      "metadata": {
        "id": "lZTHtQ12bPPI"
      },
      "source": [
        "#### The `__str__()` Function\n",
        "\n",
        "The `__str__()` function controls what should be returned when the class object is represented as a string.\n",
        "\n",
        "If the `__str__()` function is not set, the string representation of the object is returned:"
      ]
    },
    {
      "cell_type": "code",
      "execution_count": 59,
      "metadata": {
        "id": "4nt8HwEcbF-_"
      },
      "outputs": [],
      "source": [
        "class Student:\n",
        "    def __init__(self, courses, age, sex):\n",
        "        \"\"\"\n",
        "        What the class should do when it\n",
        "        is used to create an instance\n",
        "        \"\"\"\n",
        "        self.courses = courses\n",
        "        self.age = age\n",
        "        self.sex = sex\n",
        "\n",
        "    def have_a_birthday(self):\n",
        "          self.age += 1\n",
        "\n",
        "    def __str__(self):\n",
        "      return f\"{self.sex}({self.age})\""
      ]
    },
    {
      "cell_type": "code",
      "execution_count": 60,
      "metadata": {
        "id": "OCODbZIGbU7W"
      },
      "outputs": [
        {
          "name": "stdout",
          "output_type": "stream",
          "text": [
            "Male(20)\n"
          ]
        }
      ],
      "source": [
        "sara = Student([\"Biology\",\"Math\"],20,\"Male\")\n",
        "print(sara)"
      ]
    },
    {
      "cell_type": "markdown",
      "metadata": {
        "id": "uXIcPhNDbmx9"
      },
      "source": [
        "## Inheritance\n",
        "\n",
        "**Inheritance** allows us to define a class that inherits all the ***methods*** and ***properties*** from another class.\n",
        "\n",
        "**Parent class** is the class being inherited from, also called base class.\n",
        "\n",
        "**Child class** is the class that inherits from another class, also called derived class."
      ]
    },
    {
      "cell_type": "code",
      "execution_count": 61,
      "metadata": {
        "id": "UC6NjktVbof_"
      },
      "outputs": [],
      "source": [
        "class Math_Student(Student):\n",
        "    \"\"\"\n",
        "    A Math student: behaves exactly like a Student\n",
        "    but also has a favourite class attribute.\n",
        "    \"\"\"\n",
        "    favourite_class = \"Mathematics\""
      ]
    },
    {
      "cell_type": "code",
      "execution_count": 62,
      "metadata": {
        "id": "Xw2XywAYbyMH"
      },
      "outputs": [
        {
          "data": {
            "text/plain": [
              "(['Mathematics', 'Biology'], 29, 'Female', 'Mathematics')"
            ]
          },
          "execution_count": 62,
          "metadata": {},
          "output_type": "execute_result"
        }
      ],
      "source": [
        "becky = Math_Student([\"Mathematics\", \"Biology\"], 29, \"Female\")\n",
        "becky.courses, becky.age, becky.sex, becky.favourite_class"
      ]
    },
    {
      "cell_type": "code",
      "execution_count": 63,
      "metadata": {
        "id": "Q64pBHa5brU2"
      },
      "outputs": [
        {
          "data": {
            "text/plain": [
              "30"
            ]
          },
          "execution_count": 63,
          "metadata": {},
          "output_type": "execute_result"
        }
      ],
      "source": [
        "#This class has the methods of the parent class:\n",
        "becky.have_a_birthday()\n",
        "becky.age"
      ]
    }
  ],
  "metadata": {
    "colab": {
      "provenance": []
    },
    "kernelspec": {
      "display_name": "Python 3",
      "name": "python3"
    },
    "language_info": {
      "codemirror_mode": {
        "name": "ipython",
        "version": 3
      },
      "file_extension": ".py",
      "mimetype": "text/x-python",
      "name": "python",
      "nbconvert_exporter": "python",
      "pygments_lexer": "ipython3",
      "version": "3.8.0"
    }
  },
  "nbformat": 4,
  "nbformat_minor": 0
}

{
  "cells": [
    {
      "cell_type": "markdown",
      "metadata": {
        "id": "2RtcCxotjxhL"
      },
      "source": [
        "#What is Pandas?\n",
        "Pandas is a Python library used for working with data sets.\n",
        "\n",
        "It has functions for analyzing, cleaning, exploring, and manipulating data.\n",
        "\n",
        "The name \"Pandas\" has a reference to both \"Panel Data\", and \"Python Data Analysis\" and was created by Wes McKinney in 2008.\n"
      ]
    },
    {
      "cell_type": "markdown",
      "metadata": {
        "id": "KdmgvGxdkZv9"
      },
      "source": [
        "#Why Use Pandas?\n",
        "Pandas allows us to analyze big data and make conclusions based on statistical theories.\n",
        "\n",
        "Pandas can clean messy data sets, and make them readable and relevant.\n",
        "\n",
        "Relevant data is very important in data science."
      ]
    },
    {
      "cell_type": "markdown",
      "metadata": {
        "id": "rLVOI-CRkbqk"
      },
      "source": [
        "#What Can Pandas Do?\n",
        "Pandas gives you answers about the data. Like:\n",
        "\n",
        "Is there a correlation between two or more columns?\n",
        "- What is average value?\n",
        "- Max value?\n",
        "- Min value?"
      ]
    },
    {
      "cell_type": "markdown",
      "metadata": {
        "id": "v5VhMt8HkoHm"
      },
      "source": [
        "# Getting started\n",
        "\n",
        "### Installation of Pandas\n",
        "```\n",
        "pip install pandas\n",
        "```\n",
        "### Import Pandas\n",
        "```\n",
        "import pandas\n",
        "```\n",
        "```\n",
        "import pandas as pd\n",
        "```\n",
        "### Checking Pandas Version\n",
        "```\n",
        "import pandas as pd\n",
        "\n",
        "print(pd.__version__)\n",
        "```\n",
        "\n",
        "\n"
      ]
    },
    {
      "cell_type": "code",
      "execution_count": null,
      "metadata": {
        "id": "2nMGA7D3jZlP"
      },
      "outputs": [],
      "source": [
        "# Example\n",
        "import pandas as pd\n",
        "\n",
        "mydataset = {\n",
        "  'cars': [\"BMW\", \"Volvo\", \"Ford\"],\n",
        "  'passings': [3, 7, 2]\n",
        "}\n",
        "\n",
        "myvar = pd.DataFrame(mydataset)\n",
        "\n",
        "print(myvar)"
      ]
    },
    {
      "cell_type": "markdown",
      "metadata": {
        "id": "0SoUH_fhmBDr"
      },
      "source": [
        "# Panda Data Structure\n",
        "\n",
        "Let's first get acquainted with two of pandas' primary data\n",
        "structures: the **Series** and the **DataFrame**. They can handle\n",
        "the majority of use cases in *finance*, *statistic*, *social science*,\n",
        "and many areas of engineering."
      ]
    },
    {
      "cell_type": "markdown",
      "metadata": {
        "id": "NNw4p9o5mXJv"
      },
      "source": [
        "### SERIES\n",
        "A Series is a one-dimensional object similar to an array, list,\n",
        "or column in table. Each item in a Series is assigned to an\n",
        "entry in an index:"
      ]
    },
    {
      "cell_type": "code",
      "execution_count": 6,
      "metadata": {
        "id": "XRdPWy-wmdHL"
      },
      "outputs": [
        {
          "name": "stdout",
          "output_type": "stream",
          "text": [
            "0    1\n",
            "1    7\n",
            "2    2\n",
            "dtype: int64\n",
            "2\n",
            "7\n"
          ]
        }
      ],
      "source": [
        "import pandas as pd\n",
        "\n",
        "a = [1, 7, 2]\n",
        "\n",
        "myvar = pd.Series(a)\n",
        "\n",
        "print(myvar)\n",
        "print(myvar[2])\n",
        "print(myvar.iloc[1])"
      ]
    },
    {
      "cell_type": "code",
      "execution_count": 1,
      "metadata": {
        "id": "--Ik1p-7nFss"
      },
      "outputs": [
        {
          "name": "stdout",
          "output_type": "stream",
          "text": [
            "x    1\n",
            "y    7\n",
            "z    2\n",
            "dtype: int64\n"
          ]
        }
      ],
      "source": [
        "# Create labels\n",
        "import pandas as pd\n",
        "\n",
        "a = [1, 7, 2]\n",
        "\n",
        "myvar = pd.Series(a, index = [\"x\", \"y\", \"z\"])\n",
        "print(myvar)"
      ]
    },
    {
      "cell_type": "code",
      "execution_count": 2,
      "metadata": {},
      "outputs": [
        {
          "name": "stdout",
          "output_type": "stream",
          "text": [
            "7\n"
          ]
        }
      ],
      "source": [
        "print(myvar[\"y\"])"
      ]
    },
    {
      "cell_type": "markdown",
      "metadata": {
        "id": "OQfpQxfzmpGc"
      },
      "source": [
        "Exercises:\n",
        "1. Creating a Series data structure of 5 random values.\n",
        "2. Adding labels (i, j, x, y, z) to that Series.\n",
        "3. Print out the first value (column \\\"i\\\")"
      ]
    },
    {
      "cell_type": "code",
      "execution_count": 13,
      "metadata": {},
      "outputs": [
        {
          "name": "stdout",
          "output_type": "stream",
          "text": [
            "0    0\n",
            "1    1\n",
            "2    0\n",
            "3    0\n",
            "4    4\n",
            "dtype: int64\n",
            "0\n"
          ]
        }
      ],
      "source": [
        "import numpy as np\n",
        "\n",
        "arr = np.random.randint(0, 5, 5)\n",
        "sr = pd.Series(arr)\n",
        "print(sr)\n",
        "\n",
        "sr.index = ['i', 'j', 'x', 'y', 'z']\n",
        "print(sr['i'])"
      ]
    },
    {
      "cell_type": "markdown",
      "metadata": {
        "id": "Z8XJ2PH-oL56"
      },
      "source": [
        "### Key/Value Objects as Series\n",
        "Create a simple Pandas Series from a dictionary:"
      ]
    },
    {
      "cell_type": "code",
      "execution_count": 14,
      "metadata": {
        "id": "wEg8nMDjqZVD"
      },
      "outputs": [
        {
          "name": "stdout",
          "output_type": "stream",
          "text": [
            "day1    420\n",
            "day2    380\n",
            "day3    390\n",
            "dtype: int64\n"
          ]
        }
      ],
      "source": [
        "import pandas as pd\n",
        "\n",
        "calories = {\"day1\": 420, \"day2\": 380, \"day3\": 390}\n",
        "\n",
        "myvar = pd.Series(calories)\n",
        "\n",
        "print(myvar)"
      ]
    },
    {
      "cell_type": "code",
      "execution_count": 18,
      "metadata": {
        "id": "eChZ3sIPqcPC"
      },
      "outputs": [
        {
          "name": "stdout",
          "output_type": "stream",
          "text": [
            "day1    420\n",
            "day2    380\n",
            "dtype: int64\n"
          ]
        }
      ],
      "source": [
        "#Create a Series using only data from \"day1\" and \"day2\":\n",
        "\n",
        "calories = {\"day1\": 420, \"day2\": 380, \"day3\": 390}\n",
        "\n",
        "myvar = pd.Series(calories, index = [\"day1\", \"day2\"])\n",
        "\n",
        "print(myvar)"
      ]
    },
    {
      "cell_type": "markdown",
      "metadata": {
        "id": "cwdMSvzmq0l9"
      },
      "source": [
        "### Data Frames\n",
        "- The DataFrame is a tabular data structure comprising a set\n",
        "of ordered columns and rows.\n",
        "- It can be thought of as a group of Series objects that share\n",
        "an index (the column names). There are a number of ways\n",
        "to initialize a DataFrame object.\n",
        "- Firstly, let's take a look at the common example of creating\n",
        "DataFrame from a dictionary of lists:\n"
      ]
    },
    {
      "cell_type": "code",
      "execution_count": 19,
      "metadata": {
        "id": "yQi1wRv2rk6s"
      },
      "outputs": [
        {
          "name": "stdout",
          "output_type": "stream",
          "text": [
            "   calories  duration\n",
            "0       420        50\n",
            "1       380        40\n",
            "2       390        45\n"
          ]
        }
      ],
      "source": [
        "data = {\n",
        "  \"calories\": [420, 380, 390],\n",
        "  \"duration\": [50, 40, 45]\n",
        "}\n",
        "\n",
        "myvar = pd.DataFrame(data)\n",
        "\n",
        "print(myvar)"
      ]
    },
    {
      "cell_type": "code",
      "execution_count": 20,
      "metadata": {
        "id": "tNbaUA_HteDD"
      },
      "outputs": [
        {
          "name": "stdout",
          "output_type": "stream",
          "text": [
            "420\n",
            "   calories  duration\n",
            "0       420        50\n",
            "1       380        40\n"
          ]
        }
      ],
      "source": [
        "#Locate Row\n",
        "print(myvar.loc[0,\"calories\"])\n",
        "print(myvar.loc[[0, 1]])"
      ]
    },
    {
      "cell_type": "code",
      "execution_count": 21,
      "metadata": {
        "id": "CyvjEZoetluK"
      },
      "outputs": [
        {
          "name": "stdout",
          "output_type": "stream",
          "text": [
            "calories    420\n",
            "duration     50\n",
            "Name: 0, dtype: int64\n"
          ]
        }
      ],
      "source": [
        "#Loate index\n",
        "print(myvar.iloc[0])"
      ]
    },
    {
      "cell_type": "code",
      "execution_count": 23,
      "metadata": {},
      "outputs": [
        {
          "name": "stdout",
          "output_type": "stream",
          "text": [
            "50\n",
            "50\n"
          ]
        }
      ],
      "source": [
        "print(myvar.iloc[0, 1])\n",
        "print(myvar.loc[0, \"duration\"])"
      ]
    },
    {
      "cell_type": "markdown",
      "metadata": {
        "id": "3nsn_eZsbCB7"
      },
      "source": [
        "### Read CSV Files\n",
        "\n",
        "A simple way to store big data sets is to use CSV files (comma separated files).\n",
        "\n",
        "CSV files contains plain text and is a well know format that can be read by everyone including Pandas."
      ]
    },
    {
      "cell_type": "code",
      "execution_count": 35,
      "metadata": {
        "id": "UEPGawT3bWJ6"
      },
      "outputs": [
        {
          "name": "stdout",
          "output_type": "stream",
          "text": [
            "  First name Last name  Gender    Position  Department Employee level  Performance score  Employment satisfaction  Hired date Termination date\n",
            "0      Pisey     Chann  Female  Supervisor          HR         Senior                 67                        2  2015-03-12              NaN\n",
            "1      Phary       Him    Male     Manager   Marketing           Lead                 70                        5  2016-08-23              NaN\n",
            "2    Rachana     Chhay  Female    Engineer   Marketing         Junior                 77                        2  2018-05-06              NaN\n",
            "3  Sreyneang      Neou    Male       Clerk          HR            Mid                 94                        2  2017-09-13              NaN\n",
            "4        Sok      Khun    Male       Clerk       Sales         Junior                 88                        1  2019-11-08              NaN\n",
            "5      Kosal       Lim    Male       Clerk   Marketing           Lead                 57                        4  2011-04-27              NaN\n",
            "6      Bopha    Chhuon    Male  Technician   Marketing         Senior                 64                        2  2013-06-14              NaN\n",
            "7     Sothea     Chhay  Female  Supervisor          HR         Senior                 58                        4  2020-01-20              NaN\n",
            "8      Kanha     Khiev  Female       Clerk  Operations           Lead                 70                        5  2012-07-11              NaN\n",
            "9     Chenda      Peou    Male     Manager  Operations         Junior                 59                        1  2015-05-04       2023-05-24\n"
          ]
        }
      ],
      "source": [
        "datapath = 'lab5/lab05_dataset.csv'\n",
        "\n",
        "#Load the CSV into a DataFrame:\n",
        "df = pd.read_csv(datapath)\n",
        "\n",
        "print(df.to_string())"
      ]
    },
    {
      "cell_type": "code",
      "execution_count": 25,
      "metadata": {
        "id": "nExwMMxwge8y"
      },
      "outputs": [
        {
          "name": "stdout",
          "output_type": "stream",
          "text": [
            "60\n",
            "20\n"
          ]
        }
      ],
      "source": [
        "# max_rows and max_columns\n",
        "print(pd.options.display.max_rows)\n",
        "print(pd.options.display.max_columns)\n"
      ]
    },
    {
      "cell_type": "code",
      "execution_count": 32,
      "metadata": {
        "id": "mtq6tR9eg-Jr"
      },
      "outputs": [
        {
          "name": "stdout",
          "output_type": "stream",
          "text": [
            "  First name Last name  ...  Hired date Termination date\n",
            "0      Pisey     Chann  ...  2015-03-12              NaN\n",
            "1      Phary       Him  ...  2016-08-23              NaN\n",
            "2    Rachana     Chhay  ...  2018-05-06              NaN\n",
            "3  Sreyneang      Neou  ...  2017-09-13              NaN\n",
            "4        Sok      Khun  ...  2019-11-08              NaN\n",
            "5      Kosal       Lim  ...  2011-04-27              NaN\n",
            "6      Bopha    Chhuon  ...  2013-06-14              NaN\n",
            "7     Sothea     Chhay  ...  2020-01-20              NaN\n",
            "8      Kanha     Khiev  ...  2012-07-11              NaN\n",
            "9     Chenda      Peou  ...  2015-05-04       2023-05-24\n",
            "\n",
            "[10 rows x 10 columns]\n"
          ]
        }
      ],
      "source": [
        "pd.options.display.max_rows = 60\n",
        "pd.options.display.max_columns = 4\n",
        "df = pd.read_csv(datapath)\n",
        "\n",
        "print(df)"
      ]
    },
    {
      "cell_type": "code",
      "execution_count": 34,
      "metadata": {
        "id": "H3fMG6n1hVdm"
      },
      "outputs": [
        {
          "name": "stdout",
          "output_type": "stream",
          "text": [
            "   First name Last name  Gender  ... Employment satisfaction  Hired date  \\\n",
            "0       Pisey     Chann  Female  ...                       2  2015-03-12   \n",
            "1       Phary       Him    Male  ...                       5  2016-08-23   \n",
            "..        ...       ...     ...  ...                     ...         ...   \n",
            "8       Kanha     Khiev  Female  ...                       5  2012-07-11   \n",
            "9      Chenda      Peou    Male  ...                       1  2015-05-04   \n",
            "\n",
            "   Termination date  \n",
            "0               NaN  \n",
            "1               NaN  \n",
            "..              ...  \n",
            "8               NaN  \n",
            "9        2023-05-24  \n",
            "\n",
            "[10 rows x 10 columns]\n"
          ]
        }
      ],
      "source": [
        "pd.set_option('display.max_columns', 7)\n",
        "pd.set_option('display.max_rows', 5)\n",
        "\n",
        "df = pd.read_csv(datapath)\n",
        "\n",
        "print(df)"
      ]
    },
    {
      "cell_type": "markdown",
      "metadata": {
        "id": "VYQdJJ35ht9D"
      },
      "source": [
        "### Read json\n",
        "\n",
        "Big data sets are often stored, or extracted as JSON.\n",
        "\n",
        "JSON is plain text, but has the format of an object, and is well known in the world of programming, including Pandas."
      ]
    },
    {
      "cell_type": "code",
      "execution_count": 36,
      "metadata": {
        "id": "DcsKHuhTh_uB"
      },
      "outputs": [
        {
          "name": "stdout",
          "output_type": "stream",
          "text": [
            "  First name Last name  Gender    Position  Department Employee level  Performance score  Employment satisfaction  Hired date Termination date\n",
            "0      Pisey     Chann  Female  Supervisor          HR         Senior                 67                        2  2015-03-12              NaN\n",
            "1      Phary       Him    Male     Manager   Marketing           Lead                 70                        5  2016-08-23              NaN\n",
            "2    Rachana     Chhay  Female    Engineer   Marketing         Junior                 77                        2  2018-05-06              NaN\n",
            "3  Sreyneang      Neou    Male       Clerk          HR            Mid                 94                        2  2017-09-13              NaN\n",
            "4        Sok      Khun    Male       Clerk       Sales         Junior                 88                        1  2019-11-08              NaN\n",
            "5      Kosal       Lim    Male       Clerk   Marketing           Lead                 57                        4  2011-04-27              NaN\n",
            "6      Bopha    Chhuon    Male  Technician   Marketing         Senior                 64                        2  2013-06-14              NaN\n",
            "7     Sothea     Chhay  Female  Supervisor          HR         Senior                 58                        4  2020-01-20              NaN\n",
            "8      Kanha     Khiev  Female       Clerk  Operations           Lead                 70                        5  2012-07-11              NaN\n",
            "9     Chenda      Peou    Male     Manager  Operations         Junior                 59                        1  2015-05-04       2023-05-24\n"
          ]
        }
      ],
      "source": [
        "# df = pd.read_json('data.json')\n",
        "\n",
        "print(df.to_string())"
      ]
    },
    {
      "cell_type": "markdown",
      "metadata": {
        "id": "A6ynGT-LijaN"
      },
      "source": [
        "# Analyzing DataFrames\n",
        "### Viewing the Data\n",
        "using head(), tail(), describe(), columns...\n",
        "\n",
        "\n",
        "> using titanic.csv\n",
        "\n"
      ]
    },
    {
      "cell_type": "code",
      "execution_count": 38,
      "metadata": {
        "id": "_HHA42WTjY06"
      },
      "outputs": [
        {
          "data": {
            "text/html": [
              "<div>\n",
              "<style scoped>\n",
              "    .dataframe tbody tr th:only-of-type {\n",
              "        vertical-align: middle;\n",
              "    }\n",
              "\n",
              "    .dataframe tbody tr th {\n",
              "        vertical-align: top;\n",
              "    }\n",
              "\n",
              "    .dataframe thead th {\n",
              "        text-align: right;\n",
              "    }\n",
              "</style>\n",
              "<table border=\"1\" class=\"dataframe\">\n",
              "  <thead>\n",
              "    <tr style=\"text-align: right;\">\n",
              "      <th></th>\n",
              "      <th>Performance score</th>\n",
              "      <th>Employment satisfaction</th>\n",
              "    </tr>\n",
              "  </thead>\n",
              "  <tbody>\n",
              "    <tr>\n",
              "      <th>count</th>\n",
              "      <td>10.000000</td>\n",
              "      <td>10.000000</td>\n",
              "    </tr>\n",
              "    <tr>\n",
              "      <th>mean</th>\n",
              "      <td>70.400000</td>\n",
              "      <td>2.800000</td>\n",
              "    </tr>\n",
              "    <tr>\n",
              "      <th>std</th>\n",
              "      <td>12.589237</td>\n",
              "      <td>1.549193</td>\n",
              "    </tr>\n",
              "    <tr>\n",
              "      <th>min</th>\n",
              "      <td>57.000000</td>\n",
              "      <td>1.000000</td>\n",
              "    </tr>\n",
              "    <tr>\n",
              "      <th>25%</th>\n",
              "      <td>60.250000</td>\n",
              "      <td>2.000000</td>\n",
              "    </tr>\n",
              "    <tr>\n",
              "      <th>50%</th>\n",
              "      <td>68.500000</td>\n",
              "      <td>2.000000</td>\n",
              "    </tr>\n",
              "    <tr>\n",
              "      <th>75%</th>\n",
              "      <td>75.250000</td>\n",
              "      <td>4.000000</td>\n",
              "    </tr>\n",
              "    <tr>\n",
              "      <th>max</th>\n",
              "      <td>94.000000</td>\n",
              "      <td>5.000000</td>\n",
              "    </tr>\n",
              "  </tbody>\n",
              "</table>\n",
              "</div>"
            ],
            "text/plain": [
              "       Performance score  Employment satisfaction\n",
              "count          10.000000                10.000000\n",
              "mean           70.400000                 2.800000\n",
              "std            12.589237                 1.549193\n",
              "min            57.000000                 1.000000\n",
              "25%            60.250000                 2.000000\n",
              "50%            68.500000                 2.000000\n",
              "75%            75.250000                 4.000000\n",
              "max            94.000000                 5.000000"
            ]
          },
          "execution_count": 38,
          "metadata": {},
          "output_type": "execute_result"
        }
      ],
      "source": [
        "pd.options.display.max_rows = 999\n",
        "pd.options.display.max_columns = 20\n",
        "\n",
        "# Describe features\n",
        "# We can use .describe() to extract some standard details about our numerical features.\n",
        "df.describe()"
      ]
    },
    {
      "cell_type": "code",
      "execution_count": 39,
      "metadata": {
        "id": "hu22LwIzkU7j"
      },
      "outputs": [
        {
          "name": "stdout",
          "output_type": "stream",
          "text": [
            "<class 'pandas.core.frame.DataFrame'>\n",
            "RangeIndex: 10 entries, 0 to 9\n",
            "Data columns (total 10 columns):\n",
            " #   Column                   Non-Null Count  Dtype \n",
            "---  ------                   --------------  ----- \n",
            " 0   First name               10 non-null     object\n",
            " 1   Last name                10 non-null     object\n",
            " 2   Gender                   10 non-null     object\n",
            " 3   Position                 10 non-null     object\n",
            " 4   Department               10 non-null     object\n",
            " 5   Employee level           10 non-null     object\n",
            " 6   Performance score        10 non-null     int64 \n",
            " 7   Employment satisfaction  10 non-null     int64 \n",
            " 8   Hired date               10 non-null     object\n",
            " 9   Termination date         1 non-null      object\n",
            "dtypes: int64(2), object(8)\n",
            "memory usage: 928.0+ bytes\n"
          ]
        }
      ],
      "source": [
        "#The DataFrames object has a method called info(), that gives you more information about the data set.\n",
        "df.info()"
      ]
    },
    {
      "cell_type": "code",
      "execution_count": 45,
      "metadata": {
        "id": "BR-zxQhvlckd"
      },
      "outputs": [
        {
          "data": {
            "text/html": [
              "<div>\n",
              "<style scoped>\n",
              "    .dataframe tbody tr th:only-of-type {\n",
              "        vertical-align: middle;\n",
              "    }\n",
              "\n",
              "    .dataframe tbody tr th {\n",
              "        vertical-align: top;\n",
              "    }\n",
              "\n",
              "    .dataframe thead th {\n",
              "        text-align: right;\n",
              "    }\n",
              "</style>\n",
              "<table border=\"1\" class=\"dataframe\">\n",
              "  <thead>\n",
              "    <tr style=\"text-align: right;\">\n",
              "      <th></th>\n",
              "      <th>First name</th>\n",
              "      <th>Last name</th>\n",
              "      <th>Gender</th>\n",
              "      <th>Position</th>\n",
              "      <th>Department</th>\n",
              "      <th>Employee level</th>\n",
              "      <th>Performance score</th>\n",
              "      <th>Employment satisfaction</th>\n",
              "      <th>Hired date</th>\n",
              "      <th>Termination date</th>\n",
              "    </tr>\n",
              "  </thead>\n",
              "  <tbody>\n",
              "    <tr>\n",
              "      <th>0</th>\n",
              "      <td>Pisey</td>\n",
              "      <td>Chann</td>\n",
              "      <td>Female</td>\n",
              "      <td>Supervisor</td>\n",
              "      <td>HR</td>\n",
              "      <td>Senior</td>\n",
              "      <td>67</td>\n",
              "      <td>2</td>\n",
              "      <td>2015-03-12</td>\n",
              "      <td>NaN</td>\n",
              "    </tr>\n",
              "    <tr>\n",
              "      <th>1</th>\n",
              "      <td>Phary</td>\n",
              "      <td>Him</td>\n",
              "      <td>Male</td>\n",
              "      <td>Manager</td>\n",
              "      <td>Marketing</td>\n",
              "      <td>Lead</td>\n",
              "      <td>70</td>\n",
              "      <td>5</td>\n",
              "      <td>2016-08-23</td>\n",
              "      <td>NaN</td>\n",
              "    </tr>\n",
              "    <tr>\n",
              "      <th>2</th>\n",
              "      <td>Rachana</td>\n",
              "      <td>Chhay</td>\n",
              "      <td>Female</td>\n",
              "      <td>Engineer</td>\n",
              "      <td>Marketing</td>\n",
              "      <td>Junior</td>\n",
              "      <td>77</td>\n",
              "      <td>2</td>\n",
              "      <td>2018-05-06</td>\n",
              "      <td>NaN</td>\n",
              "    </tr>\n",
              "    <tr>\n",
              "      <th>3</th>\n",
              "      <td>Sreyneang</td>\n",
              "      <td>Neou</td>\n",
              "      <td>Male</td>\n",
              "      <td>Clerk</td>\n",
              "      <td>HR</td>\n",
              "      <td>Mid</td>\n",
              "      <td>94</td>\n",
              "      <td>2</td>\n",
              "      <td>2017-09-13</td>\n",
              "      <td>NaN</td>\n",
              "    </tr>\n",
              "    <tr>\n",
              "      <th>4</th>\n",
              "      <td>Sok</td>\n",
              "      <td>Khun</td>\n",
              "      <td>Male</td>\n",
              "      <td>Clerk</td>\n",
              "      <td>Sales</td>\n",
              "      <td>Junior</td>\n",
              "      <td>88</td>\n",
              "      <td>1</td>\n",
              "      <td>2019-11-08</td>\n",
              "      <td>NaN</td>\n",
              "    </tr>\n",
              "    <tr>\n",
              "      <th>5</th>\n",
              "      <td>Kosal</td>\n",
              "      <td>Lim</td>\n",
              "      <td>Male</td>\n",
              "      <td>Clerk</td>\n",
              "      <td>Marketing</td>\n",
              "      <td>Lead</td>\n",
              "      <td>57</td>\n",
              "      <td>4</td>\n",
              "      <td>2011-04-27</td>\n",
              "      <td>NaN</td>\n",
              "    </tr>\n",
              "    <tr>\n",
              "      <th>6</th>\n",
              "      <td>Bopha</td>\n",
              "      <td>Chhuon</td>\n",
              "      <td>Male</td>\n",
              "      <td>Technician</td>\n",
              "      <td>Marketing</td>\n",
              "      <td>Senior</td>\n",
              "      <td>64</td>\n",
              "      <td>2</td>\n",
              "      <td>2013-06-14</td>\n",
              "      <td>NaN</td>\n",
              "    </tr>\n",
              "    <tr>\n",
              "      <th>7</th>\n",
              "      <td>Sothea</td>\n",
              "      <td>Chhay</td>\n",
              "      <td>Female</td>\n",
              "      <td>Supervisor</td>\n",
              "      <td>HR</td>\n",
              "      <td>Senior</td>\n",
              "      <td>58</td>\n",
              "      <td>4</td>\n",
              "      <td>2020-01-20</td>\n",
              "      <td>NaN</td>\n",
              "    </tr>\n",
              "    <tr>\n",
              "      <th>8</th>\n",
              "      <td>Kanha</td>\n",
              "      <td>Khiev</td>\n",
              "      <td>Female</td>\n",
              "      <td>Clerk</td>\n",
              "      <td>Operations</td>\n",
              "      <td>Lead</td>\n",
              "      <td>70</td>\n",
              "      <td>5</td>\n",
              "      <td>2012-07-11</td>\n",
              "      <td>NaN</td>\n",
              "    </tr>\n",
              "    <tr>\n",
              "      <th>9</th>\n",
              "      <td>Chenda</td>\n",
              "      <td>Peou</td>\n",
              "      <td>Male</td>\n",
              "      <td>Manager</td>\n",
              "      <td>Operations</td>\n",
              "      <td>Junior</td>\n",
              "      <td>59</td>\n",
              "      <td>1</td>\n",
              "      <td>2015-05-04</td>\n",
              "      <td>2023-05-24</td>\n",
              "    </tr>\n",
              "  </tbody>\n",
              "</table>\n",
              "</div>"
            ],
            "text/plain": [
              "  First name Last name  Gender    Position  Department Employee level  \\\n",
              "0      Pisey     Chann  Female  Supervisor          HR         Senior   \n",
              "1      Phary       Him    Male     Manager   Marketing           Lead   \n",
              "2    Rachana     Chhay  Female    Engineer   Marketing         Junior   \n",
              "3  Sreyneang      Neou    Male       Clerk          HR            Mid   \n",
              "4        Sok      Khun    Male       Clerk       Sales         Junior   \n",
              "5      Kosal       Lim    Male       Clerk   Marketing           Lead   \n",
              "6      Bopha    Chhuon    Male  Technician   Marketing         Senior   \n",
              "7     Sothea     Chhay  Female  Supervisor          HR         Senior   \n",
              "8      Kanha     Khiev  Female       Clerk  Operations           Lead   \n",
              "9     Chenda      Peou    Male     Manager  Operations         Junior   \n",
              "\n",
              "   Performance score  Employment satisfaction  Hired date Termination date  \n",
              "0                 67                        2  2015-03-12              NaN  \n",
              "1                 70                        5  2016-08-23              NaN  \n",
              "2                 77                        2  2018-05-06              NaN  \n",
              "3                 94                        2  2017-09-13              NaN  \n",
              "4                 88                        1  2019-11-08              NaN  \n",
              "5                 57                        4  2011-04-27              NaN  \n",
              "6                 64                        2  2013-06-14              NaN  \n",
              "7                 58                        4  2020-01-20              NaN  \n",
              "8                 70                        5  2012-07-11              NaN  \n",
              "9                 59                        1  2015-05-04       2023-05-24  "
            ]
          },
          "execution_count": 45,
          "metadata": {},
          "output_type": "execute_result"
        }
      ],
      "source": [
        "df.head(10)"
      ]
    },
    {
      "cell_type": "code",
      "execution_count": 48,
      "metadata": {
        "id": "UPNcp_WuldPd"
      },
      "outputs": [
        {
          "data": {
            "text/html": [
              "<div>\n",
              "<style scoped>\n",
              "    .dataframe tbody tr th:only-of-type {\n",
              "        vertical-align: middle;\n",
              "    }\n",
              "\n",
              "    .dataframe tbody tr th {\n",
              "        vertical-align: top;\n",
              "    }\n",
              "\n",
              "    .dataframe thead th {\n",
              "        text-align: right;\n",
              "    }\n",
              "</style>\n",
              "<table border=\"1\" class=\"dataframe\">\n",
              "  <thead>\n",
              "    <tr style=\"text-align: right;\">\n",
              "      <th></th>\n",
              "      <th>First name</th>\n",
              "      <th>Last name</th>\n",
              "      <th>Gender</th>\n",
              "      <th>Position</th>\n",
              "      <th>Department</th>\n",
              "      <th>Employee level</th>\n",
              "      <th>Performance score</th>\n",
              "      <th>Employment satisfaction</th>\n",
              "      <th>Hired date</th>\n",
              "      <th>Termination date</th>\n",
              "    </tr>\n",
              "  </thead>\n",
              "  <tbody>\n",
              "    <tr>\n",
              "      <th>0</th>\n",
              "      <td>Pisey</td>\n",
              "      <td>Chann</td>\n",
              "      <td>Female</td>\n",
              "      <td>Supervisor</td>\n",
              "      <td>HR</td>\n",
              "      <td>Senior</td>\n",
              "      <td>67</td>\n",
              "      <td>2</td>\n",
              "      <td>2015-03-12</td>\n",
              "      <td>NaN</td>\n",
              "    </tr>\n",
              "    <tr>\n",
              "      <th>1</th>\n",
              "      <td>Phary</td>\n",
              "      <td>Him</td>\n",
              "      <td>Male</td>\n",
              "      <td>Manager</td>\n",
              "      <td>Marketing</td>\n",
              "      <td>Lead</td>\n",
              "      <td>70</td>\n",
              "      <td>5</td>\n",
              "      <td>2016-08-23</td>\n",
              "      <td>NaN</td>\n",
              "    </tr>\n",
              "    <tr>\n",
              "      <th>2</th>\n",
              "      <td>Rachana</td>\n",
              "      <td>Chhay</td>\n",
              "      <td>Female</td>\n",
              "      <td>Engineer</td>\n",
              "      <td>Marketing</td>\n",
              "      <td>Junior</td>\n",
              "      <td>77</td>\n",
              "      <td>2</td>\n",
              "      <td>2018-05-06</td>\n",
              "      <td>NaN</td>\n",
              "    </tr>\n",
              "    <tr>\n",
              "      <th>3</th>\n",
              "      <td>Sreyneang</td>\n",
              "      <td>Neou</td>\n",
              "      <td>Male</td>\n",
              "      <td>Clerk</td>\n",
              "      <td>HR</td>\n",
              "      <td>Mid</td>\n",
              "      <td>94</td>\n",
              "      <td>2</td>\n",
              "      <td>2017-09-13</td>\n",
              "      <td>NaN</td>\n",
              "    </tr>\n",
              "    <tr>\n",
              "      <th>4</th>\n",
              "      <td>Sok</td>\n",
              "      <td>Khun</td>\n",
              "      <td>Male</td>\n",
              "      <td>Clerk</td>\n",
              "      <td>Sales</td>\n",
              "      <td>Junior</td>\n",
              "      <td>88</td>\n",
              "      <td>1</td>\n",
              "      <td>2019-11-08</td>\n",
              "      <td>NaN</td>\n",
              "    </tr>\n",
              "    <tr>\n",
              "      <th>5</th>\n",
              "      <td>Kosal</td>\n",
              "      <td>Lim</td>\n",
              "      <td>Male</td>\n",
              "      <td>Clerk</td>\n",
              "      <td>Marketing</td>\n",
              "      <td>Lead</td>\n",
              "      <td>57</td>\n",
              "      <td>4</td>\n",
              "      <td>2011-04-27</td>\n",
              "      <td>NaN</td>\n",
              "    </tr>\n",
              "    <tr>\n",
              "      <th>6</th>\n",
              "      <td>Bopha</td>\n",
              "      <td>Chhuon</td>\n",
              "      <td>Male</td>\n",
              "      <td>Technician</td>\n",
              "      <td>Marketing</td>\n",
              "      <td>Senior</td>\n",
              "      <td>64</td>\n",
              "      <td>2</td>\n",
              "      <td>2013-06-14</td>\n",
              "      <td>NaN</td>\n",
              "    </tr>\n",
              "    <tr>\n",
              "      <th>7</th>\n",
              "      <td>Sothea</td>\n",
              "      <td>Chhay</td>\n",
              "      <td>Female</td>\n",
              "      <td>Supervisor</td>\n",
              "      <td>HR</td>\n",
              "      <td>Senior</td>\n",
              "      <td>58</td>\n",
              "      <td>4</td>\n",
              "      <td>2020-01-20</td>\n",
              "      <td>NaN</td>\n",
              "    </tr>\n",
              "    <tr>\n",
              "      <th>8</th>\n",
              "      <td>Kanha</td>\n",
              "      <td>Khiev</td>\n",
              "      <td>Female</td>\n",
              "      <td>Clerk</td>\n",
              "      <td>Operations</td>\n",
              "      <td>Lead</td>\n",
              "      <td>70</td>\n",
              "      <td>5</td>\n",
              "      <td>2012-07-11</td>\n",
              "      <td>NaN</td>\n",
              "    </tr>\n",
              "    <tr>\n",
              "      <th>9</th>\n",
              "      <td>Chenda</td>\n",
              "      <td>Peou</td>\n",
              "      <td>Male</td>\n",
              "      <td>Manager</td>\n",
              "      <td>Operations</td>\n",
              "      <td>Junior</td>\n",
              "      <td>59</td>\n",
              "      <td>1</td>\n",
              "      <td>2015-05-04</td>\n",
              "      <td>2023-05-24</td>\n",
              "    </tr>\n",
              "  </tbody>\n",
              "</table>\n",
              "</div>"
            ],
            "text/plain": [
              "  First name Last name  Gender    Position  Department Employee level  \\\n",
              "0      Pisey     Chann  Female  Supervisor          HR         Senior   \n",
              "1      Phary       Him    Male     Manager   Marketing           Lead   \n",
              "2    Rachana     Chhay  Female    Engineer   Marketing         Junior   \n",
              "3  Sreyneang      Neou    Male       Clerk          HR            Mid   \n",
              "4        Sok      Khun    Male       Clerk       Sales         Junior   \n",
              "5      Kosal       Lim    Male       Clerk   Marketing           Lead   \n",
              "6      Bopha    Chhuon    Male  Technician   Marketing         Senior   \n",
              "7     Sothea     Chhay  Female  Supervisor          HR         Senior   \n",
              "8      Kanha     Khiev  Female       Clerk  Operations           Lead   \n",
              "9     Chenda      Peou    Male     Manager  Operations         Junior   \n",
              "\n",
              "   Performance score  Employment satisfaction  Hired date Termination date  \n",
              "0                 67                        2  2015-03-12              NaN  \n",
              "1                 70                        5  2016-08-23              NaN  \n",
              "2                 77                        2  2018-05-06              NaN  \n",
              "3                 94                        2  2017-09-13              NaN  \n",
              "4                 88                        1  2019-11-08              NaN  \n",
              "5                 57                        4  2011-04-27              NaN  \n",
              "6                 64                        2  2013-06-14              NaN  \n",
              "7                 58                        4  2020-01-20              NaN  \n",
              "8                 70                        5  2012-07-11              NaN  \n",
              "9                 59                        1  2015-05-04       2023-05-24  "
            ]
          },
          "execution_count": 48,
          "metadata": {},
          "output_type": "execute_result"
        }
      ],
      "source": [
        "df.tail(12)"
      ]
    },
    {
      "cell_type": "code",
      "execution_count": 52,
      "metadata": {},
      "outputs": [
        {
          "data": {
            "text/html": [
              "<div>\n",
              "<style scoped>\n",
              "    .dataframe tbody tr th:only-of-type {\n",
              "        vertical-align: middle;\n",
              "    }\n",
              "\n",
              "    .dataframe tbody tr th {\n",
              "        vertical-align: top;\n",
              "    }\n",
              "\n",
              "    .dataframe thead th {\n",
              "        text-align: right;\n",
              "    }\n",
              "</style>\n",
              "<table border=\"1\" class=\"dataframe\">\n",
              "  <thead>\n",
              "    <tr style=\"text-align: right;\">\n",
              "      <th></th>\n",
              "      <th>First name</th>\n",
              "      <th>Last name</th>\n",
              "      <th>Gender</th>\n",
              "      <th>Position</th>\n",
              "      <th>Department</th>\n",
              "      <th>Employee level</th>\n",
              "      <th>Performance score</th>\n",
              "      <th>Employment satisfaction</th>\n",
              "      <th>Hired date</th>\n",
              "      <th>Termination date</th>\n",
              "    </tr>\n",
              "  </thead>\n",
              "  <tbody>\n",
              "    <tr>\n",
              "      <th>5</th>\n",
              "      <td>Kosal</td>\n",
              "      <td>Lim</td>\n",
              "      <td>Male</td>\n",
              "      <td>Clerk</td>\n",
              "      <td>Marketing</td>\n",
              "      <td>Lead</td>\n",
              "      <td>57</td>\n",
              "      <td>4</td>\n",
              "      <td>2011-04-27</td>\n",
              "      <td>NaN</td>\n",
              "    </tr>\n",
              "    <tr>\n",
              "      <th>8</th>\n",
              "      <td>Kanha</td>\n",
              "      <td>Khiev</td>\n",
              "      <td>Female</td>\n",
              "      <td>Clerk</td>\n",
              "      <td>Operations</td>\n",
              "      <td>Lead</td>\n",
              "      <td>70</td>\n",
              "      <td>5</td>\n",
              "      <td>2012-07-11</td>\n",
              "      <td>NaN</td>\n",
              "    </tr>\n",
              "    <tr>\n",
              "      <th>7</th>\n",
              "      <td>Sothea</td>\n",
              "      <td>Chhay</td>\n",
              "      <td>Female</td>\n",
              "      <td>Supervisor</td>\n",
              "      <td>HR</td>\n",
              "      <td>Senior</td>\n",
              "      <td>58</td>\n",
              "      <td>4</td>\n",
              "      <td>2020-01-20</td>\n",
              "      <td>NaN</td>\n",
              "    </tr>\n",
              "    <tr>\n",
              "      <th>4</th>\n",
              "      <td>Sok</td>\n",
              "      <td>Khun</td>\n",
              "      <td>Male</td>\n",
              "      <td>Clerk</td>\n",
              "      <td>Sales</td>\n",
              "      <td>Junior</td>\n",
              "      <td>88</td>\n",
              "      <td>1</td>\n",
              "      <td>2019-11-08</td>\n",
              "      <td>NaN</td>\n",
              "    </tr>\n",
              "    <tr>\n",
              "      <th>3</th>\n",
              "      <td>Sreyneang</td>\n",
              "      <td>Neou</td>\n",
              "      <td>Male</td>\n",
              "      <td>Clerk</td>\n",
              "      <td>HR</td>\n",
              "      <td>Mid</td>\n",
              "      <td>94</td>\n",
              "      <td>2</td>\n",
              "      <td>2017-09-13</td>\n",
              "      <td>NaN</td>\n",
              "    </tr>\n",
              "  </tbody>\n",
              "</table>\n",
              "</div>"
            ],
            "text/plain": [
              "  First name Last name  Gender    Position  Department Employee level  \\\n",
              "5      Kosal       Lim    Male       Clerk   Marketing           Lead   \n",
              "8      Kanha     Khiev  Female       Clerk  Operations           Lead   \n",
              "7     Sothea     Chhay  Female  Supervisor          HR         Senior   \n",
              "4        Sok      Khun    Male       Clerk       Sales         Junior   \n",
              "3  Sreyneang      Neou    Male       Clerk          HR            Mid   \n",
              "\n",
              "   Performance score  Employment satisfaction  Hired date Termination date  \n",
              "5                 57                        4  2011-04-27              NaN  \n",
              "8                 70                        5  2012-07-11              NaN  \n",
              "7                 58                        4  2020-01-20              NaN  \n",
              "4                 88                        1  2019-11-08              NaN  \n",
              "3                 94                        2  2017-09-13              NaN  "
            ]
          },
          "execution_count": 52,
          "metadata": {},
          "output_type": "execute_result"
        }
      ],
      "source": [
        "df.sample(5)"
      ]
    },
    {
      "cell_type": "code",
      "execution_count": 60,
      "metadata": {},
      "outputs": [
        {
          "name": "stdout",
          "output_type": "stream",
          "text": [
            "Index(['First_name', 'Last_name', 'Gender', 'Position', 'Department', 'Level',\n",
            "       'Performance_score', 'Employment_satisfaction', 'Hired_date',\n",
            "       'Termination_date'],\n",
            "      dtype='object')\n",
            "Index(['First_name', 'Last_name', 'Gender', 'Position', 'Department', 'Level',\n",
            "       'Performance_score', 'Employment_satisfaction', 'Hired_date',\n",
            "       'Termination_date'],\n",
            "      dtype='object')\n"
          ]
        }
      ],
      "source": [
        "# Rename columns\n",
        "df.rename(columns = {'Employee_level':'Level'}, inplace = True, errors='raise')\n",
        "print(df.columns)\n",
        "\n",
        "# Rename columns name with spaces to underscore\n",
        "df.columns = df.columns.str.replace(' ', '_')\n",
        "print(df.columns)"
      ]
    },
    {
      "cell_type": "code",
      "execution_count": 65,
      "metadata": {},
      "outputs": [
        {
          "data": {
            "text/plain": [
              "0    2015-03-12\n",
              "1    2016-08-23\n",
              "2    2018-05-06\n",
              "3    2017-09-13\n",
              "4    2019-11-08\n",
              "Name: Hired_date, dtype: object"
            ]
          },
          "execution_count": 65,
          "metadata": {},
          "output_type": "execute_result"
        }
      ],
      "source": [
        "df[\"Hired_date\"].head()"
      ]
    },
    {
      "cell_type": "markdown",
      "metadata": {
        "id": "QQb7q-pllBX9"
      },
      "source": [
        "### Filtering dataframes"
      ]
    },
    {
      "cell_type": "code",
      "execution_count": 64,
      "metadata": {
        "id": "dtvorQeelSsp"
      },
      "outputs": [
        {
          "data": {
            "text/html": [
              "<div>\n",
              "<style scoped>\n",
              "    .dataframe tbody tr th:only-of-type {\n",
              "        vertical-align: middle;\n",
              "    }\n",
              "\n",
              "    .dataframe tbody tr th {\n",
              "        vertical-align: top;\n",
              "    }\n",
              "\n",
              "    .dataframe thead th {\n",
              "        text-align: right;\n",
              "    }\n",
              "</style>\n",
              "<table border=\"1\" class=\"dataframe\">\n",
              "  <thead>\n",
              "    <tr style=\"text-align: right;\">\n",
              "      <th></th>\n",
              "      <th>First_name</th>\n",
              "      <th>Last_name</th>\n",
              "    </tr>\n",
              "  </thead>\n",
              "  <tbody>\n",
              "    <tr>\n",
              "      <th>0</th>\n",
              "      <td>Pisey</td>\n",
              "      <td>Chann</td>\n",
              "    </tr>\n",
              "    <tr>\n",
              "      <th>1</th>\n",
              "      <td>Phary</td>\n",
              "      <td>Him</td>\n",
              "    </tr>\n",
              "    <tr>\n",
              "      <th>2</th>\n",
              "      <td>Rachana</td>\n",
              "      <td>Chhay</td>\n",
              "    </tr>\n",
              "    <tr>\n",
              "      <th>3</th>\n",
              "      <td>Sreyneang</td>\n",
              "      <td>Neou</td>\n",
              "    </tr>\n",
              "    <tr>\n",
              "      <th>4</th>\n",
              "      <td>Sok</td>\n",
              "      <td>Khun</td>\n",
              "    </tr>\n",
              "  </tbody>\n",
              "</table>\n",
              "</div>"
            ],
            "text/plain": [
              "  First_name Last_name\n",
              "0      Pisey     Chann\n",
              "1      Phary       Him\n",
              "2    Rachana     Chhay\n",
              "3  Sreyneang      Neou\n",
              "4        Sok      Khun"
            ]
          },
          "execution_count": 64,
          "metadata": {},
          "output_type": "execute_result"
        }
      ],
      "source": [
        "# Selecting data by feature\n",
        "df[[\"First_name\", 'Last_name']].head()"
      ]
    },
    {
      "cell_type": "code",
      "execution_count": 51,
      "metadata": {
        "id": "zTCz1-XmlhsD"
      },
      "outputs": [
        {
          "data": {
            "text/html": [
              "<div>\n",
              "<style scoped>\n",
              "    .dataframe tbody tr th:only-of-type {\n",
              "        vertical-align: middle;\n",
              "    }\n",
              "\n",
              "    .dataframe tbody tr th {\n",
              "        vertical-align: top;\n",
              "    }\n",
              "\n",
              "    .dataframe thead th {\n",
              "        text-align: right;\n",
              "    }\n",
              "</style>\n",
              "<table border=\"1\" class=\"dataframe\">\n",
              "  <thead>\n",
              "    <tr style=\"text-align: right;\">\n",
              "      <th></th>\n",
              "      <th>First name</th>\n",
              "      <th>Last name</th>\n",
              "      <th>Gender</th>\n",
              "      <th>Position</th>\n",
              "      <th>Department</th>\n",
              "      <th>Employee level</th>\n",
              "      <th>Performance score</th>\n",
              "      <th>Employment satisfaction</th>\n",
              "      <th>Hired date</th>\n",
              "      <th>Termination date</th>\n",
              "    </tr>\n",
              "  </thead>\n",
              "  <tbody>\n",
              "    <tr>\n",
              "      <th>1</th>\n",
              "      <td>Phary</td>\n",
              "      <td>Him</td>\n",
              "      <td>Male</td>\n",
              "      <td>Manager</td>\n",
              "      <td>Marketing</td>\n",
              "      <td>Lead</td>\n",
              "      <td>70</td>\n",
              "      <td>5</td>\n",
              "      <td>2016-08-23</td>\n",
              "      <td>NaN</td>\n",
              "    </tr>\n",
              "    <tr>\n",
              "      <th>9</th>\n",
              "      <td>Chenda</td>\n",
              "      <td>Peou</td>\n",
              "      <td>Male</td>\n",
              "      <td>Manager</td>\n",
              "      <td>Operations</td>\n",
              "      <td>Junior</td>\n",
              "      <td>59</td>\n",
              "      <td>1</td>\n",
              "      <td>2015-05-04</td>\n",
              "      <td>2023-05-24</td>\n",
              "    </tr>\n",
              "  </tbody>\n",
              "</table>\n",
              "</div>"
            ],
            "text/plain": [
              "  First name Last name Gender Position  Department Employee level  \\\n",
              "1      Phary       Him   Male  Manager   Marketing           Lead   \n",
              "9     Chenda      Peou   Male  Manager  Operations         Junior   \n",
              "\n",
              "   Performance score  Employment satisfaction  Hired date Termination date  \n",
              "1                 70                        5  2016-08-23              NaN  \n",
              "9                 59                        1  2015-05-04       2023-05-24  "
            ]
          },
          "execution_count": 51,
          "metadata": {},
          "output_type": "execute_result"
        }
      ],
      "source": [
        "# Filtering\n",
        "df[df[\"Position\"]==\"Manager\"].head() # only the female data appear"
      ]
    },
    {
      "cell_type": "markdown",
      "metadata": {
        "id": "EWjLDk7El2ki"
      },
      "source": [
        "### Sorting\n",
        "We can also sort our features in ascending or descending order."
      ]
    },
    {
      "cell_type": "code",
      "execution_count": 62,
      "metadata": {
        "id": "XuaPgBcBl6-o"
      },
      "outputs": [
        {
          "data": {
            "text/html": [
              "<div>\n",
              "<style scoped>\n",
              "    .dataframe tbody tr th:only-of-type {\n",
              "        vertical-align: middle;\n",
              "    }\n",
              "\n",
              "    .dataframe tbody tr th {\n",
              "        vertical-align: top;\n",
              "    }\n",
              "\n",
              "    .dataframe thead th {\n",
              "        text-align: right;\n",
              "    }\n",
              "</style>\n",
              "<table border=\"1\" class=\"dataframe\">\n",
              "  <thead>\n",
              "    <tr style=\"text-align: right;\">\n",
              "      <th></th>\n",
              "      <th>First_name</th>\n",
              "      <th>Last_name</th>\n",
              "      <th>Gender</th>\n",
              "      <th>Position</th>\n",
              "      <th>Department</th>\n",
              "      <th>Level</th>\n",
              "      <th>Performance_score</th>\n",
              "      <th>Employment_satisfaction</th>\n",
              "      <th>Hired_date</th>\n",
              "      <th>Termination_date</th>\n",
              "    </tr>\n",
              "  </thead>\n",
              "  <tbody>\n",
              "    <tr>\n",
              "      <th>3</th>\n",
              "      <td>Sreyneang</td>\n",
              "      <td>Neou</td>\n",
              "      <td>Male</td>\n",
              "      <td>Clerk</td>\n",
              "      <td>HR</td>\n",
              "      <td>Mid</td>\n",
              "      <td>94</td>\n",
              "      <td>2</td>\n",
              "      <td>2017-09-13</td>\n",
              "      <td>NaN</td>\n",
              "    </tr>\n",
              "    <tr>\n",
              "      <th>4</th>\n",
              "      <td>Sok</td>\n",
              "      <td>Khun</td>\n",
              "      <td>Male</td>\n",
              "      <td>Clerk</td>\n",
              "      <td>Sales</td>\n",
              "      <td>Junior</td>\n",
              "      <td>88</td>\n",
              "      <td>1</td>\n",
              "      <td>2019-11-08</td>\n",
              "      <td>NaN</td>\n",
              "    </tr>\n",
              "    <tr>\n",
              "      <th>2</th>\n",
              "      <td>Rachana</td>\n",
              "      <td>Chhay</td>\n",
              "      <td>Female</td>\n",
              "      <td>Engineer</td>\n",
              "      <td>Marketing</td>\n",
              "      <td>Junior</td>\n",
              "      <td>77</td>\n",
              "      <td>2</td>\n",
              "      <td>2018-05-06</td>\n",
              "      <td>NaN</td>\n",
              "    </tr>\n",
              "    <tr>\n",
              "      <th>1</th>\n",
              "      <td>Phary</td>\n",
              "      <td>Him</td>\n",
              "      <td>Male</td>\n",
              "      <td>Manager</td>\n",
              "      <td>Marketing</td>\n",
              "      <td>Lead</td>\n",
              "      <td>70</td>\n",
              "      <td>5</td>\n",
              "      <td>2016-08-23</td>\n",
              "      <td>NaN</td>\n",
              "    </tr>\n",
              "    <tr>\n",
              "      <th>8</th>\n",
              "      <td>Kanha</td>\n",
              "      <td>Khiev</td>\n",
              "      <td>Female</td>\n",
              "      <td>Clerk</td>\n",
              "      <td>Operations</td>\n",
              "      <td>Lead</td>\n",
              "      <td>70</td>\n",
              "      <td>5</td>\n",
              "      <td>2012-07-11</td>\n",
              "      <td>NaN</td>\n",
              "    </tr>\n",
              "  </tbody>\n",
              "</table>\n",
              "</div>"
            ],
            "text/plain": [
              "  First_name Last_name  Gender  Position  Department   Level  \\\n",
              "3  Sreyneang      Neou    Male     Clerk          HR     Mid   \n",
              "4        Sok      Khun    Male     Clerk       Sales  Junior   \n",
              "2    Rachana     Chhay  Female  Engineer   Marketing  Junior   \n",
              "1      Phary       Him    Male   Manager   Marketing    Lead   \n",
              "8      Kanha     Khiev  Female     Clerk  Operations    Lead   \n",
              "\n",
              "   Performance_score  Employment_satisfaction  Hired_date Termination_date  \n",
              "3                 94                        2  2017-09-13              NaN  \n",
              "4                 88                        1  2019-11-08              NaN  \n",
              "2                 77                        2  2018-05-06              NaN  \n",
              "1                 70                        5  2016-08-23              NaN  \n",
              "8                 70                        5  2012-07-11              NaN  "
            ]
          },
          "execution_count": 62,
          "metadata": {},
          "output_type": "execute_result"
        }
      ],
      "source": [
        "# Sorting\n",
        "df.sort_values(\"Performance_score\", ascending=False).head()"
      ]
    },
    {
      "cell_type": "markdown",
      "metadata": {
        "id": "Mb0F68yampMM"
      },
      "source": [
        "### Grouping\n",
        "We can also get statistics across our features for certain groups. Here we wan to see the average of our continuous features based on whether the passenger survived or not."
      ]
    },
    {
      "cell_type": "code",
      "execution_count": 67,
      "metadata": {
        "id": "ssYi8y_4mv89"
      },
      "outputs": [
        {
          "name": "stdout",
          "output_type": "stream",
          "text": [
            "<pandas.core.groupby.generic.DataFrameGroupBy object at 0x7ff3f0787d00>\n"
          ]
        }
      ],
      "source": [
        "# Grouping\n",
        "survived_group = df.groupby(\"Employment_satisfaction\")\n",
        "print(survived_group)\n",
        "# survived_group.mean()"
      ]
    },
    {
      "cell_type": "markdown",
      "metadata": {
        "id": "wos4WAR5ubTX"
      },
      "source": [
        "#### Feature engineering\n",
        "We're now going to use feature engineering to create a column called family_size. We'll first define a function called get_family_size that will determine the family size using the number of parents and siblings."
      ]
    },
    {
      "cell_type": "code",
      "execution_count": 71,
      "metadata": {
        "id": "QfkjE7Ilukux"
      },
      "outputs": [],
      "source": [
        "# Lambda expressions to create new features\n",
        "def get_family_size(sibsp, parch):\n",
        "    family_size = sibsp+ ' ' + parch\n",
        "    return family_size"
      ]
    },
    {
      "cell_type": "code",
      "execution_count": 74,
      "metadata": {
        "id": "xtpGJTxGunqP"
      },
      "outputs": [
        {
          "name": "stdout",
          "output_type": "stream",
          "text": [
            "0       Pisey Chann\n",
            "1         Phary Him\n",
            "2     Rachana Chhay\n",
            "3    Sreyneang Neou\n",
            "4          Sok Khun\n",
            "5         Kosal Lim\n",
            "6      Bopha Chhuon\n",
            "7      Sothea Chhay\n",
            "8       Kanha Khiev\n",
            "9       Chenda Peou\n",
            "Name: Full_name, dtype: object\n"
          ]
        }
      ],
      "source": [
        "df[\"Full_name\"] = df[[\"First_name\", \"Last_name\"]].apply(lambda x: get_family_size(x[\"First_name\"], x[\"Last_name\"]), axis=1)\n",
        "# df.head()\n",
        "\n",
        "print(df[\"Full_name\"])"
      ]
    },
    {
      "cell_type": "markdown",
      "metadata": {
        "id": "JJQOEyh8my7F"
      },
      "source": [
        "# Data Cleaning\n",
        "Data cleaning means fixing bad data in your data set.\n",
        "\n",
        "Bad data could be:\n",
        "\n",
        "- Empty cells\n",
        "- Data in wrong format\n",
        "- Wrong data\n",
        "- Duplicates\n"
      ]
    },
    {
      "cell_type": "markdown",
      "metadata": {
        "id": "tmcLVi_Pn5js"
      },
      "source": [
        "### Empty Cells\n",
        "Empty cells can potentially give you a wrong result when you analyze data."
      ]
    },
    {
      "cell_type": "code",
      "execution_count": 75,
      "metadata": {
        "id": "61BZEWMUnbVD"
      },
      "outputs": [
        {
          "name": "stdout",
          "output_type": "stream",
          "text": [
            "  First name Last name Gender Position  Department Employee level  Performance score  Employment satisfaction  Hired date Termination date\n",
            "9     Chenda      Peou   Male  Manager  Operations         Junior                 59                        1  2015-05-04       2023-05-24\n"
          ]
        }
      ],
      "source": [
        "# Remove Rows\n",
        "df = pd.read_csv(datapath)\n",
        "\n",
        "new_df = df.dropna()\n",
        "\n",
        "print(new_df.to_string())"
      ]
    },
    {
      "cell_type": "code",
      "execution_count": 76,
      "metadata": {
        "id": "NHAV-MOmohTG"
      },
      "outputs": [
        {
          "name": "stdout",
          "output_type": "stream",
          "text": [
            "  First name Last name Gender Position  Department Employee level  Performance score  Employment satisfaction  Hired date Termination date\n",
            "9     Chenda      Peou   Male  Manager  Operations         Junior                 59                        1  2015-05-04       2023-05-24\n"
          ]
        }
      ],
      "source": [
        "#change the original DataFrame\n",
        "# df = pd.read_csv('data.csv')\n",
        "\n",
        "df.dropna(inplace = True)\n",
        "\n",
        "print(df.to_string())"
      ]
    },
    {
      "cell_type": "code",
      "execution_count": 77,
      "metadata": {
        "id": "0bismm0-oper"
      },
      "outputs": [],
      "source": [
        "#Replace NULL values with the number 130:\n",
        "\n",
        "df = pd.read_csv(datapath)\n",
        "\n",
        "df.fillna(130, inplace = True)"
      ]
    },
    {
      "cell_type": "code",
      "execution_count": 80,
      "metadata": {
        "id": "gnDaF9SdowDp"
      },
      "outputs": [
        {
          "data": {
            "text/html": [
              "<div>\n",
              "<style scoped>\n",
              "    .dataframe tbody tr th:only-of-type {\n",
              "        vertical-align: middle;\n",
              "    }\n",
              "\n",
              "    .dataframe tbody tr th {\n",
              "        vertical-align: top;\n",
              "    }\n",
              "\n",
              "    .dataframe thead th {\n",
              "        text-align: right;\n",
              "    }\n",
              "</style>\n",
              "<table border=\"1\" class=\"dataframe\">\n",
              "  <thead>\n",
              "    <tr style=\"text-align: right;\">\n",
              "      <th></th>\n",
              "      <th>First name</th>\n",
              "      <th>Last name</th>\n",
              "      <th>Gender</th>\n",
              "      <th>Position</th>\n",
              "      <th>Department</th>\n",
              "      <th>Employee level</th>\n",
              "      <th>Performance score</th>\n",
              "      <th>Employment satisfaction</th>\n",
              "      <th>Hired date</th>\n",
              "      <th>Termination date</th>\n",
              "    </tr>\n",
              "  </thead>\n",
              "  <tbody>\n",
              "    <tr>\n",
              "      <th>0</th>\n",
              "      <td>Pisey</td>\n",
              "      <td>Chann</td>\n",
              "      <td>Female</td>\n",
              "      <td>Supervisor</td>\n",
              "      <td>HR</td>\n",
              "      <td>Senior</td>\n",
              "      <td>67</td>\n",
              "      <td>2</td>\n",
              "      <td>2015-03-12</td>\n",
              "      <td>2023-05-24</td>\n",
              "    </tr>\n",
              "    <tr>\n",
              "      <th>1</th>\n",
              "      <td>Phary</td>\n",
              "      <td>Him</td>\n",
              "      <td>Male</td>\n",
              "      <td>Manager</td>\n",
              "      <td>Marketing</td>\n",
              "      <td>Lead</td>\n",
              "      <td>70</td>\n",
              "      <td>5</td>\n",
              "      <td>2016-08-23</td>\n",
              "      <td>2023-05-24</td>\n",
              "    </tr>\n",
              "    <tr>\n",
              "      <th>2</th>\n",
              "      <td>Rachana</td>\n",
              "      <td>Chhay</td>\n",
              "      <td>Female</td>\n",
              "      <td>Engineer</td>\n",
              "      <td>Marketing</td>\n",
              "      <td>Junior</td>\n",
              "      <td>77</td>\n",
              "      <td>2</td>\n",
              "      <td>2018-05-06</td>\n",
              "      <td>2023-05-24</td>\n",
              "    </tr>\n",
              "    <tr>\n",
              "      <th>3</th>\n",
              "      <td>Sreyneang</td>\n",
              "      <td>Neou</td>\n",
              "      <td>Male</td>\n",
              "      <td>Clerk</td>\n",
              "      <td>HR</td>\n",
              "      <td>Mid</td>\n",
              "      <td>94</td>\n",
              "      <td>2</td>\n",
              "      <td>2017-09-13</td>\n",
              "      <td>2023-05-24</td>\n",
              "    </tr>\n",
              "    <tr>\n",
              "      <th>4</th>\n",
              "      <td>Sok</td>\n",
              "      <td>Khun</td>\n",
              "      <td>Male</td>\n",
              "      <td>Clerk</td>\n",
              "      <td>Sales</td>\n",
              "      <td>Junior</td>\n",
              "      <td>88</td>\n",
              "      <td>1</td>\n",
              "      <td>2019-11-08</td>\n",
              "      <td>2023-05-24</td>\n",
              "    </tr>\n",
              "  </tbody>\n",
              "</table>\n",
              "</div>"
            ],
            "text/plain": [
              "  First name Last name  Gender    Position Department Employee level  \\\n",
              "0      Pisey     Chann  Female  Supervisor         HR         Senior   \n",
              "1      Phary       Him    Male     Manager  Marketing           Lead   \n",
              "2    Rachana     Chhay  Female    Engineer  Marketing         Junior   \n",
              "3  Sreyneang      Neou    Male       Clerk         HR            Mid   \n",
              "4        Sok      Khun    Male       Clerk      Sales         Junior   \n",
              "\n",
              "   Performance score  Employment satisfaction  Hired date Termination date  \n",
              "0                 67                        2  2015-03-12       2023-05-24  \n",
              "1                 70                        5  2016-08-23       2023-05-24  \n",
              "2                 77                        2  2018-05-06       2023-05-24  \n",
              "3                 94                        2  2017-09-13       2023-05-24  \n",
              "4                 88                        1  2019-11-08       2023-05-24  "
            ]
          },
          "execution_count": 80,
          "metadata": {},
          "output_type": "execute_result"
        }
      ],
      "source": [
        "#Replace NULL values in the \"Calories\" columns with the number 130:\n",
        "\n",
        "df = pd.read_csv(datapath)\n",
        "df.head()\n",
        "\n",
        "df[\"Termination date\"].fillna(\"2023-05-24\", inplace = True)\n",
        "df.head()"
      ]
    },
    {
      "cell_type": "code",
      "execution_count": 81,
      "metadata": {
        "id": "3uBQbjWKo8Ml"
      },
      "outputs": [
        {
          "name": "stdout",
          "output_type": "stream",
          "text": [
            "70.4\n"
          ]
        }
      ],
      "source": [
        "#Replace Using Mean, Median, or Mode\n",
        "df = pd.read_csv(datapath)\n",
        "\n",
        "x = df[\"Performance score\"].mean() #df[\"Calories\"].median(), df[\"Calories\"].mode()[0]\n",
        "print(x)\n",
        "# df[\"Calories\"].fillna(x, inplace = True)"
      ]
    },
    {
      "cell_type": "code",
      "execution_count": null,
      "metadata": {
        "id": "vgOdMKuWuSYT"
      },
      "outputs": [],
      "source": [
        "# Dropping multiple columns\n",
        "df = df.drop([\"name\", \"cabin\", \"ticket\"], axis=1)"
      ]
    },
    {
      "cell_type": "code",
      "execution_count": 82,
      "metadata": {
        "id": "fmfRZsectw3h"
      },
      "outputs": [],
      "source": [
        "# Rows with at least one NaN value\n",
        "df[pd.isnull(df).any(axis=1)].head()\n",
        "# Drop rows with Nan values\n",
        "df = df.dropna() # removes rows with any NaN values\n",
        "df = df.reset_index() # reset's row indexes in case any rows were dropped"
      ]
    },
    {
      "cell_type": "code",
      "execution_count": 83,
      "metadata": {},
      "outputs": [
        {
          "data": {
            "text/html": [
              "<div>\n",
              "<style scoped>\n",
              "    .dataframe tbody tr th:only-of-type {\n",
              "        vertical-align: middle;\n",
              "    }\n",
              "\n",
              "    .dataframe tbody tr th {\n",
              "        vertical-align: top;\n",
              "    }\n",
              "\n",
              "    .dataframe thead th {\n",
              "        text-align: right;\n",
              "    }\n",
              "</style>\n",
              "<table border=\"1\" class=\"dataframe\">\n",
              "  <thead>\n",
              "    <tr style=\"text-align: right;\">\n",
              "      <th></th>\n",
              "      <th>index</th>\n",
              "      <th>First name</th>\n",
              "      <th>Last name</th>\n",
              "      <th>Gender</th>\n",
              "      <th>Position</th>\n",
              "      <th>Department</th>\n",
              "      <th>Employee level</th>\n",
              "      <th>Performance score</th>\n",
              "      <th>Employment satisfaction</th>\n",
              "      <th>Hired date</th>\n",
              "      <th>Termination date</th>\n",
              "    </tr>\n",
              "  </thead>\n",
              "  <tbody>\n",
              "    <tr>\n",
              "      <th>0</th>\n",
              "      <td>9</td>\n",
              "      <td>Chenda</td>\n",
              "      <td>Peou</td>\n",
              "      <td>Male</td>\n",
              "      <td>Manager</td>\n",
              "      <td>Operations</td>\n",
              "      <td>Junior</td>\n",
              "      <td>59</td>\n",
              "      <td>1</td>\n",
              "      <td>2015-05-04</td>\n",
              "      <td>2023-05-24</td>\n",
              "    </tr>\n",
              "  </tbody>\n",
              "</table>\n",
              "</div>"
            ],
            "text/plain": [
              "   index First name Last name Gender Position  Department Employee level  \\\n",
              "0      9     Chenda      Peou   Male  Manager  Operations         Junior   \n",
              "\n",
              "   Performance score  Employment satisfaction  Hired date Termination date  \n",
              "0                 59                        1  2015-05-04       2023-05-24  "
            ]
          },
          "execution_count": 83,
          "metadata": {},
          "output_type": "execute_result"
        }
      ],
      "source": [
        "df.head()"
      ]
    },
    {
      "cell_type": "markdown",
      "metadata": {
        "id": "pO9cFfEhqBsp"
      },
      "source": [
        "### Data of Wrong Format\n",
        "Cells with data of wrong format can make it difficult, or even impossible, to analyze data.\n",
        "\n",
        "To fix it, you have two options: remove the rows, or convert all cells in the columns into the same format.\n"
      ]
    },
    {
      "cell_type": "code",
      "execution_count": 87,
      "metadata": {
        "id": "lHtrzmF6q2Ds"
      },
      "outputs": [
        {
          "name": "stdout",
          "output_type": "stream",
          "text": [
            "  First name Last name  Gender    Position  Department Employee level  Performance score  Employment satisfaction Hired date Termination date\n",
            "0      Pisey     Chann  Female  Supervisor          HR         Senior                 67                        2 2015-03-12              NaN\n",
            "1      Phary       Him    Male     Manager   Marketing           Lead                 70                        5 2016-08-23              NaN\n",
            "2    Rachana     Chhay  Female    Engineer   Marketing         Junior                 77                        2 2018-05-06              NaN\n",
            "3  Sreyneang      Neou    Male       Clerk          HR            Mid                 94                        2 2017-09-13              NaN\n",
            "4        Sok      Khun    Male       Clerk       Sales         Junior                 88                        1 2019-11-08              NaN\n",
            "5      Kosal       Lim    Male       Clerk   Marketing           Lead                 57                        4 2011-04-27              NaN\n",
            "6      Bopha    Chhuon    Male  Technician   Marketing         Senior                 64                        2 2013-06-14              NaN\n",
            "7     Sothea     Chhay  Female  Supervisor          HR         Senior                 58                        4 2020-01-20              NaN\n",
            "8      Kanha     Khiev  Female       Clerk  Operations           Lead                 70                        5 2012-07-11              NaN\n",
            "9     Chenda      Peou    Male     Manager  Operations         Junior                 59                        1 2015-05-04       2023-05-24\n"
          ]
        }
      ],
      "source": [
        "# Convert Into a Correct Format\n",
        "df = pd.read_csv(datapath)\n",
        "\n",
        "df['Hired date'] = pd.to_datetime(df['Hired date'])\n",
        "\n",
        "print(df.to_string())"
      ]
    },
    {
      "cell_type": "code",
      "execution_count": 85,
      "metadata": {},
      "outputs": [
        {
          "data": {
            "text/html": [
              "<div>\n",
              "<style scoped>\n",
              "    .dataframe tbody tr th:only-of-type {\n",
              "        vertical-align: middle;\n",
              "    }\n",
              "\n",
              "    .dataframe tbody tr th {\n",
              "        vertical-align: top;\n",
              "    }\n",
              "\n",
              "    .dataframe thead th {\n",
              "        text-align: right;\n",
              "    }\n",
              "</style>\n",
              "<table border=\"1\" class=\"dataframe\">\n",
              "  <thead>\n",
              "    <tr style=\"text-align: right;\">\n",
              "      <th></th>\n",
              "      <th>First name</th>\n",
              "      <th>Last name</th>\n",
              "      <th>Gender</th>\n",
              "      <th>Position</th>\n",
              "      <th>Department</th>\n",
              "      <th>Employee level</th>\n",
              "      <th>Performance score</th>\n",
              "      <th>Employment satisfaction</th>\n",
              "      <th>Hired date</th>\n",
              "      <th>Termination date</th>\n",
              "    </tr>\n",
              "  </thead>\n",
              "  <tbody>\n",
              "    <tr>\n",
              "      <th>5</th>\n",
              "      <td>Kosal</td>\n",
              "      <td>Lim</td>\n",
              "      <td>Male</td>\n",
              "      <td>Clerk</td>\n",
              "      <td>Marketing</td>\n",
              "      <td>Lead</td>\n",
              "      <td>57</td>\n",
              "      <td>4</td>\n",
              "      <td>2011-04-27</td>\n",
              "      <td>NaN</td>\n",
              "    </tr>\n",
              "    <tr>\n",
              "      <th>6</th>\n",
              "      <td>Bopha</td>\n",
              "      <td>Chhuon</td>\n",
              "      <td>Male</td>\n",
              "      <td>Technician</td>\n",
              "      <td>Marketing</td>\n",
              "      <td>Senior</td>\n",
              "      <td>64</td>\n",
              "      <td>2</td>\n",
              "      <td>2013-06-14</td>\n",
              "      <td>NaN</td>\n",
              "    </tr>\n",
              "    <tr>\n",
              "      <th>8</th>\n",
              "      <td>Kanha</td>\n",
              "      <td>Khiev</td>\n",
              "      <td>Female</td>\n",
              "      <td>Clerk</td>\n",
              "      <td>Operations</td>\n",
              "      <td>Lead</td>\n",
              "      <td>70</td>\n",
              "      <td>5</td>\n",
              "      <td>2012-07-11</td>\n",
              "      <td>NaN</td>\n",
              "    </tr>\n",
              "  </tbody>\n",
              "</table>\n",
              "</div>"
            ],
            "text/plain": [
              "  First name Last name  Gender    Position  Department Employee level  \\\n",
              "5      Kosal       Lim    Male       Clerk   Marketing           Lead   \n",
              "6      Bopha    Chhuon    Male  Technician   Marketing         Senior   \n",
              "8      Kanha     Khiev  Female       Clerk  Operations           Lead   \n",
              "\n",
              "   Performance score  Employment satisfaction Hired date Termination date  \n",
              "5                 57                        4 2011-04-27              NaN  \n",
              "6                 64                        2 2013-06-14              NaN  \n",
              "8                 70                        5 2012-07-11              NaN  "
            ]
          },
          "execution_count": 85,
          "metadata": {},
          "output_type": "execute_result"
        }
      ],
      "source": [
        "df[df[\"Hired date\"] < '2014-01-01'] # filter data hired before 2014"
      ]
    },
    {
      "cell_type": "code",
      "execution_count": null,
      "metadata": {
        "id": "Yjrozqr-q8x7"
      },
      "outputs": [],
      "source": [
        "# Remove rows with a NULL value in the \"Date\" column:\n",
        "\n",
        "df.dropna(subset=['Date'], inplace = True)"
      ]
    },
    {
      "cell_type": "markdown",
      "metadata": {
        "id": "tQ1T0NQWrwpA"
      },
      "source": [
        "#### Fixing Wrong Data\n",
        "\"Wrong data\" does not have to be \"empty cells\" or \"wrong format\", it can just be wrong, it doesn't have to be wrong, but taking in consideration that this is the data set of someone's workout sessions, we conclude with the fact that this person did not work out in 450 minutes."
      ]
    },
    {
      "cell_type": "code",
      "execution_count": null,
      "metadata": {
        "id": "JQZK9e7lsHDG"
      },
      "outputs": [],
      "source": [
        "#Replacing Values\n",
        "df.loc[7, 'Duration'] = 45"
      ]
    },
    {
      "cell_type": "code",
      "execution_count": null,
      "metadata": {
        "id": "JsOuZK5ysXen"
      },
      "outputs": [],
      "source": [
        "# If the value is higher than 120, set it to 120:\n",
        "\n",
        "for x in df.index:\n",
        "  if df.loc[x, \"Duration\"] > 120:\n",
        "    df.loc[x, \"Duration\"] = 120"
      ]
    },
    {
      "cell_type": "code",
      "execution_count": null,
      "metadata": {
        "id": "UoHsANFMsZ89"
      },
      "outputs": [],
      "source": [
        "# Removing Rows\n",
        "for x in df.index:\n",
        "  if df.loc[x, \"Duration\"] > 120:\n",
        "    df.drop(x, inplace = True)"
      ]
    },
    {
      "cell_type": "markdown",
      "metadata": {
        "id": "p5rUz7-IsjGZ"
      },
      "source": [
        "### Pandas - Removing Duplicates\n"
      ]
    },
    {
      "cell_type": "code",
      "execution_count": null,
      "metadata": {
        "id": "MQZqm4uvswLo"
      },
      "outputs": [],
      "source": [
        "# Returns True for every row that is a duplicate, otherwise False:\n",
        "\n",
        "print(df.duplicated())"
      ]
    },
    {
      "cell_type": "code",
      "execution_count": null,
      "metadata": {
        "id": "GzmS_j1As0QD"
      },
      "outputs": [],
      "source": [
        "# Removing Duplicates\n",
        "# To remove duplicates, use the drop_duplicates() method.\n",
        "\n",
        "df.drop_duplicates(inplace = True)"
      ]
    },
    {
      "cell_type": "code",
      "execution_count": 94,
      "metadata": {},
      "outputs": [
        {
          "name": "stdout",
          "output_type": "stream",
          "text": [
            "  First name Last name  Gender    Position  Department Employee level  Performance score  Employment satisfaction Hired date Termination date\n",
            "0      Pisey     Chann  Female  Supervisor          HR         Senior                 67                        2 2015-03-12              NaN\n",
            "1      Phary       Him    Male     Manager   Marketing           Lead                 70                        5 2016-08-23              NaN\n",
            "2    Rachana     Chhay  Female    Engineer   Marketing         Junior                 77                        2 2018-05-06              NaN\n",
            "3  Sreyneang      Neou    Male       Clerk          HR            Mid                 94                        2 2017-09-13              NaN\n",
            "4        Sok      Khun    Male       Clerk       Sales         Junior                 88                        1 2019-11-08              NaN\n",
            "5      Kosal       Lim    Male       Clerk   Marketing           Lead                 57                        4 2011-04-27              NaN\n",
            "6      Bopha    Chhuon    Male  Technician   Marketing         Senior                 64                        2 2013-06-14              NaN\n",
            "7     Sothea     Chhay  Female  Supervisor          HR         Senior                 58                        4 2020-01-20              NaN\n",
            "8      Kanha     Khiev  Female       Clerk  Operations           Lead                 70                        5 2012-07-11              NaN\n",
            "9     Chenda      Peou    Male     Manager  Operations         Junior                 59                        1 2015-05-04       2023-05-24\n",
            "   Performance score  Employment satisfaction\n",
            "0                 67                        2\n",
            "1                 70                        5\n",
            "2                 77                        2\n",
            "3                 94                        2\n",
            "4                 88                        1\n",
            "5                 57                        4\n",
            "6                 64                        2\n",
            "7                 58                        4\n",
            "8                 70                        5\n",
            "9                 59                        1\n"
          ]
        },
        {
          "data": {
            "text/plain": [
              "<Axes: >"
            ]
          },
          "execution_count": 94,
          "metadata": {},
          "output_type": "execute_result"
        },
        {
          "data": {
            "image/png": "[encoded data removed]",
            "text/plain": [
              "<Figure size 640x480 with 1 Axes>"
            ]
          },
          "metadata": {},
          "output_type": "display_data"
        }
      ],
      "source": [
        "print(df.to_string())\n",
        "\n",
        "slice = df[[\"Performance score\", \"Employment satisfaction\"]]\n",
        "print(slice)\n",
        "slice.corr()\n",
        "\n",
        "# Plotting\n",
        "import matplotlib.pyplot as plt\n",
        "slice.corr().plot()\n"
      ]
    },
    {
      "cell_type": "markdown",
      "metadata": {
        "id": "xzipHFjTu3Qr"
      },
      "source": [
        "# Save data\n",
        "Finally, let's save our preprocessed data into a new CSV file to use later."
      ]
    },
    {
      "cell_type": "code",
      "execution_count": null,
      "metadata": {
        "id": "KsPE6zBXu81d"
      },
      "outputs": [],
      "source": [
        "# Saving dataframe to CSV\n",
        "df.to_csv(\"cleaned_data.csv\", index=False)"
      ]
    }
  ],
  "metadata": {
    "colab": {
      "provenance": []
    },
    "kernelspec": {
      "display_name": "Python 3",
      "name": "python3"
    },
    "language_info": {
      "codemirror_mode": {
        "name": "ipython",
        "version": 3
      },
      "file_extension": ".py",
      "mimetype": "text/x-python",
      "name": "python",
      "nbconvert_exporter": "python",
      "pygments_lexer": "ipython3",
      "version": "3.8.0"
    }
  },
  "nbformat": 4,
  "nbformat_minor": 0
}

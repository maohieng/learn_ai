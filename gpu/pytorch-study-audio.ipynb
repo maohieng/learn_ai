{
 "cells": [
  {
   "cell_type": "code",
   "execution_count": null,
   "id": "699cca34",
   "metadata": {},
   "outputs": [],
   "source": [
    "!conda activate ./.conda"
   ]
  },
  {
   "cell_type": "code",
   "execution_count": null,
   "id": "7b0e4017",
   "metadata": {},
   "outputs": [],
   "source": [
    "!conda install -y -c pandas"
   ]
  },
  {
   "cell_type": "code",
   "execution_count": 3,
   "id": "human-preservation",
   "metadata": {
    "_cell_guid": "b1076dfc-b9ad-4769-8c92-a6c4dae69d19",
    "_uuid": "8f2839f25d086af736a60e9eeb907d3b93b6e0e5",
    "execution": {
     "iopub.execute_input": "2021-05-27T17:10:04.036965Z",
     "iopub.status.busy": "2021-05-27T17:10:04.036248Z",
     "iopub.status.idle": "2021-05-27T17:10:05.378375Z",
     "shell.execute_reply": "2021-05-27T17:10:05.376342Z",
     "shell.execute_reply.started": "2021-05-27T16:50:07.168120Z"
    },
    "papermill": {
     "duration": 1.37228,
     "end_time": "2021-05-27T17:10:05.378683",
     "exception": false,
     "start_time": "2021-05-27T17:10:04.006403",
     "status": "completed"
    },
    "tags": []
   },
   "outputs": [],
   "source": [
    "import numpy as np # linear algebra\n",
    "import pandas as pd # data processing, CSV file I/O (e.g. pd.read_csv)\n",
    "import torch\n",
    "from torch import nn #API for building neural networks\n",
    "from torch.utils.data import Dataset, DataLoader #Imports the Dataset and Dataloader classes\n",
    "import os"
   ]
  },
  {
   "cell_type": "markdown",
   "id": "central-priest",
   "metadata": {
    "papermill": {
     "duration": 0.030622,
     "end_time": "2021-05-27T17:10:05.442337",
     "exception": false,
     "start_time": "2021-05-27T17:10:05.411715",
     "status": "completed"
    },
    "tags": []
   },
   "source": [
    "### Audio data\n",
    "I will use the audio MNIST dataset to demonstrate how to use audio data with PyTorch.  \n",
    "The first thing I must do is create the annotations files for training and testing."
   ]
  },
  {
   "cell_type": "markdown",
   "id": "electric-denmark",
   "metadata": {
    "execution": {
     "iopub.execute_input": "2021-05-26T07:58:56.989271Z",
     "iopub.status.busy": "2021-05-26T07:58:56.988783Z",
     "iopub.status.idle": "2021-05-26T07:59:04.123191Z",
     "shell.execute_reply": "2021-05-26T07:59:04.122022Z",
     "shell.execute_reply.started": "2021-05-26T07:58:56.989235Z"
    },
    "papermill": {
     "duration": 0.027296,
     "end_time": "2021-05-27T17:10:05.499712",
     "exception": false,
     "start_time": "2021-05-27T17:10:05.472416",
     "status": "completed"
    },
    "tags": []
   },
   "source": [
    "    # With this code I have built a list with all the annotations.\n",
    "\n",
    "    import os\n",
    "\n",
    "    path = '../input/audio-mnist/data/'\n",
    "    annot_list = []\n",
    "    for folder in os.listdir(path):\n",
    "        if os.path.isdir(path + '/' + folder):\n",
    "            for file in os.listdir(path + '/' + folder):  \n",
    "                file_path = path + '/' + folder + '/' + file\n",
    "                label = file[0]\n",
    "                annot_list.append((file_path, label))\n",
    "    # Although the os.listdir does not follow any apparent order, I will shuffle it just to be safe.\n",
    "\n",
    "    import random\n",
    "    random.shuffle(annot_list)\n",
    "\n",
    "    # Split in train and test\n",
    "\n",
    "    train_size = int(0.75*len(annot_list))\n",
    "    train_list = annot_list[:train_size]\n",
    "    test_list = annot_list[train_size:]\n",
    "\n",
    "    # Finally created the annnotations file\n",
    "\n",
    "    import csv\n",
    "\n",
    "    with open('train_audioMNIST.csv', mode='w') as csv_file:  \n",
    "        csv_writer = csv.writer(csv_file)\n",
    "        for item in train_list:\n",
    "            csv_writer.writerow([item[0], item[1]])  \n",
    "\n",
    "    with open('test_audioMNIT.csv', mode='w') as csv_file:  \n",
    "        csv_writer = csv.writer(csv_file)\n",
    "        for item in test_list:\n",
    "            csv_writer.writerow([item[0], item[1]]) "
   ]
  },
  {
   "cell_type": "markdown",
   "id": "invalid-cuisine",
   "metadata": {
    "execution": {
     "iopub.execute_input": "2021-05-26T07:05:16.03082Z",
     "iopub.status.busy": "2021-05-26T07:05:16.029903Z",
     "iopub.status.idle": "2021-05-26T07:05:16.040947Z",
     "shell.execute_reply": "2021-05-26T07:05:16.039575Z",
     "shell.execute_reply.started": "2021-05-26T07:05:16.03069Z"
    },
    "papermill": {
     "duration": 0.030845,
     "end_time": "2021-05-27T17:10:05.564963",
     "exception": false,
     "start_time": "2021-05-27T17:10:05.534118",
     "status": "completed"
    },
    "tags": []
   },
   "source": [
    "Now I must create a dataset with the data.  \n",
    "PyTorch provides an API for converting audio files to Tensors, torchaudio."
   ]
  },
  {
   "cell_type": "code",
   "execution_count": 4,
   "id": "fewer-encoding",
   "metadata": {
    "execution": {
     "iopub.execute_input": "2021-05-27T17:10:05.682068Z",
     "iopub.status.busy": "2021-05-27T17:10:05.681016Z",
     "iopub.status.idle": "2021-05-27T17:10:05.686607Z",
     "shell.execute_reply": "2021-05-27T17:10:05.685840Z",
     "shell.execute_reply.started": "2021-05-27T16:50:09.623888Z"
    },
    "papermill": {
     "duration": 0.092607,
     "end_time": "2021-05-27T17:10:05.686788",
     "exception": false,
     "start_time": "2021-05-27T17:10:05.594181",
     "status": "completed"
    },
    "tags": []
   },
   "outputs": [
    {
     "name": "stdout",
     "output_type": "stream",
     "text": [
      "Using cpu device\n"
     ]
    }
   ],
   "source": [
    "device = 'cuda' if torch.cuda.is_available() else 'cpu'\n",
    "print('Using {} device'.format(device)) #Use GPU if available"
   ]
  },
  {
   "cell_type": "code",
   "execution_count": 5,
   "id": "herbal-enemy",
   "metadata": {
    "execution": {
     "iopub.execute_input": "2021-05-27T17:10:05.761465Z",
     "iopub.status.busy": "2021-05-27T17:10:05.760186Z",
     "iopub.status.idle": "2021-05-27T17:10:05.914756Z",
     "shell.execute_reply": "2021-05-27T17:10:05.915904Z",
     "shell.execute_reply.started": "2021-05-27T16:50:09.900993Z"
    },
    "papermill": {
     "duration": 0.194452,
     "end_time": "2021-05-27T17:10:05.916118",
     "exception": false,
     "start_time": "2021-05-27T17:10:05.721666",
     "status": "completed"
    },
    "tags": []
   },
   "outputs": [],
   "source": [
    "import torchaudio\n",
    "\n",
    "class AudioDataset(Dataset):\n",
    "    def __init__(self, annotations_file):\n",
    "        self.annotations = pd.read_csv(annotations_file, header=None, \n",
    "                               names=['Path', 'Label'], delimiter=',')\n",
    "        \n",
    "    def __len__(self):\n",
    "        return(len(self.annotations))\n",
    "    \n",
    "    def __getitem__(self, index):\n",
    "        audio = torchaudio.load(self.annotations['Path'][index])\n",
    "        label = self.annotations['Label'][index]\n",
    "        return(audio[0][0], label)"
   ]
  },
  {
   "cell_type": "code",
   "execution_count": 4,
   "id": "weekly-burst",
   "metadata": {
    "execution": {
     "iopub.execute_input": "2021-05-27T17:10:05.985406Z",
     "iopub.status.busy": "2021-05-27T17:10:05.984764Z",
     "iopub.status.idle": "2021-05-27T17:10:06.324831Z",
     "shell.execute_reply": "2021-05-27T17:10:06.324254Z",
     "shell.execute_reply.started": "2021-05-27T16:50:10.191194Z"
    },
    "papermill": {
     "duration": 0.378186,
     "end_time": "2021-05-27T17:10:06.324990",
     "exception": false,
     "start_time": "2021-05-27T17:10:05.946804",
     "status": "completed"
    },
    "tags": []
   },
   "outputs": [
    {
     "name": "stdout",
     "output_type": "stream",
     "text": [
      "6\n"
     ]
    },
    {
     "data": {
      "image/png": "[encoded data removed]",
      "text/plain": [
       "<Figure size 432x288 with 1 Axes>"
      ]
     },
     "metadata": {
      "needs_background": "light"
     },
     "output_type": "display_data"
    }
   ],
   "source": [
    "audioMNIST_train = AudioDataset('../input/audiomnistannot/train_audioMNIST.csv')\n",
    "audioMNIST_test = AudioDataset('../input/audiomnistannot/test_audioMNIT.csv')\n",
    "audio, label = next(iter(audioMNIST_train))\n",
    "import matplotlib.pyplot as plt\n",
    "%matplotlib inline\n",
    "print(label)\n",
    "plt.plot(audio.numpy())\n",
    "plt.show()"
   ]
  },
  {
   "cell_type": "code",
   "execution_count": 5,
   "id": "bizarre-intake",
   "metadata": {
    "execution": {
     "iopub.execute_input": "2021-05-27T17:10:06.367887Z",
     "iopub.status.busy": "2021-05-27T17:10:06.367148Z",
     "iopub.status.idle": "2021-05-27T17:10:06.749885Z",
     "shell.execute_reply": "2021-05-27T17:10:06.748943Z",
     "shell.execute_reply.started": "2021-05-27T16:50:11.401211Z"
    },
    "papermill": {
     "duration": 0.406706,
     "end_time": "2021-05-27T17:10:06.750134",
     "exception": false,
     "start_time": "2021-05-27T17:10:06.343428",
     "status": "completed"
    },
    "tags": []
   },
   "outputs": [
    {
     "name": "stdout",
     "output_type": "stream",
     "text": [
      "37199\n",
      "22954\n",
      "36933\n",
      "27313\n",
      "30253\n",
      "34069\n",
      "26619\n",
      "22617\n",
      "28424\n",
      "30849\n",
      "42292\n",
      "25569\n",
      "43383\n",
      "38051\n",
      "37600\n",
      "45805\n",
      "31889\n",
      "37362\n",
      "34469\n",
      "21106\n"
     ]
    }
   ],
   "source": [
    "for i in range(20):\n",
    "    print(len(audioMNIST_train[i][0]))"
   ]
  },
  {
   "cell_type": "markdown",
   "id": "eligible-disability",
   "metadata": {
    "papermill": {
     "duration": 0.017775,
     "end_time": "2021-05-27T17:10:06.787047",
     "exception": false,
     "start_time": "2021-05-27T17:10:06.769272",
     "status": "completed"
    },
    "tags": []
   },
   "source": [
    "This will return the raw audio data as a tensor. Although it is possible to use the raw data to train a neural network, a more common approach is to apply convolutional neural networks to the spectogram of the audio, so we will return the spectogram instead.  \n",
    "Also, we need to have all the audios to have the same length to make the spectrograms all the same size, so we will zero pad all the audios until they reach the desired length. Since the audios have less than 1s in length, we will zero pad them so they all have 1s second."
   ]
  },
  {
   "cell_type": "code",
   "execution_count": 6,
   "id": "naughty-utility",
   "metadata": {
    "execution": {
     "iopub.execute_input": "2021-05-27T17:10:06.832019Z",
     "iopub.status.busy": "2021-05-27T17:10:06.831449Z",
     "iopub.status.idle": "2021-05-27T17:10:06.836143Z",
     "shell.execute_reply": "2021-05-27T17:10:06.835338Z",
     "shell.execute_reply.started": "2021-05-27T16:52:47.211816Z"
    },
    "papermill": {
     "duration": 0.030115,
     "end_time": "2021-05-27T17:10:06.836294",
     "exception": false,
     "start_time": "2021-05-27T17:10:06.806179",
     "status": "completed"
    },
    "tags": []
   },
   "outputs": [],
   "source": [
    "class AudioDatasetSpectrogram(Dataset):\n",
    "    def __init__(self, annotations_file, ToSpectrogram, ToDB):\n",
    "        self.annotations = pd.read_csv(annotations_file, header=None, \n",
    "                               names=['Path', 'Label'], delimiter=',')\n",
    "        self.ToSpectrogram = ToSpectrogram\n",
    "        self.ToDB = ToDB\n",
    "        \n",
    "    def __len__(self):\n",
    "        return(len(self.annotations))\n",
    "    \n",
    "    def __getitem__(self, index):\n",
    "        audio_padded = torch.zeros((1,48000))\n",
    "        audio = torchaudio.load(self.annotations.iloc[index, 0])\n",
    "        audio_padded[0,:len(audio[0][0])] = audio[0][0]\n",
    "        label = self.annotations.iloc[index, 1]\n",
    "        spectrogram = self.ToSpectrogram(audio_padded)\n",
    "        spectrogram = self.ToDB(spectrogram)\n",
    "        return(spectrogram, label)"
   ]
  },
  {
   "cell_type": "code",
   "execution_count": 7,
   "id": "hourly-endorsement",
   "metadata": {
    "execution": {
     "iopub.execute_input": "2021-05-27T17:10:06.880433Z",
     "iopub.status.busy": "2021-05-27T17:10:06.879686Z",
     "iopub.status.idle": "2021-05-27T17:10:06.992009Z",
     "shell.execute_reply": "2021-05-27T17:10:06.991160Z",
     "shell.execute_reply.started": "2021-05-27T16:52:47.878148Z"
    },
    "papermill": {
     "duration": 0.136538,
     "end_time": "2021-05-27T17:10:06.992158",
     "exception": false,
     "start_time": "2021-05-27T17:10:06.855620",
     "status": "completed"
    },
    "tags": []
   },
   "outputs": [
    {
     "name": "stderr",
     "output_type": "stream",
     "text": [
      "/opt/conda/lib/python3.7/site-packages/torchaudio/functional.py:318: UserWarning: At least one mel filterbank has all zero values. The value for `n_mels` (128) may be set too high. Or, the value for `n_freqs` (201) may be set too low.\n",
      "  \"At least one mel filterbank has all zero values. \"\n"
     ]
    }
   ],
   "source": [
    "ToSpectrogram = torchaudio.transforms.MelSpectrogram()\n",
    "ToDB = torchaudio.transforms.AmplitudeToDB()\n",
    "train_dataset = AudioDatasetSpectrogram('../input/audiomnistannot/train_audioMNIST.csv', ToSpectrogram, ToDB)\n",
    "test_dataset = AudioDatasetSpectrogram('../input/audiomnistannot/test_audioMNIT.csv', ToSpectrogram, ToDB)"
   ]
  },
  {
   "cell_type": "code",
   "execution_count": 8,
   "id": "decimal-forwarding",
   "metadata": {
    "execution": {
     "iopub.execute_input": "2021-05-27T17:10:07.036483Z",
     "iopub.status.busy": "2021-05-27T17:10:07.035856Z",
     "iopub.status.idle": "2021-05-27T17:10:07.256645Z",
     "shell.execute_reply": "2021-05-27T17:10:07.257130Z",
     "shell.execute_reply.started": "2021-05-27T16:52:54.803339Z"
    },
    "papermill": {
     "duration": 0.245936,
     "end_time": "2021-05-27T17:10:07.257300",
     "exception": false,
     "start_time": "2021-05-27T17:10:07.011364",
     "status": "completed"
    },
    "tags": []
   },
   "outputs": [
    {
     "name": "stdout",
     "output_type": "stream",
     "text": [
      "torch.Size([1, 128, 241])\n"
     ]
    },
    {
     "name": "stderr",
     "output_type": "stream",
     "text": [
      "/opt/conda/lib/python3.7/site-packages/torch/functional.py:516: UserWarning: stft will require the return_complex parameter be explicitly  specified in a future PyTorch release. Use return_complex=False  to preserve the current behavior or return_complex=True to return  a complex output. (Triggered internally at  /opt/conda/conda-bld/pytorch_1603729047590/work/aten/src/ATen/native/SpectralOps.cpp:653.)\n",
      "  normalized, onesided, return_complex)\n",
      "/opt/conda/lib/python3.7/site-packages/torch/functional.py:516: UserWarning: The function torch.rfft is deprecated and will be removed in a future PyTorch release. Use the new torch.fft module functions, instead, by importing torch.fft and calling torch.fft.fft or torch.fft.rfft. (Triggered internally at  /opt/conda/conda-bld/pytorch_1603729047590/work/aten/src/ATen/native/SpectralOps.cpp:590.)\n",
      "  normalized, onesided, return_complex)\n"
     ]
    },
    {
     "data": {
      "text/plain": [
       "<matplotlib.image.AxesImage at 0x7f615c0da590>"
      ]
     },
     "execution_count": 8,
     "metadata": {},
     "output_type": "execute_result"
    },
    {
     "data": {
      "image/png": "[encoded data removed]",
      "text/plain": [
       "<Figure size 432x288 with 1 Axes>"
      ]
     },
     "metadata": {
      "needs_background": "light"
     },
     "output_type": "display_data"
    }
   ],
   "source": [
    "spectrogram, label = next(iter(train_dataset))\n",
    "print(spectrogram.shape)\n",
    "plt.imshow(spectrogram[0], cmap='inferno')"
   ]
  },
  {
   "cell_type": "code",
   "execution_count": 9,
   "id": "similar-percentage",
   "metadata": {
    "execution": {
     "iopub.execute_input": "2021-05-27T17:10:07.310730Z",
     "iopub.status.busy": "2021-05-27T17:10:07.309779Z",
     "iopub.status.idle": "2021-05-27T17:10:07.313474Z",
     "shell.execute_reply": "2021-05-27T17:10:07.312915Z",
     "shell.execute_reply.started": "2021-05-27T16:53:12.897908Z"
    },
    "papermill": {
     "duration": 0.032603,
     "end_time": "2021-05-27T17:10:07.313601",
     "exception": false,
     "start_time": "2021-05-27T17:10:07.280998",
     "status": "completed"
    },
    "tags": []
   },
   "outputs": [],
   "source": [
    "train_loader = DataLoader(train_dataset, batch_size=500, shuffle=True, num_workers=10)\n",
    "test_loader = DataLoader(test_dataset, batch_size=500, shuffle=True, num_workers=10)"
   ]
  },
  {
   "cell_type": "markdown",
   "id": "equipped-round",
   "metadata": {
    "papermill": {
     "duration": 0.022377,
     "end_time": "2021-05-27T17:10:07.359102",
     "exception": false,
     "start_time": "2021-05-27T17:10:07.336725",
     "status": "completed"
    },
    "tags": []
   },
   "source": [
    "Before building the model I will calculate the mean, so we can zero mean the data."
   ]
  },
  {
   "cell_type": "code",
   "execution_count": 10,
   "id": "blind-recipe",
   "metadata": {
    "execution": {
     "iopub.execute_input": "2021-05-27T17:10:07.410450Z",
     "iopub.status.busy": "2021-05-27T17:10:07.409702Z",
     "iopub.status.idle": "2021-05-27T17:11:23.081317Z",
     "shell.execute_reply": "2021-05-27T17:11:23.080188Z",
     "shell.execute_reply.started": "2021-05-27T16:53:21.747250Z"
    },
    "papermill": {
     "duration": 75.700113,
     "end_time": "2021-05-27T17:11:23.081480",
     "exception": false,
     "start_time": "2021-05-27T17:10:07.381367",
     "status": "completed"
    },
    "tags": []
   },
   "outputs": [],
   "source": [
    "temp_img = 0\n",
    "for img, label in train_loader:\n",
    "    temp_img += img.mean(dim=0)\n",
    "div = len(train_dataset)/train_loader.batch_size\n",
    "mean_img = (temp_img/div).float().to(device)"
   ]
  },
  {
   "cell_type": "code",
   "execution_count": 11,
   "id": "hollow-humidity",
   "metadata": {
    "execution": {
     "iopub.execute_input": "2021-05-27T17:11:23.133934Z",
     "iopub.status.busy": "2021-05-27T17:11:23.133145Z",
     "iopub.status.idle": "2021-05-27T17:11:23.137215Z",
     "shell.execute_reply": "2021-05-27T17:11:23.136615Z",
     "shell.execute_reply.started": "2021-05-27T16:54:08.039699Z"
    },
    "papermill": {
     "duration": 0.03209,
     "end_time": "2021-05-27T17:11:23.137347",
     "exception": false,
     "start_time": "2021-05-27T17:11:23.105257",
     "status": "completed"
    },
    "tags": []
   },
   "outputs": [],
   "source": [
    "class CNN(nn.Module):\n",
    "    def __init__(self):\n",
    "        super(CNN, self).__init__()\n",
    "        self.ConvNet = nn.Sequential(\n",
    "            nn.Conv2d(in_channels=1, out_channels=10, kernel_size=7, stride=3),\n",
    "            nn.ReLU(),\n",
    "            nn.Conv2d(in_channels=10, out_channels=10, kernel_size=5, stride=2),\n",
    "            nn.ReLU(),\n",
    "            nn.Flatten(),\n",
    "            nn.Linear(38*19*10, 10)\n",
    "        )\n",
    "        \n",
    "    def forward(self, x):\n",
    "        logits = self.ConvNet(x)\n",
    "        return(logits)"
   ]
  },
  {
   "cell_type": "code",
   "execution_count": 12,
   "id": "julian-commons",
   "metadata": {
    "execution": {
     "iopub.execute_input": "2021-05-27T17:11:23.190184Z",
     "iopub.status.busy": "2021-05-27T17:11:23.189324Z",
     "iopub.status.idle": "2021-05-27T17:11:23.198492Z",
     "shell.execute_reply": "2021-05-27T17:11:23.197888Z",
     "shell.execute_reply.started": "2021-05-27T16:54:08.050296Z"
    },
    "papermill": {
     "duration": 0.038938,
     "end_time": "2021-05-27T17:11:23.198605",
     "exception": false,
     "start_time": "2021-05-27T17:11:23.159667",
     "status": "completed"
    },
    "tags": []
   },
   "outputs": [
    {
     "name": "stdout",
     "output_type": "stream",
     "text": [
      "CNN(\n",
      "  (ConvNet): Sequential(\n",
      "    (0): Conv2d(1, 10, kernel_size=(7, 7), stride=(3, 3))\n",
      "    (1): ReLU()\n",
      "    (2): Conv2d(10, 10, kernel_size=(5, 5), stride=(2, 2))\n",
      "    (3): ReLU()\n",
      "    (4): Flatten(start_dim=1, end_dim=-1)\n",
      "    (5): Linear(in_features=7220, out_features=10, bias=True)\n",
      "  )\n",
      ")\n"
     ]
    }
   ],
   "source": [
    "model = CNN().to(device)\n",
    "print(model)"
   ]
  },
  {
   "cell_type": "code",
   "execution_count": 13,
   "id": "excess-northwest",
   "metadata": {
    "execution": {
     "iopub.execute_input": "2021-05-27T17:11:23.247262Z",
     "iopub.status.busy": "2021-05-27T17:11:23.246418Z",
     "iopub.status.idle": "2021-05-27T17:11:23.249817Z",
     "shell.execute_reply": "2021-05-27T17:11:23.249374Z",
     "shell.execute_reply.started": "2021-05-27T16:54:08.070062Z"
    },
    "papermill": {
     "duration": 0.029601,
     "end_time": "2021-05-27T17:11:23.249930",
     "exception": false,
     "start_time": "2021-05-27T17:11:23.220329",
     "status": "completed"
    },
    "tags": []
   },
   "outputs": [],
   "source": [
    "model_loss = nn.CrossEntropyLoss()\n",
    "model_optimizer = torch.optim.SGD(model.parameters(), lr=0.001, momentum=0.9)"
   ]
  },
  {
   "cell_type": "code",
   "execution_count": 14,
   "id": "therapeutic-junction",
   "metadata": {
    "execution": {
     "iopub.execute_input": "2021-05-27T17:11:23.306064Z",
     "iopub.status.busy": "2021-05-27T17:11:23.305089Z",
     "iopub.status.idle": "2021-05-27T17:11:23.308580Z",
     "shell.execute_reply": "2021-05-27T17:11:23.308004Z",
     "shell.execute_reply.started": "2021-05-27T16:54:08.077786Z"
    },
    "papermill": {
     "duration": 0.036386,
     "end_time": "2021-05-27T17:11:23.308710",
     "exception": false,
     "start_time": "2021-05-27T17:11:23.272324",
     "status": "completed"
    },
    "tags": []
   },
   "outputs": [],
   "source": [
    "def train_model(model, dataloader, model_loss, optimizer, device, mean=0):\n",
    "    total_loss = 0\n",
    "    total_correct = 0\n",
    "    model.train() # Specifies that the model should compute gradients\n",
    "    for X, y in dataloader:\n",
    "        #Zero mean and transfer data to device\n",
    "        X = X.to(device)\n",
    "        X = X - mean\n",
    "        y = y.to(device)\n",
    "        # Forward pass\n",
    "        prediction = model(X)\n",
    "        loss = model_loss(prediction, y.long())\n",
    "        # Update loss and score\n",
    "        total_loss += loss.item()\n",
    "        total_correct += (prediction.argmax(1)==y).sum().item()\n",
    "        # Backward pass\n",
    "        optimizer.zero_grad()\n",
    "        loss.backward()\n",
    "        optimizer.step()\n",
    "        \n",
    "    size = len(dataloader.dataset)\n",
    "    avg_loss = loss/size\n",
    "    score = total_correct/size\n",
    "    return(avg_loss, score)\n",
    "\n",
    "def test_model(model, dataloader, model_loss, device, mean=0):\n",
    "    total_loss = 0\n",
    "    total_correct = 0\n",
    "    model.eval() #Specifies that the model does not need to keep track of gradients\n",
    "    for X, y in dataloader:\n",
    "        X = X.to(device)\n",
    "        X = X - mean\n",
    "        y = y.to(device)\n",
    "        prediction = model(X)\n",
    "        loss = model_loss(prediction, y.long())\n",
    "        total_loss += loss.item()\n",
    "        total_correct += (prediction.argmax(1) == y).sum().item()\n",
    "        \n",
    "    size = len(dataloader.dataset)\n",
    "    avg_loss = total_loss/size\n",
    "    score = total_correct/size\n",
    "    return(avg_loss, score)"
   ]
  },
  {
   "cell_type": "code",
   "execution_count": 15,
   "id": "supported-monte",
   "metadata": {
    "execution": {
     "iopub.execute_input": "2021-05-27T17:11:23.362385Z",
     "iopub.status.busy": "2021-05-27T17:11:23.361400Z",
     "iopub.status.idle": "2021-05-27T17:49:29.896219Z",
     "shell.execute_reply": "2021-05-27T17:49:29.896853Z",
     "shell.execute_reply.started": "2021-05-27T16:54:08.093205Z"
    },
    "papermill": {
     "duration": 2286.56543,
     "end_time": "2021-05-27T17:49:29.897139",
     "exception": false,
     "start_time": "2021-05-27T17:11:23.331709",
     "status": "completed"
    },
    "tags": []
   },
   "outputs": [
    {
     "name": "stdout",
     "output_type": "stream",
     "text": [
      "Epoch: 0\n",
      "Epoch: 1\n",
      "Epoch: 2\n",
      "Epoch: 3\n",
      "Epoch: 4\n",
      "Epoch: 5\n",
      "Epoch: 6\n",
      "Epoch: 7\n",
      "Epoch: 8\n",
      "Epoch: 9\n",
      "Epoch: 10\n",
      "Epoch: 11\n",
      "Epoch: 12\n",
      "Epoch: 13\n",
      "Epoch: 14\n",
      "Epoch: 15\n",
      "Epoch: 16\n",
      "Epoch: 17\n",
      "Epoch: 18\n",
      "Epoch: 19\n",
      "Epoch: 20\n",
      "Epoch: 21\n",
      "Epoch: 22\n",
      "Epoch: 23\n",
      "Epoch: 24\n",
      "Epoch: 25\n",
      "Epoch: 26\n",
      "Epoch: 27\n",
      "Epoch: 28\n",
      "Epoch: 29\n"
     ]
    }
   ],
   "source": [
    "train_losses, train_scores, test_losses, test_scores = [], [], [], []\n",
    "for epoch in range(30):\n",
    "    print('Epoch:', epoch)\n",
    "    train_loss, train_score = train_model(model, train_loader, model_loss, model_optimizer, device, mean_img)\n",
    "    test_loss, test_score = test_model(model, test_loader, model_loss, device, mean_img)\n",
    "    train_losses.append(train_loss)\n",
    "    train_scores.append(train_score)\n",
    "    test_losses.append(test_loss)\n",
    "    test_scores.append(test_score)"
   ]
  },
  {
   "cell_type": "code",
   "execution_count": 16,
   "id": "selective-stationery",
   "metadata": {
    "execution": {
     "iopub.execute_input": "2021-05-27T17:49:29.980462Z",
     "iopub.status.busy": "2021-05-27T17:49:29.979452Z",
     "iopub.status.idle": "2021-05-27T17:49:30.226420Z",
     "shell.execute_reply": "2021-05-27T17:49:30.225802Z"
    },
    "papermill": {
     "duration": 0.296907,
     "end_time": "2021-05-27T17:49:30.226555",
     "exception": false,
     "start_time": "2021-05-27T17:49:29.929648",
     "status": "completed"
    },
    "tags": []
   },
   "outputs": [
    {
     "name": "stdout",
     "output_type": "stream",
     "text": [
      "Final test score:  0.9928\n"
     ]
    },
    {
     "data": {
      "image/png": "[encoded data removed]",
      "text/plain": [
       "<Figure size 432x288 with 2 Axes>"
      ]
     },
     "metadata": {
      "needs_background": "light"
     },
     "output_type": "display_data"
    }
   ],
   "source": [
    "#Plot the train and test errors and losses\n",
    "import matplotlib.pyplot as plt\n",
    "fig, axs = plt.subplots(2,1, sharex=True)\n",
    "axs[0].plot(train_scores, label='Train')\n",
    "axs[0].plot(test_scores, label='Test')\n",
    "axs[0].legend(loc='lower right')\n",
    "axs[0].set_ylabel('Score')\n",
    "axs[1].plot(train_losses)\n",
    "axs[1].plot(test_losses)\n",
    "axs[1].set_xlabel('Epoch')\n",
    "axs[1].set_ylabel('Loss')\n",
    "fig.suptitle('Train x Test')\n",
    "fig.subplots_adjust(hspace = .001)\n",
    "axs[0].set_xticklabels(())\n",
    "axs[0].title.set_visible(False)\n",
    "plt.plot()\n",
    "print('Final test score: ', test_scores[-1])"
   ]
  }
 ],
 "metadata": {
  "kernelspec": {
   "display_name": "Python 3",
   "language": "python",
   "name": "python3"
  },
  "language_info": {
   "codemirror_mode": {
    "name": "ipython",
    "version": 3
   },
   "file_extension": ".py",
   "mimetype": "text/x-python",
   "name": "python",
   "nbconvert_exporter": "python",
   "pygments_lexer": "ipython3",
   "version": "3.11.11"
  },
  "papermill": {
   "default_parameters": {},
   "duration": 2376.808751,
   "end_time": "2021-05-27T17:49:32.740370",
   "environment_variables": {},
   "exception": null,
   "input_path": "__notebook__.ipynb",
   "output_path": "__notebook__.ipynb",
   "parameters": {},
   "start_time": "2021-05-27T17:09:55.931619",
   "version": "2.3.3"
  }
 },
 "nbformat": 4,
 "nbformat_minor": 5
}

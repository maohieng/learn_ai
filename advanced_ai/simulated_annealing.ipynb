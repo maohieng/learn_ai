{
 "cells": [
  {
   "cell_type": "markdown",
   "metadata": {},
   "source": [
    "# Simulated Annealing"
   ]
  },
  {
   "cell_type": "code",
   "execution_count": null,
   "metadata": {},
   "outputs": [],
   "source": [
    "import numpy as np\n",
    "\n",
    "# Objective function\n",
    "def objective(x):\n",
    "    return x**2 + 4 * np.sin(x)\n",
    "\n",
    "# Simulated Annealing\n",
    "def simulated_annealing(objective, bounds, T, cooling_rate, max_iter):\n",
    "    current_x = np.random.uniform(bounds[0], bounds[1])"
   ]
  }
 ],
 "metadata": {
  "kernelspec": {
   "display_name": ".venv",
   "language": "python",
   "name": "python3"
  },
  "language_info": {
   "name": "python",
   "version": "3.8.0"
  }
 },
 "nbformat": 4,
 "nbformat_minor": 2
}
